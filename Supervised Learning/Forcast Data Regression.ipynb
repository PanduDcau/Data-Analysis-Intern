{
 "cells": [
  {
   "cell_type": "markdown",
   "id": "a75cbea3",
   "metadata": {},
   "source": [
    "## Importing Libraries"
   ]
  },
  {
   "cell_type": "code",
   "execution_count": 1,
   "id": "c3e128ce",
   "metadata": {},
   "outputs": [],
   "source": [
    "import pandas as pd\n",
    "import numpy as np\n",
    "import math\n",
    "import seaborn as sns\n",
    "import matplotlib.pyplot as plt\n",
    "from sklearn import linear_model\n",
    "from sklearn.linear_model import LinearRegression\n",
    "from sklearn.model_selection import train_test_split\n",
    "from sklearn.preprocessing import StandardScaler\n",
    "from sklearn.preprocessing import PolynomialFeatures\n",
    "from sklearn.pipeline import Pipeline\n",
    "from sklearn.preprocessing import normalize"
   ]
  },
  {
   "cell_type": "code",
   "execution_count": 2,
   "id": "7d4aacbf",
   "metadata": {},
   "outputs": [],
   "source": [
    "Forcast=pd.read_csv('/Users/Asus/Documents/InternCsv/Forcast_Official.csv')"
   ]
  },
  {
   "cell_type": "code",
   "execution_count": 3,
   "id": "09492647",
   "metadata": {},
   "outputs": [
    {
     "data": {
      "text/html": [
       "<div>\n",
       "<style scoped>\n",
       "    .dataframe tbody tr th:only-of-type {\n",
       "        vertical-align: middle;\n",
       "    }\n",
       "\n",
       "    .dataframe tbody tr th {\n",
       "        vertical-align: top;\n",
       "    }\n",
       "\n",
       "    .dataframe thead th {\n",
       "        text-align: right;\n",
       "    }\n",
       "</style>\n",
       "<table border=\"1\" class=\"dataframe\">\n",
       "  <thead>\n",
       "    <tr style=\"text-align: right;\">\n",
       "      <th></th>\n",
       "      <th>Unnamed: 0</th>\n",
       "      <th>Plant</th>\n",
       "      <th>00:00</th>\n",
       "      <th>00:30</th>\n",
       "      <th>01:00</th>\n",
       "      <th>01:30</th>\n",
       "      <th>02:00</th>\n",
       "      <th>02:30</th>\n",
       "      <th>03:00</th>\n",
       "      <th>03:30</th>\n",
       "      <th>...</th>\n",
       "      <th>19:30</th>\n",
       "      <th>20:00</th>\n",
       "      <th>20:30</th>\n",
       "      <th>21:00</th>\n",
       "      <th>21:30</th>\n",
       "      <th>22:00</th>\n",
       "      <th>22:30</th>\n",
       "      <th>23:00</th>\n",
       "      <th>23:30</th>\n",
       "      <th>Date</th>\n",
       "    </tr>\n",
       "  </thead>\n",
       "  <tbody>\n",
       "    <tr>\n",
       "      <th>0</th>\n",
       "      <td>0</td>\n",
       "      <td>WPS</td>\n",
       "      <td>0.000</td>\n",
       "      <td>0.000</td>\n",
       "      <td>0.000</td>\n",
       "      <td>0.000</td>\n",
       "      <td>0.000</td>\n",
       "      <td>0.000</td>\n",
       "      <td>0.000</td>\n",
       "      <td>0.000</td>\n",
       "      <td>...</td>\n",
       "      <td>47.241</td>\n",
       "      <td>47.241</td>\n",
       "      <td>0.000</td>\n",
       "      <td>0.000</td>\n",
       "      <td>0.000</td>\n",
       "      <td>0.000</td>\n",
       "      <td>0.000</td>\n",
       "      <td>10.000</td>\n",
       "      <td>10.000</td>\n",
       "      <td>2020 - 07 - 10</td>\n",
       "    </tr>\n",
       "    <tr>\n",
       "      <th>1</th>\n",
       "      <td>1</td>\n",
       "      <td>Canyon</td>\n",
       "      <td>28.065</td>\n",
       "      <td>11.040</td>\n",
       "      <td>11.040</td>\n",
       "      <td>0.000</td>\n",
       "      <td>0.000</td>\n",
       "      <td>0.000</td>\n",
       "      <td>0.000</td>\n",
       "      <td>0.000</td>\n",
       "      <td>...</td>\n",
       "      <td>30.000</td>\n",
       "      <td>30.000</td>\n",
       "      <td>30.000</td>\n",
       "      <td>30.000</td>\n",
       "      <td>30.000</td>\n",
       "      <td>30.000</td>\n",
       "      <td>30.000</td>\n",
       "      <td>30.000</td>\n",
       "      <td>19.700</td>\n",
       "      <td>2020 - 07 - 10</td>\n",
       "    </tr>\n",
       "    <tr>\n",
       "      <th>2</th>\n",
       "      <td>2</td>\n",
       "      <td>Olax</td>\n",
       "      <td>10.000</td>\n",
       "      <td>10.000</td>\n",
       "      <td>10.000</td>\n",
       "      <td>10.000</td>\n",
       "      <td>10.000</td>\n",
       "      <td>10.000</td>\n",
       "      <td>10.000</td>\n",
       "      <td>10.000</td>\n",
       "      <td>...</td>\n",
       "      <td>54.000</td>\n",
       "      <td>38.820</td>\n",
       "      <td>10.000</td>\n",
       "      <td>10.000</td>\n",
       "      <td>10.000</td>\n",
       "      <td>10.000</td>\n",
       "      <td>10.000</td>\n",
       "      <td>10.000</td>\n",
       "      <td>10.000</td>\n",
       "      <td>2020 - 07 - 10</td>\n",
       "    </tr>\n",
       "    <tr>\n",
       "      <th>3</th>\n",
       "      <td>3</td>\n",
       "      <td>Nlax</td>\n",
       "      <td>60.472</td>\n",
       "      <td>60.472</td>\n",
       "      <td>60.472</td>\n",
       "      <td>60.472</td>\n",
       "      <td>60.472</td>\n",
       "      <td>60.472</td>\n",
       "      <td>60.472</td>\n",
       "      <td>60.472</td>\n",
       "      <td>...</td>\n",
       "      <td>71.915</td>\n",
       "      <td>60.472</td>\n",
       "      <td>60.472</td>\n",
       "      <td>60.472</td>\n",
       "      <td>60.472</td>\n",
       "      <td>60.472</td>\n",
       "      <td>60.472</td>\n",
       "      <td>60.472</td>\n",
       "      <td>60.472</td>\n",
       "      <td>2020 - 07 - 10</td>\n",
       "    </tr>\n",
       "  </tbody>\n",
       "</table>\n",
       "<p>4 rows × 51 columns</p>\n",
       "</div>"
      ],
      "text/plain": [
       "   Unnamed: 0   Plant   00:00   00:30   01:00   01:30   02:00   02:30   03:00  \\\n",
       "0           0     WPS   0.000   0.000   0.000   0.000   0.000   0.000   0.000   \n",
       "1           1  Canyon  28.065  11.040  11.040   0.000   0.000   0.000   0.000   \n",
       "2           2    Olax  10.000  10.000  10.000  10.000  10.000  10.000  10.000   \n",
       "3           3    Nlax  60.472  60.472  60.472  60.472  60.472  60.472  60.472   \n",
       "\n",
       "    03:30  ...   19:30   20:00   20:30   21:00   21:30   22:00   22:30  \\\n",
       "0   0.000  ...  47.241  47.241   0.000   0.000   0.000   0.000   0.000   \n",
       "1   0.000  ...  30.000  30.000  30.000  30.000  30.000  30.000  30.000   \n",
       "2  10.000  ...  54.000  38.820  10.000  10.000  10.000  10.000  10.000   \n",
       "3  60.472  ...  71.915  60.472  60.472  60.472  60.472  60.472  60.472   \n",
       "\n",
       "    23:00   23:30            Date  \n",
       "0  10.000  10.000  2020 - 07 - 10  \n",
       "1  30.000  19.700  2020 - 07 - 10  \n",
       "2  10.000  10.000  2020 - 07 - 10  \n",
       "3  60.472  60.472  2020 - 07 - 10  \n",
       "\n",
       "[4 rows x 51 columns]"
      ]
     },
     "execution_count": 3,
     "metadata": {},
     "output_type": "execute_result"
    }
   ],
   "source": [
    "Forcast.head(4)"
   ]
  },
  {
   "cell_type": "code",
   "execution_count": 4,
   "id": "6eb2fb27",
   "metadata": {},
   "outputs": [],
   "source": [
    "Forcast.drop('Unnamed: 0',inplace=True,axis=1)"
   ]
  },
  {
   "cell_type": "code",
   "execution_count": 5,
   "id": "228d9663",
   "metadata": {},
   "outputs": [
    {
     "data": {
      "text/html": [
       "<div>\n",
       "<style scoped>\n",
       "    .dataframe tbody tr th:only-of-type {\n",
       "        vertical-align: middle;\n",
       "    }\n",
       "\n",
       "    .dataframe tbody tr th {\n",
       "        vertical-align: top;\n",
       "    }\n",
       "\n",
       "    .dataframe thead th {\n",
       "        text-align: right;\n",
       "    }\n",
       "</style>\n",
       "<table border=\"1\" class=\"dataframe\">\n",
       "  <thead>\n",
       "    <tr style=\"text-align: right;\">\n",
       "      <th></th>\n",
       "      <th>Plant</th>\n",
       "      <th>00:00</th>\n",
       "      <th>00:30</th>\n",
       "      <th>01:00</th>\n",
       "      <th>01:30</th>\n",
       "      <th>02:00</th>\n",
       "      <th>02:30</th>\n",
       "      <th>03:00</th>\n",
       "      <th>03:30</th>\n",
       "      <th>04:00</th>\n",
       "      <th>...</th>\n",
       "      <th>19:30</th>\n",
       "      <th>20:00</th>\n",
       "      <th>20:30</th>\n",
       "      <th>21:00</th>\n",
       "      <th>21:30</th>\n",
       "      <th>22:00</th>\n",
       "      <th>22:30</th>\n",
       "      <th>23:00</th>\n",
       "      <th>23:30</th>\n",
       "      <th>Date</th>\n",
       "    </tr>\n",
       "  </thead>\n",
       "  <tbody>\n",
       "    <tr>\n",
       "      <th>0</th>\n",
       "      <td>WPS</td>\n",
       "      <td>0.000</td>\n",
       "      <td>0.000</td>\n",
       "      <td>0.000</td>\n",
       "      <td>0.000</td>\n",
       "      <td>0.000</td>\n",
       "      <td>0.000</td>\n",
       "      <td>0.000</td>\n",
       "      <td>0.0000</td>\n",
       "      <td>0.0000</td>\n",
       "      <td>...</td>\n",
       "      <td>47.241</td>\n",
       "      <td>47.241</td>\n",
       "      <td>0.000</td>\n",
       "      <td>0.000</td>\n",
       "      <td>0.000</td>\n",
       "      <td>0.000</td>\n",
       "      <td>0.000</td>\n",
       "      <td>10.000</td>\n",
       "      <td>10.000</td>\n",
       "      <td>2020 - 07 - 10</td>\n",
       "    </tr>\n",
       "    <tr>\n",
       "      <th>1</th>\n",
       "      <td>Canyon</td>\n",
       "      <td>28.065</td>\n",
       "      <td>11.040</td>\n",
       "      <td>11.040</td>\n",
       "      <td>0.000</td>\n",
       "      <td>0.000</td>\n",
       "      <td>0.000</td>\n",
       "      <td>0.000</td>\n",
       "      <td>0.0000</td>\n",
       "      <td>11.0400</td>\n",
       "      <td>...</td>\n",
       "      <td>30.000</td>\n",
       "      <td>30.000</td>\n",
       "      <td>30.000</td>\n",
       "      <td>30.000</td>\n",
       "      <td>30.000</td>\n",
       "      <td>30.000</td>\n",
       "      <td>30.000</td>\n",
       "      <td>30.000</td>\n",
       "      <td>19.700</td>\n",
       "      <td>2020 - 07 - 10</td>\n",
       "    </tr>\n",
       "    <tr>\n",
       "      <th>2</th>\n",
       "      <td>Olax</td>\n",
       "      <td>10.000</td>\n",
       "      <td>10.000</td>\n",
       "      <td>10.000</td>\n",
       "      <td>10.000</td>\n",
       "      <td>10.000</td>\n",
       "      <td>10.000</td>\n",
       "      <td>10.000</td>\n",
       "      <td>10.0000</td>\n",
       "      <td>10.0000</td>\n",
       "      <td>...</td>\n",
       "      <td>54.000</td>\n",
       "      <td>38.820</td>\n",
       "      <td>10.000</td>\n",
       "      <td>10.000</td>\n",
       "      <td>10.000</td>\n",
       "      <td>10.000</td>\n",
       "      <td>10.000</td>\n",
       "      <td>10.000</td>\n",
       "      <td>10.000</td>\n",
       "      <td>2020 - 07 - 10</td>\n",
       "    </tr>\n",
       "    <tr>\n",
       "      <th>3</th>\n",
       "      <td>Nlax</td>\n",
       "      <td>60.472</td>\n",
       "      <td>60.472</td>\n",
       "      <td>60.472</td>\n",
       "      <td>60.472</td>\n",
       "      <td>60.472</td>\n",
       "      <td>60.472</td>\n",
       "      <td>60.472</td>\n",
       "      <td>60.4720</td>\n",
       "      <td>60.4720</td>\n",
       "      <td>...</td>\n",
       "      <td>71.915</td>\n",
       "      <td>60.472</td>\n",
       "      <td>60.472</td>\n",
       "      <td>60.472</td>\n",
       "      <td>60.472</td>\n",
       "      <td>60.472</td>\n",
       "      <td>60.472</td>\n",
       "      <td>60.472</td>\n",
       "      <td>60.472</td>\n",
       "      <td>2020 - 07 - 10</td>\n",
       "    </tr>\n",
       "    <tr>\n",
       "      <th>4</th>\n",
       "      <td>Polp</td>\n",
       "      <td>78.479</td>\n",
       "      <td>43.419</td>\n",
       "      <td>28.770</td>\n",
       "      <td>28.770</td>\n",
       "      <td>15.620</td>\n",
       "      <td>15.620</td>\n",
       "      <td>15.620</td>\n",
       "      <td>7.2701</td>\n",
       "      <td>7.2701</td>\n",
       "      <td>...</td>\n",
       "      <td>78.479</td>\n",
       "      <td>78.479</td>\n",
       "      <td>65.290</td>\n",
       "      <td>38.314</td>\n",
       "      <td>38.314</td>\n",
       "      <td>38.314</td>\n",
       "      <td>38.314</td>\n",
       "      <td>38.314</td>\n",
       "      <td>38.314</td>\n",
       "      <td>2020 - 07 - 10</td>\n",
       "    </tr>\n",
       "  </tbody>\n",
       "</table>\n",
       "<p>5 rows × 50 columns</p>\n",
       "</div>"
      ],
      "text/plain": [
       "    Plant   00:00   00:30   01:00   01:30   02:00   02:30   03:00    03:30  \\\n",
       "0     WPS   0.000   0.000   0.000   0.000   0.000   0.000   0.000   0.0000   \n",
       "1  Canyon  28.065  11.040  11.040   0.000   0.000   0.000   0.000   0.0000   \n",
       "2    Olax  10.000  10.000  10.000  10.000  10.000  10.000  10.000  10.0000   \n",
       "3    Nlax  60.472  60.472  60.472  60.472  60.472  60.472  60.472  60.4720   \n",
       "4    Polp  78.479  43.419  28.770  28.770  15.620  15.620  15.620   7.2701   \n",
       "\n",
       "     04:00  ...   19:30   20:00   20:30   21:00   21:30   22:00   22:30  \\\n",
       "0   0.0000  ...  47.241  47.241   0.000   0.000   0.000   0.000   0.000   \n",
       "1  11.0400  ...  30.000  30.000  30.000  30.000  30.000  30.000  30.000   \n",
       "2  10.0000  ...  54.000  38.820  10.000  10.000  10.000  10.000  10.000   \n",
       "3  60.4720  ...  71.915  60.472  60.472  60.472  60.472  60.472  60.472   \n",
       "4   7.2701  ...  78.479  78.479  65.290  38.314  38.314  38.314  38.314   \n",
       "\n",
       "    23:00   23:30            Date  \n",
       "0  10.000  10.000  2020 - 07 - 10  \n",
       "1  30.000  19.700  2020 - 07 - 10  \n",
       "2  10.000  10.000  2020 - 07 - 10  \n",
       "3  60.472  60.472  2020 - 07 - 10  \n",
       "4  38.314  38.314  2020 - 07 - 10  \n",
       "\n",
       "[5 rows x 50 columns]"
      ]
     },
     "execution_count": 5,
     "metadata": {},
     "output_type": "execute_result"
    }
   ],
   "source": [
    "Forcast.head(5)"
   ]
  },
  {
   "cell_type": "code",
   "execution_count": 6,
   "id": "8168a718",
   "metadata": {},
   "outputs": [],
   "source": [
    "Plant_Forcast=Forcast.groupby([\"Plant\"])"
   ]
  },
  {
   "cell_type": "code",
   "execution_count": 7,
   "id": "e659bf0e",
   "metadata": {},
   "outputs": [],
   "source": [
    "Plant_Sum=Plant_Forcast.sum()"
   ]
  },
  {
   "cell_type": "code",
   "execution_count": 8,
   "id": "aa8b3b88",
   "metadata": {},
   "outputs": [],
   "source": [
    "Plant_Sum[\"Total_Dispatch\"] = Plant_Sum.sum(axis=1)"
   ]
  },
  {
   "cell_type": "code",
   "execution_count": 9,
   "id": "9640dab8",
   "metadata": {},
   "outputs": [
    {
     "data": {
      "text/html": [
       "<div>\n",
       "<style scoped>\n",
       "    .dataframe tbody tr th:only-of-type {\n",
       "        vertical-align: middle;\n",
       "    }\n",
       "\n",
       "    .dataframe tbody tr th {\n",
       "        vertical-align: top;\n",
       "    }\n",
       "\n",
       "    .dataframe thead th {\n",
       "        text-align: right;\n",
       "    }\n",
       "</style>\n",
       "<table border=\"1\" class=\"dataframe\">\n",
       "  <thead>\n",
       "    <tr style=\"text-align: right;\">\n",
       "      <th></th>\n",
       "      <th>00:00</th>\n",
       "      <th>00:30</th>\n",
       "      <th>01:00</th>\n",
       "      <th>01:30</th>\n",
       "      <th>02:00</th>\n",
       "      <th>02:30</th>\n",
       "      <th>03:00</th>\n",
       "      <th>03:30</th>\n",
       "      <th>04:00</th>\n",
       "      <th>04:30</th>\n",
       "      <th>...</th>\n",
       "      <th>19:30</th>\n",
       "      <th>20:00</th>\n",
       "      <th>20:30</th>\n",
       "      <th>21:00</th>\n",
       "      <th>21:30</th>\n",
       "      <th>22:00</th>\n",
       "      <th>22:30</th>\n",
       "      <th>23:00</th>\n",
       "      <th>23:30</th>\n",
       "      <th>Total_Dispatch</th>\n",
       "    </tr>\n",
       "    <tr>\n",
       "      <th>Plant</th>\n",
       "      <th></th>\n",
       "      <th></th>\n",
       "      <th></th>\n",
       "      <th></th>\n",
       "      <th></th>\n",
       "      <th></th>\n",
       "      <th></th>\n",
       "      <th></th>\n",
       "      <th></th>\n",
       "      <th></th>\n",
       "      <th></th>\n",
       "      <th></th>\n",
       "      <th></th>\n",
       "      <th></th>\n",
       "      <th></th>\n",
       "      <th></th>\n",
       "      <th></th>\n",
       "      <th></th>\n",
       "      <th></th>\n",
       "      <th></th>\n",
       "      <th></th>\n",
       "    </tr>\n",
       "  </thead>\n",
       "  <tbody>\n",
       "    <tr>\n",
       "      <th>ACE EMBP</th>\n",
       "      <td>664.59440</td>\n",
       "      <td>491.6603</td>\n",
       "      <td>443.6441</td>\n",
       "      <td>455.0947</td>\n",
       "      <td>434.8058</td>\n",
       "      <td>402.7511</td>\n",
       "      <td>367.7511</td>\n",
       "      <td>349.7511</td>\n",
       "      <td>418.422</td>\n",
       "      <td>497.9831</td>\n",
       "      <td>...</td>\n",
       "      <td>1989.0882</td>\n",
       "      <td>1999.0433</td>\n",
       "      <td>1986.4342</td>\n",
       "      <td>1925.7379</td>\n",
       "      <td>1916.2499</td>\n",
       "      <td>1872.5425</td>\n",
       "      <td>1764.61210</td>\n",
       "      <td>1491.7185</td>\n",
       "      <td>799.6197</td>\n",
       "      <td>73443.13790</td>\n",
       "    </tr>\n",
       "    <tr>\n",
       "      <th>ACE Matara</th>\n",
       "      <td>48.00000</td>\n",
       "      <td>24.0000</td>\n",
       "      <td>16.0000</td>\n",
       "      <td>24.0000</td>\n",
       "      <td>16.0000</td>\n",
       "      <td>16.0000</td>\n",
       "      <td>16.0000</td>\n",
       "      <td>16.0000</td>\n",
       "      <td>16.000</td>\n",
       "      <td>49.3920</td>\n",
       "      <td>...</td>\n",
       "      <td>483.7350</td>\n",
       "      <td>467.7350</td>\n",
       "      <td>467.7350</td>\n",
       "      <td>443.7350</td>\n",
       "      <td>435.7350</td>\n",
       "      <td>394.7160</td>\n",
       "      <td>314.91000</td>\n",
       "      <td>225.8470</td>\n",
       "      <td>184.0000</td>\n",
       "      <td>16064.01400</td>\n",
       "    </tr>\n",
       "    <tr>\n",
       "      <th>ALTAQQA-Mahi.</th>\n",
       "      <td>0.13437</td>\n",
       "      <td>0.0000</td>\n",
       "      <td>0.0000</td>\n",
       "      <td>0.0000</td>\n",
       "      <td>0.0000</td>\n",
       "      <td>0.0000</td>\n",
       "      <td>0.0000</td>\n",
       "      <td>0.0000</td>\n",
       "      <td>0.000</td>\n",
       "      <td>0.0000</td>\n",
       "      <td>...</td>\n",
       "      <td>10.0000</td>\n",
       "      <td>10.0000</td>\n",
       "      <td>10.0000</td>\n",
       "      <td>10.0000</td>\n",
       "      <td>10.0000</td>\n",
       "      <td>0.0000</td>\n",
       "      <td>0.00000</td>\n",
       "      <td>0.0000</td>\n",
       "      <td>0.0000</td>\n",
       "      <td>330.13437</td>\n",
       "    </tr>\n",
       "    <tr>\n",
       "      <th>ALTAQQA-Pol.</th>\n",
       "      <td>8.00000</td>\n",
       "      <td>0.0000</td>\n",
       "      <td>0.0000</td>\n",
       "      <td>0.0000</td>\n",
       "      <td>0.0000</td>\n",
       "      <td>0.0000</td>\n",
       "      <td>0.0000</td>\n",
       "      <td>0.0000</td>\n",
       "      <td>0.000</td>\n",
       "      <td>0.0000</td>\n",
       "      <td>...</td>\n",
       "      <td>8.0000</td>\n",
       "      <td>8.0000</td>\n",
       "      <td>8.0000</td>\n",
       "      <td>8.0000</td>\n",
       "      <td>8.0000</td>\n",
       "      <td>0.0000</td>\n",
       "      <td>0.11088</td>\n",
       "      <td>0.0000</td>\n",
       "      <td>0.0000</td>\n",
       "      <td>272.11088</td>\n",
       "    </tr>\n",
       "    <tr>\n",
       "      <th>Asia Power</th>\n",
       "      <td>42.00000</td>\n",
       "      <td>42.0000</td>\n",
       "      <td>40.0620</td>\n",
       "      <td>42.0000</td>\n",
       "      <td>32.9000</td>\n",
       "      <td>32.9000</td>\n",
       "      <td>32.9000</td>\n",
       "      <td>32.9000</td>\n",
       "      <td>62.400</td>\n",
       "      <td>110.9000</td>\n",
       "      <td>...</td>\n",
       "      <td>742.5000</td>\n",
       "      <td>742.5000</td>\n",
       "      <td>733.1000</td>\n",
       "      <td>728.4000</td>\n",
       "      <td>724.5000</td>\n",
       "      <td>704.2223</td>\n",
       "      <td>628.30000</td>\n",
       "      <td>406.7665</td>\n",
       "      <td>352.2000</td>\n",
       "      <td>26953.03220</td>\n",
       "    </tr>\n",
       "  </tbody>\n",
       "</table>\n",
       "<p>5 rows × 49 columns</p>\n",
       "</div>"
      ],
      "text/plain": [
       "                   00:00     00:30     01:00     01:30     02:00     02:30  \\\n",
       "Plant                                                                        \n",
       "ACE EMBP       664.59440  491.6603  443.6441  455.0947  434.8058  402.7511   \n",
       "ACE Matara      48.00000   24.0000   16.0000   24.0000   16.0000   16.0000   \n",
       "ALTAQQA-Mahi.    0.13437    0.0000    0.0000    0.0000    0.0000    0.0000   \n",
       "ALTAQQA-Pol.     8.00000    0.0000    0.0000    0.0000    0.0000    0.0000   \n",
       "Asia Power      42.00000   42.0000   40.0620   42.0000   32.9000   32.9000   \n",
       "\n",
       "                  03:00     03:30    04:00     04:30  ...      19:30  \\\n",
       "Plant                                                 ...              \n",
       "ACE EMBP       367.7511  349.7511  418.422  497.9831  ...  1989.0882   \n",
       "ACE Matara      16.0000   16.0000   16.000   49.3920  ...   483.7350   \n",
       "ALTAQQA-Mahi.    0.0000    0.0000    0.000    0.0000  ...    10.0000   \n",
       "ALTAQQA-Pol.     0.0000    0.0000    0.000    0.0000  ...     8.0000   \n",
       "Asia Power      32.9000   32.9000   62.400  110.9000  ...   742.5000   \n",
       "\n",
       "                   20:00      20:30      21:00      21:30      22:00  \\\n",
       "Plant                                                                  \n",
       "ACE EMBP       1999.0433  1986.4342  1925.7379  1916.2499  1872.5425   \n",
       "ACE Matara      467.7350   467.7350   443.7350   435.7350   394.7160   \n",
       "ALTAQQA-Mahi.    10.0000    10.0000    10.0000    10.0000     0.0000   \n",
       "ALTAQQA-Pol.      8.0000     8.0000     8.0000     8.0000     0.0000   \n",
       "Asia Power      742.5000   733.1000   728.4000   724.5000   704.2223   \n",
       "\n",
       "                    22:30      23:00     23:30  Total_Dispatch  \n",
       "Plant                                                           \n",
       "ACE EMBP       1764.61210  1491.7185  799.6197     73443.13790  \n",
       "ACE Matara      314.91000   225.8470  184.0000     16064.01400  \n",
       "ALTAQQA-Mahi.     0.00000     0.0000    0.0000       330.13437  \n",
       "ALTAQQA-Pol.      0.11088     0.0000    0.0000       272.11088  \n",
       "Asia Power      628.30000   406.7665  352.2000     26953.03220  \n",
       "\n",
       "[5 rows x 49 columns]"
      ]
     },
     "execution_count": 9,
     "metadata": {},
     "output_type": "execute_result"
    }
   ],
   "source": [
    "Plant_Sum.head(5)"
   ]
  },
  {
   "cell_type": "code",
   "execution_count": 10,
   "id": "d65e4f15",
   "metadata": {},
   "outputs": [],
   "source": [
    "Plant_Sum.reset_index(level=0,inplace=True)"
   ]
  },
  {
   "cell_type": "markdown",
   "id": "b162735f",
   "metadata": {},
   "source": [
    "## Linear Regression and Multiple Linear Regression"
   ]
  },
  {
   "cell_type": "code",
   "execution_count": 11,
   "id": "a4101403",
   "metadata": {},
   "outputs": [],
   "source": [
    "Plant_Sort=Plant_Sum.sort_values(by='Total_Dispatch', ascending=False)"
   ]
  },
  {
   "cell_type": "code",
   "execution_count": 14,
   "id": "74ce40d0",
   "metadata": {},
   "outputs": [],
   "source": [
    "#Plant_Sort\n",
    "# import linear model using sklearn\n",
    "from sklearn.linear_model import LinearRegression\n",
    "# create linear regression object using constructor\n",
    "lr = LinearRegression()"
   ]
  },
  {
   "cell_type": "code",
   "execution_count": 15,
   "id": "99dc394f",
   "metadata": {},
   "outputs": [
    {
     "data": {
      "text/plain": [
       "Index(['Plant', '00:00', '00:30', '01:00', '01:30', '02:00', '02:30', '03:00',\n",
       "       '03:30', '04:00', '04:30', '05:00', '05:30', '06:00', '06:30', '07:00',\n",
       "       '07:30', '08:00', '08:30', '09:00', '09:30', '10:00', '10:30', '11:00',\n",
       "       '11:30', '12:00', '12:30', '13:00', '13:30', '14:00', '14:30', '15:00',\n",
       "       '15:30', '16:00', '16:30', '17:00', '17:30', '18:00', '18:30', '19:00',\n",
       "       '19:30', '20:00', '20:30', '21:00', '21:30', '22:00', '22:30', '23:00',\n",
       "       '23:30', 'Total_Dispatch'],\n",
       "      dtype='object')"
      ]
     },
     "execution_count": 15,
     "metadata": {},
     "output_type": "execute_result"
    }
   ],
   "source": [
    "Plant_Sort.columns"
   ]
  },
  {
   "cell_type": "code",
   "execution_count": 16,
   "id": "ad063110",
   "metadata": {},
   "outputs": [
    {
     "data": {
      "text/plain": [
       "(37, 50)"
      ]
     },
     "execution_count": 16,
     "metadata": {},
     "output_type": "execute_result"
    }
   ],
   "source": [
    "Plant_Sort.shape"
   ]
  },
  {
   "cell_type": "code",
   "execution_count": 17,
   "id": "8b34531c",
   "metadata": {},
   "outputs": [],
   "source": [
    "# variables\n",
    "X = Plant_Sort.iloc[:,1:48]\n",
    "y = Plant_Sort.iloc[:,49]"
   ]
  },
  {
   "cell_type": "code",
   "execution_count": 18,
   "id": "b1993c23",
   "metadata": {},
   "outputs": [
    {
     "data": {
      "text/plain": [
       "LinearRegression()"
      ]
     },
     "execution_count": 18,
     "metadata": {},
     "output_type": "execute_result"
    }
   ],
   "source": [
    "# fit variables\n",
    "lr.fit(X, y)"
   ]
  },
  {
   "cell_type": "code",
   "execution_count": 19,
   "id": "4e0679f3",
   "metadata": {},
   "outputs": [
    {
     "data": {
      "text/plain": [
       "array([3.48610000e+05, 3.48319770e+05, 3.46298000e+05, 2.62575037e+05,\n",
       "       7.97299662e+04, 7.34431379e+04, 7.18960690e+04, 6.21930880e+04,\n",
       "       5.89350000e+04, 5.87363990e+04, 5.38921565e+04, 5.02887520e+04,\n",
       "       4.43219464e+04, 4.09126300e+04, 3.65911390e+04, 3.22999950e+04,\n",
       "       3.22327550e+04, 2.69530322e+04, 2.03627993e+04, 2.01812300e+04,\n",
       "       1.74399350e+04, 1.74161893e+04, 1.62750000e+04, 1.60640140e+04,\n",
       "       1.30226850e+04, 1.15199940e+04, 5.38639527e+03, 3.73155258e+03,\n",
       "       1.55118005e+03, 1.41830800e+03, 1.18622100e+03, 3.30134370e+02,\n",
       "       2.72110880e+02, 2.18278728e-11, 2.18278728e-11, 2.18278728e-11,\n",
       "       2.18278728e-11])"
      ]
     },
     "execution_count": 19,
     "metadata": {},
     "output_type": "execute_result"
    }
   ],
   "source": [
    "yhat = lr.predict(X)\n",
    "yhat"
   ]
  },
  {
   "cell_type": "code",
   "execution_count": 20,
   "id": "653e9d35",
   "metadata": {},
   "outputs": [
    {
     "data": {
      "text/plain": [
       "2.1827872842550278e-11"
      ]
     },
     "execution_count": 20,
     "metadata": {},
     "output_type": "execute_result"
    }
   ],
   "source": [
    "# intercept\n",
    "lr.intercept_"
   ]
  },
  {
   "cell_type": "code",
   "execution_count": 21,
   "id": "2a50b7c7",
   "metadata": {},
   "outputs": [
    {
     "data": {
      "text/plain": [
       "array([ 0.97670618,  2.25756974, -0.11266132,  2.12433632,  0.44866021,\n",
       "        1.02685132,  0.73181052,  1.45079734,  0.22209353,  1.79228507,\n",
       "        0.48818772,  0.47138176,  1.35184121,  0.69985915,  0.78597234,\n",
       "        1.25606355,  1.11445304,  1.22749439,  0.67615744,  1.09353452,\n",
       "        0.71230711,  1.05354452,  0.23960179,  1.68702991,  0.35436488,\n",
       "        1.65652529,  1.87313941,  1.54157537,  0.0670787 ,  1.35855261,\n",
       "       -0.80819793,  0.86247152,  1.50768672,  2.01186749,  1.63206943,\n",
       "        0.46606515,  1.10210352,  0.79271558,  1.76718041,  0.85340072,\n",
       "        0.31735061,  1.09367954,  0.11246154,  2.06898172, -0.02263156,\n",
       "        2.65806754,  0.9625508 ])"
      ]
     },
     "execution_count": 21,
     "metadata": {},
     "output_type": "execute_result"
    }
   ],
   "source": [
    "# coefficient\n",
    "lr.coef_"
   ]
  },
  {
   "cell_type": "code",
   "execution_count": 22,
   "id": "057c4261",
   "metadata": {},
   "outputs": [
    {
     "data": {
      "text/plain": [
       "1.0"
      ]
     },
     "execution_count": 22,
     "metadata": {},
     "output_type": "execute_result"
    }
   ],
   "source": [
    "# score\n",
    "lr.score(X, y)"
   ]
  },
  {
   "cell_type": "code",
   "execution_count": 24,
   "id": "ecd2deb6",
   "metadata": {},
   "outputs": [
    {
     "data": {
      "text/plain": [
       "(0.0, 366339.06023813464)"
      ]
     },
     "execution_count": 24,
     "metadata": {},
     "output_type": "execute_result"
    },
    {
     "data": {
      "image/png": "[encoded data removed]",
      "text/plain": [
       "<Figure size 432x288 with 1 Axes>"
      ]
     },
     "metadata": {
      "needs_background": "light"
     },
     "output_type": "display_data"
    }
   ],
   "source": [
    "sns.regplot(x = \"13:00\", y = \"Total_Dispatch\", data = Plant_Sort)\n",
    "plt.ylim(0,)"
   ]
  },
  {
   "cell_type": "code",
   "execution_count": 25,
   "id": "adf172a5",
   "metadata": {},
   "outputs": [
    {
     "name": "stderr",
     "output_type": "stream",
     "text": [
      "C:\\Users\\Asus\\anaconda3\\lib\\site-packages\\seaborn\\_decorators.py:36: FutureWarning: Pass the following variables as keyword args: x, y. From version 0.12, the only valid positional argument will be `data`, and passing other arguments without an explicit keyword will result in an error or misinterpretation.\n",
      "  warnings.warn(\n"
     ]
    },
    {
     "data": {
      "text/plain": [
       "<AxesSubplot:xlabel='13:00', ylabel='Total_Dispatch'>"
      ]
     },
     "execution_count": 25,
     "metadata": {},
     "output_type": "execute_result"
    },
    {
     "data": {
      "image/png": "[encoded data removed]",
      "text/plain": [
       "<Figure size 432x288 with 1 Axes>"
      ]
     },
     "metadata": {
      "needs_background": "light"
     },
     "output_type": "display_data"
    }
   ],
   "source": [
    "# Residual Plot\n",
    "sns.residplot(Plant_Sort[\"13:00\"], Plant_Sort[\"Total_Dispatch\"])"
   ]
  },
  {
   "cell_type": "code",
   "execution_count": 26,
   "id": "dbdc6ba4",
   "metadata": {},
   "outputs": [
    {
     "name": "stderr",
     "output_type": "stream",
     "text": [
      "C:\\Users\\Asus\\anaconda3\\lib\\site-packages\\seaborn\\distributions.py:2619: FutureWarning: `distplot` is a deprecated function and will be removed in a future version. Please adapt your code to use either `displot` (a figure-level function with similar flexibility) or `kdeplot` (an axes-level function for kernel density plots).\n",
      "  warnings.warn(msg, FutureWarning)\n",
      "C:\\Users\\Asus\\anaconda3\\lib\\site-packages\\seaborn\\distributions.py:2619: FutureWarning: `distplot` is a deprecated function and will be removed in a future version. Please adapt your code to use either `displot` (a figure-level function with similar flexibility) or `kdeplot` (an axes-level function for kernel density plots).\n",
      "  warnings.warn(msg, FutureWarning)\n"
     ]
    },
    {
     "data": {
      "text/plain": [
       "<AxesSubplot:xlabel='Total_Dispatch', ylabel='Density'>"
      ]
     },
     "execution_count": 26,
     "metadata": {},
     "output_type": "execute_result"
    },
    {
     "data": {
      "image/png": "[encoded data removed]",
      "text/plain": [
       "<Figure size 432x288 with 1 Axes>"
      ]
     },
     "metadata": {
      "needs_background": "light"
     },
     "output_type": "display_data"
    }
   ],
   "source": [
    "# distribution plots\n",
    "ax1 = sns.distplot(Plant_Sort[\"Total_Dispatch\"], hist = False, color = \"r\", label = \"Actual Dispatch\")\n",
    "sns.distplot(yhat, hist = False, color = \"b\", label = \"Fitted Dispacth\", ax = ax1)"
   ]
  },
  {
   "cell_type": "markdown",
   "id": "40cd74e9",
   "metadata": {},
   "source": [
    "### Polynomial Regression and Pipelines"
   ]
  },
  {
   "cell_type": "code",
   "execution_count": 30,
   "id": "6bd64ea3",
   "metadata": {},
   "outputs": [],
   "source": [
    "x = Plant_Sort['14:00'].astype(\"int\")  #Selecting Peak Hours in Dispatching\n",
    "y = Plant_Sort['Total_Dispatch'].astype(\"int\") #Total Dispatch by Each Plants"
   ]
  },
  {
   "cell_type": "code",
   "execution_count": 31,
   "id": "05fc9b80",
   "metadata": {},
   "outputs": [
    {
     "data": {
      "image/png": "[encoded data removed]",
      "text/plain": [
       "<Figure size 432x288 with 1 Axes>"
      ]
     },
     "metadata": {
      "needs_background": "light"
     },
     "output_type": "display_data"
    }
   ],
   "source": [
    "mymodel = np.poly1d(np.polyfit(x, y, 3))\n",
    "myline = np.linspace(15, 55, 100)\n",
    "\n",
    "plt.title(\"Polynomial Fit with Matplotlib for Peak Hour Dispatch ~ Total Dispatch\")\n",
    "plt.xlabel(\"Peak Hour Dispatch\")\n",
    "plt.ylabel(\"Total Dispatch\")\n",
    "plt.scatter(x, y)\n",
    "plt.plot(myline, mymodel(myline), color = \"r\")\n",
    "plt.show()"
   ]
  },
  {
   "cell_type": "code",
   "execution_count": 32,
   "id": "f0c0691d",
   "metadata": {},
   "outputs": [
    {
     "data": {
      "text/plain": [
       "array([ 2.10938164e-07, -2.57223068e-04,  3.88971473e+01,  1.34990859e+03])"
      ]
     },
     "execution_count": 32,
     "metadata": {},
     "output_type": "execute_result"
    }
   ],
   "source": [
    "np.polyfit(x, y, 3)"
   ]
  },
  {
   "cell_type": "code",
   "execution_count": 33,
   "id": "9a8e5ad9",
   "metadata": {
    "scrolled": true
   },
   "outputs": [
    {
     "data": {
      "image/png": "[encoded data removed]",
      "text/plain": [
       "<Figure size 432x288 with 1 Axes>"
      ]
     },
     "metadata": {
      "needs_background": "light"
     },
     "output_type": "display_data"
    }
   ],
   "source": [
    "# 11 order polynomial model\n",
    "model = np.poly1d(np.polyfit(x, y, 11))\n",
    "line = np.linspace(15, 55, 100)\n",
    "\n",
    "plt.scatter(x, y)\n",
    "plt.title(\"Polynomial Fit with Matplotlib for Peak Hour Dispatch ~ Total Dispatch\")\n",
    "plt.xlabel(\"Peak Hour Dispatch\")\n",
    "plt.ylabel(\"Total Dispatch\")\n",
    "\n",
    "plt.plot(line, model(line), color = \"r\")\n",
    "plt.show()"
   ]
  },
  {
   "cell_type": "code",
   "execution_count": 38,
   "id": "464dcf0f",
   "metadata": {},
   "outputs": [
    {
     "data": {
      "text/plain": [
       "PolynomialFeatures()"
      ]
     },
     "execution_count": 38,
     "metadata": {},
     "output_type": "execute_result"
    }
   ],
   "source": [
    "# degree = 2\n",
    "\n",
    "pr = PolynomialFeatures(degree = 2)\n",
    "pr"
   ]
  },
  {
   "cell_type": "code",
   "execution_count": 39,
   "id": "32353ba6",
   "metadata": {},
   "outputs": [],
   "source": [
    "# fit data\n",
    "Z = Plant_Sort.iloc[:,20:24]  #Peak Hours in Plant Dispatches\n",
    "Z_pr = pr.fit_transform(Z) "
   ]
  },
  {
   "cell_type": "code",
   "execution_count": 40,
   "id": "131d8b9c",
   "metadata": {},
   "outputs": [
    {
     "data": {
      "text/plain": [
       "(37, 4)"
      ]
     },
     "execution_count": 40,
     "metadata": {},
     "output_type": "execute_result"
    }
   ],
   "source": [
    "# The original data is of 37 samples and 4 features\n",
    "Z.shape"
   ]
  },
  {
   "cell_type": "code",
   "execution_count": 42,
   "id": "4e7b92f4",
   "metadata": {},
   "outputs": [
    {
     "data": {
      "text/plain": [
       "(37, 15)"
      ]
     },
     "execution_count": 42,
     "metadata": {},
     "output_type": "execute_result"
    }
   ],
   "source": [
    "# after the transformation, there 37 samples and 15 features\n",
    "Z_pr.shape"
   ]
  },
  {
   "cell_type": "markdown",
   "id": "c20f5c5b",
   "metadata": {},
   "source": [
    "## Pipeline"
   ]
  },
  {
   "cell_type": "code",
   "execution_count": 34,
   "id": "0f4a2ca9",
   "metadata": {},
   "outputs": [],
   "source": [
    "from sklearn.pipeline import Pipeline\n",
    "from sklearn.preprocessing import StandardScaler"
   ]
  },
  {
   "cell_type": "code",
   "execution_count": 43,
   "id": "d79b7dad",
   "metadata": {},
   "outputs": [],
   "source": [
    "# pipeline\n",
    "\n",
    "Input = [(\"scale\", StandardScaler()), (\"polynomial\", PolynomialFeatures(include_bias = False)), (\"model\", LinearRegression())]"
   ]
  },
  {
   "cell_type": "code",
   "execution_count": 44,
   "id": "91759bc6",
   "metadata": {},
   "outputs": [
    {
     "data": {
      "text/plain": [
       "Pipeline(steps=[('scale', StandardScaler()),\n",
       "                ('polynomial', PolynomialFeatures(include_bias=False)),\n",
       "                ('model', LinearRegression())])"
      ]
     },
     "execution_count": 44,
     "metadata": {},
     "output_type": "execute_result"
    }
   ],
   "source": [
    "# we input the list as an argument to the pipeline constructor \n",
    "pipe = Pipeline(Input)\n",
    "pipe"
   ]
  },
  {
   "cell_type": "code",
   "execution_count": 45,
   "id": "a6b83180",
   "metadata": {},
   "outputs": [
    {
     "data": {
      "text/plain": [
       "Pipeline(steps=[('scale', StandardScaler()),\n",
       "                ('polynomial', PolynomialFeatures(include_bias=False)),\n",
       "                ('model', LinearRegression())])"
      ]
     },
     "execution_count": 45,
     "metadata": {},
     "output_type": "execute_result"
    }
   ],
   "source": [
    "# fit\n",
    "pipe.fit(Z, y)"
   ]
  },
  {
   "cell_type": "code",
   "execution_count": 46,
   "id": "349464d9",
   "metadata": {},
   "outputs": [
    {
     "data": {
      "text/plain": [
       "array([346492.49491939, 346492.49491939, 346492.49491939, 268588.97113318])"
      ]
     },
     "execution_count": 46,
     "metadata": {},
     "output_type": "execute_result"
    }
   ],
   "source": [
    "# e can normalize the data, perform a transform and produce a prediction simultaneously\n",
    "ypipe = pipe.predict(Z)\n",
    "ypipe[0:4]"
   ]
  },
  {
   "cell_type": "code",
   "execution_count": 47,
   "id": "3f2d5f17",
   "metadata": {},
   "outputs": [
    {
     "data": {
      "text/plain": [
       "array([340065.46112763, 340065.46112763, 340065.46112763, 272814.00923887,\n",
       "        78982.49957406,  84479.38786519,  71249.76368392,  64907.34850641,\n",
       "        88644.7301136 ,  60841.78455314])"
      ]
     },
     "execution_count": 47,
     "metadata": {},
     "output_type": "execute_result"
    }
   ],
   "source": [
    "# Standardized -----> Prediction\n",
    "\n",
    "Input = [(\"scale\", StandardScaler()), (\"model\", LinearRegression())]\n",
    "pipe = Pipeline(Input)\n",
    "pipe.fit(Z, y)\n",
    "\n",
    "ypipe = pipe.predict(Z)\n",
    "ypipe[0:10]"
   ]
  },
  {
   "cell_type": "markdown",
   "id": "192a57a6",
   "metadata": {},
   "source": [
    "## Simple Linear Regression"
   ]
  },
  {
   "cell_type": "markdown",
   "id": "c73aac07",
   "metadata": {},
   "source": [
    "**R^2 / R-squared**"
   ]
  },
  {
   "cell_type": "code",
   "execution_count": 48,
   "id": "c15794ea",
   "metadata": {},
   "outputs": [],
   "source": [
    "lm = LinearRegression()\n",
    "x = Plant_Sort.iloc[:,20:24]       #Selecting Peak Hours in Plant Dispatches\n",
    "y = Plant_Sort[\"Total_Dispatch\"]"
   ]
  },
  {
   "cell_type": "code",
   "execution_count": 49,
   "id": "7b9bc6da",
   "metadata": {},
   "outputs": [
    {
     "name": "stdout",
     "output_type": "stream",
     "text": [
      "The R-square is:  0.9930703741701006\n"
     ]
    }
   ],
   "source": [
    "# R-Squared\n",
    "lm.fit(x, y)\n",
    "print('The R-square is: ', lm.score(x, y))  #Accuracy Rate is Very High"
   ]
  },
  {
   "cell_type": "code",
   "execution_count": 50,
   "id": "58b22023",
   "metadata": {},
   "outputs": [
    {
     "name": "stdout",
     "output_type": "stream",
     "text": [
      "The output of the first four predicted value is:  [340065.68925715 340065.68925715 340065.68925715 272814.24516786]\n"
     ]
    }
   ],
   "source": [
    "# Prediction\n",
    "yhat = lm.predict(x)\n",
    "print('The output of the first four predicted value is: ', yhat[0:4])"
   ]
  },
  {
   "cell_type": "code",
   "execution_count": null,
   "id": "bb4369c0",
   "metadata": {},
   "outputs": [],
   "source": []
  }
 ],
 "metadata": {
  "kernelspec": {
   "display_name": "Python 3 (ipykernel)",
   "language": "python",
   "name": "python3"
  },
  "language_info": {
   "codemirror_mode": {
    "name": "ipython",
    "version": 3
   },
   "file_extension": ".py",
   "mimetype": "text/x-python",
   "name": "python",
   "nbconvert_exporter": "python",
   "pygments_lexer": "ipython3",
   "version": "3.8.8"
  }
 },
 "nbformat": 4,
 "nbformat_minor": 5
}

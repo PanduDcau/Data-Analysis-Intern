{
 "cells": [
  {
   "cell_type": "markdown",
   "id": "0fa9d435",
   "metadata": {},
   "source": [
    "# Importing Libraries"
   ]
  },
  {
   "cell_type": "code",
   "execution_count": 1,
   "id": "c2aa2d7f",
   "metadata": {},
   "outputs": [],
   "source": [
    "import pandas as pd\n",
    "import numpy as np\n",
    "import math\n",
    "import seaborn as sns\n",
    "import matplotlib.pyplot as plt\n",
    "from sklearn import linear_model\n",
    "from sklearn.linear_model import LinearRegression\n",
    "from sklearn.model_selection import train_test_split\n",
    "from sklearn.preprocessing import StandardScaler\n",
    "from sklearn.preprocessing import PolynomialFeatures\n",
    "from sklearn.pipeline import Pipeline\n",
    "from sklearn.preprocessing import normalize"
   ]
  },
  {
   "cell_type": "code",
   "execution_count": 2,
   "id": "92e2c50d",
   "metadata": {},
   "outputs": [],
   "source": [
    "Forcast=pd.read_csv('/Users/Asus/Documents/InternCsv/Forcast_Official.csv')"
   ]
  },
  {
   "cell_type": "code",
   "execution_count": 3,
   "id": "a7afb4ab",
   "metadata": {},
   "outputs": [
    {
     "data": {
      "text/html": [
       "<div>\n",
       "<style scoped>\n",
       "    .dataframe tbody tr th:only-of-type {\n",
       "        vertical-align: middle;\n",
       "    }\n",
       "\n",
       "    .dataframe tbody tr th {\n",
       "        vertical-align: top;\n",
       "    }\n",
       "\n",
       "    .dataframe thead th {\n",
       "        text-align: right;\n",
       "    }\n",
       "</style>\n",
       "<table border=\"1\" class=\"dataframe\">\n",
       "  <thead>\n",
       "    <tr style=\"text-align: right;\">\n",
       "      <th></th>\n",
       "      <th>Unnamed: 0</th>\n",
       "      <th>Plant</th>\n",
       "      <th>00:00</th>\n",
       "      <th>00:30</th>\n",
       "      <th>01:00</th>\n",
       "      <th>01:30</th>\n",
       "      <th>02:00</th>\n",
       "      <th>02:30</th>\n",
       "      <th>03:00</th>\n",
       "      <th>03:30</th>\n",
       "      <th>...</th>\n",
       "      <th>19:30</th>\n",
       "      <th>20:00</th>\n",
       "      <th>20:30</th>\n",
       "      <th>21:00</th>\n",
       "      <th>21:30</th>\n",
       "      <th>22:00</th>\n",
       "      <th>22:30</th>\n",
       "      <th>23:00</th>\n",
       "      <th>23:30</th>\n",
       "      <th>Date</th>\n",
       "    </tr>\n",
       "  </thead>\n",
       "  <tbody>\n",
       "    <tr>\n",
       "      <th>0</th>\n",
       "      <td>0</td>\n",
       "      <td>WPS</td>\n",
       "      <td>0.000</td>\n",
       "      <td>0.000</td>\n",
       "      <td>0.000</td>\n",
       "      <td>0.000</td>\n",
       "      <td>0.000</td>\n",
       "      <td>0.000</td>\n",
       "      <td>0.000</td>\n",
       "      <td>0.000</td>\n",
       "      <td>...</td>\n",
       "      <td>47.241</td>\n",
       "      <td>47.241</td>\n",
       "      <td>0.000</td>\n",
       "      <td>0.000</td>\n",
       "      <td>0.000</td>\n",
       "      <td>0.000</td>\n",
       "      <td>0.000</td>\n",
       "      <td>10.000</td>\n",
       "      <td>10.000</td>\n",
       "      <td>2020 - 07 - 10</td>\n",
       "    </tr>\n",
       "    <tr>\n",
       "      <th>1</th>\n",
       "      <td>1</td>\n",
       "      <td>Canyon</td>\n",
       "      <td>28.065</td>\n",
       "      <td>11.040</td>\n",
       "      <td>11.040</td>\n",
       "      <td>0.000</td>\n",
       "      <td>0.000</td>\n",
       "      <td>0.000</td>\n",
       "      <td>0.000</td>\n",
       "      <td>0.000</td>\n",
       "      <td>...</td>\n",
       "      <td>30.000</td>\n",
       "      <td>30.000</td>\n",
       "      <td>30.000</td>\n",
       "      <td>30.000</td>\n",
       "      <td>30.000</td>\n",
       "      <td>30.000</td>\n",
       "      <td>30.000</td>\n",
       "      <td>30.000</td>\n",
       "      <td>19.700</td>\n",
       "      <td>2020 - 07 - 10</td>\n",
       "    </tr>\n",
       "    <tr>\n",
       "      <th>2</th>\n",
       "      <td>2</td>\n",
       "      <td>Olax</td>\n",
       "      <td>10.000</td>\n",
       "      <td>10.000</td>\n",
       "      <td>10.000</td>\n",
       "      <td>10.000</td>\n",
       "      <td>10.000</td>\n",
       "      <td>10.000</td>\n",
       "      <td>10.000</td>\n",
       "      <td>10.000</td>\n",
       "      <td>...</td>\n",
       "      <td>54.000</td>\n",
       "      <td>38.820</td>\n",
       "      <td>10.000</td>\n",
       "      <td>10.000</td>\n",
       "      <td>10.000</td>\n",
       "      <td>10.000</td>\n",
       "      <td>10.000</td>\n",
       "      <td>10.000</td>\n",
       "      <td>10.000</td>\n",
       "      <td>2020 - 07 - 10</td>\n",
       "    </tr>\n",
       "    <tr>\n",
       "      <th>3</th>\n",
       "      <td>3</td>\n",
       "      <td>Nlax</td>\n",
       "      <td>60.472</td>\n",
       "      <td>60.472</td>\n",
       "      <td>60.472</td>\n",
       "      <td>60.472</td>\n",
       "      <td>60.472</td>\n",
       "      <td>60.472</td>\n",
       "      <td>60.472</td>\n",
       "      <td>60.472</td>\n",
       "      <td>...</td>\n",
       "      <td>71.915</td>\n",
       "      <td>60.472</td>\n",
       "      <td>60.472</td>\n",
       "      <td>60.472</td>\n",
       "      <td>60.472</td>\n",
       "      <td>60.472</td>\n",
       "      <td>60.472</td>\n",
       "      <td>60.472</td>\n",
       "      <td>60.472</td>\n",
       "      <td>2020 - 07 - 10</td>\n",
       "    </tr>\n",
       "  </tbody>\n",
       "</table>\n",
       "<p>4 rows × 51 columns</p>\n",
       "</div>"
      ],
      "text/plain": [
       "   Unnamed: 0   Plant   00:00   00:30   01:00   01:30   02:00   02:30   03:00  \\\n",
       "0           0     WPS   0.000   0.000   0.000   0.000   0.000   0.000   0.000   \n",
       "1           1  Canyon  28.065  11.040  11.040   0.000   0.000   0.000   0.000   \n",
       "2           2    Olax  10.000  10.000  10.000  10.000  10.000  10.000  10.000   \n",
       "3           3    Nlax  60.472  60.472  60.472  60.472  60.472  60.472  60.472   \n",
       "\n",
       "    03:30  ...   19:30   20:00   20:30   21:00   21:30   22:00   22:30  \\\n",
       "0   0.000  ...  47.241  47.241   0.000   0.000   0.000   0.000   0.000   \n",
       "1   0.000  ...  30.000  30.000  30.000  30.000  30.000  30.000  30.000   \n",
       "2  10.000  ...  54.000  38.820  10.000  10.000  10.000  10.000  10.000   \n",
       "3  60.472  ...  71.915  60.472  60.472  60.472  60.472  60.472  60.472   \n",
       "\n",
       "    23:00   23:30            Date  \n",
       "0  10.000  10.000  2020 - 07 - 10  \n",
       "1  30.000  19.700  2020 - 07 - 10  \n",
       "2  10.000  10.000  2020 - 07 - 10  \n",
       "3  60.472  60.472  2020 - 07 - 10  \n",
       "\n",
       "[4 rows x 51 columns]"
      ]
     },
     "execution_count": 3,
     "metadata": {},
     "output_type": "execute_result"
    }
   ],
   "source": [
    "Forcast.head(4)"
   ]
  },
  {
   "cell_type": "code",
   "execution_count": 4,
   "id": "39ef2519",
   "metadata": {},
   "outputs": [],
   "source": [
    "#Renaming the Unnamed Column into Plants and creating and Index\n",
    "Forcast = Forcast.rename(columns={'Unnamed: 0': 'Plants'})"
   ]
  },
  {
   "cell_type": "code",
   "execution_count": 7,
   "id": "45094111",
   "metadata": {},
   "outputs": [],
   "source": [
    "Forcast.drop('Plants',inplace=True,axis=1)"
   ]
  },
  {
   "cell_type": "code",
   "execution_count": 8,
   "id": "357d209b",
   "metadata": {},
   "outputs": [
    {
     "data": {
      "text/html": [
       "<div>\n",
       "<style scoped>\n",
       "    .dataframe tbody tr th:only-of-type {\n",
       "        vertical-align: middle;\n",
       "    }\n",
       "\n",
       "    .dataframe tbody tr th {\n",
       "        vertical-align: top;\n",
       "    }\n",
       "\n",
       "    .dataframe thead th {\n",
       "        text-align: right;\n",
       "    }\n",
       "</style>\n",
       "<table border=\"1\" class=\"dataframe\">\n",
       "  <thead>\n",
       "    <tr style=\"text-align: right;\">\n",
       "      <th></th>\n",
       "      <th>Plant</th>\n",
       "      <th>00:00</th>\n",
       "      <th>00:30</th>\n",
       "      <th>01:00</th>\n",
       "      <th>01:30</th>\n",
       "      <th>02:00</th>\n",
       "      <th>02:30</th>\n",
       "      <th>03:00</th>\n",
       "      <th>03:30</th>\n",
       "      <th>04:00</th>\n",
       "      <th>...</th>\n",
       "      <th>19:30</th>\n",
       "      <th>20:00</th>\n",
       "      <th>20:30</th>\n",
       "      <th>21:00</th>\n",
       "      <th>21:30</th>\n",
       "      <th>22:00</th>\n",
       "      <th>22:30</th>\n",
       "      <th>23:00</th>\n",
       "      <th>23:30</th>\n",
       "      <th>Date</th>\n",
       "    </tr>\n",
       "  </thead>\n",
       "  <tbody>\n",
       "    <tr>\n",
       "      <th>0</th>\n",
       "      <td>WPS</td>\n",
       "      <td>0.000</td>\n",
       "      <td>0.00</td>\n",
       "      <td>0.00</td>\n",
       "      <td>0.0</td>\n",
       "      <td>0.0</td>\n",
       "      <td>0.0</td>\n",
       "      <td>0.0</td>\n",
       "      <td>0.0</td>\n",
       "      <td>0.00</td>\n",
       "      <td>...</td>\n",
       "      <td>47.241</td>\n",
       "      <td>47.241</td>\n",
       "      <td>0.0</td>\n",
       "      <td>0.0</td>\n",
       "      <td>0.0</td>\n",
       "      <td>0.0</td>\n",
       "      <td>0.0</td>\n",
       "      <td>10.0</td>\n",
       "      <td>10.0</td>\n",
       "      <td>2020 - 07 - 10</td>\n",
       "    </tr>\n",
       "    <tr>\n",
       "      <th>1</th>\n",
       "      <td>Canyon</td>\n",
       "      <td>28.065</td>\n",
       "      <td>11.04</td>\n",
       "      <td>11.04</td>\n",
       "      <td>0.0</td>\n",
       "      <td>0.0</td>\n",
       "      <td>0.0</td>\n",
       "      <td>0.0</td>\n",
       "      <td>0.0</td>\n",
       "      <td>11.04</td>\n",
       "      <td>...</td>\n",
       "      <td>30.000</td>\n",
       "      <td>30.000</td>\n",
       "      <td>30.0</td>\n",
       "      <td>30.0</td>\n",
       "      <td>30.0</td>\n",
       "      <td>30.0</td>\n",
       "      <td>30.0</td>\n",
       "      <td>30.0</td>\n",
       "      <td>19.7</td>\n",
       "      <td>2020 - 07 - 10</td>\n",
       "    </tr>\n",
       "  </tbody>\n",
       "</table>\n",
       "<p>2 rows × 50 columns</p>\n",
       "</div>"
      ],
      "text/plain": [
       "    Plant   00:00  00:30  01:00  01:30  02:00  02:30  03:00  03:30  04:00  \\\n",
       "0     WPS   0.000   0.00   0.00    0.0    0.0    0.0    0.0    0.0   0.00   \n",
       "1  Canyon  28.065  11.04  11.04    0.0    0.0    0.0    0.0    0.0  11.04   \n",
       "\n",
       "   ...   19:30   20:00  20:30  21:00  21:30  22:00  22:30  23:00  23:30  \\\n",
       "0  ...  47.241  47.241    0.0    0.0    0.0    0.0    0.0   10.0   10.0   \n",
       "1  ...  30.000  30.000   30.0   30.0   30.0   30.0   30.0   30.0   19.7   \n",
       "\n",
       "             Date  \n",
       "0  2020 - 07 - 10  \n",
       "1  2020 - 07 - 10  \n",
       "\n",
       "[2 rows x 50 columns]"
      ]
     },
     "execution_count": 8,
     "metadata": {},
     "output_type": "execute_result"
    }
   ],
   "source": [
    "#Forcast.head(2)"
   ]
  },
  {
   "cell_type": "code",
   "execution_count": 9,
   "id": "982d3ac7",
   "metadata": {},
   "outputs": [],
   "source": [
    "Forcast.drop('Date',inplace=True,axis=1)"
   ]
  },
  {
   "cell_type": "code",
   "execution_count": 11,
   "id": "c8148f41",
   "metadata": {},
   "outputs": [],
   "source": [
    "Plant_Forcast=Forcast.groupby([\"Plant\"])"
   ]
  },
  {
   "cell_type": "code",
   "execution_count": 12,
   "id": "4a63a7d1",
   "metadata": {},
   "outputs": [],
   "source": [
    "Plant_Sum=Plant_Forcast.sum()"
   ]
  },
  {
   "cell_type": "code",
   "execution_count": 15,
   "id": "d6f9b3c9",
   "metadata": {},
   "outputs": [],
   "source": [
    "Plant_Sum[\"Total_Dispatch\"] = Plant_Sum.sum(axis=1)"
   ]
  },
  {
   "cell_type": "code",
   "execution_count": 16,
   "id": "84d7c0e7",
   "metadata": {},
   "outputs": [
    {
     "data": {
      "text/html": [
       "<div>\n",
       "<style scoped>\n",
       "    .dataframe tbody tr th:only-of-type {\n",
       "        vertical-align: middle;\n",
       "    }\n",
       "\n",
       "    .dataframe tbody tr th {\n",
       "        vertical-align: top;\n",
       "    }\n",
       "\n",
       "    .dataframe thead th {\n",
       "        text-align: right;\n",
       "    }\n",
       "</style>\n",
       "<table border=\"1\" class=\"dataframe\">\n",
       "  <thead>\n",
       "    <tr style=\"text-align: right;\">\n",
       "      <th></th>\n",
       "      <th>00:00</th>\n",
       "      <th>00:30</th>\n",
       "      <th>01:00</th>\n",
       "      <th>01:30</th>\n",
       "      <th>02:00</th>\n",
       "      <th>02:30</th>\n",
       "      <th>03:00</th>\n",
       "      <th>03:30</th>\n",
       "      <th>04:00</th>\n",
       "      <th>04:30</th>\n",
       "      <th>...</th>\n",
       "      <th>19:30</th>\n",
       "      <th>20:00</th>\n",
       "      <th>20:30</th>\n",
       "      <th>21:00</th>\n",
       "      <th>21:30</th>\n",
       "      <th>22:00</th>\n",
       "      <th>22:30</th>\n",
       "      <th>23:00</th>\n",
       "      <th>23:30</th>\n",
       "      <th>Total_Dispatch</th>\n",
       "    </tr>\n",
       "    <tr>\n",
       "      <th>Plant</th>\n",
       "      <th></th>\n",
       "      <th></th>\n",
       "      <th></th>\n",
       "      <th></th>\n",
       "      <th></th>\n",
       "      <th></th>\n",
       "      <th></th>\n",
       "      <th></th>\n",
       "      <th></th>\n",
       "      <th></th>\n",
       "      <th></th>\n",
       "      <th></th>\n",
       "      <th></th>\n",
       "      <th></th>\n",
       "      <th></th>\n",
       "      <th></th>\n",
       "      <th></th>\n",
       "      <th></th>\n",
       "      <th></th>\n",
       "      <th></th>\n",
       "      <th></th>\n",
       "    </tr>\n",
       "  </thead>\n",
       "  <tbody>\n",
       "    <tr>\n",
       "      <th>ACE EMBP</th>\n",
       "      <td>664.59440</td>\n",
       "      <td>491.6603</td>\n",
       "      <td>443.6441</td>\n",
       "      <td>455.0947</td>\n",
       "      <td>434.8058</td>\n",
       "      <td>402.7511</td>\n",
       "      <td>367.7511</td>\n",
       "      <td>349.7511</td>\n",
       "      <td>418.422</td>\n",
       "      <td>497.9831</td>\n",
       "      <td>...</td>\n",
       "      <td>1989.0882</td>\n",
       "      <td>1999.0433</td>\n",
       "      <td>1986.4342</td>\n",
       "      <td>1925.7379</td>\n",
       "      <td>1916.2499</td>\n",
       "      <td>1872.5425</td>\n",
       "      <td>1764.61210</td>\n",
       "      <td>1491.7185</td>\n",
       "      <td>799.6197</td>\n",
       "      <td>146886.27580</td>\n",
       "    </tr>\n",
       "    <tr>\n",
       "      <th>ACE Matara</th>\n",
       "      <td>48.00000</td>\n",
       "      <td>24.0000</td>\n",
       "      <td>16.0000</td>\n",
       "      <td>24.0000</td>\n",
       "      <td>16.0000</td>\n",
       "      <td>16.0000</td>\n",
       "      <td>16.0000</td>\n",
       "      <td>16.0000</td>\n",
       "      <td>16.000</td>\n",
       "      <td>49.3920</td>\n",
       "      <td>...</td>\n",
       "      <td>483.7350</td>\n",
       "      <td>467.7350</td>\n",
       "      <td>467.7350</td>\n",
       "      <td>443.7350</td>\n",
       "      <td>435.7350</td>\n",
       "      <td>394.7160</td>\n",
       "      <td>314.91000</td>\n",
       "      <td>225.8470</td>\n",
       "      <td>184.0000</td>\n",
       "      <td>32128.02800</td>\n",
       "    </tr>\n",
       "    <tr>\n",
       "      <th>ALTAQQA-Mahi.</th>\n",
       "      <td>0.13437</td>\n",
       "      <td>0.0000</td>\n",
       "      <td>0.0000</td>\n",
       "      <td>0.0000</td>\n",
       "      <td>0.0000</td>\n",
       "      <td>0.0000</td>\n",
       "      <td>0.0000</td>\n",
       "      <td>0.0000</td>\n",
       "      <td>0.000</td>\n",
       "      <td>0.0000</td>\n",
       "      <td>...</td>\n",
       "      <td>10.0000</td>\n",
       "      <td>10.0000</td>\n",
       "      <td>10.0000</td>\n",
       "      <td>10.0000</td>\n",
       "      <td>10.0000</td>\n",
       "      <td>0.0000</td>\n",
       "      <td>0.00000</td>\n",
       "      <td>0.0000</td>\n",
       "      <td>0.0000</td>\n",
       "      <td>660.26874</td>\n",
       "    </tr>\n",
       "    <tr>\n",
       "      <th>ALTAQQA-Pol.</th>\n",
       "      <td>8.00000</td>\n",
       "      <td>0.0000</td>\n",
       "      <td>0.0000</td>\n",
       "      <td>0.0000</td>\n",
       "      <td>0.0000</td>\n",
       "      <td>0.0000</td>\n",
       "      <td>0.0000</td>\n",
       "      <td>0.0000</td>\n",
       "      <td>0.000</td>\n",
       "      <td>0.0000</td>\n",
       "      <td>...</td>\n",
       "      <td>8.0000</td>\n",
       "      <td>8.0000</td>\n",
       "      <td>8.0000</td>\n",
       "      <td>8.0000</td>\n",
       "      <td>8.0000</td>\n",
       "      <td>0.0000</td>\n",
       "      <td>0.11088</td>\n",
       "      <td>0.0000</td>\n",
       "      <td>0.0000</td>\n",
       "      <td>544.22176</td>\n",
       "    </tr>\n",
       "    <tr>\n",
       "      <th>Asia Power</th>\n",
       "      <td>42.00000</td>\n",
       "      <td>42.0000</td>\n",
       "      <td>40.0620</td>\n",
       "      <td>42.0000</td>\n",
       "      <td>32.9000</td>\n",
       "      <td>32.9000</td>\n",
       "      <td>32.9000</td>\n",
       "      <td>32.9000</td>\n",
       "      <td>62.400</td>\n",
       "      <td>110.9000</td>\n",
       "      <td>...</td>\n",
       "      <td>742.5000</td>\n",
       "      <td>742.5000</td>\n",
       "      <td>733.1000</td>\n",
       "      <td>728.4000</td>\n",
       "      <td>724.5000</td>\n",
       "      <td>704.2223</td>\n",
       "      <td>628.30000</td>\n",
       "      <td>406.7665</td>\n",
       "      <td>352.2000</td>\n",
       "      <td>53906.06440</td>\n",
       "    </tr>\n",
       "  </tbody>\n",
       "</table>\n",
       "<p>5 rows × 49 columns</p>\n",
       "</div>"
      ],
      "text/plain": [
       "                   00:00     00:30     01:00     01:30     02:00     02:30  \\\n",
       "Plant                                                                        \n",
       "ACE EMBP       664.59440  491.6603  443.6441  455.0947  434.8058  402.7511   \n",
       "ACE Matara      48.00000   24.0000   16.0000   24.0000   16.0000   16.0000   \n",
       "ALTAQQA-Mahi.    0.13437    0.0000    0.0000    0.0000    0.0000    0.0000   \n",
       "ALTAQQA-Pol.     8.00000    0.0000    0.0000    0.0000    0.0000    0.0000   \n",
       "Asia Power      42.00000   42.0000   40.0620   42.0000   32.9000   32.9000   \n",
       "\n",
       "                  03:00     03:30    04:00     04:30  ...      19:30  \\\n",
       "Plant                                                 ...              \n",
       "ACE EMBP       367.7511  349.7511  418.422  497.9831  ...  1989.0882   \n",
       "ACE Matara      16.0000   16.0000   16.000   49.3920  ...   483.7350   \n",
       "ALTAQQA-Mahi.    0.0000    0.0000    0.000    0.0000  ...    10.0000   \n",
       "ALTAQQA-Pol.     0.0000    0.0000    0.000    0.0000  ...     8.0000   \n",
       "Asia Power      32.9000   32.9000   62.400  110.9000  ...   742.5000   \n",
       "\n",
       "                   20:00      20:30      21:00      21:30      22:00  \\\n",
       "Plant                                                                  \n",
       "ACE EMBP       1999.0433  1986.4342  1925.7379  1916.2499  1872.5425   \n",
       "ACE Matara      467.7350   467.7350   443.7350   435.7350   394.7160   \n",
       "ALTAQQA-Mahi.    10.0000    10.0000    10.0000    10.0000     0.0000   \n",
       "ALTAQQA-Pol.      8.0000     8.0000     8.0000     8.0000     0.0000   \n",
       "Asia Power      742.5000   733.1000   728.4000   724.5000   704.2223   \n",
       "\n",
       "                    22:30      23:00     23:30  Total_Dispatch  \n",
       "Plant                                                           \n",
       "ACE EMBP       1764.61210  1491.7185  799.6197    146886.27580  \n",
       "ACE Matara      314.91000   225.8470  184.0000     32128.02800  \n",
       "ALTAQQA-Mahi.     0.00000     0.0000    0.0000       660.26874  \n",
       "ALTAQQA-Pol.      0.11088     0.0000    0.0000       544.22176  \n",
       "Asia Power      628.30000   406.7665  352.2000     53906.06440  \n",
       "\n",
       "[5 rows x 49 columns]"
      ]
     },
     "execution_count": 16,
     "metadata": {},
     "output_type": "execute_result"
    }
   ],
   "source": [
    "Plant_Sum.head(5)"
   ]
  },
  {
   "cell_type": "code",
   "execution_count": 17,
   "id": "4795ad81",
   "metadata": {},
   "outputs": [
    {
     "data": {
      "text/plain": [
       "(37, 49)"
      ]
     },
     "execution_count": 17,
     "metadata": {},
     "output_type": "execute_result"
    }
   ],
   "source": [
    "Plant_Sum.shape"
   ]
  },
  {
   "cell_type": "code",
   "execution_count": 18,
   "id": "fc666926",
   "metadata": {},
   "outputs": [],
   "source": [
    "Plant_Sum.reset_index(level=0,inplace=True)"
   ]
  },
  {
   "cell_type": "code",
   "execution_count": 19,
   "id": "574b7a19",
   "metadata": {},
   "outputs": [
    {
     "data": {
      "text/html": [
       "<div>\n",
       "<style scoped>\n",
       "    .dataframe tbody tr th:only-of-type {\n",
       "        vertical-align: middle;\n",
       "    }\n",
       "\n",
       "    .dataframe tbody tr th {\n",
       "        vertical-align: top;\n",
       "    }\n",
       "\n",
       "    .dataframe thead th {\n",
       "        text-align: right;\n",
       "    }\n",
       "</style>\n",
       "<table border=\"1\" class=\"dataframe\">\n",
       "  <thead>\n",
       "    <tr style=\"text-align: right;\">\n",
       "      <th></th>\n",
       "      <th>Plant</th>\n",
       "      <th>00:00</th>\n",
       "      <th>00:30</th>\n",
       "      <th>01:00</th>\n",
       "      <th>01:30</th>\n",
       "      <th>02:00</th>\n",
       "      <th>02:30</th>\n",
       "      <th>03:00</th>\n",
       "      <th>03:30</th>\n",
       "      <th>04:00</th>\n",
       "      <th>...</th>\n",
       "      <th>19:30</th>\n",
       "      <th>20:00</th>\n",
       "      <th>20:30</th>\n",
       "      <th>21:00</th>\n",
       "      <th>21:30</th>\n",
       "      <th>22:00</th>\n",
       "      <th>22:30</th>\n",
       "      <th>23:00</th>\n",
       "      <th>23:30</th>\n",
       "      <th>Total_Dispatch</th>\n",
       "    </tr>\n",
       "  </thead>\n",
       "  <tbody>\n",
       "    <tr>\n",
       "      <th>0</th>\n",
       "      <td>ACE EMBP</td>\n",
       "      <td>664.59440</td>\n",
       "      <td>491.6603</td>\n",
       "      <td>443.6441</td>\n",
       "      <td>455.0947</td>\n",
       "      <td>434.8058</td>\n",
       "      <td>402.7511</td>\n",
       "      <td>367.7511</td>\n",
       "      <td>349.7511</td>\n",
       "      <td>418.422</td>\n",
       "      <td>...</td>\n",
       "      <td>1989.0882</td>\n",
       "      <td>1999.0433</td>\n",
       "      <td>1986.4342</td>\n",
       "      <td>1925.7379</td>\n",
       "      <td>1916.2499</td>\n",
       "      <td>1872.5425</td>\n",
       "      <td>1764.6121</td>\n",
       "      <td>1491.7185</td>\n",
       "      <td>799.6197</td>\n",
       "      <td>146886.27580</td>\n",
       "    </tr>\n",
       "    <tr>\n",
       "      <th>1</th>\n",
       "      <td>ACE Matara</td>\n",
       "      <td>48.00000</td>\n",
       "      <td>24.0000</td>\n",
       "      <td>16.0000</td>\n",
       "      <td>24.0000</td>\n",
       "      <td>16.0000</td>\n",
       "      <td>16.0000</td>\n",
       "      <td>16.0000</td>\n",
       "      <td>16.0000</td>\n",
       "      <td>16.000</td>\n",
       "      <td>...</td>\n",
       "      <td>483.7350</td>\n",
       "      <td>467.7350</td>\n",
       "      <td>467.7350</td>\n",
       "      <td>443.7350</td>\n",
       "      <td>435.7350</td>\n",
       "      <td>394.7160</td>\n",
       "      <td>314.9100</td>\n",
       "      <td>225.8470</td>\n",
       "      <td>184.0000</td>\n",
       "      <td>32128.02800</td>\n",
       "    </tr>\n",
       "    <tr>\n",
       "      <th>2</th>\n",
       "      <td>ALTAQQA-Mahi.</td>\n",
       "      <td>0.13437</td>\n",
       "      <td>0.0000</td>\n",
       "      <td>0.0000</td>\n",
       "      <td>0.0000</td>\n",
       "      <td>0.0000</td>\n",
       "      <td>0.0000</td>\n",
       "      <td>0.0000</td>\n",
       "      <td>0.0000</td>\n",
       "      <td>0.000</td>\n",
       "      <td>...</td>\n",
       "      <td>10.0000</td>\n",
       "      <td>10.0000</td>\n",
       "      <td>10.0000</td>\n",
       "      <td>10.0000</td>\n",
       "      <td>10.0000</td>\n",
       "      <td>0.0000</td>\n",
       "      <td>0.0000</td>\n",
       "      <td>0.0000</td>\n",
       "      <td>0.0000</td>\n",
       "      <td>660.26874</td>\n",
       "    </tr>\n",
       "  </tbody>\n",
       "</table>\n",
       "<p>3 rows × 50 columns</p>\n",
       "</div>"
      ],
      "text/plain": [
       "           Plant      00:00     00:30     01:00     01:30     02:00     02:30  \\\n",
       "0       ACE EMBP  664.59440  491.6603  443.6441  455.0947  434.8058  402.7511   \n",
       "1     ACE Matara   48.00000   24.0000   16.0000   24.0000   16.0000   16.0000   \n",
       "2  ALTAQQA-Mahi.    0.13437    0.0000    0.0000    0.0000    0.0000    0.0000   \n",
       "\n",
       "      03:00     03:30    04:00  ...      19:30      20:00      20:30  \\\n",
       "0  367.7511  349.7511  418.422  ...  1989.0882  1999.0433  1986.4342   \n",
       "1   16.0000   16.0000   16.000  ...   483.7350   467.7350   467.7350   \n",
       "2    0.0000    0.0000    0.000  ...    10.0000    10.0000    10.0000   \n",
       "\n",
       "       21:00      21:30      22:00      22:30      23:00     23:30  \\\n",
       "0  1925.7379  1916.2499  1872.5425  1764.6121  1491.7185  799.6197   \n",
       "1   443.7350   435.7350   394.7160   314.9100   225.8470  184.0000   \n",
       "2    10.0000    10.0000     0.0000     0.0000     0.0000    0.0000   \n",
       "\n",
       "   Total_Dispatch  \n",
       "0    146886.27580  \n",
       "1     32128.02800  \n",
       "2       660.26874  \n",
       "\n",
       "[3 rows x 50 columns]"
      ]
     },
     "execution_count": 19,
     "metadata": {},
     "output_type": "execute_result"
    }
   ],
   "source": [
    "Plant_Sum.head(3)"
   ]
  },
  {
   "cell_type": "code",
   "execution_count": 20,
   "id": "9b842737",
   "metadata": {},
   "outputs": [
    {
     "data": {
      "text/plain": [
       "(37, 50)"
      ]
     },
     "execution_count": 20,
     "metadata": {},
     "output_type": "execute_result"
    }
   ],
   "source": [
    "Plant_Sum.shape"
   ]
  },
  {
   "cell_type": "markdown",
   "id": "5dda9be3",
   "metadata": {},
   "source": [
    "## Define X & Y"
   ]
  },
  {
   "cell_type": "code",
   "execution_count": 26,
   "id": "944a45c8",
   "metadata": {},
   "outputs": [],
   "source": [
    "x=Plant_Sum.iloc[:,1:48].values\n",
    "y=Plant_Sum.iloc[:,49].values"
   ]
  },
  {
   "cell_type": "code",
   "execution_count": 27,
   "id": "cce019e5",
   "metadata": {},
   "outputs": [
    {
     "data": {
      "text/plain": [
       "array([[6.6459440e+02, 4.9166030e+02, 4.4364410e+02, ..., 1.8725425e+03,\n",
       "        1.7646121e+03, 1.4917185e+03],\n",
       "       [4.8000000e+01, 2.4000000e+01, 1.6000000e+01, ..., 3.9471600e+02,\n",
       "        3.1491000e+02, 2.2584700e+02],\n",
       "       [1.3437000e-01, 0.0000000e+00, 0.0000000e+00, ..., 0.0000000e+00,\n",
       "        0.0000000e+00, 0.0000000e+00],\n",
       "       ...,\n",
       "       [3.0853320e+02, 2.8086620e+02, 2.7569000e+02, ..., 1.8271900e+02,\n",
       "        1.0995000e+02, 1.0995000e+02],\n",
       "       [4.2781550e+03, 4.3927960e+03, 4.3489890e+03, ..., 5.6700000e+03,\n",
       "        5.6700000e+03, 5.4000000e+03],\n",
       "       [1.3365800e+02, 8.2960000e+01, 1.0000000e+01, ..., 1.7573600e+02,\n",
       "        7.4297000e+01, 8.0000000e+01]])"
      ]
     },
     "execution_count": 27,
     "metadata": {},
     "output_type": "execute_result"
    }
   ],
   "source": [
    "x"
   ]
  },
  {
   "cell_type": "code",
   "execution_count": 28,
   "id": "08e3d5c8",
   "metadata": {},
   "outputs": [
    {
     "data": {
      "text/plain": [
       "array([1.46886276e+05, 3.21280280e+04, 6.60268740e+02, 5.44221760e+02,\n",
       "       5.39060644e+04, 1.43792138e+05, 2.30399880e+04, 2.37244200e+03,\n",
       "       4.03624600e+04, 0.00000000e+00, 0.00000000e+00, 0.00000000e+00,\n",
       "       8.86438928e+04, 1.00577504e+05, 6.96639540e+05, 6.97220000e+05,\n",
       "       6.92596000e+05, 0.00000000e+00, 1.24386176e+05, 6.45999900e+04,\n",
       "       1.07784313e+05, 6.44655100e+04, 3.25500000e+04, 3.48798700e+04,\n",
       "       1.17472798e+05, 1.59459932e+05, 1.17870000e+05, 7.31822780e+04,\n",
       "       8.18252600e+04, 3.48323786e+04, 2.83661600e+03, 3.10236010e+03,\n",
       "       1.07727905e+04, 7.46310516e+03, 4.07255986e+04, 5.25150074e+05,\n",
       "       2.60453700e+04])"
      ]
     },
     "execution_count": 28,
     "metadata": {},
     "output_type": "execute_result"
    }
   ],
   "source": [
    "y"
   ]
  },
  {
   "cell_type": "markdown",
   "id": "e7baea3a",
   "metadata": {},
   "source": [
    "## Split the dataset in training Set & test Set"
   ]
  },
  {
   "cell_type": "code",
   "execution_count": 29,
   "id": "b403e019",
   "metadata": {},
   "outputs": [],
   "source": [
    "from sklearn.model_selection import train_test_split\n",
    "x_train, x_test, y_train, y_test = train_test_split(x, y, test_size=0.3, random_state=0)"
   ]
  },
  {
   "cell_type": "code",
   "execution_count": 30,
   "id": "20ef8bc4",
   "metadata": {},
   "outputs": [
    {
     "data": {
      "text/plain": [
       "LinearRegression()"
      ]
     },
     "execution_count": 30,
     "metadata": {},
     "output_type": "execute_result"
    }
   ],
   "source": [
    "from sklearn.linear_model import LinearRegression\n",
    "ml=LinearRegression()\n",
    "ml.fit(x_train,y_train)"
   ]
  },
  {
   "cell_type": "code",
   "execution_count": 31,
   "id": "3f4119cb",
   "metadata": {},
   "outputs": [
    {
     "data": {
      "text/plain": [
       "LinearRegression()"
      ]
     },
     "execution_count": 31,
     "metadata": {},
     "output_type": "execute_result"
    }
   ],
   "source": [
    "reg= linear_model.LinearRegression()\n",
    "reg.fit(Plant_Sum.iloc[:,1:48],Plant_Sum['Total_Dispatch'])"
   ]
  },
  {
   "cell_type": "code",
   "execution_count": 32,
   "id": "b0e4d5c3",
   "metadata": {},
   "outputs": [
    {
     "data": {
      "text/plain": [
       "array([ 1.95341237,  4.51513947, -0.22532265,  4.24867264,  0.89732042,\n",
       "        2.05370263,  1.46362105,  2.90159469,  0.44418706,  3.58457014,\n",
       "        0.97637544,  0.94276352,  2.70368241,  1.3997183 ,  1.57194467,\n",
       "        2.51212711,  2.22890608,  2.45498878,  1.35231488,  2.18706903,\n",
       "        1.42461422,  2.10708904,  0.47920357,  3.37405983,  0.70872976,\n",
       "        3.31305058,  3.74627882,  3.08315074,  0.13415739,  2.71710522,\n",
       "       -1.61639587,  1.72494305,  3.01537344,  4.02373498,  3.26413886,\n",
       "        0.93213031,  2.20420704,  1.58543116,  3.53436082,  1.70680144,\n",
       "        0.63470122,  2.18735908,  0.22492308,  4.13796344, -0.04526312,\n",
       "        5.31613508,  1.92510161])"
      ]
     },
     "execution_count": 32,
     "metadata": {},
     "output_type": "execute_result"
    }
   ],
   "source": [
    "reg.coef_"
   ]
  },
  {
   "cell_type": "code",
   "execution_count": 33,
   "id": "01bab738",
   "metadata": {},
   "outputs": [
    {
     "data": {
      "text/plain": [
       "-4.3655745685100555e-11"
      ]
     },
     "execution_count": 33,
     "metadata": {},
     "output_type": "execute_result"
    }
   ],
   "source": [
    "reg.intercept_"
   ]
  },
  {
   "cell_type": "markdown",
   "id": "2767a49a",
   "metadata": {},
   "source": [
    "## Evaluate Model"
   ]
  },
  {
   "cell_type": "code",
   "execution_count": 35,
   "id": "820ed9fa",
   "metadata": {},
   "outputs": [
    {
     "name": "stdout",
     "output_type": "stream",
     "text": [
      "[ 3.20537872e+04  1.07711283e+05  6.92569119e+05 -5.82076609e-11\n",
      "  3.10851249e+03  8.07145374e+04  6.97191018e+05 -5.82076609e-11\n",
      "  6.59475187e+02  1.59279582e+05  2.89371833e+03  1.07751957e+04]\n"
     ]
    }
   ],
   "source": [
    "y_pred=ml.predict(x_test)\n",
    "print(y_pred)"
   ]
  },
  {
   "cell_type": "code",
   "execution_count": 36,
   "id": "11816eac",
   "metadata": {
    "scrolled": true
   },
   "outputs": [
    {
     "data": {
      "text/plain": [
       "0.9999979536526534"
      ]
     },
     "execution_count": 36,
     "metadata": {},
     "output_type": "execute_result"
    }
   ],
   "source": [
    "from sklearn.metrics import r2_score\n",
    "r2_score (y_test,y_pred)         #High Accurcay Rate can Be Gain From the Model"
   ]
  },
  {
   "cell_type": "markdown",
   "id": "ebb7c024",
   "metadata": {},
   "source": [
    "## Plotting Predicting Model with Actual Model"
   ]
  },
  {
   "cell_type": "code",
   "execution_count": 40,
   "id": "c7523e13",
   "metadata": {},
   "outputs": [
    {
     "data": {
      "text/plain": [
       "Text(0.5, 1.0, 'Actual Vs. Predicted')"
      ]
     },
     "execution_count": 40,
     "metadata": {},
     "output_type": "execute_result"
    },
    {
     "data": {
      "image/png": "[encoded data removed]",
      "text/plain": [
       "<Figure size 576x360 with 1 Axes>"
      ]
     },
     "metadata": {
      "needs_background": "light"
     },
     "output_type": "display_data"
    }
   ],
   "source": [
    "import matplotlib.pyplot as plt\n",
    "plt.figure(figsize=(8,5))\n",
    "plt.scatter(y_test,y_pred)\n",
    "myline = np.linspace(0, 10, 100)\n",
    "#plt.plot(myline, my_model(myline), color =\"r\")\n",
    "plt.xlabel('Actual')\n",
    "plt.ylabel('Predicted')\n",
    "plt.title('Actual Vs. Predicted')  #With The Accuracy is Very High Prediction and Actual Values are Almost Similar"
   ]
  },
  {
   "cell_type": "markdown",
   "id": "2b6b8a5a",
   "metadata": {},
   "source": [
    "## Model Value Differances"
   ]
  },
  {
   "cell_type": "code",
   "execution_count": 41,
   "id": "18f1fa73",
   "metadata": {
    "scrolled": true
   },
   "outputs": [
    {
     "data": {
      "text/html": [
       "<div>\n",
       "<style scoped>\n",
       "    .dataframe tbody tr th:only-of-type {\n",
       "        vertical-align: middle;\n",
       "    }\n",
       "\n",
       "    .dataframe tbody tr th {\n",
       "        vertical-align: top;\n",
       "    }\n",
       "\n",
       "    .dataframe thead th {\n",
       "        text-align: right;\n",
       "    }\n",
       "</style>\n",
       "<table border=\"1\" class=\"dataframe\">\n",
       "  <thead>\n",
       "    <tr style=\"text-align: right;\">\n",
       "      <th></th>\n",
       "      <th>Actual Value</th>\n",
       "      <th>Predicted value</th>\n",
       "      <th>Differance</th>\n",
       "    </tr>\n",
       "  </thead>\n",
       "  <tbody>\n",
       "    <tr>\n",
       "      <th>0</th>\n",
       "      <td>32550.00000</td>\n",
       "      <td>3.205379e+04</td>\n",
       "      <td>4.962128e+02</td>\n",
       "    </tr>\n",
       "    <tr>\n",
       "      <th>1</th>\n",
       "      <td>107784.31300</td>\n",
       "      <td>1.077113e+05</td>\n",
       "      <td>7.303025e+01</td>\n",
       "    </tr>\n",
       "    <tr>\n",
       "      <th>2</th>\n",
       "      <td>692596.00000</td>\n",
       "      <td>6.925691e+05</td>\n",
       "      <td>2.688077e+01</td>\n",
       "    </tr>\n",
       "    <tr>\n",
       "      <th>3</th>\n",
       "      <td>0.00000</td>\n",
       "      <td>-5.820766e-11</td>\n",
       "      <td>5.820766e-11</td>\n",
       "    </tr>\n",
       "    <tr>\n",
       "      <th>4</th>\n",
       "      <td>3102.36010</td>\n",
       "      <td>3.108512e+03</td>\n",
       "      <td>-6.152386e+00</td>\n",
       "    </tr>\n",
       "    <tr>\n",
       "      <th>5</th>\n",
       "      <td>81825.26000</td>\n",
       "      <td>8.071454e+04</td>\n",
       "      <td>1.110723e+03</td>\n",
       "    </tr>\n",
       "    <tr>\n",
       "      <th>6</th>\n",
       "      <td>697220.00000</td>\n",
       "      <td>6.971910e+05</td>\n",
       "      <td>2.898176e+01</td>\n",
       "    </tr>\n",
       "    <tr>\n",
       "      <th>7</th>\n",
       "      <td>0.00000</td>\n",
       "      <td>-5.820766e-11</td>\n",
       "      <td>5.820766e-11</td>\n",
       "    </tr>\n",
       "    <tr>\n",
       "      <th>8</th>\n",
       "      <td>660.26874</td>\n",
       "      <td>6.594752e+02</td>\n",
       "      <td>7.935526e-01</td>\n",
       "    </tr>\n",
       "    <tr>\n",
       "      <th>9</th>\n",
       "      <td>159459.93240</td>\n",
       "      <td>1.592796e+05</td>\n",
       "      <td>1.803500e+02</td>\n",
       "    </tr>\n",
       "    <tr>\n",
       "      <th>10</th>\n",
       "      <td>2836.61600</td>\n",
       "      <td>2.893718e+03</td>\n",
       "      <td>-5.710233e+01</td>\n",
       "    </tr>\n",
       "    <tr>\n",
       "      <th>11</th>\n",
       "      <td>10772.79054</td>\n",
       "      <td>1.077520e+04</td>\n",
       "      <td>-2.405203e+00</td>\n",
       "    </tr>\n",
       "  </tbody>\n",
       "</table>\n",
       "</div>"
      ],
      "text/plain": [
       "    Actual Value  Predicted value    Differance\n",
       "0    32550.00000     3.205379e+04  4.962128e+02\n",
       "1   107784.31300     1.077113e+05  7.303025e+01\n",
       "2   692596.00000     6.925691e+05  2.688077e+01\n",
       "3        0.00000    -5.820766e-11  5.820766e-11\n",
       "4     3102.36010     3.108512e+03 -6.152386e+00\n",
       "5    81825.26000     8.071454e+04  1.110723e+03\n",
       "6   697220.00000     6.971910e+05  2.898176e+01\n",
       "7        0.00000    -5.820766e-11  5.820766e-11\n",
       "8      660.26874     6.594752e+02  7.935526e-01\n",
       "9   159459.93240     1.592796e+05  1.803500e+02\n",
       "10    2836.61600     2.893718e+03 -5.710233e+01\n",
       "11   10772.79054     1.077520e+04 -2.405203e+00"
      ]
     },
     "execution_count": 41,
     "metadata": {},
     "output_type": "execute_result"
    }
   ],
   "source": [
    "pred_y_df=pd.DataFrame({'Actual Value':y_test,'Predicted value':y_pred,'Differance':y_test-y_pred})\n",
    "pred_y_df[0:20]"
   ]
  },
  {
   "cell_type": "markdown",
   "id": "1f7931ce",
   "metadata": {},
   "source": [
    "## Data Normalization in Plant_Sum"
   ]
  },
  {
   "cell_type": "code",
   "execution_count": 43,
   "id": "67e8e82a",
   "metadata": {},
   "outputs": [],
   "source": [
    "Plant_Sum = normalize(Plant_Sum.iloc[:,1:49] , axis=0) #Without using normalization first dataset importing mechanism can be used"
   ]
  },
  {
   "cell_type": "code",
   "execution_count": 47,
   "id": "6c9f4f82",
   "metadata": {},
   "outputs": [
    {
     "data": {
      "text/plain": [
       "array([[4.90968904e-02, 3.62846720e-02, 3.28620697e-02, ...,\n",
       "        1.22595342e-01, 1.05058775e-01, 5.69555867e-02],\n",
       "       [3.54599849e-03, 1.77120693e-03, 1.18516873e-03, ...,\n",
       "        2.18781789e-02, 1.59059563e-02, 1.31060152e-02],\n",
       "       [9.92657952e-06, 0.00000000e+00, 0.00000000e+00, ...,\n",
       "        0.00000000e+00, 0.00000000e+00, 0.00000000e+00],\n",
       "       ...,\n",
       "       [2.27928804e-02, 2.07280066e-02, 2.04211980e-02, ...,\n",
       "        7.63870875e-03, 7.74356043e-03, 7.83155638e-03],\n",
       "       [3.16048566e-01, 3.24189612e-01, 3.22142861e-01, ...,\n",
       "        3.93919769e-01, 3.80311290e-01, 3.72737922e-01],\n",
       "       [9.87398054e-03, 6.12247194e-03, 7.40730456e-04, ...,\n",
       "        5.16173846e-03, 5.63424134e-03, 2.84913374e-03]])"
      ]
     },
     "execution_count": 47,
     "metadata": {},
     "output_type": "execute_result"
    }
   ],
   "source": [
    "Plant_Sum"
   ]
  },
  {
   "cell_type": "code",
   "execution_count": 50,
   "id": "9a7274d1",
   "metadata": {},
   "outputs": [
    {
     "name": "stdout",
     "output_type": "stream",
     "text": [
      "[[3.54599849e-03 1.77120693e-03 1.18516873e-03 1.78255753e-03\n",
      "  1.19111467e-03 1.19434565e-03 1.19293263e-03 1.19163354e-03\n",
      "  1.18041800e-03 3.57079806e-03 5.68084424e-03 2.34971631e-02\n",
      "  2.76950084e-02 2.94150238e-02 2.73161014e-02 2.98801636e-02\n",
      "  3.03769989e-02 3.04999714e-02 3.05094914e-02 3.04325658e-02\n",
      "  3.04203222e-02 3.02994814e-02 3.01441029e-02 3.00852042e-02\n",
      "  3.01618750e-02 2.97668789e-02 3.04800946e-02 3.05012717e-02\n",
      "  3.04414533e-02 3.03297885e-02 3.03414581e-02 3.02666662e-02\n",
      "  3.02185715e-02 3.02356261e-02 3.02827483e-02 3.02403799e-02\n",
      "  2.97521541e-02 2.98137412e-02 3.11649169e-02 3.10227730e-02\n",
      "  3.04612171e-02 3.09093448e-02 2.97032803e-02 2.95786224e-02\n",
      "  2.72147585e-02 2.18781789e-02 1.59059563e-02]\n",
      " [9.92657952e-06 0.00000000e+00 0.00000000e+00 0.00000000e+00\n",
      "  0.00000000e+00 0.00000000e+00 0.00000000e+00 0.00000000e+00\n",
      "  0.00000000e+00 0.00000000e+00 0.00000000e+00 6.99320331e-04\n",
      "  6.93404916e-04 6.94007540e-04 6.94336521e-04 6.90055533e-04\n",
      "  6.88558530e-04 6.83200234e-04 6.81015432e-04 6.79298344e-04\n",
      "  6.79025049e-04 6.76327710e-04 6.72859440e-04 6.71544737e-04\n",
      "  6.73256138e-04 6.76519976e-04 6.80359254e-04 6.80831958e-04\n",
      "  6.79496725e-04 6.77004207e-04 6.77264689e-04 6.75595227e-04\n",
      "  6.74521685e-04 6.74902367e-04 6.75954203e-04 6.75008480e-04\n",
      "  6.70493742e-04 6.48498401e-04 6.33774633e-04 6.41317519e-04\n",
      "  6.51249471e-04 6.60830275e-04 6.69392324e-04 6.78821357e-04\n",
      "  0.00000000e+00 0.00000000e+00 0.00000000e+00]\n",
      " [5.90999748e-04 0.00000000e+00 0.00000000e+00 0.00000000e+00\n",
      "  0.00000000e+00 0.00000000e+00 0.00000000e+00 0.00000000e+00\n",
      "  0.00000000e+00 0.00000000e+00 0.00000000e+00 5.59456265e-04\n",
      "  5.54723933e-04 5.55206032e-04 5.55469217e-04 5.52044426e-04\n",
      "  5.50846824e-04 5.46560187e-04 5.44812346e-04 5.43438675e-04\n",
      "  5.43220040e-04 5.41062168e-04 5.38287552e-04 5.37235790e-04\n",
      "  5.38604910e-04 5.41215981e-04 5.44287403e-04 5.44665566e-04\n",
      "  5.43597380e-04 5.41603365e-04 5.41811752e-04 5.40476182e-04\n",
      "  5.39617348e-04 5.39921894e-04 5.40763363e-04 5.40006784e-04\n",
      "  5.36394994e-04 5.18798721e-04 5.07019706e-04 5.13054015e-04\n",
      "  5.20999577e-04 5.28664220e-04 5.35513859e-04 5.43057085e-04\n",
      "  0.00000000e+00 7.70331993e-06 0.00000000e+00]\n",
      " [3.10274868e-03 3.09961212e-03 2.96751435e-03 3.11947569e-03\n",
      "  2.44922953e-03 2.45587324e-03 2.45296773e-03 2.45029646e-03\n",
      "  4.60363022e-03 8.01752317e-03 1.22848257e-02 4.37354935e-02\n",
      "  4.81777736e-02 5.07591840e-02 4.93358802e-02 5.09516511e-02\n",
      "  5.07674204e-02 5.08164334e-02 5.06539279e-02 5.05262108e-02\n",
      "  5.00175216e-02 5.02584464e-02 5.00881883e-02 4.99903208e-02\n",
      "  4.97676256e-02 5.00088911e-02 5.02042468e-02 5.01506199e-02\n",
      "  5.05822730e-02 5.04435834e-02 5.00769850e-02 4.97238087e-02\n",
      "  5.00832351e-02 4.98482888e-02 5.01895996e-02 4.97683752e-02\n",
      "  4.94355036e-02 4.80667015e-02 4.76345014e-02 4.76178258e-02\n",
      "  4.83552732e-02 4.84454674e-02 4.87585369e-02 4.91806073e-02\n",
      "  4.85545045e-02 4.36507568e-02 2.86477579e-02]\n",
      " [1.09775160e-01 9.93726568e-02 9.34481841e-02 8.82173612e-02\n",
      "  8.87595571e-02 8.53806353e-02 7.95769944e-02 7.88907204e-02\n",
      "  8.24251218e-02 9.87640436e-02 1.10676075e-01 1.10422680e-01\n",
      "  1.09488636e-01 1.09583791e-01 1.09635737e-01 1.08959769e-01\n",
      "  1.07690554e-01 1.06852517e-01 1.06510814e-01 1.06242261e-01\n",
      "  1.06199518e-01 1.05777654e-01 1.05235216e-01 1.05029597e-01\n",
      "  1.05297260e-01 1.05807724e-01 1.06408187e-01 1.06482118e-01\n",
      "  1.06273288e-01 1.05883458e-01 1.05924197e-01 1.05663093e-01\n",
      "  1.05495192e-01 1.05554730e-01 1.05719237e-01 1.05571326e-01\n",
      "  1.05870962e-01 1.04083993e-01 1.01720829e-01 1.02931462e-01\n",
      "  1.04525540e-01 1.06063259e-01 1.07437468e-01 1.07917526e-01\n",
      "  1.07523931e-01 1.07685924e-01 1.09832492e-01]\n",
      " [5.32431673e-03 4.28226174e-03 3.25839920e-03 2.67301930e-03\n",
      "  0.00000000e+00 0.00000000e+00 0.00000000e+00 0.00000000e+00\n",
      "  2.65859645e-03 2.60522511e-03 2.55893629e-03 4.03256076e-03\n",
      "  1.49955747e-02 1.23877570e-02 9.77209220e-03 6.46609637e-03\n",
      "  5.06028549e-03 1.01546100e-02 1.37045503e-02 1.52079955e-02\n",
      "  1.48671856e-02 1.77316217e-02 2.33776265e-02 2.75147996e-02\n",
      "  2.77142523e-02 1.15954847e-02 7.87597479e-03 6.68393158e-03\n",
      "  1.57051399e-02 2.78738203e-02 2.49183965e-02 3.55746152e-02\n",
      "  3.63269724e-02 3.42059417e-02 1.94499062e-02 1.13402100e-02\n",
      "  1.09456092e-02 4.61808681e-02 5.62812789e-02 5.55429070e-02\n",
      "  4.77522813e-02 3.45774815e-02 2.05707608e-02 1.44747114e-02\n",
      "  1.37460331e-02 8.72862292e-03 4.39935649e-03]\n",
      " [0.00000000e+00 0.00000000e+00 0.00000000e+00 0.00000000e+00\n",
      "  0.00000000e+00 0.00000000e+00 0.00000000e+00 0.00000000e+00\n",
      "  0.00000000e+00 0.00000000e+00 0.00000000e+00 2.61580770e-03\n",
      "  2.59368109e-03 2.59593520e-03 9.04026151e-04 2.76022213e-03\n",
      "  2.75423412e-03 2.73280094e-03 2.72406173e-03 2.71719338e-03\n",
      "  2.71610020e-03 2.70531084e-03 2.69143776e-03 2.68617895e-03\n",
      "  2.69302455e-03 2.70607990e-03 2.72143701e-03 2.72332783e-03\n",
      "  2.71798690e-03 2.70801683e-03 2.70905876e-03 2.70238091e-03\n",
      "  2.69808674e-03 2.69960947e-03 2.70381681e-03 2.70003392e-03\n",
      "  2.46949550e-03 2.38848446e-03 2.33425535e-03 2.36203655e-03\n",
      "  2.39861693e-03 2.43390398e-03 0.00000000e+00 0.00000000e+00\n",
      "  0.00000000e+00 0.00000000e+00 0.00000000e+00]\n",
      " [1.41447663e-02 9.48584629e-03 8.05944366e-03 3.54067918e-03\n",
      "  3.18243505e-03 3.19106763e-03 3.05987220e-03 3.05654002e-03\n",
      "  4.06949107e-03 6.15664809e-03 1.00884693e-02 1.89887848e-02\n",
      "  2.82071573e-02 2.74872096e-02 2.15966432e-02 2.86483455e-02\n",
      "  3.27599623e-02 3.44612347e-02 3.59800202e-02 3.79055269e-02\n",
      "  3.42863513e-02 3.79310280e-02 4.21825003e-02 4.26692139e-02\n",
      "  4.23700959e-02 4.17583985e-02 3.97059021e-02 3.70696661e-02\n",
      "  4.18960014e-02 4.13185145e-02 4.21824153e-02 4.65529025e-02\n",
      "  4.53698800e-02 4.39326346e-02 4.19739170e-02 3.87589194e-02\n",
      "  3.03356177e-02 4.15592794e-02 4.63308270e-02 4.22196638e-02\n",
      "  3.89660142e-02 3.66912133e-02 3.26167434e-02 2.87362730e-02\n",
      "  2.31489129e-02 1.72685534e-02 1.69883645e-02]\n",
      " [0.00000000e+00 0.00000000e+00 0.00000000e+00 0.00000000e+00\n",
      "  0.00000000e+00 0.00000000e+00 0.00000000e+00 0.00000000e+00\n",
      "  0.00000000e+00 0.00000000e+00 0.00000000e+00 0.00000000e+00\n",
      "  0.00000000e+00 0.00000000e+00 0.00000000e+00 0.00000000e+00\n",
      "  0.00000000e+00 0.00000000e+00 0.00000000e+00 0.00000000e+00\n",
      "  0.00000000e+00 0.00000000e+00 0.00000000e+00 0.00000000e+00\n",
      "  0.00000000e+00 0.00000000e+00 0.00000000e+00 0.00000000e+00\n",
      "  0.00000000e+00 0.00000000e+00 0.00000000e+00 0.00000000e+00\n",
      "  0.00000000e+00 0.00000000e+00 0.00000000e+00 0.00000000e+00\n",
      "  0.00000000e+00 0.00000000e+00 0.00000000e+00 0.00000000e+00\n",
      "  0.00000000e+00 0.00000000e+00 0.00000000e+00 0.00000000e+00\n",
      "  0.00000000e+00 0.00000000e+00 0.00000000e+00]\n",
      " [0.00000000e+00 0.00000000e+00 0.00000000e+00 0.00000000e+00\n",
      "  0.00000000e+00 0.00000000e+00 0.00000000e+00 0.00000000e+00\n",
      "  0.00000000e+00 0.00000000e+00 0.00000000e+00 0.00000000e+00\n",
      "  0.00000000e+00 0.00000000e+00 0.00000000e+00 0.00000000e+00\n",
      "  0.00000000e+00 0.00000000e+00 0.00000000e+00 0.00000000e+00\n",
      "  0.00000000e+00 0.00000000e+00 0.00000000e+00 0.00000000e+00\n",
      "  0.00000000e+00 0.00000000e+00 0.00000000e+00 0.00000000e+00\n",
      "  0.00000000e+00 0.00000000e+00 0.00000000e+00 0.00000000e+00\n",
      "  0.00000000e+00 0.00000000e+00 0.00000000e+00 0.00000000e+00\n",
      "  0.00000000e+00 0.00000000e+00 0.00000000e+00 0.00000000e+00\n",
      "  0.00000000e+00 0.00000000e+00 0.00000000e+00 0.00000000e+00\n",
      "  0.00000000e+00 0.00000000e+00 0.00000000e+00]]\n",
      "[0.01310602 0.         0.         0.02508662 0.104485   0.\n",
      " 0.         0.01817078 0.         0.        ]\n"
     ]
    }
   ],
   "source": [
    "from numpy import genfromtxt\n",
    "x1=Plant_Sum[1:,0:47]\n",
    "y1=Plant_Sum[1:,47]\n",
    "print(x1[0:10])\n",
    "print(y1[0:10])"
   ]
  },
  {
   "cell_type": "markdown",
   "id": "a7a83529",
   "metadata": {},
   "source": [
    "### Analyzing Training Curve in Plant_Sum"
   ]
  },
  {
   "cell_type": "code",
   "execution_count": 51,
   "id": "d87f738b",
   "metadata": {},
   "outputs": [],
   "source": [
    "def gradient(x1,y1,alpha,epoch):\n",
    "  m=x1.shape[0]  #number of samples\n",
    "  ones = np.ones((m,1))\n",
    "  x1=np.concatenate((ones,x1),axis=1)\n",
    "  n=x1.shape[1]\n",
    "  Theta = np.ones(n) #n = 5th parameter\n",
    "  h = np.dot(x1, Theta) #Compute Hypothesis\n",
    "\n",
    "  #Gradient descent Algorithm\n",
    "  cost = np.ones(epoch)\n",
    "  for i in range (0,epoch):\n",
    "      Theta[0] = Theta[0] - (alpha/ x1.shape[0]) * sum(h-y1)\n",
    "      for j in range(1,n):\n",
    "        Theta[j] = Theta[j] - (alpha/ x1.shape[0]) * sum((h-y1) * x1[:, j])\n",
    "      h = np.dot(x1,Theta)\n",
    "      cost[i] = 1/(2*m) * sum(np.square(h-y1)) #compute Cost\n",
    "  return cost, Theta "
   ]
  },
  {
   "cell_type": "code",
   "execution_count": 52,
   "id": "0c8e12ca",
   "metadata": {},
   "outputs": [
    {
     "name": "stdout",
     "output_type": "stream",
     "text": [
      "[-4.27037795e-02 -2.78030322e-03 -7.01235062e-03 -9.14424421e-03\n",
      " -1.07766942e-02 -1.07528665e-02 -1.10711805e-02 -1.24159744e-02\n",
      " -1.28940119e-02 -1.23870492e-02 -1.00236121e-02 -4.88920098e-06\n",
      "  1.06622033e-02  1.83829834e-02  1.66703424e-02  1.19365529e-02\n",
      "  1.46054517e-02  2.09330776e-02  2.67902574e-02  2.96023916e-02\n",
      "  3.11021513e-02  3.10149870e-02  3.56007260e-02  4.07416058e-02\n",
      "  4.26516840e-02  4.04776422e-02  3.45633220e-02  2.86759426e-02\n",
      "  2.75963285e-02  3.02790451e-02  3.41207374e-02  3.30892621e-02\n",
      "  3.60989580e-02  3.78669990e-02  3.68915210e-02  3.25895204e-02\n",
      "  3.03460690e-02  4.14642363e-02  7.86035263e-02  1.02159757e-01\n",
      "  9.08501502e-02  7.07413664e-02  5.58070163e-02  4.01070879e-02\n",
      "  2.71471409e-02  1.51860597e-02  8.29495855e-03  1.49291187e-03]\n"
     ]
    }
   ],
   "source": [
    "#Calcualting Theta & Cost\n",
    "cost, Theta = gradient(x1, y1, 0.005, 2000)\n",
    "print(Theta)"
   ]
  },
  {
   "cell_type": "markdown",
   "id": "472f18af",
   "metadata": {},
   "source": [
    "## Training Data Cost in Each Plants in the Forcast Table"
   ]
  },
  {
   "cell_type": "code",
   "execution_count": 53,
   "id": "efec43ac",
   "metadata": {},
   "outputs": [
    {
     "name": "stdout",
     "output_type": "stream",
     "text": [
      "Lowest Cost =0.0005811410646404037\n"
     ]
    },
    {
     "data": {
      "image/png": "[encoded data removed]",
      "text/plain": [
       "<Figure size 432x288 with 1 Axes>"
      ]
     },
     "metadata": {
      "needs_background": "light"
     },
     "output_type": "display_data"
    }
   ],
   "source": [
    "plt.plot(cost)\n",
    "plt.xlabel('Number of Iterations (epoch)')\n",
    "plt.ylabel(\"Cost or Lost\")\n",
    "plt.show\n",
    "print(\"Lowest Cost =\"+ str(np.min(cost)))\n",
    "#Computation Cost Of Data Training\n",
    "#print(\"Cost after 10 iterations =\" + str(cost[-1]))"
   ]
  },
  {
   "cell_type": "code",
   "execution_count": null,
   "id": "1f323f2b",
   "metadata": {},
   "outputs": [],
   "source": []
  }
 ],
 "metadata": {
  "kernelspec": {
   "display_name": "Python 3 (ipykernel)",
   "language": "python",
   "name": "python3"
  },
  "language_info": {
   "codemirror_mode": {
    "name": "ipython",
    "version": 3
   },
   "file_extension": ".py",
   "mimetype": "text/x-python",
   "name": "python",
   "nbconvert_exporter": "python",
   "pygments_lexer": "ipython3",
   "version": "3.8.8"
  }
 },
 "nbformat": 4,
 "nbformat_minor": 5
}

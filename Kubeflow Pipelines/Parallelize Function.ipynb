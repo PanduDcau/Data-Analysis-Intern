{
 "cells": [
  {
   "cell_type": "markdown",
   "id": "b8e4221a",
   "metadata": {},
   "source": [
    "## Parallelizing using Pool.apply()"
   ]
  },
  {
   "cell_type": "markdown",
   "id": "2dbfc8ce",
   "metadata": {},
   "source": [
    "Let’s parallelize the **howmany_within_range() function using multiprocessing.Pool()**."
   ]
  },
  {
   "cell_type": "code",
   "execution_count": 19,
   "id": "aa9208a4",
   "metadata": {
    "scrolled": false
   },
   "outputs": [
    {
     "data": {
      "text/plain": [
       "[[2, 6, 7, 2, 9],\n",
       " [6, 9, 3, 6, 8],\n",
       " [0, 6, 1, 8, 9],\n",
       " [1, 5, 9, 4, 5],\n",
       " [6, 7, 8, 8, 1]]"
      ]
     },
     "execution_count": 19,
     "metadata": {},
     "output_type": "execute_result"
    }
   ],
   "source": [
    "import numpy as np\n",
    "from time import time\n",
    "\n",
    "# Prepare data\n",
    "np.random.RandomState(100)\n",
    "arr = np.random.randint(0, 10, size=[200000, 5])\n",
    "data = arr.tolist()\n",
    "data[:5]"
   ]
  },
  {
   "cell_type": "code",
   "execution_count": 20,
   "id": "b3b4d0c8",
   "metadata": {},
   "outputs": [
    {
     "name": "stdout",
     "output_type": "stream",
     "text": [
      "[2, 3, 2, 3, 4, 2, 2, 3, 1, 4]\n"
     ]
    }
   ],
   "source": [
    "# Solution Without Paralleization\n",
    "\n",
    "def howmany_within_range(row, minimum, maximum):\n",
    "    \"\"\"Returns how many numbers lie within `maximum` and `minimum` in a given `row`\"\"\"\n",
    "    count = 0\n",
    "    for n in row:\n",
    "        if minimum <= n <= maximum:\n",
    "            count = count + 1\n",
    "    return count\n",
    "\n",
    "results = []\n",
    "for row in data:\n",
    "    results.append(howmany_within_range(row, minimum=4, maximum=8))\n",
    "\n",
    "print(results[:10])"
   ]
  },
  {
   "cell_type": "code",
   "execution_count": 21,
   "id": "f5c48dce",
   "metadata": {},
   "outputs": [
    {
     "name": "stdout",
     "output_type": "stream",
     "text": [
      "Number of processors:  8\n"
     ]
    }
   ],
   "source": [
    "import multiprocessing as mp\n",
    "print(\"Number of processors: \", mp.cpu_count())"
   ]
  },
  {
   "cell_type": "markdown",
   "id": "dfb71b04",
   "metadata": {},
   "source": [
    "### These paralizations execute on different .py Files. \n",
    "\n",
    "1) Write fucntions in single file\n",
    "\n",
    "2) Execute it on another File by Calling the Functions\n"
   ]
  },
  {
   "cell_type": "code",
   "execution_count": null,
   "id": "ccdd5175",
   "metadata": {},
   "outputs": [],
   "source": [
    "# Parallelizing using Pool.apply()\n",
    "\n",
    "import multiprocessing as mp\n",
    "\n",
    "# Step 1: Init multiprocessing.Pool()\n",
    "pool = mp.Pool(mp.cpu_count())\n",
    "\n",
    "# Step 2: `pool.apply` the `howmany_within_range()`\n",
    "results = [pool.apply(howmany_within_range, args=(row, 4, 8)) for row in data]\n",
    "\n",
    "# Step 3: Don't forget to close\n",
    "pool.close()    \n",
    "\n",
    "print(results[:10])"
   ]
  },
  {
   "cell_type": "markdown",
   "id": "c4ba1c1c",
   "metadata": {},
   "source": [
    "## Parallelizing using Pool.map()"
   ]
  },
  {
   "cell_type": "markdown",
   "id": "8053daf8",
   "metadata": {},
   "source": [
    "**Pool.map()** accepts only one iterable as argument. So as a workaround, **I modify the howmany_within_range function** by setting a default to the minimum and maximum parameters to create a new howmany_within_range_rowonly()"
   ]
  },
  {
   "cell_type": "code",
   "execution_count": null,
   "id": "11db05de",
   "metadata": {},
   "outputs": [],
   "source": [
    "# Parallelizing using Pool.map()\n",
    "import multiprocessing as mp\n",
    "\n",
    "# Redefine, with only 1 mandatory argument.\n",
    "def howmany_within_range_rowonly(row, minimum=4, maximum=8):\n",
    "    count = 0\n",
    "    for n in row:\n",
    "        if minimum <= n <= maximum:\n",
    "            count = count + 1\n",
    "    return count\n",
    "\n",
    "pool = mp.Pool(mp.cpu_count())\n",
    "\n",
    "results = pool.map(howmany_within_range_rowonly, [row for row in data])\n",
    "\n",
    "pool.close()\n",
    "\n",
    "print(results[:10])"
   ]
  },
  {
   "cell_type": "markdown",
   "id": "574597f4",
   "metadata": {},
   "source": [
    "## Parallelizing with Pool.apply_async()"
   ]
  },
  {
   "cell_type": "markdown",
   "id": "850b5480",
   "metadata": {},
   "source": [
    "**apply_async()** is very similar to apply() except that you need to provide a callback function that tells how the computed results should be stored. However, a caveat with **apply_async()** is, the order of numbers in the result gets jumbled up indicating the processes "
   ]
  },
  {
   "cell_type": "code",
   "execution_count": null,
   "id": "f47abf3e",
   "metadata": {},
   "outputs": [],
   "source": [
    "# Parallel processing with Pool.apply_async()\n",
    "\n",
    "import multiprocessing as mp\n",
    "pool = mp.Pool(mp.cpu_count())"
   ]
  },
  {
   "cell_type": "markdown",
   "id": "1931e00f",
   "metadata": {},
   "source": [
    "### Parallelize a Pandas DataFrame"
   ]
  },
  {
   "cell_type": "code",
   "execution_count": null,
   "id": "61871533",
   "metadata": {},
   "outputs": [],
   "source": [
    "results = []\n",
    "\n",
    "# Step 1: Redefine, to accept `i`, the iteration number\n",
    "def howmany_within_range2(i, row, minimum, maximum):\n",
    "    \"\"\"Returns how many numbers lie within `maximum` and `minimum` in a given `row`\"\"\"\n",
    "    count = 0\n",
    "    for n in row:\n",
    "        if minimum <= n <= maximum:\n",
    "            count = count + 1\n",
    "    return (i, count)\n",
    "\n",
    "\n",
    "# Step 2: Define callback function to collect the output in `results`\n",
    "def collect_result(result):\n",
    "    global results\n",
    "    results.append(result)\n",
    "\n",
    "\n",
    "# Step 3: Use loop to parallelize\n",
    "for i, row in enumerate(data):\n",
    "    pool.apply_async(howmany_within_range2, args=(i, row, 4, 8), callback=collect_result)\n",
    "\n",
    "# Step 4: Close Pool and let all the processes complete    \n",
    "pool.close()\n",
    "pool.join()  # postpones the execution of next line of code until all processes in the queue are done.\n",
    "\n",
    "# Step 5: Sort results [OPTIONAL]\n",
    "results.sort(key=lambda x: x[0])\n",
    "results_final = [r for i, r in results]\n",
    "\n",
    "print(results_final[:10])"
   ]
  },
  {
   "cell_type": "markdown",
   "id": "9e90e837",
   "metadata": {},
   "source": [
    "## Parallelizing with Pool.starmap_async()"
   ]
  },
  {
   "cell_type": "markdown",
   "id": "8938a690",
   "metadata": {},
   "source": [
    "You saw how **apply_async()** works. Can you imagine and write up an equivalent version for starmap_async and map_async? "
   ]
  },
  {
   "cell_type": "code",
   "execution_count": 5,
   "id": "712af823",
   "metadata": {},
   "outputs": [],
   "source": [
    "# Step 1: Redefine, to accept `i`, the iteration number\n",
    "def howmany_within_range2(i, row, minimum, maximum):\n",
    "    \"\"\"Returns how many numbers lie within `maximum` and `minimum` in a given `row`\"\"\"\n",
    "    count = 0\n",
    "    for n in row:\n",
    "        if minimum <= n <= maximum:\n",
    "            count = count + 1\n",
    "    return (i, count)"
   ]
  },
  {
   "cell_type": "code",
   "execution_count": null,
   "id": "34d7d572",
   "metadata": {},
   "outputs": [],
   "source": [
    "# Parallelizing with Pool.starmap_async()\n",
    "\n",
    "import multiprocessing as mp\n",
    "pool = mp.Pool(mp.cpu_count())\n",
    "\n",
    "results = []\n",
    "\n",
    "results = pool.starmap_async(howmany_within_range2, [(i, row, 4, 8) for i, row in enumerate(data)]).get()\n",
    "\n",
    "# With map, use `howmany_within_range_rowonly` instead\n",
    "# results = pool.map_async(howmany_within_range_rowonly, [row for row in data]).get()\n",
    "\n",
    "pool.close()\n",
    "print(results[:10])"
   ]
  },
  {
   "cell_type": "markdown",
   "id": "01e16a9c",
   "metadata": {},
   "source": [
    "### Parallelize a Pandas DataFrame"
   ]
  },
  {
   "cell_type": "markdown",
   "id": "d6829183",
   "metadata": {},
   "source": [
    "When it comes to parallelizing a DataFrame, you can make the function-to-be-parallelized to take as an input parameter:\n",
    "\n",
    "**1) one row of the dataframe**\n",
    "\n",
    "**2) one column of the dataframe**\n",
    "\n",
    "**3) the entire dataframe itself**\n",
    "\n",
    "The first 2 can be done using **multiprocessing module** itself. But for the last one, that is parallelizing on an entire dataframe, we will use the pathos package that uses dill for serialization internally."
   ]
  },
  {
   "cell_type": "code",
   "execution_count": 6,
   "id": "d1f72f96",
   "metadata": {},
   "outputs": [
    {
     "name": "stdout",
     "output_type": "stream",
     "text": [
      "   0  1\n",
      "0  5  5\n",
      "1  5  6\n",
      "2  7  7\n",
      "3  7  7\n",
      "4  8  4\n"
     ]
    }
   ],
   "source": [
    "import numpy as np\n",
    "import pandas as pd\n",
    "import multiprocessing as mp\n",
    "\n",
    "df = pd.DataFrame(np.random.randint(3, 10, size=[5, 2]))\n",
    "print(df.head())"
   ]
  },
  {
   "cell_type": "markdown",
   "id": "c3439d9e",
   "metadata": {},
   "source": [
    "###### we exploit the df.itertuples(name=False). By setting name=False, you are passing each row of the dataframe as a simple tuple to the hypotenuse function."
   ]
  },
  {
   "cell_type": "code",
   "execution_count": 7,
   "id": "1bfb332b",
   "metadata": {},
   "outputs": [],
   "source": [
    "# Row wise Operation\n",
    "def hypotenuse(row):\n",
    "    return round(row[1]**2 + row[2]**2, 2)**0.5\n"
   ]
  },
  {
   "cell_type": "code",
   "execution_count": null,
   "id": "f2a68b60",
   "metadata": {},
   "outputs": [],
   "source": [
    "with mp.Pool(4) as pool:\n",
    "    result = pool.imap(hypotenuse, df.itertuples(index=True, name=None), chunksize=10)\n",
    "    output = [round(x, 2) for x in result]"
   ]
  },
  {
   "cell_type": "code",
   "execution_count": 13,
   "id": "5264cca0",
   "metadata": {},
   "outputs": [],
   "source": [
    "import numpy as np\n",
    "import pandas as pd\n",
    "import multiprocessing as mp\n",
    "from pathos.multiprocessing import ProcessingPool as Pool\n",
    "\n",
    "df = pd.DataFrame(np.random.randint(3, 10, size=[500, 2]))\n",
    "\n",
    "def func(df):\n",
    "    return df.shape"
   ]
  },
  {
   "cell_type": "code",
   "execution_count": 14,
   "id": "2a275f15",
   "metadata": {},
   "outputs": [],
   "source": [
    "cores=mp.cpu_count()\n",
    "\n",
    "df_split = np.array_split(df, cores, axis=0)\n",
    "\n",
    "# create the multiprocessing pool\n",
    "pool = Pool(cores)"
   ]
  },
  {
   "cell_type": "code",
   "execution_count": 15,
   "id": "7bdc4477",
   "metadata": {},
   "outputs": [],
   "source": [
    "# process the DataFrame by mapping function to each df across the pool\n",
    "df_out = np.vstack(pool.map(func, df_split))"
   ]
  },
  {
   "cell_type": "code",
   "execution_count": 16,
   "id": "302c9c90",
   "metadata": {},
   "outputs": [
    {
     "data": {
      "text/plain": [
       "array([[63,  2],\n",
       "       [63,  2],\n",
       "       [63,  2],\n",
       "       [63,  2],\n",
       "       [62,  2],\n",
       "       [62,  2],\n",
       "       [62,  2],\n",
       "       [62,  2]])"
      ]
     },
     "execution_count": 16,
     "metadata": {},
     "output_type": "execute_result"
    }
   ],
   "source": [
    "df_out"
   ]
  },
  {
   "cell_type": "code",
   "execution_count": 17,
   "id": "aa48fd8d",
   "metadata": {},
   "outputs": [],
   "source": [
    "# close down the pool and join\n",
    "pool.close()\n",
    "pool.join()\n",
    "pool.clear()"
   ]
  },
  {
   "cell_type": "code",
   "execution_count": null,
   "id": "42a5f709",
   "metadata": {},
   "outputs": [],
   "source": []
  }
 ],
 "metadata": {
  "kernelspec": {
   "display_name": "Python 3 (ipykernel)",
   "language": "python",
   "name": "python3"
  },
  "language_info": {
   "codemirror_mode": {
    "name": "ipython",
    "version": 3
   },
   "file_extension": ".py",
   "mimetype": "text/x-python",
   "name": "python",
   "nbconvert_exporter": "python",
   "pygments_lexer": "ipython3",
   "version": "3.8.8"
  }
 },
 "nbformat": 4,
 "nbformat_minor": 5
}

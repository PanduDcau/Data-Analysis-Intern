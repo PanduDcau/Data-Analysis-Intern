{
 "cells": [
  {
   "cell_type": "code",
   "execution_count": 37,
   "id": "c7655ed8",
   "metadata": {},
   "outputs": [
    {
     "data": {
      "text/plain": [
       "'C:\\\\spark'"
      ]
     },
     "execution_count": 37,
     "metadata": {},
     "output_type": "execute_result"
    }
   ],
   "source": [
    "#Testing Pyspark Installation\n",
    "import findspark\n",
    "\n",
    "findspark.init()\n",
    "findspark.find()\n",
    "\n",
    "import pyspark\n",
    "findspark.find()"
   ]
  },
  {
   "cell_type": "code",
   "execution_count": 2,
   "id": "09b53f8f",
   "metadata": {},
   "outputs": [],
   "source": [
    "#import pyspark\n",
    "\n",
    "#from pyspark.sql import SparkSession\n",
    "\n",
    "#spark = SparkSession.builder.getOrCreate()\n",
    "\n",
    "#df = spark.sql(\"select 'spark' as hello \")\n",
    "\n",
    "#df.show()"
   ]
  },
  {
   "cell_type": "code",
   "execution_count": 3,
   "id": "4179e00b",
   "metadata": {},
   "outputs": [],
   "source": [
    "#Terminating the Session\n",
    "#spark.close()"
   ]
  },
  {
   "cell_type": "code",
   "execution_count": 4,
   "id": "170d5c92",
   "metadata": {},
   "outputs": [],
   "source": [
    "#intialize Spark Context\n",
    "from pyspark import SparkContext, SparkConf\n",
    "from pyspark.sql import SparkSession\n",
    "conf = pyspark.SparkConf().setAppName('SparkApp').setMaster('local');\n"
   ]
  },
  {
   "cell_type": "code",
   "execution_count": 5,
   "id": "778b7d1d",
   "metadata": {},
   "outputs": [],
   "source": [
    "sc = pyspark.SparkContext(conf=conf)\n",
    "spark = SparkSession(sc)"
   ]
  },
  {
   "cell_type": "code",
   "execution_count": 6,
   "id": "6d7ce91e",
   "metadata": {},
   "outputs": [
    {
     "data": {
      "text/plain": [
       "[1, 8, 27, 64]"
      ]
     },
     "execution_count": 6,
     "metadata": {},
     "output_type": "execute_result"
    }
   ],
   "source": [
    "#Example Test Code\n",
    "numv= sc.parallelize([1,2,3,4])\n",
    "numv.map(lambda x:x*x*x).collect()"
   ]
  },
  {
   "cell_type": "code",
   "execution_count": 7,
   "id": "afc41c3e",
   "metadata": {},
   "outputs": [],
   "source": [
    "#Terminating the Session\n",
    "sc.stop()"
   ]
  },
  {
   "cell_type": "code",
   "execution_count": 8,
   "id": "f5d7dfea",
   "metadata": {},
   "outputs": [],
   "source": [
    "import pandas as pd\n",
    "import numpy as np\n",
    "import matplotlib.pyplot as plt\n",
    "dt=pd.read_csv('/Users/Asus/Documents/Atmel Studio/wine.csv')"
   ]
  },
  {
   "cell_type": "code",
   "execution_count": 9,
   "id": "6c61b76c",
   "metadata": {},
   "outputs": [
    {
     "data": {
      "text/plain": [
       "(178, 14)"
      ]
     },
     "execution_count": 9,
     "metadata": {},
     "output_type": "execute_result"
    }
   ],
   "source": [
    "dt.shape\n"
   ]
  },
  {
   "cell_type": "code",
   "execution_count": 11,
   "id": "dcfff29a",
   "metadata": {},
   "outputs": [],
   "source": [
    "spark= SparkSession.builder.appName('Wine').getOrCreate()"
   ]
  },
  {
   "cell_type": "code",
   "execution_count": 12,
   "id": "942c4af2",
   "metadata": {
    "scrolled": true
   },
   "outputs": [
    {
     "data": {
      "text/html": [
       "\n",
       "            <div>\n",
       "                <p><b>SparkSession - in-memory</b></p>\n",
       "                \n",
       "        <div>\n",
       "            <p><b>SparkContext</b></p>\n",
       "\n",
       "            <p><a href=\"http://PanduDCAU-Multiverse:4041\">Spark UI</a></p>\n",
       "\n",
       "            <dl>\n",
       "              <dt>Version</dt>\n",
       "                <dd><code>v3.1.2</code></dd>\n",
       "              <dt>Master</dt>\n",
       "                <dd><code>local</code></dd>\n",
       "              <dt>AppName</dt>\n",
       "                <dd><code>Wine</code></dd>\n",
       "            </dl>\n",
       "        </div>\n",
       "        \n",
       "            </div>\n",
       "        "
      ],
      "text/plain": [
       "<pyspark.sql.session.SparkSession at 0x1ebb85d3ee0>"
      ]
     },
     "execution_count": 12,
     "metadata": {},
     "output_type": "execute_result"
    }
   ],
   "source": [
    "spark"
   ]
  },
  {
   "cell_type": "code",
   "execution_count": 14,
   "id": "502d6dcd",
   "metadata": {},
   "outputs": [],
   "source": [
    "df_pyspark=spark.read.csv('salary.csv')"
   ]
  },
  {
   "cell_type": "code",
   "execution_count": 15,
   "id": "2c830b34",
   "metadata": {},
   "outputs": [
    {
     "data": {
      "text/plain": [
       "DataFrame[_c0: string, _c1: string, _c2: string, _c3: string, _c4: string, _c5: string, _c6: string]"
      ]
     },
     "execution_count": 15,
     "metadata": {},
     "output_type": "execute_result"
    }
   ],
   "source": [
    "df_pyspark"
   ]
  },
  {
   "cell_type": "code",
   "execution_count": 16,
   "id": "3991b90a",
   "metadata": {},
   "outputs": [
    {
     "name": "stdout",
     "output_type": "stream",
     "text": [
      "+------+-----------+---------+-----------+------+--------+-----+\n",
      "|   _c0|        _c1|      _c2|        _c3|   _c4|     _c5|  _c6|\n",
      "+------+-----------+---------+-----------+------+--------+-----+\n",
      "|salary|yearsworked|yearsrank|     market|degree|position|Field|\n",
      "| 53000|          0|        0|1.169999957|     1|       1|    3|\n",
      "| 58000|          0|        0| 1.24000001|     1|       1|    2|\n",
      "| 45500|          0|        0|1.210000038|     1|       1|    3|\n",
      "| 35782|          2|        1| 0.99000001|     1|       1|    4|\n",
      "| 34731|          2|        2|0.910000026|     1|       1|    4|\n",
      "| 56000|          0|        0|1.190000057|     1|       1|    1|\n",
      "| 61008|          2|        2|1.330000043|     1|       1|    2|\n",
      "| 39986|          2|        0| 0.99000001|     1|       1|    4|\n",
      "| 36308|          2|        1|0.850000024|     1|       1|    1|\n",
      "| 55000|          0|        0|1.230000019|     1|       1|    1|\n",
      "| 55227|          3|        3|1.230000019|     1|       1|    1|\n",
      "| 55227|          3|        3|1.230000019|     1|       1|    2|\n",
      "| 33680|          3|        1|1.049999952|     1|       1|    4|\n",
      "| 61008|          3|        3| 1.24000001|     1|       1|    4|\n",
      "| 37000|          0|        0| 0.99000001|     1|       1|    1|\n",
      "| 46292|          2|        2|1.139999986|     1|       1|    2|\n",
      "| 33680|          2|        1|0.850000024|     1|       1|    3|\n",
      "| 39754|          1|        0|0.879999995|     1|       1|    3|\n",
      "| 34000|          3|        3|0.730000019|     1|       1|    3|\n",
      "+------+-----------+---------+-----------+------+--------+-----+\n",
      "only showing top 20 rows\n",
      "\n"
     ]
    }
   ],
   "source": [
    "df_pyspark.show()"
   ]
  },
  {
   "cell_type": "code",
   "execution_count": 18,
   "id": "72470735",
   "metadata": {},
   "outputs": [
    {
     "name": "stdout",
     "output_type": "stream",
     "text": [
      "+------+-----------+---------+-----------+------+--------+-----+\n",
      "|salary|yearsworked|yearsrank|     market|degree|position|Field|\n",
      "+------+-----------+---------+-----------+------+--------+-----+\n",
      "| 53000|          0|        0|1.169999957|     1|       1|    3|\n",
      "| 58000|          0|        0| 1.24000001|     1|       1|    2|\n",
      "| 45500|          0|        0|1.210000038|     1|       1|    3|\n",
      "| 35782|          2|        1| 0.99000001|     1|       1|    4|\n",
      "| 34731|          2|        2|0.910000026|     1|       1|    4|\n",
      "| 56000|          0|        0|1.190000057|     1|       1|    1|\n",
      "| 61008|          2|        2|1.330000043|     1|       1|    2|\n",
      "| 39986|          2|        0| 0.99000001|     1|       1|    4|\n",
      "| 36308|          2|        1|0.850000024|     1|       1|    1|\n",
      "| 55000|          0|        0|1.230000019|     1|       1|    1|\n",
      "| 55227|          3|        3|1.230000019|     1|       1|    1|\n",
      "| 55227|          3|        3|1.230000019|     1|       1|    2|\n",
      "| 33680|          3|        1|1.049999952|     1|       1|    4|\n",
      "| 61008|          3|        3| 1.24000001|     1|       1|    4|\n",
      "| 37000|          0|        0| 0.99000001|     1|       1|    1|\n",
      "| 46292|          2|        2|1.139999986|     1|       1|    2|\n",
      "| 33680|          2|        1|0.850000024|     1|       1|    3|\n",
      "| 39754|          1|        0|0.879999995|     1|       1|    3|\n",
      "| 34000|          3|        3|0.730000019|     1|       1|    3|\n",
      "| 42614|          2|        2|0.879999995|     1|       1|    2|\n",
      "+------+-----------+---------+-----------+------+--------+-----+\n",
      "only showing top 20 rows\n",
      "\n"
     ]
    }
   ],
   "source": [
    "spark.read.option('header','true').csv('salary.csv').show()"
   ]
  },
  {
   "cell_type": "code",
   "execution_count": 19,
   "id": "d7b702f7",
   "metadata": {},
   "outputs": [
    {
     "data": {
      "text/plain": [
       "pyspark.sql.dataframe.DataFrame"
      ]
     },
     "execution_count": 19,
     "metadata": {},
     "output_type": "execute_result"
    }
   ],
   "source": [
    "type(df_pyspark)"
   ]
  },
  {
   "cell_type": "code",
   "execution_count": 21,
   "id": "42ff98ef",
   "metadata": {},
   "outputs": [
    {
     "name": "stdout",
     "output_type": "stream",
     "text": [
      "root\n",
      " |-- _c0: string (nullable = true)\n",
      " |-- _c1: string (nullable = true)\n",
      " |-- _c2: string (nullable = true)\n",
      " |-- _c3: string (nullable = true)\n",
      " |-- _c4: string (nullable = true)\n",
      " |-- _c5: string (nullable = true)\n",
      " |-- _c6: string (nullable = true)\n",
      "\n"
     ]
    }
   ],
   "source": [
    "#df_pyspark.head(5)\n",
    "df_pyspark.printSchema()"
   ]
  },
  {
   "cell_type": "markdown",
   "id": "1bbcb7a3",
   "metadata": {},
   "source": [
    "# Data Manipulation Section"
   ]
  },
  {
   "cell_type": "markdown",
   "id": "a5280a3d",
   "metadata": {},
   "source": [
    "-> Dataframe\n",
    "\n",
    "-> Reading Dataset\n",
    "\n",
    "-> Checking Datatypes(Schema)\n",
    "\n",
    "-> Indexing and Pandas Data Manipulation\n",
    "\n",
    "-> Columns adding & Dropping"
   ]
  },
  {
   "cell_type": "code",
   "execution_count": 22,
   "id": "bf938ea3",
   "metadata": {},
   "outputs": [
    {
     "name": "stdout",
     "output_type": "stream",
     "text": [
      "+------+-----------+---------+-----------+------+--------+-----+\n",
      "|   _c0|        _c1|      _c2|        _c3|   _c4|     _c5|  _c6|\n",
      "+------+-----------+---------+-----------+------+--------+-----+\n",
      "|salary|yearsworked|yearsrank|     market|degree|position|Field|\n",
      "| 53000|          0|        0|1.169999957|     1|       1|    3|\n",
      "| 58000|          0|        0| 1.24000001|     1|       1|    2|\n",
      "| 45500|          0|        0|1.210000038|     1|       1|    3|\n",
      "| 35782|          2|        1| 0.99000001|     1|       1|    4|\n",
      "+------+-----------+---------+-----------+------+--------+-----+\n",
      "only showing top 5 rows\n",
      "\n"
     ]
    }
   ],
   "source": [
    "df_pyspark.show(5)"
   ]
  },
  {
   "cell_type": "code",
   "execution_count": 24,
   "id": "d30040ba",
   "metadata": {},
   "outputs": [],
   "source": [
    "sal=spark.read.option('header','true').csv('salary.csv')"
   ]
  },
  {
   "cell_type": "code",
   "execution_count": 27,
   "id": "50405a34",
   "metadata": {},
   "outputs": [
    {
     "name": "stdout",
     "output_type": "stream",
     "text": [
      "+------+\n",
      "|salary|\n",
      "+------+\n",
      "| 53000|\n",
      "| 58000|\n",
      "| 45500|\n",
      "| 35782|\n",
      "| 34731|\n",
      "+------+\n",
      "only showing top 5 rows\n",
      "\n"
     ]
    }
   ],
   "source": [
    "#sal.select('salary')\n",
    "sal.select('salary').show(5)"
   ]
  },
  {
   "cell_type": "code",
   "execution_count": 28,
   "id": "35e16e51",
   "metadata": {},
   "outputs": [
    {
     "data": {
      "text/plain": [
       "[('salary', 'string'),\n",
       " ('yearsworked', 'string'),\n",
       " ('yearsrank', 'string'),\n",
       " ('market', 'string'),\n",
       " ('degree', 'string'),\n",
       " ('position', 'string'),\n",
       " ('Field', 'string')]"
      ]
     },
     "execution_count": 28,
     "metadata": {},
     "output_type": "execute_result"
    }
   ],
   "source": [
    "sal.dtypes"
   ]
  },
  {
   "cell_type": "code",
   "execution_count": 29,
   "id": "732958aa",
   "metadata": {},
   "outputs": [
    {
     "name": "stdout",
     "output_type": "stream",
     "text": [
      "+-------+------------------+------------------+-----------------+-------------------+-------------------+------------------+------------------+\n",
      "|summary|            salary|       yearsworked|        yearsrank|             market|             degree|          position|             Field|\n",
      "+-------+------------------+------------------+-----------------+-------------------+-------------------+------------------+------------------+\n",
      "|  count|               510|               510|              509|                510|                510|               510|               510|\n",
      "|   mean| 50826.04509803921|12.766666666666667|7.013752455795678| 0.9487254950529409| 0.9647058823529412| 2.127450980392157|2.5274509803921568|\n",
      "| stddev|12663.101214834256| 9.407938099266667|6.408180016789294|0.14988320243137238|0.18470337225322933|0.8205557634028625|1.1292813632553642|\n",
      "|    min|             29000|                 0|                0|        0.709999979|                  0|                 1|                 1|\n",
      "|    max|             96156|                 9|                9|        1.330000043|                  1|                 3|                 4|\n",
      "+-------+------------------+------------------+-----------------+-------------------+-------------------+------------------+------------------+\n",
      "\n"
     ]
    }
   ],
   "source": [
    "sal.describe().show()"
   ]
  },
  {
   "cell_type": "code",
   "execution_count": 30,
   "id": "2e71da82",
   "metadata": {},
   "outputs": [
    {
     "name": "stdout",
     "output_type": "stream",
     "text": [
      "+------+-----------+---------+-----------+------+--------+-----+---------------+\n",
      "|salary|yearsworked|yearsrank|     market|degree|position|Field|Premiere Salary|\n",
      "+------+-----------+---------+-----------+------+--------+-----+---------------+\n",
      "| 53000|          0|        0|1.169999957|     1|       1|    3|        73000.0|\n",
      "| 58000|          0|        0| 1.24000001|     1|       1|    2|        78000.0|\n",
      "| 45500|          0|        0|1.210000038|     1|       1|    3|        65500.0|\n",
      "| 35782|          2|        1| 0.99000001|     1|       1|    4|        55782.0|\n",
      "| 34731|          2|        2|0.910000026|     1|       1|    4|        54731.0|\n",
      "+------+-----------+---------+-----------+------+--------+-----+---------------+\n",
      "only showing top 5 rows\n",
      "\n"
     ]
    }
   ],
   "source": [
    "#Adding Column in DataFarme\n",
    "sal.withColumn('Premiere Salary',sal['salary']+20000).show(5)"
   ]
  },
  {
   "cell_type": "code",
   "execution_count": 31,
   "id": "baa5738e",
   "metadata": {},
   "outputs": [],
   "source": [
    "#Dropping the Column\n",
    "sal=sal.drop('Premiere Salary')"
   ]
  },
  {
   "cell_type": "code",
   "execution_count": 36,
   "id": "f7f357ca",
   "metadata": {},
   "outputs": [
    {
     "name": "stdout",
     "output_type": "stream",
     "text": [
      "+------+-----------+----+-----------+------+--------+-----+\n",
      "|salary|yearsworked|Rank|     market|degree|position|Field|\n",
      "+------+-----------+----+-----------+------+--------+-----+\n",
      "| 53000|          0|   0|1.169999957|     1|       1|    3|\n",
      "| 58000|          0|   0| 1.24000001|     1|       1|    2|\n",
      "| 45500|          0|   0|1.210000038|     1|       1|    3|\n",
      "| 35782|          2|   1| 0.99000001|     1|       1|    4|\n",
      "| 34731|          2|   2|0.910000026|     1|       1|    4|\n",
      "+------+-----------+----+-----------+------+--------+-----+\n",
      "only showing top 5 rows\n",
      "\n"
     ]
    }
   ],
   "source": [
    "#Column Rename\n",
    "sal.withColumnRenamed('yearsrank','Rank').show(5)\n"
   ]
  },
  {
   "cell_type": "markdown",
   "id": "a54ce55b",
   "metadata": {},
   "source": [
    "# Pyspark Handling Missing Values"
   ]
  },
  {
   "cell_type": "markdown",
   "id": "29d50f51",
   "metadata": {},
   "source": [
    "--> Dropping Columns\n",
    "\n",
    "--> Dropping Rows\n",
    "\n",
    "-->Various Parameter in Dropping Functionalities\n",
    "\n",
    "--> Handling Missing values by Mean, Median and Mode"
   ]
  },
  {
   "cell_type": "code",
   "execution_count": 38,
   "id": "80bde284",
   "metadata": {},
   "outputs": [],
   "source": [
    "sal1=spark.read.csv('salary.csv',header=True,inferSchema=True)"
   ]
  },
  {
   "cell_type": "code",
   "execution_count": 39,
   "id": "bd1e9e9b",
   "metadata": {},
   "outputs": [
    {
     "name": "stdout",
     "output_type": "stream",
     "text": [
      "+------+-----------+---------+-----------+------+--------+-----+\n",
      "|salary|yearsworked|yearsrank|     market|degree|position|Field|\n",
      "+------+-----------+---------+-----------+------+--------+-----+\n",
      "| 53000|          0|        0|1.169999957|     1|       1|    3|\n",
      "| 58000|          0|        0| 1.24000001|     1|       1|    2|\n",
      "| 45500|          0|        0|1.210000038|     1|       1|    3|\n",
      "| 35782|          2|        1| 0.99000001|     1|       1|    4|\n",
      "| 34731|          2|        2|0.910000026|     1|       1|    4|\n",
      "+------+-----------+---------+-----------+------+--------+-----+\n",
      "only showing top 5 rows\n",
      "\n"
     ]
    }
   ],
   "source": [
    "sal1.show(5)"
   ]
  },
  {
   "cell_type": "code",
   "execution_count": 40,
   "id": "3492f16a",
   "metadata": {},
   "outputs": [
    {
     "name": "stdout",
     "output_type": "stream",
     "text": [
      "+------+---------+-----------+------+--------+-----+\n",
      "|salary|yearsrank|     market|degree|position|Field|\n",
      "+------+---------+-----------+------+--------+-----+\n",
      "| 53000|        0|1.169999957|     1|       1|    3|\n",
      "| 58000|        0| 1.24000001|     1|       1|    2|\n",
      "| 45500|        0|1.210000038|     1|       1|    3|\n",
      "| 35782|        1| 0.99000001|     1|       1|    4|\n",
      "| 34731|        2|0.910000026|     1|       1|    4|\n",
      "+------+---------+-----------+------+--------+-----+\n",
      "only showing top 5 rows\n",
      "\n"
     ]
    }
   ],
   "source": [
    "#Dropping the Columns\n",
    "sal1.drop('yearsworked').show(5)"
   ]
  },
  {
   "cell_type": "code",
   "execution_count": 41,
   "id": "72eb268c",
   "metadata": {},
   "outputs": [
    {
     "name": "stdout",
     "output_type": "stream",
     "text": [
      "+------+-----------+---------+-----------+------+--------+-----+\n",
      "|salary|yearsworked|yearsrank|     market|degree|position|Field|\n",
      "+------+-----------+---------+-----------+------+--------+-----+\n",
      "| 53000|          0|        0|1.169999957|     1|       1|    3|\n",
      "| 58000|          0|        0| 1.24000001|     1|       1|    2|\n",
      "| 45500|          0|        0|1.210000038|     1|       1|    3|\n",
      "| 35782|          2|        1| 0.99000001|     1|       1|    4|\n",
      "| 34731|          2|        2|0.910000026|     1|       1|    4|\n",
      "| 56000|          0|        0|1.190000057|     1|       1|    1|\n",
      "| 61008|          2|        2|1.330000043|     1|       1|    2|\n",
      "| 39986|          2|        0| 0.99000001|     1|       1|    4|\n",
      "| 36308|          2|        1|0.850000024|     1|       1|    1|\n",
      "| 55000|          0|        0|1.230000019|     1|       1|    1|\n",
      "| 55227|          3|        3|1.230000019|     1|       1|    1|\n",
      "| 55227|          3|        3|1.230000019|     1|       1|    2|\n",
      "| 33680|          3|        1|1.049999952|     1|       1|    4|\n",
      "| 61008|          3|        3| 1.24000001|     1|       1|    4|\n",
      "| 37000|          0|        0| 0.99000001|     1|       1|    1|\n",
      "| 46292|          2|        2|1.139999986|     1|       1|    2|\n",
      "| 33680|          2|        1|0.850000024|     1|       1|    3|\n",
      "| 39754|          1|        0|0.879999995|     1|       1|    3|\n",
      "| 34000|          3|        3|0.730000019|     1|       1|    3|\n",
      "| 42614|          2|        2|0.879999995|     1|       1|    2|\n",
      "+------+-----------+---------+-----------+------+--------+-----+\n",
      "only showing top 20 rows\n",
      "\n"
     ]
    }
   ],
   "source": [
    "#Dropping data which don't have any data \n",
    "sal1.na.drop().show()"
   ]
  },
  {
   "cell_type": "code",
   "execution_count": 42,
   "id": "1e81f9b9",
   "metadata": {},
   "outputs": [
    {
     "name": "stdout",
     "output_type": "stream",
     "text": [
      "+------+-----------+---------+-----------+------+--------+-----+\n",
      "|salary|yearsworked|yearsrank|     market|degree|position|Field|\n",
      "+------+-----------+---------+-----------+------+--------+-----+\n",
      "| 53000|          0|        0|1.169999957|     1|       1|    3|\n",
      "| 58000|          0|        0| 1.24000001|     1|       1|    2|\n",
      "| 45500|          0|        0|1.210000038|     1|       1|    3|\n",
      "| 35782|          2|        1| 0.99000001|     1|       1|    4|\n",
      "| 34731|          2|        2|0.910000026|     1|       1|    4|\n",
      "| 56000|          0|        0|1.190000057|     1|       1|    1|\n",
      "| 61008|          2|        2|1.330000043|     1|       1|    2|\n",
      "| 39986|          2|        0| 0.99000001|     1|       1|    4|\n",
      "| 36308|          2|        1|0.850000024|     1|       1|    1|\n",
      "| 55000|          0|        0|1.230000019|     1|       1|    1|\n",
      "| 55227|          3|        3|1.230000019|     1|       1|    1|\n",
      "| 55227|          3|        3|1.230000019|     1|       1|    2|\n",
      "| 33680|          3|        1|1.049999952|     1|       1|    4|\n",
      "| 61008|          3|        3| 1.24000001|     1|       1|    4|\n",
      "| 37000|          0|        0| 0.99000001|     1|       1|    1|\n",
      "| 46292|          2|        2|1.139999986|     1|       1|    2|\n",
      "| 33680|          2|        1|0.850000024|     1|       1|    3|\n",
      "| 39754|          1|        0|0.879999995|     1|       1|    3|\n",
      "| 34000|          3|        3|0.730000019|     1|       1|    3|\n",
      "| 42614|          2|        2|0.879999995|     1|       1|    2|\n",
      "+------+-----------+---------+-----------+------+--------+-----+\n",
      "only showing top 20 rows\n",
      "\n"
     ]
    }
   ],
   "source": [
    "#Thershold \n",
    "sal1.na.drop(how=\"any\",thresh=3).show()"
   ]
  },
  {
   "cell_type": "code",
   "execution_count": 43,
   "id": "093e8247",
   "metadata": {},
   "outputs": [
    {
     "name": "stdout",
     "output_type": "stream",
     "text": [
      "+------+-----------+---------+-----------+------+--------+-----+\n",
      "|salary|yearsworked|yearsrank|     market|degree|position|Field|\n",
      "+------+-----------+---------+-----------+------+--------+-----+\n",
      "| 53000|          0|        0|1.169999957|     1|       1|    3|\n",
      "| 58000|          0|        0| 1.24000001|     1|       1|    2|\n",
      "| 45500|          0|        0|1.210000038|     1|       1|    3|\n",
      "| 35782|          2|        1| 0.99000001|     1|       1|    4|\n",
      "| 34731|          2|        2|0.910000026|     1|       1|    4|\n",
      "| 56000|          0|        0|1.190000057|     1|       1|    1|\n",
      "| 61008|          2|        2|1.330000043|     1|       1|    2|\n",
      "| 39986|          2|        0| 0.99000001|     1|       1|    4|\n",
      "| 36308|          2|        1|0.850000024|     1|       1|    1|\n",
      "| 55000|          0|        0|1.230000019|     1|       1|    1|\n",
      "| 55227|          3|        3|1.230000019|     1|       1|    1|\n",
      "| 55227|          3|        3|1.230000019|     1|       1|    2|\n",
      "| 33680|          3|        1|1.049999952|     1|       1|    4|\n",
      "| 61008|          3|        3| 1.24000001|     1|       1|    4|\n",
      "| 37000|          0|        0| 0.99000001|     1|       1|    1|\n",
      "| 46292|          2|        2|1.139999986|     1|       1|    2|\n",
      "| 33680|          2|        1|0.850000024|     1|       1|    3|\n",
      "| 39754|          1|        0|0.879999995|     1|       1|    3|\n",
      "| 34000|          3|        3|0.730000019|     1|       1|    3|\n",
      "| 42614|          2|        2|0.879999995|     1|       1|    2|\n",
      "+------+-----------+---------+-----------+------+--------+-----+\n",
      "only showing top 20 rows\n",
      "\n"
     ]
    }
   ],
   "source": [
    "#Subset elimination of Null (is you select \"market\" all the null rows in market field will be eliminated)\n",
    "sal1.na.drop(how=\"any\",subset=['yearsrank']).show()\n",
    "#sal1.na.fill(missing Values').show()"
   ]
  },
  {
   "cell_type": "code",
   "execution_count": null,
   "id": "91cbe123",
   "metadata": {},
   "outputs": [],
   "source": [
    "#filling the Missing Value\n",
    "#sal1.na.fill('Missing Values').show() In all columns\n",
    "#sal1.na.fill('Missing Values',['yearsrank','salary']).show()\n",
    "\n",
    "#from pyspark.ml.feature import Imputer\n",
    "\n",
    "#imputer=Imputer("
   ]
  }
 ],
 "metadata": {
  "kernelspec": {
   "display_name": "Python 3",
   "language": "python",
   "name": "python3"
  },
  "language_info": {
   "codemirror_mode": {
    "name": "ipython",
    "version": 3
   },
   "file_extension": ".py",
   "mimetype": "text/x-python",
   "name": "python",
   "nbconvert_exporter": "python",
   "pygments_lexer": "ipython3",
   "version": "3.8.8"
  }
 },
 "nbformat": 4,
 "nbformat_minor": 5
}

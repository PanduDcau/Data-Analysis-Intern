{
 "cells": [
  {
   "cell_type": "markdown",
   "id": "d69b8807",
   "metadata": {},
   "source": [
    "## Pyspark Dataframes"
   ]
  },
  {
   "cell_type": "code",
   "execution_count": 1,
   "id": "161b63cb",
   "metadata": {},
   "outputs": [
    {
     "data": {
      "text/plain": [
       "'C:\\\\spark'"
      ]
     },
     "execution_count": 1,
     "metadata": {},
     "output_type": "execute_result"
    }
   ],
   "source": [
    "#Testing Pyspark Installation\n",
    "import findspark\n",
    "\n",
    "findspark.init()\n",
    "findspark.find()\n",
    "\n",
    "import pyspark\n",
    "findspark.find()"
   ]
  },
  {
   "cell_type": "code",
   "execution_count": 2,
   "id": "6cc27724",
   "metadata": {},
   "outputs": [],
   "source": [
    "#Filter Operations \n",
    "# & | ==\n",
    "#intialize Spark Context\n",
    "from pyspark import SparkContext, SparkConf\n",
    "from pyspark.sql import SparkSession\n",
    "spark= SparkSession.builder.appName('Salary').getOrCreate()"
   ]
  },
  {
   "cell_type": "code",
   "execution_count": 3,
   "id": "bd238134",
   "metadata": {},
   "outputs": [
    {
     "name": "stdout",
     "output_type": "stream",
     "text": [
      "+------+-----------+---------+-----------+------+--------+-----+\n",
      "|salary|yearsworked|yearsrank|     market|degree|position|Field|\n",
      "+------+-----------+---------+-----------+------+--------+-----+\n",
      "| 53000|          0|        0|1.169999957|     1|       1|    3|\n",
      "| 58000|          0|        0| 1.24000001|     1|       1|    2|\n",
      "| 45500|          0|        0|1.210000038|     1|       1|    3|\n",
      "| 35782|          2|        1| 0.99000001|     1|       1|    4|\n",
      "+------+-----------+---------+-----------+------+--------+-----+\n",
      "only showing top 4 rows\n",
      "\n"
     ]
    }
   ],
   "source": [
    "salp=spark.read.csv('salary.csv',header=True,inferSchema=True)\n",
    "salp.show(4)"
   ]
  },
  {
   "cell_type": "markdown",
   "id": "71f1dc87",
   "metadata": {},
   "source": [
    "## Filer Operations"
   ]
  },
  {
   "cell_type": "code",
   "execution_count": 4,
   "id": "ebf6a5fe",
   "metadata": {},
   "outputs": [
    {
     "name": "stdout",
     "output_type": "stream",
     "text": [
      "+------+-----------+---------+-----------+------+--------+-----+\n",
      "|salary|yearsworked|yearsrank|     market|degree|position|Field|\n",
      "+------+-----------+---------+-----------+------+--------+-----+\n",
      "| 30000|          0|        0|0.779999971|     0|       1|    3|\n",
      "| 29500|          0|        0|0.790000021|     1|       1|    3|\n",
      "| 29000|          0|        0|0.779999971|     0|       1|    3|\n",
      "| 30000|          1|        0|0.790000021|     1|       1|    3|\n",
      "| 30000|          0|        0|0.810000002|     1|       1|    3|\n",
      "+------+-----------+---------+-----------+------+--------+-----+\n",
      "\n"
     ]
    }
   ],
   "source": [
    "#Salary of the People Less = to 30000\n",
    "salp.filter('salary<=30000').show(5)"
   ]
  },
  {
   "cell_type": "code",
   "execution_count": 5,
   "id": "d9da2c41",
   "metadata": {},
   "outputs": [
    {
     "name": "stdout",
     "output_type": "stream",
     "text": [
      "+------+------+\n",
      "|salary|degree|\n",
      "+------+------+\n",
      "| 30000|     0|\n",
      "| 29500|     1|\n",
      "| 29000|     0|\n",
      "| 30000|     1|\n",
      "| 30000|     1|\n",
      "+------+------+\n",
      "\n"
     ]
    }
   ],
   "source": [
    "salp.filter('salary<=30000').select(['salary','degree']).show(5)"
   ]
  },
  {
   "cell_type": "code",
   "execution_count": 6,
   "id": "e5c14c16",
   "metadata": {},
   "outputs": [
    {
     "name": "stdout",
     "output_type": "stream",
     "text": [
      "+------+-----------+---------+-----------+------+--------+-----+\n",
      "|salary|yearsworked|yearsrank|     market|degree|position|Field|\n",
      "+------+-----------+---------+-----------+------+--------+-----+\n",
      "| 30000|          0|        0|0.779999971|     0|       1|    3|\n",
      "| 29500|          0|        0|0.790000021|     1|       1|    3|\n",
      "| 29000|          0|        0|0.779999971|     0|       1|    3|\n",
      "| 30000|          1|        0|0.790000021|     1|       1|    3|\n",
      "| 30000|          0|        0|0.810000002|     1|       1|    3|\n",
      "+------+-----------+---------+-----------+------+--------+-----+\n",
      "\n"
     ]
    }
   ],
   "source": [
    "salp.filter((salp['salary']<=30000) & (salp['salary']>=20000)).show(5)"
   ]
  },
  {
   "cell_type": "code",
   "execution_count": 7,
   "id": "805e2817",
   "metadata": {},
   "outputs": [
    {
     "name": "stdout",
     "output_type": "stream",
     "text": [
      "+------+------+\n",
      "|salary|degree|\n",
      "+------+------+\n",
      "| 53000|     1|\n",
      "| 58000|     1|\n",
      "| 45500|     1|\n",
      "| 35782|     1|\n",
      "| 34731|     1|\n",
      "+------+------+\n",
      "only showing top 5 rows\n",
      "\n"
     ]
    }
   ],
   "source": [
    "salp.filter(~(salp['salary']<=30000)).select(['salary','degree']).show(5)"
   ]
  },
  {
   "cell_type": "markdown",
   "id": "545312f8",
   "metadata": {},
   "source": [
    "## PySpark GroupBy & Aggregate Funcions"
   ]
  },
  {
   "cell_type": "code",
   "execution_count": 8,
   "id": "c140e103",
   "metadata": {},
   "outputs": [
    {
     "name": "stdout",
     "output_type": "stream",
     "text": [
      "root\n",
      " |-- salary: integer (nullable = true)\n",
      " |-- yearsworked: integer (nullable = true)\n",
      " |-- yearsrank: integer (nullable = true)\n",
      " |-- market: double (nullable = true)\n",
      " |-- degree: integer (nullable = true)\n",
      " |-- position: integer (nullable = true)\n",
      " |-- Field: integer (nullable = true)\n",
      "\n"
     ]
    }
   ],
   "source": [
    "salp.printSchema()"
   ]
  },
  {
   "cell_type": "code",
   "execution_count": 9,
   "id": "6dbde565",
   "metadata": {},
   "outputs": [
    {
     "name": "stdout",
     "output_type": "stream",
     "text": [
      "+--------+-----------+----------------+--------------+-------------+-----------+-------------+----------+\n",
      "|position|sum(salary)|sum(yearsworked)|sum(yearsrank)|  sum(market)|sum(degree)|sum(position)|sum(Field)|\n",
      "+--------+-----------+----------------+--------------+-------------+-----------+-------------+----------+\n",
      "|       1|    5700818|             452|           417|136.850000977|        137|          143|       414|\n",
      "|       3|   12714723|            4199|          2152| 197.74000091|        203|          624|       440|\n",
      "|       2|    7505742|            1860|          1001| 149.26000059|        152|          318|       435|\n",
      "+--------+-----------+----------------+--------------+-------------+-----------+-------------+----------+\n",
      "\n"
     ]
    }
   ],
   "source": [
    "#Grouping\n",
    "salp.groupby('position').sum().show(10)\n",
    "#Grouped to find Maximum Salery"
   ]
  },
  {
   "cell_type": "code",
   "execution_count": 10,
   "id": "9193d24d",
   "metadata": {},
   "outputs": [
    {
     "name": "stdout",
     "output_type": "stream",
     "text": [
      "+--------+-----+\n",
      "|position|count|\n",
      "+--------+-----+\n",
      "|       1|  143|\n",
      "|       3|  208|\n",
      "|       2|  159|\n",
      "+--------+-----+\n",
      "\n"
     ]
    }
   ],
   "source": [
    "salp.groupby('position').count().show(10) #Also Consisting Max, avg ,min"
   ]
  },
  {
   "cell_type": "code",
   "execution_count": 29,
   "id": "72bf2384",
   "metadata": {},
   "outputs": [],
   "source": [
    "from pyspark.ml.feature import VectorAssembler\n",
    "featureassembler=VectorAssembler(inputCols=['salary','Field'],\n",
    "                                 outputCol=\"Independent Features\")"
   ]
  },
  {
   "cell_type": "code",
   "execution_count": 30,
   "id": "87926581",
   "metadata": {},
   "outputs": [],
   "source": [
    "output=featureassembler.transform(salp)"
   ]
  },
  {
   "cell_type": "code",
   "execution_count": 31,
   "id": "e748fcef",
   "metadata": {},
   "outputs": [
    {
     "name": "stdout",
     "output_type": "stream",
     "text": [
      "+------+-----------+---------+-----------+------+--------+-----+--------------------+\n",
      "|salary|yearsworked|yearsrank|     market|degree|position|Field|Independent Features|\n",
      "+------+-----------+---------+-----------+------+--------+-----+--------------------+\n",
      "| 53000|          0|        0|1.169999957|     1|       1|    3|       [53000.0,3.0]|\n",
      "| 58000|          0|        0| 1.24000001|     1|       1|    2|       [58000.0,2.0]|\n",
      "| 45500|          0|        0|1.210000038|     1|       1|    3|       [45500.0,3.0]|\n",
      "| 35782|          2|        1| 0.99000001|     1|       1|    4|       [35782.0,4.0]|\n",
      "| 34731|          2|        2|0.910000026|     1|       1|    4|       [34731.0,4.0]|\n",
      "+------+-----------+---------+-----------+------+--------+-----+--------------------+\n",
      "only showing top 5 rows\n",
      "\n"
     ]
    }
   ],
   "source": [
    "output.show(5)"
   ]
  },
  {
   "cell_type": "code",
   "execution_count": 32,
   "id": "515711c4",
   "metadata": {
    "scrolled": false
   },
   "outputs": [
    {
     "data": {
      "text/plain": [
       "['salary',\n",
       " 'yearsworked',\n",
       " 'yearsrank',\n",
       " 'market',\n",
       " 'degree',\n",
       " 'position',\n",
       " 'Field',\n",
       " 'Independent Features']"
      ]
     },
     "execution_count": 32,
     "metadata": {},
     "output_type": "execute_result"
    }
   ],
   "source": [
    "output.columns"
   ]
  },
  {
   "cell_type": "code",
   "execution_count": 33,
   "id": "a4d03260",
   "metadata": {},
   "outputs": [
    {
     "name": "stdout",
     "output_type": "stream",
     "text": [
      "+--------------------+------+\n",
      "|Independent Features|salary|\n",
      "+--------------------+------+\n",
      "|       [53000.0,3.0]| 53000|\n",
      "|       [58000.0,2.0]| 58000|\n",
      "|       [45500.0,3.0]| 45500|\n",
      "|       [35782.0,4.0]| 35782|\n",
      "|       [34731.0,4.0]| 34731|\n",
      "+--------------------+------+\n",
      "only showing top 5 rows\n",
      "\n"
     ]
    }
   ],
   "source": [
    "output.select(\"Independent Features\",\"salary\").show(5)"
   ]
  },
  {
   "cell_type": "code",
   "execution_count": 34,
   "id": "b033a8a0",
   "metadata": {},
   "outputs": [],
   "source": [
    "final=output.select(\"Independent Features\",\"salary\")"
   ]
  },
  {
   "cell_type": "code",
   "execution_count": 35,
   "id": "f514fbb7",
   "metadata": {},
   "outputs": [],
   "source": [
    "from pyspark.ml.regression import LinearRegression\n",
    "#Train Test Split\n",
    "train_data,test_data=final.randomSplit([0.7, 0.3])\n",
    "regressor=LinearRegression(featuresCol='Independent Features', labelCol='salary')\n",
    "regressor=regressor.fit(train_data)"
   ]
  },
  {
   "cell_type": "code",
   "execution_count": 36,
   "id": "7a91589d",
   "metadata": {},
   "outputs": [
    {
     "data": {
      "text/plain": [
       "DenseVector([1.0, -0.0])"
      ]
     },
     "execution_count": 36,
     "metadata": {},
     "output_type": "execute_result"
    }
   ],
   "source": [
    "##Coefficients\n",
    "regressor.coefficients"
   ]
  },
  {
   "cell_type": "code",
   "execution_count": 37,
   "id": "1ab7ad90",
   "metadata": {},
   "outputs": [
    {
     "data": {
      "text/plain": [
       "1.2859587591397332e-10"
      ]
     },
     "execution_count": 37,
     "metadata": {},
     "output_type": "execute_result"
    }
   ],
   "source": [
    "## Intercepts\n",
    "regressor.intercept"
   ]
  },
  {
   "cell_type": "code",
   "execution_count": 38,
   "id": "b71a6b60",
   "metadata": {},
   "outputs": [],
   "source": [
    "#Predictions\n",
    "pred=regressor.evaluate(test_data)"
   ]
  },
  {
   "cell_type": "code",
   "execution_count": 39,
   "id": "74f84ff6",
   "metadata": {},
   "outputs": [
    {
     "name": "stdout",
     "output_type": "stream",
     "text": [
      "+--------------------+------+------------------+\n",
      "|Independent Features|salary|        prediction|\n",
      "+--------------------+------+------------------+\n",
      "|       [29000.0,3.0]| 29000|29000.000000000015|\n",
      "|       [29500.0,3.0]| 29500|29500.000000000015|\n",
      "|       [30662.0,3.0]| 30662|30662.000000000015|\n",
      "|       [30927.0,3.0]| 30927|30927.000000000015|\n",
      "|       [31577.0,3.0]| 31577| 31577.00000000001|\n",
      "+--------------------+------+------------------+\n",
      "only showing top 5 rows\n",
      "\n"
     ]
    }
   ],
   "source": [
    "pred.predictions.show(5)"
   ]
  },
  {
   "cell_type": "code",
   "execution_count": 41,
   "id": "70373ea5",
   "metadata": {},
   "outputs": [
    {
     "data": {
      "text/plain": [
       "(2.3002872208815925e-11, 7.551285572086571e-22)"
      ]
     },
     "execution_count": 41,
     "metadata": {},
     "output_type": "execute_result"
    }
   ],
   "source": [
    "pred.meanAbsoluteError,pred.meanSquaredError"
   ]
  },
  {
   "cell_type": "code",
   "execution_count": null,
   "id": "b8efd939",
   "metadata": {},
   "outputs": [],
   "source": []
  }
 ],
 "metadata": {
  "kernelspec": {
   "display_name": "Python 3",
   "language": "python",
   "name": "python3"
  },
  "language_info": {
   "codemirror_mode": {
    "name": "ipython",
    "version": 3
   },
   "file_extension": ".py",
   "mimetype": "text/x-python",
   "name": "python",
   "nbconvert_exporter": "python",
   "pygments_lexer": "ipython3",
   "version": "3.8.8"
  }
 },
 "nbformat": 4,
 "nbformat_minor": 5
}

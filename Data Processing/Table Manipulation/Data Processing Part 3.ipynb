{
 "cells": [
  {
   "cell_type": "markdown",
   "id": "1c243dd6",
   "metadata": {},
   "source": [
    "## Question 11 - 14"
   ]
  },
  {
   "cell_type": "code",
   "execution_count": 33,
   "id": "6737c01e",
   "metadata": {},
   "outputs": [],
   "source": [
    "import pandas as pd\n",
    "import os\n",
    "import mysql.connector\n",
    "import numpy as sp\n",
    "import matplotlib.pyplot as plt\n",
    "import seaborn as sns\n",
    "%matplotlib inline"
   ]
  },
  {
   "cell_type": "markdown",
   "id": "6a2fc161",
   "metadata": {},
   "source": [
    "# Database Connection Establishment"
   ]
  },
  {
   "cell_type": "code",
   "execution_count": 63,
   "id": "f163bdcd",
   "metadata": {
    "scrolled": true
   },
   "outputs": [
    {
     "name": "stdout",
     "output_type": "stream",
     "text": [
      "Enter username: root\n",
      "Enter password: ········\n",
      "<mysql.connector.connection.MySQLConnection object at 0x000001CD7B41DAF0>\n"
     ]
    }
   ],
   "source": [
    "#from getpass import getpass\n",
    "#from mysql.connector import connect, Error\n",
    "\n",
    "#try:\n",
    " #   with connect(\n",
    "  #      host=\"localhost\",\n",
    "   #     user=input(\"Enter username: \"),\n",
    "    #    password=getpass(\"Enter password: \"),\n",
    "     #    database=\"dataanalysis\",\n",
    "    #) as connection:\n",
    "     #   print(connection)\n",
    "#except Error as e:\n",
    " #   print(e)"
   ]
  },
  {
   "cell_type": "code",
   "execution_count": 64,
   "id": "53583aac",
   "metadata": {
    "scrolled": true
   },
   "outputs": [
    {
     "data": {
      "text/plain": [
       "<mysql.connector.connection.MySQLConnection at 0x1cd7b41daf0>"
      ]
     },
     "execution_count": 64,
     "metadata": {},
     "output_type": "execute_result"
    }
   ],
   "source": [
    "connection\n"
   ]
  },
  {
   "cell_type": "code",
   "execution_count": 65,
   "id": "afbcf087",
   "metadata": {},
   "outputs": [],
   "source": [
    "show_db_query = \"SHOW DATABASES\""
   ]
  },
  {
   "cell_type": "code",
   "execution_count": 77,
   "id": "58443a72",
   "metadata": {},
   "outputs": [
    {
     "name": "stdout",
     "output_type": "stream",
     "text": [
      "Connected to MySQL Server version  5.5.5-10.4.14-MariaDB\n",
      "You're connected to database:  ('dataanalysis',)\n"
     ]
    }
   ],
   "source": [
    "import mysql.connector\n",
    "from mysql.connector import Error\n",
    "\n",
    "try:\n",
    "    connection = mysql.connector.connect(host='localhost',\n",
    "                                         database='dataanalysis',\n",
    "                                         user='root',\n",
    "                                         password='')\n",
    "    if connection.is_connected():\n",
    "        db_Info = connection.get_server_info()\n",
    "        print(\"Connected to MySQL Server version \", db_Info)\n",
    "        cursor = connection.cursor()\n",
    "        cursor.execute(\"select database();\")\n",
    "        record = cursor.fetchone()\n",
    "        print(\"You're connected to database: \", record)\n",
    "\n",
    "except Error as e:\n",
    "    print(\"Error while connecting to MySQL\", e)\n",
    "#finally:\n",
    "  #  if (connection.is_connected()):\n",
    "   #     cursor.close()\n",
    "    #    connection.close()\n",
    "     #   print(\"MySQL connection is closed\")"
   ]
  },
  {
   "cell_type": "code",
   "execution_count": 69,
   "id": "be7cd896",
   "metadata": {},
   "outputs": [
    {
     "data": {
      "text/plain": [
       "'8.0.26'"
      ]
     },
     "execution_count": 69,
     "metadata": {},
     "output_type": "execute_result"
    }
   ],
   "source": [
    "mysql.connector.__version__"
   ]
  },
  {
   "cell_type": "markdown",
   "id": "8a7e0f27",
   "metadata": {},
   "source": [
    "# Creating Database Queries"
   ]
  },
  {
   "cell_type": "code",
   "execution_count": 74,
   "id": "fb686496",
   "metadata": {},
   "outputs": [],
   "source": [
    "show_db_query = \"SHOW Tables from dataanalysis\"\n"
   ]
  },
  {
   "cell_type": "code",
   "execution_count": 78,
   "id": "d9222045",
   "metadata": {},
   "outputs": [
    {
     "name": "stdout",
     "output_type": "stream",
     "text": [
      "('dispatchsql',)\n"
     ]
    }
   ],
   "source": [
    "with connection.cursor() as cursor:\n",
    "    cursor.execute(show_db_query)\n",
    "    result = cursor.fetchall()\n",
    "    for row in result:\n",
    "        print(row)"
   ]
  },
  {
   "cell_type": "code",
   "execution_count": 82,
   "id": "3a0a6200",
   "metadata": {},
   "outputs": [
    {
     "name": "stdout",
     "output_type": "stream",
     "text": [
      "(0, 'Time', '0:15:00', '0:30:00', '0:45', '1:00', '1:15', '1:30', '1:45', '2:00', '2:15', '2:30', '2:45', '3:00', '3:15', '3:30', '3:45', '4:00', '4:15', '4:30', '4:45', '5:00', '5:15', '5:30', '5:45', '6:00', '6:15', '6:30', '6:45', '7:00', '7:15', '7:30', '7:45', '8:00', '8:15', '8:30', '8:45', '9:00', '9:15', '9:30', '9:45', '10:00', '10:15', '10:30', '10:45', '11:00', '11:15', '11:30', '11:45', '12:00', '12:15', '12:30', '12:45', '13:00', '13:15', '13:30', '13:45', '14:00', '14:15', '14:30', '14:45', '15:00', '15:15', '15:30', '15:45', '16:00', '16:15', '16:30', '16:45', '17:00', '17:15', '17:30', '17:45', '18:00', '18:15', '18:30', '18:45', '19:00', '19:15', '19:30', '19:45', '20:00', '20:15', '20:30', '20:45', '21:00', '21:15', '21:30', '21:45', '22:00', '22:15', '22:30', '22:45', '23:00', '23:15', '23:30', '23:45', '0:00', 'Energy/(MWh) *')\n",
      "(1, 'Canyon', '10', '10', '10', '10', '10', '10', '10', '10', '10', '10', '10', '10', '0', '0', '0', '0', '0', '0', '0', '0', '0', '0', '0', '0', '0', '0', '0', '0', '0', '0', '0', '0', '0', '0', '11', '11', '11', '11', '11', '11', '11', '30', '30', '30', '30', '30', '30', '30', '30', '30', '30', '30', '30', '30', '30', '30', '30', '30', '30', '30', '30', '30', '30', '30', '30', '30', '30', '30', '30', '30', '30', '30', '30', '30', '30', '30', '30', '30', '30', '30', '30', '30', '30', '30', '30', '30', '30', '30', '30', '30', '30', '0', '0', '0', '0', '0', '425')\n"
     ]
    }
   ],
   "source": [
    "select_query=\"Select*from dispatchsql limit 2\"\n",
    "with connection.cursor() as cursor:\n",
    "    cursor.execute(select_query)\n",
    "    result = cursor.fetchall()\n",
    "    for row in result:\n",
    "        print(row)"
   ]
  },
  {
   "cell_type": "code",
   "execution_count": 83,
   "id": "e020d164",
   "metadata": {},
   "outputs": [],
   "source": [
    "update_query = \"\"\"\n",
    "UPDATE\n",
    "    dispatchsql\n",
    "SET\n",
    "    Unnamed_1 = \"10\"\n",
    "WHERE\n",
    "    Actual_System_Dispatch = \"WPS\"\n",
    "\"\"\"\n",
    "with connection.cursor() as cursor:\n",
    "    cursor.execute(update_query)\n",
    "    connection.commit()"
   ]
  },
  {
   "cell_type": "code",
   "execution_count": 84,
   "id": "443a0171",
   "metadata": {},
   "outputs": [
    {
     "name": "stdout",
     "output_type": "stream",
     "text": [
      "(2, 'WPS', '10', '0', '0', '0', '0', '0', '0', '0', '0', '0', '0', '0', '0', '0', '0', '0', '0', '0', '0', '0', '0', '0', '0', '0', '0', '0', '0', '0', '0', '0', '0', '0', '0', '0', '0', '0', '0', '0', '20', '20', '20', '20', '20', '20', '20', '20', '25', '25', '25', '25', '25', '25', '25', '25', '25', '25', '25', '25', '25', '25', '25', '25', '25', '25', '25', '25', '25', '10', '10', '10', '10', '10', '10', '10', '10', '10', '10', '10', '10', '10', '10', '10', '0', '0', '0', '0', '0', '0', '0', '0', '0', '0', '0', '0', '0', '0', '204')\n"
     ]
    }
   ],
   "source": [
    "up_query=\"\"\"Select*from dispatchsql WHERE Actual_System_Dispatch = \"WPS\" \"\"\"\n",
    "with connection.cursor() as cursor:\n",
    "    cursor.execute(up_query)\n",
    "    result = cursor.fetchall()\n",
    "    for row in result:\n",
    "        print(row)"
   ]
  },
  {
   "cell_type": "code",
   "execution_count": 90,
   "id": "b52b4aad",
   "metadata": {},
   "outputs": [],
   "source": [
    "pipeq= \"\"\"SELECT 'Actual_System_Dispatch', 'Unnamed_1' FROM dispatchsql WHERE Column_1 >=10 INTO OUTFILE '/Users/Asus/Documents/InternCsv/sqldispatch.csv' FIELDS TERMINATED BY '|' \"\"\"\n",
    "with connection.cursor() as cursor:\n",
    "    cursor.execute(pipeq)\n",
    "    result = cursor.fetchall()\n",
    "    for row in result:\n",
    "        print(row)\n"
   ]
  },
  {
   "cell_type": "code",
   "execution_count": null,
   "id": "fab1a88c",
   "metadata": {},
   "outputs": [],
   "source": []
  },
  {
   "cell_type": "code",
   "execution_count": null,
   "id": "c19d05c7",
   "metadata": {},
   "outputs": [],
   "source": []
  }
 ],
 "metadata": {
  "kernelspec": {
   "display_name": "Python 3",
   "language": "python",
   "name": "python3"
  },
  "language_info": {
   "codemirror_mode": {
    "name": "ipython",
    "version": 3
   },
   "file_extension": ".py",
   "mimetype": "text/x-python",
   "name": "python",
   "nbconvert_exporter": "python",
   "pygments_lexer": "ipython3",
   "version": "3.8.8"
  }
 },
 "nbformat": 4,
 "nbformat_minor": 5
}

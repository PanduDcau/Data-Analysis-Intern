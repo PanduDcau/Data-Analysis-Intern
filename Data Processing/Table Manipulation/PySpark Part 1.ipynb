{
 "cells": [
  {
   "cell_type": "code",
   "execution_count": 1,
   "id": "ce55c862",
   "metadata": {},
   "outputs": [
    {
     "data": {
      "text/plain": [
       "'C:\\\\spark'"
      ]
     },
     "execution_count": 1,
     "metadata": {},
     "output_type": "execute_result"
    }
   ],
   "source": [
    "#Testing Pyspark Installation\n",
    "import findspark\n",
    "\n",
    "findspark.init()\n",
    "findspark.find()\n",
    "\n",
    "import pyspark\n",
    "findspark.find()"
   ]
  },
  {
   "cell_type": "code",
   "execution_count": 2,
   "id": "733b24c2",
   "metadata": {},
   "outputs": [],
   "source": [
    "#intialize Spark Context\n",
    "from pyspark import SparkContext, SparkConf\n",
    "from pyspark.sql import SparkSession\n",
    "spark= SparkSession.builder.appName('Inter1').getOrCreate()"
   ]
  },
  {
   "cell_type": "code",
   "execution_count": 3,
   "id": "bf511ad2",
   "metadata": {},
   "outputs": [],
   "source": [
    "intern2=spark.read.option('header','true').csv('/Users/Asus/Documents/InternCsv/Dispatch_headerNew.csv')"
   ]
  },
  {
   "cell_type": "code",
   "execution_count": 4,
   "id": "dae505af",
   "metadata": {},
   "outputs": [
    {
     "data": {
      "text/plain": [
       "[('_c0', 'string'),\n",
       " ('Time_TimeUnnamed: 0', 'string'),\n",
       " ('Time_TimeActual System Dispatch', 'string'),\n",
       " ('Time_TimeCourses_List', 'string'),\n",
       " ('Time_TimeInitial Time', 'string'),\n",
       " ('Time_TimeUnnamed: 3', 'string'),\n",
       " ('Time_TimeUnnamed: 4', 'string'),\n",
       " ('Time_TimeUnnamed: 5', 'string'),\n",
       " ('Time_TimeUnnamed: 6', 'string'),\n",
       " ('Time_TimeUnnamed: 7', 'string'),\n",
       " ('Time_Time7/1/2020 0:00', 'string'),\n",
       " ('Time_TimeUnnamed: 9', 'string'),\n",
       " ('Time_TimeUnnamed: 10', 'string'),\n",
       " ('Time_TimeUnnamed: 11', 'string'),\n",
       " ('Time_TimeUnnamed: 12', 'string'),\n",
       " ('Time_TimeUnnamed: 13', 'string'),\n",
       " ('Time_TimeUnnamed: 14', 'string'),\n",
       " ('Time_TimeUnnamed: 15', 'string'),\n",
       " ('Time_TimeUnnamed: 16', 'string'),\n",
       " ('Time_TimeUnnamed: 17', 'string'),\n",
       " ('Time_TimeUnnamed: 18', 'string'),\n",
       " ('Time_TimeUnnamed: 19', 'string'),\n",
       " ('Time_TimeUnnamed: 20', 'string'),\n",
       " ('Time_TimeUnnamed: 21', 'string'),\n",
       " ('Time_TimeUnnamed: 22', 'string'),\n",
       " ('Time_TimeUnnamed: 23', 'string'),\n",
       " ('Time_TimeUnnamed: 24', 'string'),\n",
       " ('Time_TimeUnnamed: 25', 'string'),\n",
       " ('Time_TimeUnnamed: 26', 'string'),\n",
       " ('Time_TimeUnnamed: 27', 'string'),\n",
       " ('Time_TimeUnnamed: 28', 'string'),\n",
       " ('Time_TimeUnnamed: 29', 'string'),\n",
       " ('Time_TimeUnnamed: 30', 'string'),\n",
       " ('Time_TimeUnnamed: 31', 'string'),\n",
       " ('Time_TimeUnnamed: 32', 'string'),\n",
       " ('Time_TimeUnnamed: 33', 'string'),\n",
       " ('Time_TimeUnnamed: 34', 'string'),\n",
       " ('Time_TimeUnnamed: 35', 'string'),\n",
       " ('Time_TimeUnnamed: 36', 'string'),\n",
       " ('Time_TimeUnnamed: 37', 'string'),\n",
       " ('Time_TimeUnnamed: 38', 'string'),\n",
       " ('Time_TimeUnnamed: 39', 'string'),\n",
       " ('Time_TimeUnnamed: 40', 'string'),\n",
       " ('Time_TimeUnnamed: 41', 'string'),\n",
       " ('Time_TimeUnnamed: 42', 'string'),\n",
       " ('Time_TimeUnnamed: 43', 'string'),\n",
       " ('Time_TimeUnnamed: 44', 'string'),\n",
       " ('Time_TimeUnnamed: 45', 'string'),\n",
       " ('Time_TimeUnnamed: 46', 'string'),\n",
       " ('Time_TimeUnnamed: 47', 'string'),\n",
       " ('Time_TimeUnnamed: 48', 'string'),\n",
       " ('Time_TimeUnnamed: 49', 'string'),\n",
       " ('Time_TimeUnnamed: 50', 'string'),\n",
       " ('Time_TimeUnnamed: 51', 'string'),\n",
       " ('Time_TimeUnnamed: 52', 'string'),\n",
       " ('Time_TimeUnnamed: 53', 'string'),\n",
       " ('Time_TimeUnnamed: 54', 'string'),\n",
       " ('Time_TimeUnnamed: 55', 'string'),\n",
       " ('Time_TimeUnnamed: 56', 'string'),\n",
       " ('Time_TimeUnnamed: 57', 'string'),\n",
       " ('Time_TimeUnnamed: 58', 'string'),\n",
       " ('Time_TimeUnnamed: 59', 'string'),\n",
       " ('Time_TimeUnnamed: 60', 'string'),\n",
       " ('Time_TimeUnnamed: 61', 'string'),\n",
       " ('Time_TimeUnnamed: 62', 'string'),\n",
       " ('Time_TimeUnnamed: 63', 'string'),\n",
       " ('Time_TimeUnnamed: 64', 'string'),\n",
       " ('Time_TimeUnnamed: 65', 'string'),\n",
       " ('Time_TimeUnnamed: 66', 'string'),\n",
       " ('Time_TimeUnnamed: 67', 'string'),\n",
       " ('Time_TimeUnnamed: 68', 'string'),\n",
       " ('Time_TimeUnnamed: 69', 'string'),\n",
       " ('Time_TimeUnnamed: 70', 'string'),\n",
       " ('Time_TimeUnnamed: 71', 'string'),\n",
       " ('Time_TimeUnnamed: 72', 'string'),\n",
       " ('Time_TimeUnnamed: 73', 'string'),\n",
       " ('Time_TimeUnnamed: 74', 'string'),\n",
       " ('Time_TimeUnnamed: 75', 'string'),\n",
       " ('Time_TimeUnnamed: 76', 'string'),\n",
       " ('Time_TimeUnnamed: 77', 'string'),\n",
       " ('Time_TimeUnnamed: 78', 'string'),\n",
       " ('Time_TimeUnnamed: 79', 'string'),\n",
       " ('Time_TimeUnnamed: 80', 'string'),\n",
       " ('Time_TimeUnnamed: 81', 'string'),\n",
       " ('Time_TimeUnnamed: 82', 'string'),\n",
       " ('Time_TimeUnnamed: 83', 'string'),\n",
       " ('Time_TimeUnnamed: 84', 'string'),\n",
       " ('Time_TimeUnnamed: 85', 'string'),\n",
       " ('Time_TimeUnnamed: 86', 'string'),\n",
       " ('Time_TimeUnnamed: 87', 'string'),\n",
       " ('Time_TimeUnnamed: 88', 'string'),\n",
       " ('Time_TimeUnnamed: 89', 'string'),\n",
       " ('Time_TimeUnnamed: 90', 'string'),\n",
       " ('Time_TimeUnnamed: 91', 'string'),\n",
       " ('Time_TimeUnnamed: 92', 'string'),\n",
       " ('Time_TimeUnnamed: 93', 'string'),\n",
       " ('Time_TimeUnnamed: 94', 'string'),\n",
       " ('Time_TimeUnnamed: 95', 'string'),\n",
       " ('Time_TimeUnnamed: 96', 'string'),\n",
       " ('Time_TimeUnnamed: 97', 'string')]"
      ]
     },
     "execution_count": 4,
     "metadata": {},
     "output_type": "execute_result"
    }
   ],
   "source": [
    "intern2.dtypes"
   ]
  },
  {
   "cell_type": "markdown",
   "id": "a82b5cf3",
   "metadata": {},
   "source": [
    "## UDF Functions in Pyspark"
   ]
  },
  {
   "cell_type": "code",
   "execution_count": 8,
   "id": "306b06e8",
   "metadata": {},
   "outputs": [],
   "source": [
    "#Udf Approch\n",
    "#Example for Get a brief Understanding\n",
    "import pyspark\n",
    "from pyspark import SQLContext\n",
    "from pyspark.sql.types import StructType, StructField, IntegerType, FloatType, StringType\n",
    "from pyspark.sql.functions import udf\n",
    "from pyspark.sql import Row\n",
    "\n",
    "\n",
    "conf = pyspark.SparkConf() \n",
    "\n",
    " \n",
    "sc = pyspark.SparkContext.getOrCreate(conf=conf)\n",
    "spark = SQLContext(sc)\n",
    "\n",
    "schema = StructType([\n",
    "    StructField(\"sales\", FloatType(),True),    \n",
    "    StructField(\"employee\", StringType(),True),\n",
    "    StructField(\"ID\", IntegerType(),True)\n",
    "])\n",
    "\n",
    "data = [[ 10.2, \"Fred\",123]]\n",
    "\n",
    "exam = spark.createDataFrame(data,schema=schema)\n",
    "\n",
    "colsInt = udf(lambda z: toInt(z), IntegerType())\n",
    "spark.udf.register(\"colsInt\", colsInt)\n",
    "\n",
    "def toInt(s):\n",
    "    if isinstance(s, str) == True:\n",
    "        st = [str(ord(i)) for i in s]\n",
    "        return(int(''.join(st)))\n",
    "    else:\n",
    "         return Null\n",
    "\n",
    "\n",
    "inter = exam.withColumn( 'semployee',colsInt('employee'))"
   ]
  },
  {
   "cell_type": "code",
   "execution_count": 6,
   "id": "774a734a",
   "metadata": {},
   "outputs": [
    {
     "name": "stdout",
     "output_type": "stream",
     "text": [
      "+-----+--------+---+----------+\n",
      "|sales|employee| ID| semployee|\n",
      "+-----+--------+---+----------+\n",
      "| 10.2|    Fred|123|1394624364|\n",
      "+-----+--------+---+----------+\n",
      "\n"
     ]
    }
   ],
   "source": [
    "inter.show()"
   ]
  },
  {
   "cell_type": "markdown",
   "id": "60b375d7",
   "metadata": {},
   "source": [
    "## 1)Using Sql in Pyspark"
   ]
  },
  {
   "cell_type": "code",
   "execution_count": 7,
   "id": "449c6bf9",
   "metadata": {},
   "outputs": [],
   "source": [
    "spark.registerDataFrameAsTable(intern2, \"Inter\")"
   ]
  },
  {
   "cell_type": "code",
   "execution_count": 9,
   "id": "9d600a95",
   "metadata": {},
   "outputs": [],
   "source": [
    "Salp = spark.sql(\"select Time_TimeCourses_List from Inter\")"
   ]
  },
  {
   "cell_type": "code",
   "execution_count": 10,
   "id": "e566bc4b",
   "metadata": {},
   "outputs": [
    {
     "name": "stdout",
     "output_type": "stream",
     "text": [
      "+---------------------+\n",
      "|Time_TimeCourses_List|\n",
      "+---------------------+\n",
      "|              0:15:00|\n",
      "|                   10|\n",
      "|                    0|\n",
      "|                    5|\n",
      "|                   46|\n",
      "+---------------------+\n",
      "only showing top 5 rows\n",
      "\n"
     ]
    }
   ],
   "source": [
    "Salp.show(5)"
   ]
  },
  {
   "cell_type": "markdown",
   "id": "db5778d8",
   "metadata": {},
   "source": [
    "## 2) RDD Map Fucntion"
   ]
  },
  {
   "cell_type": "code",
   "execution_count": 11,
   "id": "641e7f22",
   "metadata": {},
   "outputs": [],
   "source": [
    "def tointern(rdd):\n",
    "    s = rdd[\"Time_TimeCourses_List\"]\n",
    "    if isinstance(s, str) == True:\n",
    "        st = [str(ord(i)) for i in s]\n",
    "        e = int(''.join(st)) \n",
    "    else:\n",
    "        e = s\n",
    "    \n",
    "    return Row(rdd[\"Time_TimeCourses_List\"],rdd[\"Time_TimeActual System Dispatch\"],e)"
   ]
  },
  {
   "cell_type": "code",
   "execution_count": 14,
   "id": "ce40cf29",
   "metadata": {},
   "outputs": [],
   "source": [
    "rdd = intern2.rdd.map(tointern)"
   ]
  },
  {
   "cell_type": "code",
   "execution_count": 15,
   "id": "f51fcbe1",
   "metadata": {},
   "outputs": [
    {
     "name": "stdout",
     "output_type": "stream",
     "text": [
      "<Row('0:15:00', 'Time', 48584953584848)>\n",
      "<Row('10', 'Canyon', 4948)>\n",
      "<Row('0', 'WPS', 48)>\n",
      "<Row('5', 'Olax', 53)>\n",
      "<Row('46', 'Nlax', 5254)>\n",
      "<Row('21', 'Polp', 5049)>\n",
      "<Row('0', 'Upper Kothmale', 48)>\n",
      "<Row('54', 'Koth', 5352)>\n",
      "<Row('0', 'Vict', 48)>\n",
      "<Row('0', 'Rand', 48)>\n",
      "<Row('0', 'Rant', 48)>\n",
      "<Row('36', 'Uku', 5154)>\n",
      "<Row('0', 'Bowa', 48)>\n",
      "<Row('0', 'Sam', 48)>\n",
      "<Row('53', 'Kukule', 5351)>\n",
      "<Row('274', 'LVPS 1', 505552)>\n",
      "<Row('270', 'LVPS 2', 505548)>\n",
      "<Row('270', 'LVPS 3', 505548)>\n",
      "<Row('33', 'Sapu A', 5151)>\n",
      "<Row('59', 'Sapu B', 5357)>\n",
      "<Row('0', 'Uthuru Janani', 48)>\n",
      "<Row('45', 'Barge', 5253)>\n",
      "<Row('0', 'KCCP', 48)>\n",
      "<Row('0', 'ACE EMBP', 48)>\n",
      "<Row('0', 'ACE Matara', 48)>\n",
      "<Row('0', 'Asia Power', 48)>\n",
      "<Row('140', 'WCP', 495248)>\n",
      "<Row('0', 'Sojitz CCP', 48)>\n",
      "<Row('0', 'KPS(GT7)', 48)>\n",
      "<Row('0', 'KPS(GT)', 48)>\n",
      "<Row('0', 'CEB Sup Power', 48)>\n",
      "<Row('0', 'VPOWER Hamb.', 48)>\n",
      "<Row('0', 'VPOWER Palle.', 48)>\n",
      "<Row('0', 'VPOWER Horona', 48)>\n",
      "<Row('0', 'ALTAQQA-Pol.', 48)>\n",
      "<Row('0', 'ALTAQQA-Mahi.', 48)>\n",
      "<Row('0', 'Solar**', 48)>\n",
      "<Row('51', 'Wind **', 5349)>\n",
      "<Row('65', 'CEB/IPP Mini Hydro***', 5453)>\n",
      "<Row('1434', 'Total MW', 49525152)>\n",
      "<Row('0:15', 'Time', 48584953)>\n",
      "<Row('814', 'Coal', 564952)>\n",
      "<Row('137', 'Oil- CEB owned', 495155)>\n",
      "<Row('140', 'Oil-IPP owned', 495248)>\n",
      "<Row('225', 'Major Hydro', 505053)>\n",
      "<Row('51', 'Wind', 5349)>\n",
      "<Row('0', 'Solar', 48)>\n",
      "<Row('1432', None, 49525150)>\n"
     ]
    }
   ],
   "source": [
    "for x in rdd.collect():\n",
    "    print(x)"
   ]
  },
  {
   "cell_type": "code",
   "execution_count": null,
   "id": "f29791ca",
   "metadata": {},
   "outputs": [],
   "source": []
  }
 ],
 "metadata": {
  "kernelspec": {
   "display_name": "Python 3",
   "language": "python",
   "name": "python3"
  },
  "language_info": {
   "codemirror_mode": {
    "name": "ipython",
    "version": 3
   },
   "file_extension": ".py",
   "mimetype": "text/x-python",
   "name": "python",
   "nbconvert_exporter": "python",
   "pygments_lexer": "ipython3",
   "version": "3.8.8"
  }
 },
 "nbformat": 4,
 "nbformat_minor": 5
}

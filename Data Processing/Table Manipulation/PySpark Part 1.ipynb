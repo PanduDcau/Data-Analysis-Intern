{
 "cells": [
  {
   "cell_type": "code",
   "execution_count": 1,
   "id": "ef1053fd",
   "metadata": {},
   "outputs": [
    {
     "data": {
      "text/plain": [
       "'C:\\\\spark'"
      ]
     },
     "execution_count": 1,
     "metadata": {},
     "output_type": "execute_result"
    }
   ],
   "source": [
    "#Testing Pyspark Installation\n",
    "import findspark\n",
    "\n",
    "findspark.init()\n",
    "findspark.find()\n",
    "\n",
    "import pyspark\n",
    "findspark.find()"
   ]
  },
  {
   "cell_type": "code",
   "execution_count": 2,
   "id": "8277228e",
   "metadata": {},
   "outputs": [],
   "source": [
    "#intialize Spark Context\n",
    "from pyspark import SparkContext, SparkConf\n",
    "from pyspark.sql import SparkSession\n",
    "spark= SparkSession.builder.appName('Inter1').getOrCreate()"
   ]
  },
  {
   "cell_type": "code",
   "execution_count": 3,
   "id": "ef47f277",
   "metadata": {},
   "outputs": [],
   "source": [
    "intern2=spark.read.option('header','true').csv('/Users/Asus/Documents/InternCsv/Dispatch_headerNew.csv')"
   ]
  },
  {
   "cell_type": "code",
   "execution_count": 4,
   "id": "5e5350c8",
   "metadata": {},
   "outputs": [
    {
     "data": {
      "text/plain": [
       "[('_c0', 'string'),\n",
       " ('Time_TimeUnnamed: 0', 'string'),\n",
       " ('Time_TimeActual System Dispatch', 'string'),\n",
       " ('Time_TimeCourses_List', 'string'),\n",
       " ('Time_TimeInitial Time', 'string'),\n",
       " ('Time_TimeUnnamed: 3', 'string'),\n",
       " ('Time_TimeUnnamed: 4', 'string'),\n",
       " ('Time_TimeUnnamed: 5', 'string'),\n",
       " ('Time_TimeUnnamed: 6', 'string'),\n",
       " ('Time_TimeUnnamed: 7', 'string'),\n",
       " ('Time_Time7/1/2020 0:00', 'string'),\n",
       " ('Time_TimeUnnamed: 9', 'string'),\n",
       " ('Time_TimeUnnamed: 10', 'string'),\n",
       " ('Time_TimeUnnamed: 11', 'string'),\n",
       " ('Time_TimeUnnamed: 12', 'string'),\n",
       " ('Time_TimeUnnamed: 13', 'string'),\n",
       " ('Time_TimeUnnamed: 14', 'string'),\n",
       " ('Time_TimeUnnamed: 15', 'string'),\n",
       " ('Time_TimeUnnamed: 16', 'string'),\n",
       " ('Time_TimeUnnamed: 17', 'string'),\n",
       " ('Time_TimeUnnamed: 18', 'string'),\n",
       " ('Time_TimeUnnamed: 19', 'string'),\n",
       " ('Time_TimeUnnamed: 20', 'string'),\n",
       " ('Time_TimeUnnamed: 21', 'string'),\n",
       " ('Time_TimeUnnamed: 22', 'string'),\n",
       " ('Time_TimeUnnamed: 23', 'string'),\n",
       " ('Time_TimeUnnamed: 24', 'string'),\n",
       " ('Time_TimeUnnamed: 25', 'string'),\n",
       " ('Time_TimeUnnamed: 26', 'string'),\n",
       " ('Time_TimeUnnamed: 27', 'string'),\n",
       " ('Time_TimeUnnamed: 28', 'string'),\n",
       " ('Time_TimeUnnamed: 29', 'string'),\n",
       " ('Time_TimeUnnamed: 30', 'string'),\n",
       " ('Time_TimeUnnamed: 31', 'string'),\n",
       " ('Time_TimeUnnamed: 32', 'string'),\n",
       " ('Time_TimeUnnamed: 33', 'string'),\n",
       " ('Time_TimeUnnamed: 34', 'string'),\n",
       " ('Time_TimeUnnamed: 35', 'string'),\n",
       " ('Time_TimeUnnamed: 36', 'string'),\n",
       " ('Time_TimeUnnamed: 37', 'string'),\n",
       " ('Time_TimeUnnamed: 38', 'string'),\n",
       " ('Time_TimeUnnamed: 39', 'string'),\n",
       " ('Time_TimeUnnamed: 40', 'string'),\n",
       " ('Time_TimeUnnamed: 41', 'string'),\n",
       " ('Time_TimeUnnamed: 42', 'string'),\n",
       " ('Time_TimeUnnamed: 43', 'string'),\n",
       " ('Time_TimeUnnamed: 44', 'string'),\n",
       " ('Time_TimeUnnamed: 45', 'string'),\n",
       " ('Time_TimeUnnamed: 46', 'string'),\n",
       " ('Time_TimeUnnamed: 47', 'string'),\n",
       " ('Time_TimeUnnamed: 48', 'string'),\n",
       " ('Time_TimeUnnamed: 49', 'string'),\n",
       " ('Time_TimeUnnamed: 50', 'string'),\n",
       " ('Time_TimeUnnamed: 51', 'string'),\n",
       " ('Time_TimeUnnamed: 52', 'string'),\n",
       " ('Time_TimeUnnamed: 53', 'string'),\n",
       " ('Time_TimeUnnamed: 54', 'string'),\n",
       " ('Time_TimeUnnamed: 55', 'string'),\n",
       " ('Time_TimeUnnamed: 56', 'string'),\n",
       " ('Time_TimeUnnamed: 57', 'string'),\n",
       " ('Time_TimeUnnamed: 58', 'string'),\n",
       " ('Time_TimeUnnamed: 59', 'string'),\n",
       " ('Time_TimeUnnamed: 60', 'string'),\n",
       " ('Time_TimeUnnamed: 61', 'string'),\n",
       " ('Time_TimeUnnamed: 62', 'string'),\n",
       " ('Time_TimeUnnamed: 63', 'string'),\n",
       " ('Time_TimeUnnamed: 64', 'string'),\n",
       " ('Time_TimeUnnamed: 65', 'string'),\n",
       " ('Time_TimeUnnamed: 66', 'string'),\n",
       " ('Time_TimeUnnamed: 67', 'string'),\n",
       " ('Time_TimeUnnamed: 68', 'string'),\n",
       " ('Time_TimeUnnamed: 69', 'string'),\n",
       " ('Time_TimeUnnamed: 70', 'string'),\n",
       " ('Time_TimeUnnamed: 71', 'string'),\n",
       " ('Time_TimeUnnamed: 72', 'string'),\n",
       " ('Time_TimeUnnamed: 73', 'string'),\n",
       " ('Time_TimeUnnamed: 74', 'string'),\n",
       " ('Time_TimeUnnamed: 75', 'string'),\n",
       " ('Time_TimeUnnamed: 76', 'string'),\n",
       " ('Time_TimeUnnamed: 77', 'string'),\n",
       " ('Time_TimeUnnamed: 78', 'string'),\n",
       " ('Time_TimeUnnamed: 79', 'string'),\n",
       " ('Time_TimeUnnamed: 80', 'string'),\n",
       " ('Time_TimeUnnamed: 81', 'string'),\n",
       " ('Time_TimeUnnamed: 82', 'string'),\n",
       " ('Time_TimeUnnamed: 83', 'string'),\n",
       " ('Time_TimeUnnamed: 84', 'string'),\n",
       " ('Time_TimeUnnamed: 85', 'string'),\n",
       " ('Time_TimeUnnamed: 86', 'string'),\n",
       " ('Time_TimeUnnamed: 87', 'string'),\n",
       " ('Time_TimeUnnamed: 88', 'string'),\n",
       " ('Time_TimeUnnamed: 89', 'string'),\n",
       " ('Time_TimeUnnamed: 90', 'string'),\n",
       " ('Time_TimeUnnamed: 91', 'string'),\n",
       " ('Time_TimeUnnamed: 92', 'string'),\n",
       " ('Time_TimeUnnamed: 93', 'string'),\n",
       " ('Time_TimeUnnamed: 94', 'string'),\n",
       " ('Time_TimeUnnamed: 95', 'string'),\n",
       " ('Time_TimeUnnamed: 96', 'string'),\n",
       " ('Time_TimeUnnamed: 97', 'string')]"
      ]
     },
     "execution_count": 4,
     "metadata": {},
     "output_type": "execute_result"
    }
   ],
   "source": [
    "intern2.dtypes"
   ]
  },
  {
   "cell_type": "markdown",
   "id": "3b892921",
   "metadata": {},
   "source": [
    "## UDF Functions in Pyspark"
   ]
  },
  {
   "cell_type": "code",
   "execution_count": 8,
   "id": "bc109d87",
   "metadata": {},
   "outputs": [],
   "source": [
    "#Udf Approch\n",
    "#Example for Get a brief Understanding\n",
    "import pyspark\n",
    "from pyspark import SQLContext\n",
    "from pyspark.sql.types import StructType, StructField, IntegerType, FloatType, StringType\n",
    "from pyspark.sql.functions import udf\n",
    "from pyspark.sql import Row\n",
    "\n",
    "\n",
    "conf = pyspark.SparkConf() \n",
    "\n",
    " \n",
    "sc = pyspark.SparkContext.getOrCreate(conf=conf)\n",
    "spark = SQLContext(sc)\n",
    "\n",
    "schema = StructType([\n",
    "    StructField(\"sales\", FloatType(),True),    \n",
    "    StructField(\"employee\", StringType(),True),\n",
    "    StructField(\"ID\", IntegerType(),True)\n",
    "])\n",
    "\n",
    "data = [[ 10.2, \"Fred\",123]]\n",
    "\n",
    "exam = spark.createDataFrame(data,schema=schema)\n",
    "\n",
    "colsInt = udf(lambda z: toInt(z), IntegerType())\n",
    "spark.udf.register(\"colsInt\", colsInt)\n",
    "\n",
    "def toInt(s):\n",
    "    if isinstance(s, str) == True:\n",
    "        st = [str(ord(i)) for i in s]\n",
    "        return(int(''.join(st)))\n",
    "    else:\n",
    "         return Null\n",
    "\n",
    "\n",
    "inter = exam.withColumn( 'semployee',colsInt('employee'))"
   ]
  },
  {
   "cell_type": "code",
   "execution_count": 6,
   "id": "f4a7e305",
   "metadata": {},
   "outputs": [
    {
     "name": "stdout",
     "output_type": "stream",
     "text": [
      "+-----+--------+---+----------+\n",
      "|sales|employee| ID| semployee|\n",
      "+-----+--------+---+----------+\n",
      "| 10.2|    Fred|123|1394624364|\n",
      "+-----+--------+---+----------+\n",
      "\n"
     ]
    }
   ],
   "source": [
    "inter.show()"
   ]
  },
  {
   "cell_type": "markdown",
   "id": "2b337933",
   "metadata": {},
   "source": [
    "## 1)Using Sql in Pyspark"
   ]
  },
  {
   "cell_type": "code",
   "execution_count": 7,
   "id": "32f6154b",
   "metadata": {},
   "outputs": [],
   "source": [
    "spark.registerDataFrameAsTable(intern2, \"Inter\")"
   ]
  },
  {
   "cell_type": "code",
   "execution_count": 9,
   "id": "573ace5a",
   "metadata": {},
   "outputs": [],
   "source": [
    "Salp = spark.sql(\"select Time_TimeCourses_List from Inter\")"
   ]
  },
  {
   "cell_type": "code",
   "execution_count": 10,
   "id": "10378228",
   "metadata": {},
   "outputs": [
    {
     "name": "stdout",
     "output_type": "stream",
     "text": [
      "+---------------------+\n",
      "|Time_TimeCourses_List|\n",
      "+---------------------+\n",
      "|              0:15:00|\n",
      "|                   10|\n",
      "|                    0|\n",
      "|                    5|\n",
      "|                   46|\n",
      "+---------------------+\n",
      "only showing top 5 rows\n",
      "\n"
     ]
    }
   ],
   "source": [
    "Salp.show(5)"
   ]
  },
  {
   "cell_type": "markdown",
   "id": "5e5500b6",
   "metadata": {},
   "source": [
    "## 2) RDD Map Fucntion"
   ]
  },
  {
   "cell_type": "code",
   "execution_count": 11,
   "id": "2d1915d7",
   "metadata": {},
   "outputs": [],
   "source": [
    "def tointern(rdd):\n",
    "    s = rdd[\"Time_TimeCourses_List\"]\n",
    "    if isinstance(s, str) == True:\n",
    "        st = [str(ord(i)) for i in s]\n",
    "        e = int(''.join(st)) \n",
    "    else:\n",
    "        e = s\n",
    "    \n",
    "    return Row(rdd[\"Time_TimeCourses_List\"],rdd[\"Time_TimeActual System Dispatch\"],e)"
   ]
  },
  {
   "cell_type": "code",
   "execution_count": 14,
   "id": "78dab465",
   "metadata": {},
   "outputs": [],
   "source": [
    "rdd = intern2.rdd.map(tointern)"
   ]
  },
  {
   "cell_type": "code",
   "execution_count": 15,
   "id": "d13ce2a2",
   "metadata": {},
   "outputs": [
    {
     "name": "stdout",
     "output_type": "stream",
     "text": [
      "<Row('0:15:00', 'Time', 48584953584848)>\n",
      "<Row('10', 'Canyon', 4948)>\n",
      "<Row('0', 'WPS', 48)>\n",
      "<Row('5', 'Olax', 53)>\n",
      "<Row('46', 'Nlax', 5254)>\n",
      "<Row('21', 'Polp', 5049)>\n",
      "<Row('0', 'Upper Kothmale', 48)>\n",
      "<Row('54', 'Koth', 5352)>\n",
      "<Row('0', 'Vict', 48)>\n",
      "<Row('0', 'Rand', 48)>\n",
      "<Row('0', 'Rant', 48)>\n",
      "<Row('36', 'Uku', 5154)>\n",
      "<Row('0', 'Bowa', 48)>\n",
      "<Row('0', 'Sam', 48)>\n",
      "<Row('53', 'Kukule', 5351)>\n",
      "<Row('274', 'LVPS 1', 505552)>\n",
      "<Row('270', 'LVPS 2', 505548)>\n",
      "<Row('270', 'LVPS 3', 505548)>\n",
      "<Row('33', 'Sapu A', 5151)>\n",
      "<Row('59', 'Sapu B', 5357)>\n",
      "<Row('0', 'Uthuru Janani', 48)>\n",
      "<Row('45', 'Barge', 5253)>\n",
      "<Row('0', 'KCCP', 48)>\n",
      "<Row('0', 'ACE EMBP', 48)>\n",
      "<Row('0', 'ACE Matara', 48)>\n",
      "<Row('0', 'Asia Power', 48)>\n",
      "<Row('140', 'WCP', 495248)>\n",
      "<Row('0', 'Sojitz CCP', 48)>\n",
      "<Row('0', 'KPS(GT7)', 48)>\n",
      "<Row('0', 'KPS(GT)', 48)>\n",
      "<Row('0', 'CEB Sup Power', 48)>\n",
      "<Row('0', 'VPOWER Hamb.', 48)>\n",
      "<Row('0', 'VPOWER Palle.', 48)>\n",
      "<Row('0', 'VPOWER Horona', 48)>\n",
      "<Row('0', 'ALTAQQA-Pol.', 48)>\n",
      "<Row('0', 'ALTAQQA-Mahi.', 48)>\n",
      "<Row('0', 'Solar**', 48)>\n",
      "<Row('51', 'Wind **', 5349)>\n",
      "<Row('65', 'CEB/IPP Mini Hydro***', 5453)>\n",
      "<Row('1434', 'Total MW', 49525152)>\n",
      "<Row('0:15', 'Time', 48584953)>\n",
      "<Row('814', 'Coal', 564952)>\n",
      "<Row('137', 'Oil- CEB owned', 495155)>\n",
      "<Row('140', 'Oil-IPP owned', 495248)>\n",
      "<Row('225', 'Major Hydro', 505053)>\n",
      "<Row('51', 'Wind', 5349)>\n",
      "<Row('0', 'Solar', 48)>\n",
      "<Row('1432', None, 49525150)>\n"
     ]
    }
   ],
   "source": [
    "for x in rdd.collect():\n",
    "    print(x)"
   ]
  },
  {
   "cell_type": "markdown",
   "id": "9dde16d1",
   "metadata": {},
   "source": [
    "## Group By Filter"
   ]
  },
  {
   "cell_type": "code",
   "execution_count": 16,
   "id": "dd1c62d2",
   "metadata": {},
   "outputs": [
    {
     "name": "stdout",
     "output_type": "stream",
     "text": [
      "+-------------------------------+---------------------+\n",
      "|Time_TimeActual System Dispatch|Time_TimeInitial Time|\n",
      "+-------------------------------+---------------------+\n",
      "|                         LVPS 1|                  274|\n",
      "|                         LVPS 2|                  270|\n",
      "|                         LVPS 3|                  270|\n",
      "|                            WCP|                  140|\n",
      "|                       Total MW|                 1417|\n",
      "+-------------------------------+---------------------+\n",
      "only showing top 5 rows\n",
      "\n"
     ]
    }
   ],
   "source": [
    "#Filtering Time Courses list\n",
    "intern2.filter('Time_TimeCourses_List>=100').select(['Time_TimeActual System Dispatch','Time_TimeInitial Time']).show(5)"
   ]
  },
  {
   "cell_type": "code",
   "execution_count": 22,
   "id": "b7452d48",
   "metadata": {},
   "outputs": [
    {
     "name": "stdout",
     "output_type": "stream",
     "text": [
      "+---------------------+-----+\n",
      "|Time_TimeCourses_List|count|\n",
      "+---------------------+-----+\n",
      "|                   51|    2|\n",
      "|                   54|    1|\n",
      "|                   59|    1|\n",
      "|                    0|   23|\n",
      "|                    5|    1|\n",
      "|              0:15:00|    1|\n",
      "|                  274|    1|\n",
      "|                  140|    2|\n",
      "|                   46|    1|\n",
      "|                 1434|    1|\n",
      "+---------------------+-----+\n",
      "only showing top 10 rows\n",
      "\n"
     ]
    }
   ],
   "source": [
    "#intern2.printSchema()\n",
    "#Group by Filtering\n",
    "intern2.groupby('Time_TimeCourses_List').count().show(10)"
   ]
  },
  {
   "cell_type": "code",
   "execution_count": 48,
   "id": "30209cc4",
   "metadata": {},
   "outputs": [
    {
     "name": "stdout",
     "output_type": "stream",
     "text": [
      "+---------------------+-------------------------------+---------------------+\n",
      "|Time_TimeCourses_List|Time_TimeActual System Dispatch|Time_TimeInitial Time|\n",
      "+---------------------+-------------------------------+---------------------+\n",
      "|                 1432|                           null|                 1415|\n",
      "|                    0|                       ACE EMBP|                    0|\n",
      "|                    0|                     ACE Matara|                    0|\n",
      "|                    0|                  ALTAQQA-Mahi.|                    0|\n",
      "|                    0|                   ALTAQQA-Pol.|                    0|\n",
      "+---------------------+-------------------------------+---------------------+\n",
      "only showing top 5 rows\n",
      "\n"
     ]
    }
   ],
   "source": [
    "from pyspark.sql.functions import col, asc,desc\n",
    "#Order By\n",
    "#intern2.orderBy(col(\"Time_TimeActual System Dispatch\"),col(\"Time_TimeCourses_List\")).show(truncate=False)\n",
    "#intern2.orderBy(col(\"Time_TimeActual System Dispatch\"),col(\"Time_TimeCourses_List\")).show(3)\n",
    "in2=intern2.orderBy(\"Time_TimeActual System Dispatch\")\n",
    "in2.select(['Time_TimeCourses_List','Time_TimeActual System Dispatch','Time_TimeInitial Time']).show(5)"
   ]
  },
  {
   "cell_type": "code",
   "execution_count": 49,
   "id": "69466a7d",
   "metadata": {
    "scrolled": true
   },
   "outputs": [
    {
     "name": "stdout",
     "output_type": "stream",
     "text": [
      "+---------------------+-------------------------------+---------------------+\n",
      "|Time_TimeCourses_List|Time_TimeActual System Dispatch|Time_TimeInitial Time|\n",
      "+---------------------+-------------------------------+---------------------+\n",
      "|                    0|                 Upper Kothmale|                    0|\n",
      "|                    0|                           Bowa|                    0|\n",
      "|                    0|                           Vict|                    0|\n",
      "|                    0|                           Rand|                    0|\n",
      "|                    0|                           Rant|                    0|\n",
      "+---------------------+-------------------------------+---------------------+\n",
      "only showing top 5 rows\n",
      "\n"
     ]
    }
   ],
   "source": [
    "#Sorting Can be Done. For decending can use desc\n",
    "inm=intern2.sort(intern2.Time_TimeCourses_List.asc())\n",
    "inm.select(['Time_TimeCourses_List','Time_TimeActual System Dispatch','Time_TimeInitial Time']).show(5)"
   ]
  },
  {
   "cell_type": "code",
   "execution_count": 50,
   "id": "b3d2c16b",
   "metadata": {},
   "outputs": [
    {
     "name": "stdout",
     "output_type": "stream",
     "text": [
      "+---------------------+\n",
      "|Time_TimeInitial Time|\n",
      "+---------------------+\n",
      "|                   42|\n",
      "|                   59|\n",
      "|                   52|\n",
      "|                    0|\n",
      "|                    5|\n",
      "|                  274|\n",
      "|                  140|\n",
      "|                   19|\n",
      "|                  270|\n",
      "|              0:30:00|\n",
      "|                   33|\n",
      "|                  209|\n",
      "+---------------------+\n",
      "only showing top 12 rows\n",
      "\n"
     ]
    }
   ],
   "source": [
    "#Summation of Each Group\n",
    "in3=intern2.groupby('Time_TimeInitial Time').sum().show(12)\n",
    "#Because of the data types are strings won't provide any summation"
   ]
  },
  {
   "cell_type": "markdown",
   "id": "651da162",
   "metadata": {},
   "source": [
    "## Sql Query with PySpark"
   ]
  },
  {
   "cell_type": "code",
   "execution_count": 56,
   "id": "069a30a7",
   "metadata": {},
   "outputs": [],
   "source": [
    "intern2 = intern2.withColumnRenamed(\"Time_TimeActual System Dispatch\",\"System_Depatch\") \\\n",
    "    .withColumnRenamed(\"Time_TimeUnnamed: 3\",\"Appointing_Time\")"
   ]
  },
  {
   "cell_type": "code",
   "execution_count": 57,
   "id": "2fa55a45",
   "metadata": {},
   "outputs": [
    {
     "name": "stdout",
     "output_type": "stream",
     "text": [
      "+---------------------+--------------+---------------+\n",
      "|Time_TimeCourses_List|System_Depatch|Appointing_Time|\n",
      "+---------------------+--------------+---------------+\n",
      "|0:15:00              |Time          |0:45           |\n",
      "|10                   |Canyon        |10             |\n",
      "|0                    |WPS           |0              |\n",
      "|5                    |Olax          |5              |\n",
      "|46                   |Nlax          |19             |\n",
      "|21                   |Polp          |20             |\n",
      "|0                    |Upper Kothmale|0              |\n",
      "|54                   |Koth          |43             |\n",
      "|0                    |Vict          |0              |\n",
      "|0                    |Rand          |0              |\n",
      "|0                    |Rant          |0              |\n",
      "|36                   |Uku           |36             |\n",
      "|0                    |Bowa          |0              |\n",
      "|0                    |Sam           |0              |\n",
      "|53                   |Kukule        |52             |\n",
      "|274                  |LVPS 1        |274            |\n",
      "|270                  |LVPS 2        |269            |\n",
      "|270                  |LVPS 3        |270            |\n",
      "|33                   |Sapu A        |33             |\n",
      "|59                   |Sapu B        |59             |\n",
      "+---------------------+--------------+---------------+\n",
      "only showing top 20 rows\n",
      "\n"
     ]
    }
   ],
   "source": [
    "#Select\n",
    "intern2.createOrReplaceTempView(\"Time\")\n",
    "spark.sql(\"select Time_TimeCourses_List,System_Depatch,Appointing_Time from Time ORDER BY 'System_Depatch' asc\").show(truncate=False)"
   ]
  },
  {
   "cell_type": "code",
   "execution_count": 69,
   "id": "3d8ebc19",
   "metadata": {},
   "outputs": [],
   "source": [
    "\n",
    "#Dropping out Dulicates\n",
    "\n",
    "Main = intern2.dropDuplicates()\n"
   ]
  },
  {
   "cell_type": "code",
   "execution_count": 76,
   "id": "eef02781",
   "metadata": {},
   "outputs": [],
   "source": [
    "from pyspark.sql import SparkSession\n",
    "from pyspark.sql.types import *\n",
    "from pyspark.sql import Row\n",
    "Main2=Main.createOrReplaceTempView(\"Time\")\n"
   ]
  },
  {
   "cell_type": "code",
   "execution_count": 102,
   "id": "9a710ae1",
   "metadata": {
    "scrolled": true
   },
   "outputs": [
    {
     "name": "stdout",
     "output_type": "stream",
     "text": [
      "+--------------+---------------------------------------------------------+\n",
      "|System_Depatch|CASE WHEN (NOT (System_Depatch = Nlax)) THEN 1 ELSE 0 END|\n",
      "+--------------+---------------------------------------------------------+\n",
      "|    Sojitz CCP|                                                        1|\n",
      "|          Nlax|                                                        0|\n",
      "|  ALTAQQA-Pol.|                                                        1|\n",
      "|      ACE EMBP|                                                        1|\n",
      "|          Time|                                                        1|\n",
      "|        Sapu A|                                                        1|\n",
      "|          Vict|                                                        1|\n",
      "|  VPOWER Hamb.|                                                        1|\n",
      "|          Rant|                                                        1|\n",
      "|         Barge|                                                        1|\n",
      "+--------------+---------------------------------------------------------+\n",
      "only showing top 10 rows\n",
      "\n"
     ]
    }
   ],
   "source": [
    "import pyspark.sql.types\n",
    "from datetime import timedelta, datetime\n",
    "import time\n",
    "import random\n",
    "from pyspark.sql.functions import udf,when\n",
    "\n",
    "Main.select(\"System_Depatch\",when(Main.System_Depatch != \"Nlax\",1).otherwise(0)).show(10)"
   ]
  },
  {
   "cell_type": "code",
   "execution_count": 104,
   "id": "bdd1e549",
   "metadata": {},
   "outputs": [
    {
     "name": "stdout",
     "output_type": "stream",
     "text": [
      "+--------------+---------------------+-----------------------+\n",
      "|System_Depatch|Time_TimeCourses_List|System_Depatch LIKE %a%|\n",
      "+--------------+---------------------+-----------------------+\n",
      "|    Sojitz CCP|                    0|                  false|\n",
      "|          Nlax|                   46|                   true|\n",
      "|  ALTAQQA-Pol.|                    0|                  false|\n",
      "|      ACE EMBP|                    0|                  false|\n",
      "|          Time|              0:15:00|                  false|\n",
      "|        Sapu A|                   33|                   true|\n",
      "|          Vict|                    0|                  false|\n",
      "|  VPOWER Hamb.|                    0|                   true|\n",
      "|          Rant|                    0|                   true|\n",
      "|         Barge|                   45|                   true|\n",
      "+--------------+---------------------+-----------------------+\n",
      "only showing top 10 rows\n",
      "\n"
     ]
    }
   ],
   "source": [
    "#%Like Operation\n",
    "Main.select(\"System_Depatch\", \"Time_TimeCourses_List\",Main.System_Depatch.like(\"%a%\")).show(10)"
   ]
  },
  {
   "cell_type": "code",
   "execution_count": 105,
   "id": "4c84501a",
   "metadata": {},
   "outputs": [
    {
     "name": "stdout",
     "output_type": "stream",
     "text": [
      "+--------------+---------------------+-----------------------------+\n",
      "|System_Depatch|Time_TimeCourses_List|startswith(System_Depatch, A)|\n",
      "+--------------+---------------------+-----------------------------+\n",
      "|    Sojitz CCP|                    0|                        false|\n",
      "|          Nlax|                   46|                        false|\n",
      "|  ALTAQQA-Pol.|                    0|                         true|\n",
      "|      ACE EMBP|                    0|                         true|\n",
      "|          Time|              0:15:00|                        false|\n",
      "|        Sapu A|                   33|                        false|\n",
      "|          Vict|                    0|                        false|\n",
      "|  VPOWER Hamb.|                    0|                        false|\n",
      "|          Rant|                    0|                        false|\n",
      "|         Barge|                   45|                        false|\n",
      "+--------------+---------------------+-----------------------------+\n",
      "only showing top 10 rows\n",
      "\n"
     ]
    }
   ],
   "source": [
    "Main.select(\"System_Depatch\", \"Time_TimeCourses_List\", Main.System_Depatch.startswith(\"A\")).show(10)"
   ]
  },
  {
   "cell_type": "code",
   "execution_count": 108,
   "id": "9c50402a",
   "metadata": {},
   "outputs": [
    {
     "name": "stdout",
     "output_type": "stream",
     "text": [
      "root\n",
      " |-- _c0: string (nullable = true)\n",
      " |-- Time_TimeUnnamed: 0: string (nullable = true)\n",
      " |-- System_Depatch: string (nullable = true)\n",
      " |-- Time_TimeCourses_List: string (nullable = true)\n",
      " |-- Time_TimeInitial Time: string (nullable = true)\n",
      " |-- Appointing_Time: string (nullable = true)\n",
      " |-- Time_TimeUnnamed: 4: string (nullable = true)\n",
      " |-- Time_TimeUnnamed: 5: string (nullable = true)\n",
      " |-- Time_TimeUnnamed: 6: string (nullable = true)\n",
      " |-- Time_TimeUnnamed: 7: string (nullable = true)\n",
      " |-- Time_Time7/1/2020 0:00: string (nullable = true)\n",
      " |-- Time_TimeUnnamed: 9: string (nullable = true)\n",
      " |-- Time_TimeUnnamed: 10: string (nullable = true)\n",
      " |-- Time_TimeUnnamed: 11: string (nullable = true)\n",
      " |-- Time_TimeUnnamed: 12: string (nullable = true)\n",
      " |-- Time_TimeUnnamed: 13: string (nullable = true)\n",
      " |-- Time_TimeUnnamed: 14: string (nullable = true)\n",
      " |-- Time_TimeUnnamed: 15: string (nullable = true)\n",
      " |-- Time_TimeUnnamed: 16: string (nullable = true)\n",
      " |-- Time_TimeUnnamed: 17: string (nullable = true)\n",
      " |-- Time_TimeUnnamed: 18: string (nullable = true)\n",
      " |-- Time_TimeUnnamed: 19: string (nullable = true)\n",
      " |-- Time_TimeUnnamed: 20: string (nullable = true)\n",
      " |-- Time_TimeUnnamed: 21: string (nullable = true)\n",
      " |-- Time_TimeUnnamed: 22: string (nullable = true)\n",
      " |-- Time_TimeUnnamed: 23: string (nullable = true)\n",
      " |-- Time_TimeUnnamed: 24: string (nullable = true)\n",
      " |-- Time_TimeUnnamed: 25: string (nullable = true)\n",
      " |-- Time_TimeUnnamed: 26: string (nullable = true)\n",
      " |-- Time_TimeUnnamed: 27: string (nullable = true)\n",
      " |-- Time_TimeUnnamed: 28: string (nullable = true)\n",
      " |-- Time_TimeUnnamed: 29: string (nullable = true)\n",
      " |-- Time_TimeUnnamed: 30: string (nullable = true)\n",
      " |-- Time_TimeUnnamed: 31: string (nullable = true)\n",
      " |-- Time_TimeUnnamed: 32: string (nullable = true)\n",
      " |-- Time_TimeUnnamed: 33: string (nullable = true)\n",
      " |-- Time_TimeUnnamed: 34: string (nullable = true)\n",
      " |-- Time_TimeUnnamed: 35: string (nullable = true)\n",
      " |-- Time_TimeUnnamed: 36: string (nullable = true)\n",
      " |-- Time_TimeUnnamed: 37: string (nullable = true)\n",
      " |-- Time_TimeUnnamed: 38: string (nullable = true)\n",
      " |-- Time_TimeUnnamed: 39: string (nullable = true)\n",
      " |-- Time_TimeUnnamed: 40: string (nullable = true)\n",
      " |-- Time_TimeUnnamed: 41: string (nullable = true)\n",
      " |-- Time_TimeUnnamed: 42: string (nullable = true)\n",
      " |-- Time_TimeUnnamed: 43: string (nullable = true)\n",
      " |-- Time_TimeUnnamed: 44: string (nullable = true)\n",
      " |-- Time_TimeUnnamed: 45: string (nullable = true)\n",
      " |-- Time_TimeUnnamed: 46: string (nullable = true)\n",
      " |-- Time_TimeUnnamed: 47: string (nullable = true)\n",
      " |-- Time_TimeUnnamed: 48: string (nullable = true)\n",
      " |-- Time_TimeUnnamed: 49: string (nullable = true)\n",
      " |-- Time_TimeUnnamed: 50: string (nullable = true)\n",
      " |-- Time_TimeUnnamed: 51: string (nullable = true)\n",
      " |-- Time_TimeUnnamed: 52: string (nullable = true)\n",
      " |-- Time_TimeUnnamed: 53: string (nullable = true)\n",
      " |-- Time_TimeUnnamed: 54: string (nullable = true)\n",
      " |-- Time_TimeUnnamed: 55: string (nullable = true)\n",
      " |-- Time_TimeUnnamed: 56: string (nullable = true)\n",
      " |-- Time_TimeUnnamed: 57: string (nullable = true)\n",
      " |-- Time_TimeUnnamed: 58: string (nullable = true)\n",
      " |-- Time_TimeUnnamed: 59: string (nullable = true)\n",
      " |-- Time_TimeUnnamed: 60: string (nullable = true)\n",
      " |-- Time_TimeUnnamed: 61: string (nullable = true)\n",
      " |-- Time_TimeUnnamed: 62: string (nullable = true)\n",
      " |-- Time_TimeUnnamed: 63: string (nullable = true)\n",
      " |-- Time_TimeUnnamed: 64: string (nullable = true)\n",
      " |-- Time_TimeUnnamed: 65: string (nullable = true)\n",
      " |-- Time_TimeUnnamed: 66: string (nullable = true)\n",
      " |-- Time_TimeUnnamed: 67: string (nullable = true)\n",
      " |-- Time_TimeUnnamed: 68: string (nullable = true)\n",
      " |-- Time_TimeUnnamed: 69: string (nullable = true)\n",
      " |-- Time_TimeUnnamed: 70: string (nullable = true)\n",
      " |-- Time_TimeUnnamed: 71: string (nullable = true)\n",
      " |-- Time_TimeUnnamed: 72: string (nullable = true)\n",
      " |-- Time_TimeUnnamed: 73: string (nullable = true)\n",
      " |-- Time_TimeUnnamed: 74: string (nullable = true)\n",
      " |-- Time_TimeUnnamed: 75: string (nullable = true)\n",
      " |-- Time_TimeUnnamed: 76: string (nullable = true)\n",
      " |-- Time_TimeUnnamed: 77: string (nullable = true)\n",
      " |-- Time_TimeUnnamed: 78: string (nullable = true)\n",
      " |-- Time_TimeUnnamed: 79: string (nullable = true)\n",
      " |-- Time_TimeUnnamed: 80: string (nullable = true)\n",
      " |-- Time_TimeUnnamed: 81: string (nullable = true)\n",
      " |-- Time_TimeUnnamed: 82: string (nullable = true)\n",
      " |-- Time_TimeUnnamed: 83: string (nullable = true)\n",
      " |-- Time_TimeUnnamed: 84: string (nullable = true)\n",
      " |-- Time_TimeUnnamed: 85: string (nullable = true)\n",
      " |-- Time_TimeUnnamed: 86: string (nullable = true)\n",
      " |-- Time_TimeUnnamed: 87: string (nullable = true)\n",
      " |-- Time_TimeUnnamed: 88: string (nullable = true)\n",
      " |-- Time_TimeUnnamed: 89: string (nullable = true)\n",
      " |-- Time_TimeUnnamed: 90: string (nullable = true)\n",
      " |-- Time_TimeUnnamed: 91: string (nullable = true)\n",
      " |-- Time_TimeUnnamed: 92: string (nullable = true)\n",
      " |-- Time_TimeUnnamed: 93: string (nullable = true)\n",
      " |-- Time_TimeUnnamed: 94: string (nullable = true)\n",
      " |-- Time_TimeUnnamed: 95: string (nullable = true)\n",
      " |-- Time_TimeUnnamed: 96: string (nullable = true)\n",
      " |-- Time_TimeUnnamed: 97: string (nullable = true)\n",
      "\n"
     ]
    },
    {
     "ename": "AttributeError",
     "evalue": "'NoneType' object has no attribute 'show'",
     "output_type": "error",
     "traceback": [
      "\u001b[1;31m---------------------------------------------------------------------------\u001b[0m",
      "\u001b[1;31mAttributeError\u001b[0m                            Traceback (most recent call last)",
      "\u001b[1;32m<ipython-input-108-7e2d519a237d>\u001b[0m in \u001b[0;36m<module>\u001b[1;34m\u001b[0m\n\u001b[1;32m----> 1\u001b[1;33m \u001b[0mMain\u001b[0m\u001b[1;33m.\u001b[0m\u001b[0mprintSchema\u001b[0m\u001b[1;33m(\u001b[0m\u001b[1;33m)\u001b[0m\u001b[1;33m.\u001b[0m\u001b[0mshow\u001b[0m\u001b[1;33m(\u001b[0m\u001b[1;36m6\u001b[0m\u001b[1;33m)\u001b[0m\u001b[1;33m\u001b[0m\u001b[1;33m\u001b[0m\u001b[0m\n\u001b[0m",
      "\u001b[1;31mAttributeError\u001b[0m: 'NoneType' object has no attribute 'show'"
     ]
    }
   ],
   "source": [
    "Main.printSchema()"
   ]
  },
  {
   "cell_type": "code",
   "execution_count": 109,
   "id": "cddd4044",
   "metadata": {},
   "outputs": [
    {
     "name": "stdout",
     "output_type": "stream",
     "text": [
      "root\n",
      " |-- _c0: string (nullable = true)\n",
      " |-- System_Depatch: string (nullable = true)\n",
      " |-- Time_TimeCourses_List: string (nullable = true)\n",
      " |-- Time_TimeInitial Time: string (nullable = true)\n",
      " |-- Appointing_Time: string (nullable = true)\n",
      " |-- Time_TimeUnnamed: 4: string (nullable = true)\n",
      " |-- Time_TimeUnnamed: 5: string (nullable = true)\n",
      " |-- Time_TimeUnnamed: 6: string (nullable = true)\n",
      " |-- Time_TimeUnnamed: 7: string (nullable = true)\n",
      " |-- Time_Time7/1/2020 0:00: string (nullable = true)\n",
      " |-- Time_TimeUnnamed: 9: string (nullable = true)\n",
      " |-- Time_TimeUnnamed: 10: string (nullable = true)\n",
      " |-- Time_TimeUnnamed: 11: string (nullable = true)\n",
      " |-- Time_TimeUnnamed: 12: string (nullable = true)\n",
      " |-- Time_TimeUnnamed: 13: string (nullable = true)\n",
      " |-- Time_TimeUnnamed: 14: string (nullable = true)\n",
      " |-- Time_TimeUnnamed: 15: string (nullable = true)\n",
      " |-- Time_TimeUnnamed: 16: string (nullable = true)\n",
      " |-- Time_TimeUnnamed: 17: string (nullable = true)\n",
      " |-- Time_TimeUnnamed: 18: string (nullable = true)\n",
      " |-- Time_TimeUnnamed: 19: string (nullable = true)\n",
      " |-- Time_TimeUnnamed: 20: string (nullable = true)\n",
      " |-- Time_TimeUnnamed: 21: string (nullable = true)\n",
      " |-- Time_TimeUnnamed: 22: string (nullable = true)\n",
      " |-- Time_TimeUnnamed: 23: string (nullable = true)\n",
      " |-- Time_TimeUnnamed: 24: string (nullable = true)\n",
      " |-- Time_TimeUnnamed: 25: string (nullable = true)\n",
      " |-- Time_TimeUnnamed: 26: string (nullable = true)\n",
      " |-- Time_TimeUnnamed: 27: string (nullable = true)\n",
      " |-- Time_TimeUnnamed: 28: string (nullable = true)\n",
      " |-- Time_TimeUnnamed: 29: string (nullable = true)\n",
      " |-- Time_TimeUnnamed: 30: string (nullable = true)\n",
      " |-- Time_TimeUnnamed: 31: string (nullable = true)\n",
      " |-- Time_TimeUnnamed: 32: string (nullable = true)\n",
      " |-- Time_TimeUnnamed: 33: string (nullable = true)\n",
      " |-- Time_TimeUnnamed: 34: string (nullable = true)\n",
      " |-- Time_TimeUnnamed: 35: string (nullable = true)\n",
      " |-- Time_TimeUnnamed: 36: string (nullable = true)\n",
      " |-- Time_TimeUnnamed: 37: string (nullable = true)\n",
      " |-- Time_TimeUnnamed: 38: string (nullable = true)\n",
      " |-- Time_TimeUnnamed: 39: string (nullable = true)\n",
      " |-- Time_TimeUnnamed: 40: string (nullable = true)\n",
      " |-- Time_TimeUnnamed: 41: string (nullable = true)\n",
      " |-- Time_TimeUnnamed: 42: string (nullable = true)\n",
      " |-- Time_TimeUnnamed: 43: string (nullable = true)\n",
      " |-- Time_TimeUnnamed: 44: string (nullable = true)\n",
      " |-- Time_TimeUnnamed: 45: string (nullable = true)\n",
      " |-- Time_TimeUnnamed: 46: string (nullable = true)\n",
      " |-- Time_TimeUnnamed: 47: string (nullable = true)\n",
      " |-- Time_TimeUnnamed: 48: string (nullable = true)\n",
      " |-- Time_TimeUnnamed: 49: string (nullable = true)\n",
      " |-- Time_TimeUnnamed: 50: string (nullable = true)\n",
      " |-- Time_TimeUnnamed: 51: string (nullable = true)\n",
      " |-- Time_TimeUnnamed: 52: string (nullable = true)\n",
      " |-- Time_TimeUnnamed: 53: string (nullable = true)\n",
      " |-- Time_TimeUnnamed: 54: string (nullable = true)\n",
      " |-- Time_TimeUnnamed: 55: string (nullable = true)\n",
      " |-- Time_TimeUnnamed: 56: string (nullable = true)\n",
      " |-- Time_TimeUnnamed: 57: string (nullable = true)\n",
      " |-- Time_TimeUnnamed: 58: string (nullable = true)\n",
      " |-- Time_TimeUnnamed: 59: string (nullable = true)\n",
      " |-- Time_TimeUnnamed: 60: string (nullable = true)\n",
      " |-- Time_TimeUnnamed: 61: string (nullable = true)\n",
      " |-- Time_TimeUnnamed: 62: string (nullable = true)\n",
      " |-- Time_TimeUnnamed: 63: string (nullable = true)\n",
      " |-- Time_TimeUnnamed: 64: string (nullable = true)\n",
      " |-- Time_TimeUnnamed: 65: string (nullable = true)\n",
      " |-- Time_TimeUnnamed: 66: string (nullable = true)\n",
      " |-- Time_TimeUnnamed: 67: string (nullable = true)\n",
      " |-- Time_TimeUnnamed: 68: string (nullable = true)\n",
      " |-- Time_TimeUnnamed: 69: string (nullable = true)\n",
      " |-- Time_TimeUnnamed: 70: string (nullable = true)\n",
      " |-- Time_TimeUnnamed: 71: string (nullable = true)\n",
      " |-- Time_TimeUnnamed: 72: string (nullable = true)\n",
      " |-- Time_TimeUnnamed: 73: string (nullable = true)\n",
      " |-- Time_TimeUnnamed: 74: string (nullable = true)\n",
      " |-- Time_TimeUnnamed: 75: string (nullable = true)\n",
      " |-- Time_TimeUnnamed: 76: string (nullable = true)\n",
      " |-- Time_TimeUnnamed: 77: string (nullable = true)\n",
      " |-- Time_TimeUnnamed: 78: string (nullable = true)\n",
      " |-- Time_TimeUnnamed: 79: string (nullable = true)\n",
      " |-- Time_TimeUnnamed: 80: string (nullable = true)\n",
      " |-- Time_TimeUnnamed: 81: string (nullable = true)\n",
      " |-- Time_TimeUnnamed: 82: string (nullable = true)\n",
      " |-- Time_TimeUnnamed: 83: string (nullable = true)\n",
      " |-- Time_TimeUnnamed: 84: string (nullable = true)\n",
      " |-- Time_TimeUnnamed: 85: string (nullable = true)\n",
      " |-- Time_TimeUnnamed: 86: string (nullable = true)\n",
      " |-- Time_TimeUnnamed: 87: string (nullable = true)\n",
      " |-- Time_TimeUnnamed: 88: string (nullable = true)\n",
      " |-- Time_TimeUnnamed: 89: string (nullable = true)\n",
      " |-- Time_TimeUnnamed: 90: string (nullable = true)\n",
      " |-- Time_TimeUnnamed: 91: string (nullable = true)\n",
      " |-- Time_TimeUnnamed: 92: string (nullable = true)\n",
      " |-- Time_TimeUnnamed: 93: string (nullable = true)\n",
      " |-- Time_TimeUnnamed: 94: string (nullable = true)\n",
      " |-- Time_TimeUnnamed: 95: string (nullable = true)\n",
      " |-- Time_TimeUnnamed: 96: string (nullable = true)\n",
      " |-- Time_TimeUnnamed: 97: string (nullable = true)\n",
      "\n"
     ]
    }
   ],
   "source": [
    "#Dropping Coliumn in Data Frame\n",
    "Main_remove = Main.drop(\"Time_TimeUnnamed: 0\")\n",
    "Main_remove.printSchema()\n"
   ]
  },
  {
   "cell_type": "code",
   "execution_count": 115,
   "id": "bff5f5a2",
   "metadata": {},
   "outputs": [
    {
     "data": {
      "text/plain": [
       "48"
      ]
     },
     "execution_count": 115,
     "metadata": {},
     "output_type": "execute_result"
    }
   ],
   "source": [
    "#Number of Distinct Rows in the dataframe\n",
    "Main.distinct().count()"
   ]
  },
  {
   "cell_type": "code",
   "execution_count": 117,
   "id": "14e083eb",
   "metadata": {},
   "outputs": [
    {
     "name": "stdout",
     "output_type": "stream",
     "text": [
      "+-------+------------------+-------------------+--------------+---------------------+---------------------+-----------------+-------------------+-------------------+-------------------+-------------------+----------------------+-------------------+--------------------+--------------------+--------------------+--------------------+--------------------+--------------------+--------------------+--------------------+--------------------+--------------------+--------------------+--------------------+--------------------+--------------------+--------------------+--------------------+--------------------+--------------------+--------------------+--------------------+--------------------+--------------------+--------------------+--------------------+--------------------+--------------------+--------------------+--------------------+--------------------+--------------------+--------------------+--------------------+--------------------+--------------------+--------------------+--------------------+--------------------+--------------------+--------------------+--------------------+--------------------+--------------------+--------------------+--------------------+--------------------+--------------------+--------------------+--------------------+--------------------+--------------------+--------------------+--------------------+--------------------+--------------------+--------------------+--------------------+--------------------+--------------------+--------------------+--------------------+--------------------+--------------------+--------------------+--------------------+--------------------+--------------------+--------------------+--------------------+--------------------+--------------------+--------------------+--------------------+--------------------+--------------------+--------------------+--------------------+--------------------+--------------------+--------------------+--------------------+--------------------+--------------------+--------------------+--------------------+--------------------+--------------------+--------------------+--------------------+\n",
      "|summary|               _c0|Time_TimeUnnamed: 0|System_Depatch|Time_TimeCourses_List|Time_TimeInitial Time|  Appointing_Time|Time_TimeUnnamed: 4|Time_TimeUnnamed: 5|Time_TimeUnnamed: 6|Time_TimeUnnamed: 7|Time_Time7/1/2020 0:00|Time_TimeUnnamed: 9|Time_TimeUnnamed: 10|Time_TimeUnnamed: 11|Time_TimeUnnamed: 12|Time_TimeUnnamed: 13|Time_TimeUnnamed: 14|Time_TimeUnnamed: 15|Time_TimeUnnamed: 16|Time_TimeUnnamed: 17|Time_TimeUnnamed: 18|Time_TimeUnnamed: 19|Time_TimeUnnamed: 20|Time_TimeUnnamed: 21|Time_TimeUnnamed: 22|Time_TimeUnnamed: 23|Time_TimeUnnamed: 24|Time_TimeUnnamed: 25|Time_TimeUnnamed: 26|Time_TimeUnnamed: 27|Time_TimeUnnamed: 28|Time_TimeUnnamed: 29|Time_TimeUnnamed: 30|Time_TimeUnnamed: 31|Time_TimeUnnamed: 32|Time_TimeUnnamed: 33|Time_TimeUnnamed: 34|Time_TimeUnnamed: 35|Time_TimeUnnamed: 36|Time_TimeUnnamed: 37|Time_TimeUnnamed: 38|Time_TimeUnnamed: 39|Time_TimeUnnamed: 40|Time_TimeUnnamed: 41|Time_TimeUnnamed: 42|Time_TimeUnnamed: 43|Time_TimeUnnamed: 44|Time_TimeUnnamed: 45|Time_TimeUnnamed: 46|Time_TimeUnnamed: 47|Time_TimeUnnamed: 48|Time_TimeUnnamed: 49|Time_TimeUnnamed: 50|Time_TimeUnnamed: 51|Time_TimeUnnamed: 52|Time_TimeUnnamed: 53|Time_TimeUnnamed: 54|Time_TimeUnnamed: 55|Time_TimeUnnamed: 56|Time_TimeUnnamed: 57|Time_TimeUnnamed: 58|Time_TimeUnnamed: 59|Time_TimeUnnamed: 60|Time_TimeUnnamed: 61|Time_TimeUnnamed: 62|Time_TimeUnnamed: 63|Time_TimeUnnamed: 64|Time_TimeUnnamed: 65|Time_TimeUnnamed: 66|Time_TimeUnnamed: 67|Time_TimeUnnamed: 68|Time_TimeUnnamed: 69|Time_TimeUnnamed: 70|Time_TimeUnnamed: 71|Time_TimeUnnamed: 72|Time_TimeUnnamed: 73|Time_TimeUnnamed: 74|Time_TimeUnnamed: 75|Time_TimeUnnamed: 76|Time_TimeUnnamed: 77|Time_TimeUnnamed: 78|Time_TimeUnnamed: 79|Time_TimeUnnamed: 80|Time_TimeUnnamed: 81|Time_TimeUnnamed: 82|Time_TimeUnnamed: 83|Time_TimeUnnamed: 84|Time_TimeUnnamed: 85|Time_TimeUnnamed: 86|Time_TimeUnnamed: 87|Time_TimeUnnamed: 88|Time_TimeUnnamed: 89|Time_TimeUnnamed: 90|Time_TimeUnnamed: 91|Time_TimeUnnamed: 92|Time_TimeUnnamed: 93|Time_TimeUnnamed: 94|Time_TimeUnnamed: 95|Time_TimeUnnamed: 96|Time_TimeUnnamed: 97|\n",
      "+-------+------------------+-------------------+--------------+---------------------+---------------------+-----------------+-------------------+-------------------+-------------------+-------------------+----------------------+-------------------+--------------------+--------------------+--------------------+--------------------+--------------------+--------------------+--------------------+--------------------+--------------------+--------------------+--------------------+--------------------+--------------------+--------------------+--------------------+--------------------+--------------------+--------------------+--------------------+--------------------+--------------------+--------------------+--------------------+--------------------+--------------------+--------------------+--------------------+--------------------+--------------------+--------------------+--------------------+--------------------+--------------------+--------------------+--------------------+--------------------+--------------------+--------------------+--------------------+--------------------+--------------------+--------------------+--------------------+--------------------+--------------------+--------------------+--------------------+--------------------+--------------------+--------------------+--------------------+--------------------+--------------------+--------------------+--------------------+--------------------+--------------------+--------------------+--------------------+--------------------+--------------------+--------------------+--------------------+--------------------+--------------------+--------------------+--------------------+--------------------+--------------------+--------------------+--------------------+--------------------+--------------------+--------------------+--------------------+--------------------+--------------------+--------------------+--------------------+--------------------+--------------------+--------------------+--------------------+--------------------+--------------------+--------------------+--------------------+--------------------+\n",
      "|  count|                48|                 48|            47|                   48|                   48|               48|                 48|                 48|                 48|                 48|                    48|                 48|                  48|                  48|                  48|                  48|                  48|                  48|                  48|                  48|                  48|                  48|                  48|                  48|                  48|                  48|                  48|                  48|                  48|                  48|                  48|                  48|                  48|                  48|                  48|                  48|                  48|                  48|                  48|                  48|                  48|                  48|                  48|                  48|                  48|                  48|                  48|                  48|                  48|                  48|                  48|                  48|                  48|                  48|                  48|                  48|                  48|                  48|                  48|                  48|                  48|                  48|                  48|                  48|                  48|                  48|                  48|                  48|                  48|                  48|                  48|                  48|                  48|                  48|                  48|                  48|                  48|                  48|                  48|                  48|                  48|                  48|                  48|                  48|                  48|                  48|                  48|                  48|                  48|                  48|                  48|                  48|                  48|                  48|                  48|                  48|                  48|                  48|                  48|                  48|\n",
      "|   mean|              23.5|               23.5|          null|   123.15217391304348|   121.65217391304348|            119.5|              119.5| 119.08695652173913| 117.76086956521739| 115.21739130434783|     115.3913043478261| 113.34782608695652|  112.84782608695652|  112.76086956521739|  111.54347826086956|   111.6304347826087|  112.34782608695652|   112.8913043478261|  112.28260869565217|  115.52173913043478|  118.65217391304348|  119.67391304347827|  122.84782608695652|  132.04347826086956|   139.1086956521739|  144.58695652173913|   150.2391304347826|   153.2608695652174|  152.43478260869566|  150.15217391304347|  148.08695652173913|               147.5|  148.17391304347825|   150.2608695652174|               151.5|   155.7826086956522|  162.82608695652175|   164.6086956521739|   167.7391304347826|  169.67391304347825|  171.47826086956522|  172.91304347826087|   173.7826086956522|   172.7826086956522|  175.32608695652175|   176.2826086956522|  177.04347826086956|  179.06521739130434|   181.2391304347826|  182.52173913043478|   182.7173913043478|  179.65217391304347|  178.32608695652175|   175.8695652173913|  172.56521739130434|  173.84782608695653|   173.2826086956522|   174.3913043478261|   172.1304347826087|   176.6086956521739|  175.95652173913044|  177.19565217391303|  178.30434782608697|  176.19565217391303|   177.2391304347826|  176.41304347826087|  176.93478260869566|  176.54347826086956|               176.0|   175.7608695652174|   173.7608695652174|  171.45652173913044|   169.3913043478261|   168.8695652173913|  165.34782608695653|  172.02173913043478|  183.02173913043478|  195.56521739130434|  207.52173913043478|  209.65217391304347|  208.47826086956522|   204.2608695652174|   199.7391304347826|  194.97826086956522|   190.6304347826087|  186.54347826086956|  182.08695652173913|  177.30434782608697|   171.7608695652174|   168.2391304347826|  162.47826086956522|  156.82608695652175|  148.08695652173913|   145.2391304347826|  140.97826086956522|   137.6304347826087|  134.04347826086956|  129.47826086956522|  127.73913043478261|  3650.0124999999994|\n",
      "| stddev|14.000000000000002| 14.000000000000002|          null|   313.65635600420364|   310.50133063885954|305.9282958835652| 305.84627583876915| 304.86979560220686|  302.2337715362147|   296.898180305301|     297.6377722639734|  293.3997059296644|   292.2222112929592|   292.2241289590812|   289.6259431689808|    289.740064248833|  291.36439326354855|  292.59742751666835|  291.19704386804466|   297.7136386328636|    303.983056354667|   306.0511253113568|   312.6125018749289|   331.8060984317825|  346.80928016936656|   358.9865101821426|  371.45845796042687|  378.29003774485636|   376.2799579612034|  371.02710098028655|   366.1099911281646|    365.108979164669|   366.3881550940706|   371.2302331307867|  374.60881819127894|   384.2111637595763|   399.7855149589771|   403.5564384739964|  410.51514709001685|   414.7185955881048|   419.0395759156585|  422.43268108458324|  424.09762571283716|  421.85605301879815|   427.9061192129687|  430.30204704465586|   432.1720314114502|   436.7685073188168|  441.68969423152515|  444.55044653774473|  445.43325540888236|   438.3122285104943|  435.51094153102144|  429.92989654364465|   422.8513083644264|   425.2925773258951|  424.05763041483357|   426.4718033279767|   421.0358975825459|   431.3345944474542|   429.6265022097289|  432.46331223020616|  434.82404459557443|  430.29806824599143|   432.8267903385632|   431.0255252089399|  432.19334162046374|  431.13749838314607|  430.17732777696847|   429.6807178867484|  425.05247701026326|  419.80433042717726|   415.0679450810632|   413.7983195656579|   405.6647886777294|   423.6072336561277|  448.93431784519487|   478.6849417204929|  507.61572250978446|    512.860874242228|   509.9949341417438|  499.44486670625326|   488.3128521203325|   476.8014023623315|    466.405324855045|   456.8852861871341|  446.55191690636997|   435.5004717214038|   422.8462912103382|   414.7978455308138|   401.9526638316416|   389.2607411975694|  367.19457912283787|   360.7116536812323|  351.31710836225915|   344.0593203824436|  336.40814870046967|   326.5071541928759|   323.2424913475336|   9139.370359909106|\n",
      "|    min|                 0|                  0|      ACE EMBP|                    0|                    0|                0|                  0|                  0|                  0|                  0|                     0|                  0|                   0|                   0|                   0|                   0|                   0|                   0|                   0|                   0|                   0|                   0|                   0|                   0|                   0|                   0|                   0|                   0|                   0|                   0|                   0|                   0|                   0|                   0|                   0|                   0|                   0|                   0|                   0|                   0|                   0|                   0|                   0|                   0|                   0|                   0|                   0|                   0|                   0|                   0|                   0|                   0|                   0|                   0|                   0|                   0|                   0|                   0|                   0|                   0|                   0|                   0|                   0|                   0|                   0|                   0|                   0|                   0|                   0|                   0|                   0|                   0|                   0|                   0|                   0|                   0|                   0|                   0|                   0|                   0|                   0|                   0|                   0|                   0|                   0|                   0|                   0|                   0|                   0|                   0|                   0|                   0|                   0|                   0|                   0|                   0|                   0|                   0|                   0|                 0.0|\n",
      "|    max|                 9|                  9|       Wind **|                  814|                  814|              813|                813|                812|                815|                  9|                   815|                 86|                 813|                 814|                  87|                  91|                  96|                 813|                  92|                 814|                 813|                 814|                 813|                 814|                  85|                  85|                  85|                  86|                  86|                  85|                  85|                  85|                  85|                  85|                8:00|                8:15|                8:30|                8:45|                9:00|                9:15|                9:30|                9:45|                  85|                  85|                  85|                  85|                  85|                  84|                  84|                  88|                  85|                  90|                  90|                  89|                  88|                  85|                  83|                  82|                  83|                  82|                 811|                  83|                 812|                 810|                  82|                 812|                  86|                  86|                  86|                  87|                  90|                  89|                  90|                  89|                  88|                  88|                  88|                  89|                  92|                  92|                  92|                  92|                  93|                  91|                  93|                  92|                  92|                  92|                  94|                  92|                  92|                  92|                  98|                  92|                  92|                  92|                  92|                  92|                  92|               962.8|\n",
      "+-------+------------------+-------------------+--------------+---------------------+---------------------+-----------------+-------------------+-------------------+-------------------+-------------------+----------------------+-------------------+--------------------+--------------------+--------------------+--------------------+--------------------+--------------------+--------------------+--------------------+--------------------+--------------------+--------------------+--------------------+--------------------+--------------------+--------------------+--------------------+--------------------+--------------------+--------------------+--------------------+--------------------+--------------------+--------------------+--------------------+--------------------+--------------------+--------------------+--------------------+--------------------+--------------------+--------------------+--------------------+--------------------+--------------------+--------------------+--------------------+--------------------+--------------------+--------------------+--------------------+--------------------+--------------------+--------------------+--------------------+--------------------+--------------------+--------------------+--------------------+--------------------+--------------------+--------------------+--------------------+--------------------+--------------------+--------------------+--------------------+--------------------+--------------------+--------------------+--------------------+--------------------+--------------------+--------------------+--------------------+--------------------+--------------------+--------------------+--------------------+--------------------+--------------------+--------------------+--------------------+--------------------+--------------------+--------------------+--------------------+--------------------+--------------------+--------------------+--------------------+--------------------+--------------------+--------------------+--------------------+--------------------+--------------------+--------------------+--------------------+\n",
      "\n"
     ]
    }
   ],
   "source": [
    "# Prints plans including physical and logical\n",
    "Main.describe().show()"
   ]
  },
  {
   "cell_type": "code",
   "execution_count": null,
   "id": "83d87ff2",
   "metadata": {},
   "outputs": [],
   "source": []
  }
 ],
 "metadata": {
  "kernelspec": {
   "display_name": "Python 3",
   "language": "python",
   "name": "python3"
  },
  "language_info": {
   "codemirror_mode": {
    "name": "ipython",
    "version": 3
   },
   "file_extension": ".py",
   "mimetype": "text/x-python",
   "name": "python",
   "nbconvert_exporter": "python",
   "pygments_lexer": "ipython3",
   "version": "3.8.8"
  }
 },
 "nbformat": 4,
 "nbformat_minor": 5
}

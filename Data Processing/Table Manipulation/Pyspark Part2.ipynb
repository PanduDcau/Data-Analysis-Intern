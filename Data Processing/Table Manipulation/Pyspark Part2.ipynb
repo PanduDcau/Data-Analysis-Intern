{
 "cells": [
  {
   "cell_type": "code",
   "execution_count": 2,
   "id": "8fe2f79c",
   "metadata": {},
   "outputs": [
    {
     "data": {
      "text/plain": [
       "'C:\\\\spark'"
      ]
     },
     "execution_count": 2,
     "metadata": {},
     "output_type": "execute_result"
    }
   ],
   "source": [
    "#Testing Pyspark Installation\n",
    "import findspark\n",
    "\n",
    "findspark.init()\n",
    "findspark.find()\n",
    "\n",
    "import pyspark\n",
    "findspark.find()"
   ]
  },
  {
   "cell_type": "code",
   "execution_count": 3,
   "id": "dffda75c",
   "metadata": {},
   "outputs": [],
   "source": [
    "#intialize Spark Context\n",
    "from pyspark import SparkContext, SparkConf\n",
    "from pyspark.sql import SparkSession\n",
    "spark= SparkSession.builder.appName('Inter2').getOrCreate()"
   ]
  },
  {
   "cell_type": "code",
   "execution_count": 4,
   "id": "e7c8a908",
   "metadata": {},
   "outputs": [],
   "source": [
    "intern=spark.read.option('header','true').csv('/Users/Asus/Documents/InternCsv/Dispatchsql.csv')"
   ]
  },
  {
   "cell_type": "code",
   "execution_count": 5,
   "id": "2b483c90",
   "metadata": {},
   "outputs": [
    {
     "data": {
      "text/plain": [
       "[Row(_c0='0', Time_TimeUnnamed: 0='0', System_Depatch='Time', Time_TimeCourses_List='0:15:00', Time_TimeInitial Time='0:30:00', Appointing_Time='0:45', Time_TimeUnnamed: 4='1:00', Time_TimeUnnamed: 5='1:15', Time_TimeUnnamed: 6='1:30', Time_TimeUnnamed: 7='1:45', Time_Time7/1/2020 0:00='2:00', Time_TimeUnnamed: 9='2:15', Time_TimeUnnamed: 10='2:30', Time_TimeUnnamed: 11='2:45', Time_TimeUnnamed: 12='3:00', Time_TimeUnnamed: 13='3:15', Time_TimeUnnamed: 14='3:30', Time_TimeUnnamed: 15='3:45', Time_TimeUnnamed: 16='4:00', Time_TimeUnnamed: 17='4:15', Time_TimeUnnamed: 18='4:30', Time_TimeUnnamed: 19='4:45', Time_TimeUnnamed: 20='5:00', Time_TimeUnnamed: 21='5:15', Time_TimeUnnamed: 22='5:30', Time_TimeUnnamed: 23='5:45', Time_TimeUnnamed: 24='6:00', Time_TimeUnnamed: 25='6:15', Time_TimeUnnamed: 26='6:30', Time_TimeUnnamed: 27='6:45', Time_TimeUnnamed: 28='7:00', Time_TimeUnnamed: 29='7:15', Time_TimeUnnamed: 30='7:30', Time_TimeUnnamed: 31='7:45', Time_TimeUnnamed: 32='8:00', Time_TimeUnnamed: 33='8:15', Time_TimeUnnamed: 34='8:30', Time_TimeUnnamed: 35='8:45', Time_TimeUnnamed: 36='9:00', Time_TimeUnnamed: 37='9:15', Time_TimeUnnamed: 38='9:30', Time_TimeUnnamed: 39='9:45', Time_TimeUnnamed: 40='10:00', Time_TimeUnnamed: 41='10:15', Time_TimeUnnamed: 42='10:30', Time_TimeUnnamed: 43='10:45', Time_TimeUnnamed: 44='11:00', Time_TimeUnnamed: 45='11:15', Time_TimeUnnamed: 46='11:30', Time_TimeUnnamed: 47='11:45', Time_TimeUnnamed: 48='12:00', Time_TimeUnnamed: 49='12:15', Time_TimeUnnamed: 50='12:30', Time_TimeUnnamed: 51='12:45', Time_TimeUnnamed: 52='13:00', Time_TimeUnnamed: 53='13:15', Time_TimeUnnamed: 54='13:30', Time_TimeUnnamed: 55='13:45', Time_TimeUnnamed: 56='14:00', Time_TimeUnnamed: 57='14:15', Time_TimeUnnamed: 58='14:30', Time_TimeUnnamed: 59='14:45', Time_TimeUnnamed: 60='15:00', Time_TimeUnnamed: 61='15:15', Time_TimeUnnamed: 62='15:30', Time_TimeUnnamed: 63='15:45', Time_TimeUnnamed: 64='16:00', Time_TimeUnnamed: 65='16:15', Time_TimeUnnamed: 66='16:30', Time_TimeUnnamed: 67='16:45', Time_TimeUnnamed: 68='17:00', Time_TimeUnnamed: 69='17:15', Time_TimeUnnamed: 70='17:30', Time_TimeUnnamed: 71='17:45', Time_TimeUnnamed: 72='18:00', Time_TimeUnnamed: 73='18:15', Time_TimeUnnamed: 74='18:30', Time_TimeUnnamed: 75='18:45', Time_TimeUnnamed: 76='19:00', Time_TimeUnnamed: 77='19:15', Time_TimeUnnamed: 78='19:30', Time_TimeUnnamed: 79='19:45', Time_TimeUnnamed: 80='20:00', Time_TimeUnnamed: 81='20:15', Time_TimeUnnamed: 82='20:30', Time_TimeUnnamed: 83='20:45', Time_TimeUnnamed: 84='21:00', Time_TimeUnnamed: 85='21:15', Time_TimeUnnamed: 86='21:30', Time_TimeUnnamed: 87='21:45', Time_TimeUnnamed: 88='22:00', Time_TimeUnnamed: 89='22:15', Time_TimeUnnamed: 90='22:30', Time_TimeUnnamed: 91='22:45', Time_TimeUnnamed: 92='23:00', Time_TimeUnnamed: 93='23:15', Time_TimeUnnamed: 94='23:30', Time_TimeUnnamed: 95='23:45', Time_TimeUnnamed: 96='0:00', Time_TimeUnnamed: 97='1'),\n",
       " Row(_c0='1', Time_TimeUnnamed: 0='1', System_Depatch='Canyon', Time_TimeCourses_List='10', Time_TimeInitial Time='10', Appointing_Time='10', Time_TimeUnnamed: 4='10', Time_TimeUnnamed: 5='10', Time_TimeUnnamed: 6='10', Time_TimeUnnamed: 7='10', Time_Time7/1/2020 0:00='10', Time_TimeUnnamed: 9='10', Time_TimeUnnamed: 10='10', Time_TimeUnnamed: 11='10', Time_TimeUnnamed: 12='10', Time_TimeUnnamed: 13='0', Time_TimeUnnamed: 14='0', Time_TimeUnnamed: 15='0', Time_TimeUnnamed: 16='0', Time_TimeUnnamed: 17='0', Time_TimeUnnamed: 18='0', Time_TimeUnnamed: 19='0', Time_TimeUnnamed: 20='0', Time_TimeUnnamed: 21='0', Time_TimeUnnamed: 22='0', Time_TimeUnnamed: 23='0', Time_TimeUnnamed: 24='0', Time_TimeUnnamed: 25='0', Time_TimeUnnamed: 26='0', Time_TimeUnnamed: 27='0', Time_TimeUnnamed: 28='0', Time_TimeUnnamed: 29='0', Time_TimeUnnamed: 30='0', Time_TimeUnnamed: 31='0', Time_TimeUnnamed: 32='0', Time_TimeUnnamed: 33='0', Time_TimeUnnamed: 34='0', Time_TimeUnnamed: 35='11', Time_TimeUnnamed: 36='11', Time_TimeUnnamed: 37='11', Time_TimeUnnamed: 38='11', Time_TimeUnnamed: 39='11', Time_TimeUnnamed: 40='11', Time_TimeUnnamed: 41='11', Time_TimeUnnamed: 42='30', Time_TimeUnnamed: 43='30', Time_TimeUnnamed: 44='30', Time_TimeUnnamed: 45='30', Time_TimeUnnamed: 46='30', Time_TimeUnnamed: 47='30', Time_TimeUnnamed: 48='30', Time_TimeUnnamed: 49='30', Time_TimeUnnamed: 50='30', Time_TimeUnnamed: 51='30', Time_TimeUnnamed: 52='30', Time_TimeUnnamed: 53='30', Time_TimeUnnamed: 54='30', Time_TimeUnnamed: 55='30', Time_TimeUnnamed: 56='30', Time_TimeUnnamed: 57='30', Time_TimeUnnamed: 58='30', Time_TimeUnnamed: 59='30', Time_TimeUnnamed: 60='30', Time_TimeUnnamed: 61='30', Time_TimeUnnamed: 62='30', Time_TimeUnnamed: 63='30', Time_TimeUnnamed: 64='30', Time_TimeUnnamed: 65='30', Time_TimeUnnamed: 66='30', Time_TimeUnnamed: 67='30', Time_TimeUnnamed: 68='30', Time_TimeUnnamed: 69='30', Time_TimeUnnamed: 70='30', Time_TimeUnnamed: 71='30', Time_TimeUnnamed: 72='30', Time_TimeUnnamed: 73='30', Time_TimeUnnamed: 74='30', Time_TimeUnnamed: 75='30', Time_TimeUnnamed: 76='30', Time_TimeUnnamed: 77='30', Time_TimeUnnamed: 78='30', Time_TimeUnnamed: 79='30', Time_TimeUnnamed: 80='30', Time_TimeUnnamed: 81='30', Time_TimeUnnamed: 82='30', Time_TimeUnnamed: 83='30', Time_TimeUnnamed: 84='30', Time_TimeUnnamed: 85='30', Time_TimeUnnamed: 86='30', Time_TimeUnnamed: 87='30', Time_TimeUnnamed: 88='30', Time_TimeUnnamed: 89='30', Time_TimeUnnamed: 90='30', Time_TimeUnnamed: 91='30', Time_TimeUnnamed: 92='0', Time_TimeUnnamed: 93='0', Time_TimeUnnamed: 94='0', Time_TimeUnnamed: 95='0', Time_TimeUnnamed: 96='0', Time_TimeUnnamed: 97='425')]"
      ]
     },
     "execution_count": 5,
     "metadata": {},
     "output_type": "execute_result"
    }
   ],
   "source": [
    "intern.head(2)"
   ]
  },
  {
   "cell_type": "code",
   "execution_count": 6,
   "id": "a1b03b11",
   "metadata": {},
   "outputs": [],
   "source": [
    "import tensorflow as tf"
   ]
  },
  {
   "cell_type": "code",
   "execution_count": 7,
   "id": "854aa87f",
   "metadata": {},
   "outputs": [],
   "source": [
    "from tensorflow import keras"
   ]
  },
  {
   "cell_type": "code",
   "execution_count": 77,
   "id": "751bcbca",
   "metadata": {},
   "outputs": [],
   "source": [
    "import pandas as pd\n",
    "from pyspark.sql import *\n",
    "from pyspark.sql.types import *\n",
    "\n",
    "#main1=pd.read_excel('/Users/Asus/Documents/InternCsv/forcast_july/july3.xls', index_col=0)  \n",
    "#main1=pd.read_excel('/Users/Asus/Documents/InternCsv/forcast_july/july4.xls', index_col=0)  \n",
    "\n",
    "main1=spark.read.option('header','false').csv('/Users/Asus/Documents/InternCsv/forcast_july/july3.csv')\n",
    "main2=spark.read.option('header','false').csv('/Users/Asus/Documents/InternCsv/forcast_july/july4.csv')"
   ]
  },
  {
   "cell_type": "markdown",
   "id": "7236fba3",
   "metadata": {},
   "source": [
    "## Pyspark Inner Join Example"
   ]
  },
  {
   "cell_type": "code",
   "execution_count": 73,
   "id": "c16ba347",
   "metadata": {},
   "outputs": [
    {
     "name": "stdout",
     "output_type": "stream",
     "text": [
      "+--------------------+---------+----+----+----+----+----+----+----+----+----+----+----+--------+----+----+----+----+----+----+----+-----+-----+-----+-----+-----+-----+--------+-----+-----+-----+-----+-----+-----+-----+-----+-----+-----+-----+-----+-----+--------+-----+-----+-----+-----+-----+-----+-----+------+----+----+----+----+----+----+----+----+----+----+----+----+----+----+----+----+----+----+----+----+----+----+----+----+----+----+----+----+----+----+----+----+----+----+----+----+----+----+----+----+----+----+----+----+----+----+----+----+----+----+-----+-----+-----+-----+-----+-----+-----+-----+-----+-----+-----+-----+-----+-----+-----+-----+-----+-----+-----+-----+-----+-----+-----+-----+-----+-----+-----+-----+-----+-----+-----+-----+-----+-----+-----+-----+-----+-----+-----+-----+-----+-----+-----+-----+-----+-----+-----+--------+-----+-----+-----+-----+\n",
      "|                 _c0|      _c1| _c2| _c3| _c4| _c5| _c6| _c7| _c8| _c9|_c10|_c11|_c12|    _c13|_c14|_c15|_c16|_c17|_c18|_c19|_c20| _c21| _c22| _c23| _c24| _c25| _c26|    _c27| _c28| _c29| _c30| _c31| _c32| _c33| _c34| _c35| _c36| _c37| _c38| _c39| _c40|    _c41| _c42| _c43| _c44| _c45| _c46| _c47| _c48|  _c49|_c50|_c51|_c52|_c53|_c54|_c55|_c56|_c57|_c58|_c59|_c60|_c61|_c62|_c63|_c64|_c65|_c66|_c67|_c68|_c69|_c70|_c71|_c72|_c73|_c74|_c75|_c76|_c77|_c78|_c79|_c80|_c81|_c82|_c83|_c84|_c85|_c86|_c87|_c88|_c89|_c90|_c91|_c92|_c93|_c94|_c95|_c96|_c97|_c98|_c99|_c100|_c101|_c102|_c103|_c104|_c105|_c106|_c107|_c108|_c109|_c110|_c111|_c112|_c113|_c114|_c115|_c116|_c117|_c118|_c119|_c120|_c121|_c122|_c123|_c124|_c125|_c126|_c127|_c128|_c129|_c130|_c131|_c132|_c133|_c134|_c135|_c136|_c137|_c138|_c139|_c140|_c141|_c142|_c143|_c144|_c145|_c146|   _c147|_c148|_c149|_c150|_c151|\n",
      "+--------------------+---------+----+----+----+----+----+----+----+----+----+----+----+--------+----+----+----+----+----+----+----+-----+-----+-----+-----+-----+-----+--------+-----+-----+-----+-----+-----+-----+-----+-----+-----+-----+-----+-----+-----+--------+-----+-----+-----+-----+-----+-----+-----+------+----+----+----+----+----+----+----+----+----+----+----+----+----+----+----+----+----+----+----+----+----+----+----+----+----+----+----+----+----+----+----+----+----+----+----+----+----+----+----+----+----+----+----+----+----+----+----+----+----+----+-----+-----+-----+-----+-----+-----+-----+-----+-----+-----+-----+-----+-----+-----+-----+-----+-----+-----+-----+-----+-----+-----+-----+-----+-----+-----+-----+-----+-----+-----+-----+-----+-----+-----+-----+-----+-----+-----+-----+-----+-----+-----+-----+-----+-----+-----+-----+--------+-----+-----+-----+-----+\n",
      "|3.    Day Ahead E...|     null|null|null|null|null|null|null|null|null|null|null|null|    null|null|null|null|null|null|null|null| null| null| null| null| null| null|    null| null| null| null| null| null| null| null| null| null| null| null| null| null|    null| null| null| null| null| null| null| null|  null|null|null|null|null|null|null|null|null|null|null|null|null|null|null|null|null|null|null|null|null|null|null|null|null|null|null|null|null|null|null|null|null|null|null|null|null|null|null|null|null|null|null|null|null|null|null|null|null|null|null| null| null| null| null| null| null| null| null| null| null| null| null| null| null| null| null| null| null| null| null| null| null| null| null| null| null| null| null| null| null| null| null| null| null| null| null| null| null| null| null| null| null| null| null| null| null| null|    null| null| null| null| null|\n",
      "|                Date|03-Jul-20|null|null|null|null|null|null|null|null|null|null|null|3-Jul-20|null|null|null|null|null|null|null| null| null| null| null| null| null|3-Jul-20| null| null| null| null| null| null| null| null| null| null| null| null| null|3-Jul-20| null| null| null| null| null| null| null|  null|null|null|null|null|null|null|null|null|null|null|null|null|null|null|null|null|null|null|null|null|null|null|null|null|null|null|null|null|null|null|null|null|null|null|null|null|null|null|null|null|null|null|null|null|null|null|null|null|null|null| null| null| null| null| null| null| null| null| null| null| null| null| null| null| null| null| null| null| null| null| null| null| null| null| null| null| null| null| null| null| null| null| null| null| null| null| null| null| null| null| null| null| null| null| null| null| null|    null| null| null| null| null|\n",
      "|                null|     0:00|0:30|1:00|1:30|2:00|2:30|3:00|3:30|4:00|4:30|5:00|5:30|    6:00|6:30|7:00|7:30|8:00|8:30|9:00|9:30|10:00|10:30|11:00|11:30|12:00|12:30|   13:00|13:30|14:00|14:30|15:00|15:30|16:00|16:30|17:00|17:30|18:00|18:30|19:00|19:30|   20:00|20:30|21:00|21:30|22:00|22:30|23:00|23:30|Energy|null|null|null|null|null|null|null|null|null|null|null|null|null|null|null|null|null|null|null|null|null|null|null|null|null|null|null|null|null|null|null|null|null|null|null|null|null|null|null|null|null|null|null|null|null|null|null|null|null|null| null| null| null| null| null| null| null| null| null| null| null| null| null| null| null| null| null| null| null| null| null| null| null| null| null| null| null| null| null| null| null| null| null| null| null| null| null| null| null| null| null| null| null| null| null| null| null|    null| null| null| null| null|\n",
      "|            WPS     |       23|  10|   0|   0|   0|   0|   0|   0|   0|   0|   0|  10|      33|  33|  10|  10|  10|  34|  34|  22|   22|   22|   28|   28|   28|   10|      10|   10|   19|   19|   19|   19|   19|   19|   10|   10|   10|   10|   19|   19|       0|    0|    0|    0|    0|    0|    0|    0|   287|null|null|null|null|null|null|null|null|null|null|null|null|null|null|null|null|null|null|null|null|null|null|null|null|null|null|null|null|null|null|null|null|null|null|null|null|null|null|null|null|null|null|null|null|null|null|null|null|null|null| null| null| null| null| null| null| null| null| null| null| null| null| null| null| null| null| null| null| null| null| null| null| null| null| null| null| null| null| null| null| null| null| null| null| null| null| null| null| null| null| null| null| null| null| null| null| null|Victoria| null| null| null| null|\n",
      "|           Cany     |        0|   0|   0|   0|   0|   0|   0|   0|   0|   0|   0|  11|      26|  30|  30|  30|  30|  30|  30|  30|   22|   22|   30|   30|   30|   30|      30|   30|   30|   30|   30|   30|   30|   30|   11|   11|    0|   11|   30|   30|      30|   20|   20|   11|    0|    0|    0|    0|   413|null|null|null|null|null|null|null|null|null|null|null|null|null|null|null|null|null|null|null|null|null|null|null|null|null|null|null|null|null|null|null|null|null|null|null|null|null|null|null|null|null|null|null|null|null|null|null|null|null|null| null| null| null| null| null| null| null| null| null| null| null| null| null| null| null| null| null| null| null| null| null| null| null| null| null| null| null| null| null| null| null| null| null| null| null| null| null| null| null| null| null| null| null| null| null| null| null|Kothmale| null| null| null| null|\n",
      "+--------------------+---------+----+----+----+----+----+----+----+----+----+----+----+--------+----+----+----+----+----+----+----+-----+-----+-----+-----+-----+-----+--------+-----+-----+-----+-----+-----+-----+-----+-----+-----+-----+-----+-----+-----+--------+-----+-----+-----+-----+-----+-----+-----+------+----+----+----+----+----+----+----+----+----+----+----+----+----+----+----+----+----+----+----+----+----+----+----+----+----+----+----+----+----+----+----+----+----+----+----+----+----+----+----+----+----+----+----+----+----+----+----+----+----+----+-----+-----+-----+-----+-----+-----+-----+-----+-----+-----+-----+-----+-----+-----+-----+-----+-----+-----+-----+-----+-----+-----+-----+-----+-----+-----+-----+-----+-----+-----+-----+-----+-----+-----+-----+-----+-----+-----+-----+-----+-----+-----+-----+-----+-----+-----+-----+--------+-----+-----+-----+-----+\n",
      "only showing top 5 rows\n",
      "\n",
      "root\n",
      " |-- _c0: string (nullable = true)\n",
      " |-- _c1: string (nullable = true)\n",
      " |-- _c2: string (nullable = true)\n",
      " |-- _c3: string (nullable = true)\n",
      " |-- _c4: string (nullable = true)\n",
      " |-- _c5: string (nullable = true)\n",
      " |-- _c6: string (nullable = true)\n",
      " |-- _c7: string (nullable = true)\n",
      " |-- _c8: string (nullable = true)\n",
      " |-- _c9: string (nullable = true)\n",
      " |-- _c10: string (nullable = true)\n",
      " |-- _c11: string (nullable = true)\n",
      " |-- _c12: string (nullable = true)\n",
      " |-- _c13: string (nullable = true)\n",
      " |-- _c14: string (nullable = true)\n",
      " |-- _c15: string (nullable = true)\n",
      " |-- _c16: string (nullable = true)\n",
      " |-- _c17: string (nullable = true)\n",
      " |-- _c18: string (nullable = true)\n",
      " |-- _c19: string (nullable = true)\n",
      " |-- _c20: string (nullable = true)\n",
      " |-- _c21: string (nullable = true)\n",
      " |-- _c22: string (nullable = true)\n",
      " |-- _c23: string (nullable = true)\n",
      " |-- _c24: string (nullable = true)\n",
      " |-- _c25: string (nullable = true)\n",
      " |-- _c26: string (nullable = true)\n",
      " |-- _c27: string (nullable = true)\n",
      " |-- _c28: string (nullable = true)\n",
      " |-- _c29: string (nullable = true)\n",
      " |-- _c30: string (nullable = true)\n",
      " |-- _c31: string (nullable = true)\n",
      " |-- _c32: string (nullable = true)\n",
      " |-- _c33: string (nullable = true)\n",
      " |-- _c34: string (nullable = true)\n",
      " |-- _c35: string (nullable = true)\n",
      " |-- _c36: string (nullable = true)\n",
      " |-- _c37: string (nullable = true)\n",
      " |-- _c38: string (nullable = true)\n",
      " |-- _c39: string (nullable = true)\n",
      " |-- _c40: string (nullable = true)\n",
      " |-- _c41: string (nullable = true)\n",
      " |-- _c42: string (nullable = true)\n",
      " |-- _c43: string (nullable = true)\n",
      " |-- _c44: string (nullable = true)\n",
      " |-- _c45: string (nullable = true)\n",
      " |-- _c46: string (nullable = true)\n",
      " |-- _c47: string (nullable = true)\n",
      " |-- _c48: string (nullable = true)\n",
      " |-- _c49: string (nullable = true)\n",
      " |-- _c50: string (nullable = true)\n",
      " |-- _c51: string (nullable = true)\n",
      " |-- _c52: string (nullable = true)\n",
      " |-- _c53: string (nullable = true)\n",
      " |-- _c54: string (nullable = true)\n",
      " |-- _c55: string (nullable = true)\n",
      " |-- _c56: string (nullable = true)\n",
      " |-- _c57: string (nullable = true)\n",
      " |-- _c58: string (nullable = true)\n",
      " |-- _c59: string (nullable = true)\n",
      " |-- _c60: string (nullable = true)\n",
      " |-- _c61: string (nullable = true)\n",
      " |-- _c62: string (nullable = true)\n",
      " |-- _c63: string (nullable = true)\n",
      " |-- _c64: string (nullable = true)\n",
      " |-- _c65: string (nullable = true)\n",
      " |-- _c66: string (nullable = true)\n",
      " |-- _c67: string (nullable = true)\n",
      " |-- _c68: string (nullable = true)\n",
      " |-- _c69: string (nullable = true)\n",
      " |-- _c70: string (nullable = true)\n",
      " |-- _c71: string (nullable = true)\n",
      " |-- _c72: string (nullable = true)\n",
      " |-- _c73: string (nullable = true)\n",
      " |-- _c74: string (nullable = true)\n",
      " |-- _c75: string (nullable = true)\n",
      " |-- _c76: string (nullable = true)\n",
      " |-- _c77: string (nullable = true)\n",
      " |-- _c78: string (nullable = true)\n",
      " |-- _c79: string (nullable = true)\n",
      " |-- _c80: string (nullable = true)\n",
      " |-- _c81: string (nullable = true)\n",
      " |-- _c82: string (nullable = true)\n",
      " |-- _c83: string (nullable = true)\n",
      " |-- _c84: string (nullable = true)\n",
      " |-- _c85: string (nullable = true)\n",
      " |-- _c86: string (nullable = true)\n",
      " |-- _c87: string (nullable = true)\n",
      " |-- _c88: string (nullable = true)\n",
      " |-- _c89: string (nullable = true)\n",
      " |-- _c90: string (nullable = true)\n",
      " |-- _c91: string (nullable = true)\n",
      " |-- _c92: string (nullable = true)\n",
      " |-- _c93: string (nullable = true)\n",
      " |-- _c94: string (nullable = true)\n",
      " |-- _c95: string (nullable = true)\n",
      " |-- _c96: string (nullable = true)\n",
      " |-- _c97: string (nullable = true)\n",
      " |-- _c98: string (nullable = true)\n",
      " |-- _c99: string (nullable = true)\n",
      " |-- _c100: string (nullable = true)\n",
      " |-- _c101: string (nullable = true)\n",
      " |-- _c102: string (nullable = true)\n",
      " |-- _c103: string (nullable = true)\n",
      " |-- _c104: string (nullable = true)\n",
      " |-- _c105: string (nullable = true)\n",
      " |-- _c106: string (nullable = true)\n",
      " |-- _c107: string (nullable = true)\n",
      " |-- _c108: string (nullable = true)\n",
      " |-- _c109: string (nullable = true)\n",
      " |-- _c110: string (nullable = true)\n",
      " |-- _c111: string (nullable = true)\n",
      " |-- _c112: string (nullable = true)\n",
      " |-- _c113: string (nullable = true)\n",
      " |-- _c114: string (nullable = true)\n",
      " |-- _c115: string (nullable = true)\n",
      " |-- _c116: string (nullable = true)\n",
      " |-- _c117: string (nullable = true)\n",
      " |-- _c118: string (nullable = true)\n",
      " |-- _c119: string (nullable = true)\n",
      " |-- _c120: string (nullable = true)\n",
      " |-- _c121: string (nullable = true)\n",
      " |-- _c122: string (nullable = true)\n",
      " |-- _c123: string (nullable = true)\n",
      " |-- _c124: string (nullable = true)\n",
      " |-- _c125: string (nullable = true)\n",
      " |-- _c126: string (nullable = true)\n",
      " |-- _c127: string (nullable = true)\n",
      " |-- _c128: string (nullable = true)\n",
      " |-- _c129: string (nullable = true)\n",
      " |-- _c130: string (nullable = true)\n",
      " |-- _c131: string (nullable = true)\n",
      " |-- _c132: string (nullable = true)\n",
      " |-- _c133: string (nullable = true)\n",
      " |-- _c134: string (nullable = true)\n",
      " |-- _c135: string (nullable = true)\n",
      " |-- _c136: string (nullable = true)\n",
      " |-- _c137: string (nullable = true)\n",
      " |-- _c138: string (nullable = true)\n",
      " |-- _c139: string (nullable = true)\n",
      " |-- _c140: string (nullable = true)\n",
      " |-- _c141: string (nullable = true)\n",
      " |-- _c142: string (nullable = true)\n",
      " |-- _c143: string (nullable = true)\n",
      " |-- _c144: string (nullable = true)\n",
      " |-- _c145: string (nullable = true)\n",
      " |-- _c146: string (nullable = true)\n",
      " |-- _c147: string (nullable = true)\n",
      " |-- _c148: string (nullable = true)\n",
      " |-- _c149: string (nullable = true)\n",
      " |-- _c150: string (nullable = true)\n",
      " |-- _c151: string (nullable = true)\n",
      "\n"
     ]
    }
   ],
   "source": [
    "main1.show(5)\n",
    "main1.printSchema()"
   ]
  },
  {
   "cell_type": "code",
   "execution_count": 74,
   "id": "9f3a5268",
   "metadata": {
    "scrolled": true
   },
   "outputs": [],
   "source": [
    "main1=main1.toDF(*(c.replace(' ', '_') for c in main1.columns))"
   ]
  },
  {
   "cell_type": "code",
   "execution_count": 76,
   "id": "f8db9e9f",
   "metadata": {},
   "outputs": [
    {
     "name": "stdout",
     "output_type": "stream",
     "text": [
      "+--------------------+--------------+--------------+\n",
      "|      Starting_Time1|Starting_Time2|Starting_Time3|\n",
      "+--------------------+--------------+--------------+\n",
      "|3.    Day Ahead E...|          null|          null|\n",
      "|                Date|     03-Jul-20|          null|\n",
      "|                null|          0:00|          0:30|\n",
      "|            WPS     |            23|            10|\n",
      "|           Cany     |             0|             0|\n",
      "|         Olax       |            10|            10|\n",
      "|                Nlax|            20|            20|\n",
      "|                Polp|            22|             6|\n",
      "|                UKPS|             0|             0|\n",
      "|                Koth|            40|            40|\n",
      "|            Victoria|             0|             0|\n",
      "|                Rand|             0|             0|\n",
      "|                Rant|             0|             0|\n",
      "|                 Uku|            40|            40|\n",
      "|                Bowa|             0|             0|\n",
      "|                Sama|             0|             0|\n",
      "|              Kukule|             0|             0|\n",
      "|              PCCP I|           270|           270|\n",
      "|             PCCP II|           270|           270|\n",
      "|            PCCP III|           229|           259|\n",
      "+--------------------+--------------+--------------+\n",
      "only showing top 20 rows\n",
      "\n"
     ]
    }
   ],
   "source": [
    "#main1.printSchema()\n",
    "from pyspark.sql.functions import col\n",
    "main1 = main1.select(col(\"_c0\").alias(\"Starting_Time1\"), col(\"_c1\").alias(\"Starting_Time2\"),col(\"_c2\").alias(\"Starting_Time3\"))\n",
    "main1.show()\n"
   ]
  },
  {
   "cell_type": "markdown",
   "id": "9f825f28",
   "metadata": {},
   "source": [
    "## Setting up the Data in Pyspark"
   ]
  },
  {
   "cell_type": "code",
   "execution_count": 52,
   "id": "2e284f03",
   "metadata": {},
   "outputs": [
    {
     "name": "stdout",
     "output_type": "stream",
     "text": [
      "root\n",
      " |-- emp_id: long (nullable = true)\n",
      " |-- name: string (nullable = true)\n",
      " |-- superior_emp_id: long (nullable = true)\n",
      " |-- year_joined: string (nullable = true)\n",
      " |-- emp_dept_id: string (nullable = true)\n",
      " |-- gender: string (nullable = true)\n",
      " |-- salary: long (nullable = true)\n",
      "\n",
      "+------+--------+---------------+-----------+-----------+------+------+\n",
      "|emp_id|name    |superior_emp_id|year_joined|emp_dept_id|gender|salary|\n",
      "+------+--------+---------------+-----------+-----------+------+------+\n",
      "|1     |Smith   |-1             |2018       |10         |M     |3000  |\n",
      "|2     |Rose    |1              |2010       |20         |M     |4000  |\n",
      "|3     |Williams|1              |2010       |10         |M     |1000  |\n",
      "|4     |Jones   |2              |2005       |10         |F     |2000  |\n",
      "|5     |Brown   |2              |2010       |40         |      |-1    |\n",
      "|6     |Brown   |2              |2010       |50         |      |-1    |\n",
      "+------+--------+---------------+-----------+-----------+------+------+\n",
      "\n",
      "root\n",
      " |-- dept_name: string (nullable = true)\n",
      " |-- dept_id: long (nullable = true)\n",
      "\n",
      "+---------+-------+\n",
      "|dept_name|dept_id|\n",
      "+---------+-------+\n",
      "|Finance  |10     |\n",
      "|Marketing|20     |\n",
      "|Sales    |30     |\n",
      "|IT       |40     |\n",
      "+---------+-------+\n",
      "\n"
     ]
    }
   ],
   "source": [
    "emp = [(1,\"Smith\",-1,\"2018\",\"10\",\"M\",3000), \\\n",
    "    (2,\"Rose\",1,\"2010\",\"20\",\"M\",4000), \\\n",
    "    (3,\"Williams\",1,\"2010\",\"10\",\"M\",1000), \\\n",
    "    (4,\"Jones\",2,\"2005\",\"10\",\"F\",2000), \\\n",
    "    (5,\"Brown\",2,\"2010\",\"40\",\"\",-1), \\\n",
    "      (6,\"Brown\",2,\"2010\",\"50\",\"\",-1) \\\n",
    "  ]\n",
    "empColumns = [\"emp_id\",\"name\",\"superior_emp_id\",\"year_joined\", \\\n",
    "       \"emp_dept_id\",\"gender\",\"salary\"]\n",
    "\n",
    "empDF = spark.createDataFrame(data=emp, schema = empColumns)\n",
    "empDF.printSchema()\n",
    "empDF.show(truncate=False)\n",
    "\n",
    "dept = [(\"Finance\",10), \\\n",
    "    (\"Marketing\",20), \\\n",
    "    (\"Sales\",30), \\\n",
    "    (\"IT\",40) \\\n",
    "  ]\n",
    "deptColumns = [\"dept_name\",\"dept_id\"]\n",
    "deptDF = spark.createDataFrame(data=dept, schema = deptColumns)\n",
    "deptDF.printSchema()\n",
    "deptDF.show(truncate=False)"
   ]
  },
  {
   "cell_type": "code",
   "execution_count": 51,
   "id": "d42d07fe",
   "metadata": {},
   "outputs": [],
   "source": [
    "m1 = Main1.alias('m1')\n",
    "m2 = Main2.alias('m2') #Using Alias in spark to provide a temporary Name"
   ]
  },
  {
   "cell_type": "markdown",
   "id": "15bba5d2",
   "metadata": {},
   "source": [
    "## Pyspark Inner Join Example"
   ]
  },
  {
   "cell_type": "code",
   "execution_count": 53,
   "id": "6203bc1c",
   "metadata": {},
   "outputs": [
    {
     "name": "stdout",
     "output_type": "stream",
     "text": [
      "+------+--------+---------------+-----------+-----------+------+------+---------+-------+\n",
      "|emp_id|name    |superior_emp_id|year_joined|emp_dept_id|gender|salary|dept_name|dept_id|\n",
      "+------+--------+---------------+-----------+-----------+------+------+---------+-------+\n",
      "|1     |Smith   |-1             |2018       |10         |M     |3000  |Finance  |10     |\n",
      "|3     |Williams|1              |2010       |10         |M     |1000  |Finance  |10     |\n",
      "|4     |Jones   |2              |2005       |10         |F     |2000  |Finance  |10     |\n",
      "|2     |Rose    |1              |2010       |20         |M     |4000  |Marketing|20     |\n",
      "|5     |Brown   |2              |2010       |40         |      |-1    |IT       |40     |\n",
      "+------+--------+---------------+-----------+-----------+------+------+---------+-------+\n",
      "\n"
     ]
    }
   ],
   "source": [
    "empDF.join(deptDF,empDF.emp_dept_id ==  deptDF.dept_id,\"inner\") \\\n",
    "     .show(truncate=False)"
   ]
  },
  {
   "cell_type": "markdown",
   "id": "2e5d05d1",
   "metadata": {},
   "source": [
    "## PySpark Full Outer Join"
   ]
  },
  {
   "cell_type": "code",
   "execution_count": 55,
   "id": "4f996150",
   "metadata": {},
   "outputs": [
    {
     "name": "stdout",
     "output_type": "stream",
     "text": [
      "Outer Join\n",
      "+------+--------+---------------+-----------+-----------+------+------+---------+-------+\n",
      "|emp_id|name    |superior_emp_id|year_joined|emp_dept_id|gender|salary|dept_name|dept_id|\n",
      "+------+--------+---------------+-----------+-----------+------+------+---------+-------+\n",
      "|6     |Brown   |2              |2010       |50         |      |-1    |null     |null   |\n",
      "|1     |Smith   |-1             |2018       |10         |M     |3000  |Finance  |10     |\n",
      "|3     |Williams|1              |2010       |10         |M     |1000  |Finance  |10     |\n",
      "|4     |Jones   |2              |2005       |10         |F     |2000  |Finance  |10     |\n",
      "|null  |null    |null           |null       |null       |null  |null  |Sales    |30     |\n",
      "|2     |Rose    |1              |2010       |20         |M     |4000  |Marketing|20     |\n",
      "|5     |Brown   |2              |2010       |40         |      |-1    |IT       |40     |\n",
      "+------+--------+---------------+-----------+-----------+------+------+---------+-------+\n",
      "\n",
      "Full Join\n",
      "+------+--------+---------------+-----------+-----------+------+------+---------+-------+\n",
      "|emp_id|name    |superior_emp_id|year_joined|emp_dept_id|gender|salary|dept_name|dept_id|\n",
      "+------+--------+---------------+-----------+-----------+------+------+---------+-------+\n",
      "|6     |Brown   |2              |2010       |50         |      |-1    |null     |null   |\n",
      "|1     |Smith   |-1             |2018       |10         |M     |3000  |Finance  |10     |\n",
      "|3     |Williams|1              |2010       |10         |M     |1000  |Finance  |10     |\n",
      "|4     |Jones   |2              |2005       |10         |F     |2000  |Finance  |10     |\n",
      "|null  |null    |null           |null       |null       |null  |null  |Sales    |30     |\n",
      "|2     |Rose    |1              |2010       |20         |M     |4000  |Marketing|20     |\n",
      "|5     |Brown   |2              |2010       |40         |      |-1    |IT       |40     |\n",
      "+------+--------+---------------+-----------+-----------+------+------+---------+-------+\n",
      "\n",
      "Full Outer Join\n",
      "+------+--------+---------------+-----------+-----------+------+------+---------+-------+\n",
      "|emp_id|name    |superior_emp_id|year_joined|emp_dept_id|gender|salary|dept_name|dept_id|\n",
      "+------+--------+---------------+-----------+-----------+------+------+---------+-------+\n",
      "|6     |Brown   |2              |2010       |50         |      |-1    |null     |null   |\n",
      "|1     |Smith   |-1             |2018       |10         |M     |3000  |Finance  |10     |\n",
      "|3     |Williams|1              |2010       |10         |M     |1000  |Finance  |10     |\n",
      "|4     |Jones   |2              |2005       |10         |F     |2000  |Finance  |10     |\n",
      "|null  |null    |null           |null       |null       |null  |null  |Sales    |30     |\n",
      "|2     |Rose    |1              |2010       |20         |M     |4000  |Marketing|20     |\n",
      "|5     |Brown   |2              |2010       |40         |      |-1    |IT       |40     |\n",
      "+------+--------+---------------+-----------+-----------+------+------+---------+-------+\n",
      "\n"
     ]
    }
   ],
   "source": [
    "print(\"Outer Join\")\n",
    "empDF.join(deptDF,empDF.emp_dept_id ==  deptDF.dept_id,\"outer\") \\\n",
    "    .show(truncate=False)\n",
    "print(\"Full Join\")\n",
    "empDF.join(deptDF,empDF.emp_dept_id ==  deptDF.dept_id,\"full\") \\\n",
    "    .show(truncate=False)\n",
    "print(\"Full Outer Join\")\n",
    "empDF.join(deptDF,empDF.emp_dept_id ==  deptDF.dept_id,\"fullouter\") \\\n",
    "    .show(truncate=False)"
   ]
  },
  {
   "cell_type": "markdown",
   "id": "9bcc81f4",
   "metadata": {},
   "source": [
    "## PySpark Left Outer Join"
   ]
  },
  {
   "cell_type": "code",
   "execution_count": 63,
   "id": "0c51574f",
   "metadata": {},
   "outputs": [
    {
     "name": "stdout",
     "output_type": "stream",
     "text": [
      "Left Join\n",
      "+------+--------+---------------+-----------+-----------+------+------+---------+-------+\n",
      "|emp_id|name    |superior_emp_id|year_joined|emp_dept_id|gender|salary|dept_name|dept_id|\n",
      "+------+--------+---------------+-----------+-----------+------+------+---------+-------+\n",
      "|6     |Brown   |2              |2010       |50         |      |-1    |null     |null   |\n",
      "|1     |Smith   |-1             |2018       |10         |M     |3000  |Finance  |10     |\n",
      "|3     |Williams|1              |2010       |10         |M     |1000  |Finance  |10     |\n",
      "|4     |Jones   |2              |2005       |10         |F     |2000  |Finance  |10     |\n",
      "|2     |Rose    |1              |2010       |20         |M     |4000  |Marketing|20     |\n",
      "|5     |Brown   |2              |2010       |40         |      |-1    |IT       |40     |\n",
      "+------+--------+---------------+-----------+-----------+------+------+---------+-------+\n",
      "\n",
      "Left Outer Join\n",
      "+------+--------+---------------+-----------+-----------+------+------+---------+-------+\n",
      "|emp_id|name    |superior_emp_id|year_joined|emp_dept_id|gender|salary|dept_name|dept_id|\n",
      "+------+--------+---------------+-----------+-----------+------+------+---------+-------+\n",
      "|6     |Brown   |2              |2010       |50         |      |-1    |null     |null   |\n",
      "|1     |Smith   |-1             |2018       |10         |M     |3000  |Finance  |10     |\n",
      "|3     |Williams|1              |2010       |10         |M     |1000  |Finance  |10     |\n",
      "|4     |Jones   |2              |2005       |10         |F     |2000  |Finance  |10     |\n",
      "|2     |Rose    |1              |2010       |20         |M     |4000  |Marketing|20     |\n",
      "|5     |Brown   |2              |2010       |40         |      |-1    |IT       |40     |\n",
      "+------+--------+---------------+-----------+-----------+------+------+---------+-------+\n",
      "\n"
     ]
    }
   ],
   "source": [
    "print(\"Left Join\")\n",
    "\n",
    "empDF.join(deptDF,empDF.emp_dept_id ==  deptDF.dept_id,\"left\") \\\n",
    "    .show(truncate=False)\n",
    "\n",
    "print(\"Left Outer Join\")\n",
    "empDF.join(deptDF,empDF.emp_dept_id ==  deptDF.dept_id,\"leftouter\") \\\n",
    "    .show(truncate=False)\n",
    "\n"
   ]
  },
  {
   "cell_type": "markdown",
   "id": "1248a0ba",
   "metadata": {},
   "source": [
    "## PySpark Right Outer Join"
   ]
  },
  {
   "cell_type": "code",
   "execution_count": 64,
   "id": "ee6a4cf9",
   "metadata": {},
   "outputs": [
    {
     "name": "stdout",
     "output_type": "stream",
     "text": [
      "Right Join\n",
      "+------+--------+---------------+-----------+-----------+------+------+---------+-------+\n",
      "|emp_id|name    |superior_emp_id|year_joined|emp_dept_id|gender|salary|dept_name|dept_id|\n",
      "+------+--------+---------------+-----------+-----------+------+------+---------+-------+\n",
      "|1     |Smith   |-1             |2018       |10         |M     |3000  |Finance  |10     |\n",
      "|3     |Williams|1              |2010       |10         |M     |1000  |Finance  |10     |\n",
      "|4     |Jones   |2              |2005       |10         |F     |2000  |Finance  |10     |\n",
      "|null  |null    |null           |null       |null       |null  |null  |Sales    |30     |\n",
      "|2     |Rose    |1              |2010       |20         |M     |4000  |Marketing|20     |\n",
      "|5     |Brown   |2              |2010       |40         |      |-1    |IT       |40     |\n",
      "+------+--------+---------------+-----------+-----------+------+------+---------+-------+\n",
      "\n",
      "Right Outer Join\n",
      "+------+--------+---------------+-----------+-----------+------+------+---------+-------+\n",
      "|emp_id|name    |superior_emp_id|year_joined|emp_dept_id|gender|salary|dept_name|dept_id|\n",
      "+------+--------+---------------+-----------+-----------+------+------+---------+-------+\n",
      "|1     |Smith   |-1             |2018       |10         |M     |3000  |Finance  |10     |\n",
      "|3     |Williams|1              |2010       |10         |M     |1000  |Finance  |10     |\n",
      "|4     |Jones   |2              |2005       |10         |F     |2000  |Finance  |10     |\n",
      "|null  |null    |null           |null       |null       |null  |null  |Sales    |30     |\n",
      "|2     |Rose    |1              |2010       |20         |M     |4000  |Marketing|20     |\n",
      "|5     |Brown   |2              |2010       |40         |      |-1    |IT       |40     |\n",
      "+------+--------+---------------+-----------+-----------+------+------+---------+-------+\n",
      "\n"
     ]
    }
   ],
   "source": [
    "print(\"Right Join\")\n",
    "empDF.join(deptDF,empDF.emp_dept_id ==  deptDF.dept_id,\"right\") \\\n",
    "   .show(truncate=False)\n",
    "print(\"Right Outer Join\")\n",
    "empDF.join(deptDF,empDF.emp_dept_id ==  deptDF.dept_id,\"rightouter\") \\\n",
    "   .show(truncate=False)"
   ]
  },
  {
   "cell_type": "markdown",
   "id": "5f6e711f",
   "metadata": {},
   "source": [
    "## Union Queries"
   ]
  },
  {
   "cell_type": "code",
   "execution_count": 65,
   "id": "44bb288d",
   "metadata": {},
   "outputs": [],
   "source": [
    "import pyspark\n",
    "from pyspark.sql import SparkSession"
   ]
  },
  {
   "cell_type": "code",
   "execution_count": 78,
   "id": "4feb54db",
   "metadata": {},
   "outputs": [
    {
     "name": "stdout",
     "output_type": "stream",
     "text": [
      "+--------------------+--------------+--------------+\n",
      "|      Starting_Time1|Starting_Time2|Starting_Time3|\n",
      "+--------------------+--------------+--------------+\n",
      "|3.    Day Ahead E...|          null|          null|\n",
      "|                Date|     03-Jul-20|          null|\n",
      "|                null|          0:00|          0:30|\n",
      "|            WPS     |            23|            10|\n",
      "|           Cany     |             0|             0|\n",
      "|         Olax       |            10|            10|\n",
      "|                Nlax|            20|            20|\n",
      "|                Polp|            22|             6|\n",
      "|                UKPS|             0|             0|\n",
      "|                Koth|            40|            40|\n",
      "|            Victoria|             0|             0|\n",
      "|                Rand|             0|             0|\n",
      "|                Rant|             0|             0|\n",
      "|                 Uku|            40|            40|\n",
      "|                Bowa|             0|             0|\n",
      "|                Sama|             0|             0|\n",
      "|              Kukule|             0|             0|\n",
      "|              PCCP I|           270|           270|\n",
      "|             PCCP II|           270|           270|\n",
      "|            PCCP III|           229|           259|\n",
      "+--------------------+--------------+--------------+\n",
      "only showing top 20 rows\n",
      "\n",
      "+--------------------+--------------+--------------+\n",
      "|      Starting_Time1|Starting_Time2|Starting_Time3|\n",
      "+--------------------+--------------+--------------+\n",
      "|3.    Day Ahead E...|          null|          null|\n",
      "|                Date|     04-Jul-20|          null|\n",
      "|                null|          0:00|          0:30|\n",
      "|            WPS     |            23|            23|\n",
      "|           Cany     |            11|            11|\n",
      "|         Olax       |            10|            10|\n",
      "|                Nlax|            22|            22|\n",
      "|                Polp|            19|            18|\n",
      "|                UKPS|             0|             0|\n",
      "|                Koth|            40|            40|\n",
      "|            Victoria|             0|             0|\n",
      "|                Rand|             0|             0|\n",
      "|                Rant|             0|             0|\n",
      "|                 Uku|            40|            40|\n",
      "|                Bowa|             0|             0|\n",
      "|                Sama|             0|             0|\n",
      "|              Kukule|            75|            75|\n",
      "|              PCCP I|           270|           270|\n",
      "|             PCCP II|           270|           270|\n",
      "|            PCCP III|           270|           270|\n",
      "+--------------------+--------------+--------------+\n",
      "only showing top 20 rows\n",
      "\n"
     ]
    }
   ],
   "source": [
    "#main1.printSchema()\n",
    "from pyspark.sql.functions import col\n",
    "main1 = main1.select(col(\"_c0\").alias(\"Starting_Time1\"), col(\"_c1\").alias(\"Starting_Time2\"),col(\"_c2\").alias(\"Starting_Time3\"))\n",
    "main1.show()\n",
    "#main2.printSchema()\n",
    "main2 = main2.select(col(\"_c0\").alias(\"Starting_Time1\"), col(\"_c1\").alias(\"Starting_Time2\"),col(\"_c2\").alias(\"Starting_Time3\"))\n",
    "main2.show()"
   ]
  },
  {
   "cell_type": "code",
   "execution_count": 79,
   "id": "9d96afab",
   "metadata": {},
   "outputs": [
    {
     "name": "stdout",
     "output_type": "stream",
     "text": [
      "+----------------------------------------------------+--------------+--------------+\n",
      "|Starting_Time1                                      |Starting_Time2|Starting_Time3|\n",
      "+----------------------------------------------------+--------------+--------------+\n",
      "|3.    Day Ahead Economic Dispatch for next day in MW|null          |null          |\n",
      "|Date                                                |03-Jul-20     |null          |\n",
      "|null                                                |0:00          |0:30          |\n",
      "|WPS                                                 |23            |10            |\n",
      "|Cany                                                |0             |0             |\n",
      "|Olax                                                |10            |10            |\n",
      "|Nlax                                                |20            |20            |\n",
      "|Polp                                                |22            |6             |\n",
      "|UKPS                                                |0             |0             |\n",
      "|Koth                                                |40            |40            |\n",
      "|Victoria                                            |0             |0             |\n",
      "|Rand                                                |0             |0             |\n",
      "|Rant                                                |0             |0             |\n",
      "|Uku                                                 |40            |40            |\n",
      "|Bowa                                                |0             |0             |\n",
      "|Sama                                                |0             |0             |\n",
      "|Kukule                                              |0             |0             |\n",
      "|PCCP I                                              |270           |270           |\n",
      "|PCCP II                                             |270           |270           |\n",
      "|PCCP III                                            |229           |259           |\n",
      "+----------------------------------------------------+--------------+--------------+\n",
      "only showing top 20 rows\n",
      "\n"
     ]
    }
   ],
   "source": [
    "unionDF = main1.union(main2)\n",
    "unionDF.show(truncate=False)"
   ]
  },
  {
   "cell_type": "markdown",
   "id": "55b3edd0",
   "metadata": {},
   "source": [
    "## Merge DataFrames using unionAll"
   ]
  },
  {
   "cell_type": "code",
   "execution_count": 82,
   "id": "c2a97234",
   "metadata": {},
   "outputs": [
    {
     "name": "stdout",
     "output_type": "stream",
     "text": [
      "+--------------------+--------------------+--------------+\n",
      "|      Starting_Time1|      Starting_Time2|Starting_Time3|\n",
      "+--------------------+--------------------+--------------+\n",
      "|3.    Day Ahead E...|                null|          null|\n",
      "|                Date|           03-Jul-20|          null|\n",
      "|                null|                0:00|          0:30|\n",
      "|            WPS     |                  23|            10|\n",
      "|           Cany     |                   0|             0|\n",
      "|         Olax       |                  10|            10|\n",
      "|                Nlax|                  20|            20|\n",
      "|                Polp|                  22|             6|\n",
      "|                UKPS|                   0|             0|\n",
      "|                Koth|                  40|            40|\n",
      "|            Victoria|                   0|             0|\n",
      "|                Rand|                   0|             0|\n",
      "|                Rant|                   0|             0|\n",
      "|                 Uku|                  40|            40|\n",
      "|                Bowa|                   0|             0|\n",
      "|                Sama|                   0|             0|\n",
      "|              Kukule|                   0|             0|\n",
      "|              PCCP I|                 270|           270|\n",
      "|             PCCP II|                 270|           270|\n",
      "|            PCCP III|                 229|           259|\n",
      "|                 KPS|                   0|             0|\n",
      "|       CEB_EMERGENCY|                   0|             0|\n",
      "|               GT 07|                   0|             0|\n",
      "|               SPS A|                  54|            54|\n",
      "|               SPS B|                  63|            63|\n",
      "|          Asia Power|                   0|             0|\n",
      "|               Barge|                  60|            60|\n",
      "|        ACE (Matara)|                   0|             0|\n",
      "|  Ace (Embilipitiya)|                  67|            31|\n",
      "|      NORTHERN_Power|                   0|             0|\n",
      "|       Uthuru_Janani|                  20|            16|\n",
      "|          KCCP GT(N)|                   0|             0|\n",
      "|          KCCP ST(N)|                   0|             0|\n",
      "|          KCCP GT(D)|                   0|             0|\n",
      "|          KCCP ST(D)|                   0|             0|\n",
      "|          Sojitz CCP|                   0|             0|\n",
      "|             WCP_GT1|                  85|            85|\n",
      "|             WCP_GT2|                   0|             0|\n",
      "|              WCP_ST|                  50|            50|\n",
      "|        VPOWER_Palle|                   0|             0|\n",
      "|       ALTAAQ_Mahiya|                   0|             0|\n",
      "|        ALTAAQ_Polon|                   0|             0|\n",
      "|         VPOWER_Hamb|                   0|             0|\n",
      "|       VPOWER_Horana|                   0|             0|\n",
      "|                Wind|                  51|            49|\n",
      "|               Solar|                   0|             0|\n",
      "|       Mini Hydro***|                  60|            60|\n",
      "|    Total Generation|                1434|          1393|\n",
      "|         Total Hydro|                 155|           126|\n",
      "|       Total Thermal|                1168|          1158|\n",
      "|      Total NCRE ***|                 111|           109|\n",
      "|  Generation Summery|                null|          null|\n",
      "|                null|            7/3/2020|          null|\n",
      "|Total Energy / (GWh)|               44.06|          null|\n",
      "|Hydro Energy / (GWh)|                9.22|        20.92%|\n",
      "|Thermal Energy /(...|               32.03|        72.70%|\n",
      "| NCRE Energy / (GWh)|                2.81|         6.37%|\n",
      "|                null|                null|          null|\n",
      "|            Note ***|Please note that ...|          null|\n",
      "|             Remarks|                null|          null|\n",
      "|                null|                null|          null|\n",
      "|1. Frequency Control|                null|          null|\n",
      "|                null|            Off Peak|      Day Peak|\n",
      "|               Day 1|            Kothmale|      Kothmale|\n",
      "|                null|                null|          null|\n",
      "|2. Irrigation Req...|                null|          null|\n",
      "|                null|                null|          null|\n",
      "|Rant 20MW X15 hrs...|                null|          null|\n",
      "|                null|                null|          null|\n",
      "|                null|                null|          null|\n",
      "|                null|                null|          null|\n",
      "|3. Other water Re...|                null|          null|\n",
      "|                null|                null|          null|\n",
      "|            4. Other|                null|          null|\n",
      "|                null|                null|          null|\n",
      "|                null|                null|          null|\n",
      "|                null|                null|          null|\n",
      "|3.    Day Ahead E...|                null|          null|\n",
      "|                Date|           04-Jul-20|          null|\n",
      "|                null|                0:00|          0:30|\n",
      "|            WPS     |                  23|            23|\n",
      "|           Cany     |                  11|            11|\n",
      "|         Olax       |                  10|            10|\n",
      "|                Nlax|                  22|            22|\n",
      "|                Polp|                  19|            18|\n",
      "|                UKPS|                   0|             0|\n",
      "|                Koth|                  40|            40|\n",
      "|            Victoria|                   0|             0|\n",
      "|                Rand|                   0|             0|\n",
      "|                Rant|                   0|             0|\n",
      "|                 Uku|                  40|            40|\n",
      "|                Bowa|                   0|             0|\n",
      "|                Sama|                   0|             0|\n",
      "|              Kukule|                  75|            75|\n",
      "|              PCCP I|                 270|           270|\n",
      "|             PCCP II|                 270|           270|\n",
      "|            PCCP III|                 270|           270|\n",
      "|                 KPS|                   0|             0|\n",
      "|       CEB_EMERGENCY|                   0|             0|\n",
      "|               GT 07|                   0|             0|\n",
      "+--------------------+--------------------+--------------+\n",
      "only showing top 100 rows\n",
      "\n"
     ]
    }
   ],
   "source": [
    "unionAllDF = main1.unionAll(main2)\n",
    "unionAllDF.show(100)\n"
   ]
  },
  {
   "cell_type": "markdown",
   "id": "5c7a5c12",
   "metadata": {},
   "source": [
    "## Merge without Duplicates"
   ]
  },
  {
   "cell_type": "code",
   "execution_count": 84,
   "id": "517e7d5e",
   "metadata": {},
   "outputs": [
    {
     "name": "stdout",
     "output_type": "stream",
     "text": [
      "+--------------------+--------------------+--------------+\n",
      "|      Starting_Time1|      Starting_Time2|Starting_Time3|\n",
      "+--------------------+--------------------+--------------+\n",
      "|       VPOWER_Horana|                   0|             0|\n",
      "|                Bowa|                   0|             0|\n",
      "|                null|                0:00|          0:30|\n",
      "|       Uthuru_Janani|                   0|             0|\n",
      "|    Total Generation|                1302|          1257|\n",
      "|      Total NCRE ***|                 120|           121|\n",
      "|       Mini Hydro***|                  60|            60|\n",
      "|  Generation Summery|                null|          null|\n",
      "|       Uthuru_Janani|                  20|            16|\n",
      "|               SPS B|                  63|            63|\n",
      "|    Total Generation|                1434|          1393|\n",
      "|  Ace (Embilipitiya)|                   0|             0|\n",
      "|                null|            7/4/2020|          null|\n",
      "|                null|            7/3/2020|          null|\n",
      "|Total Energy / (GWh)|               34.63|          null|\n",
      "|                Polp|                  22|             6|\n",
      "|             WCP_GT1|                  85|            85|\n",
      "|                Wind|                  51|            49|\n",
      "|Total Energy / (GWh)|               44.06|          null|\n",
      "|             Remarks|                null|          null|\n",
      "|              Kukule|                  75|            75|\n",
      "|             WCP_GT1|                   0|             0|\n",
      "|Rant 20MW X15 hrs...|                null|          null|\n",
      "|                null|                null|          null|\n",
      "|             WCP_GT2|                   0|             0|\n",
      "|                Polp|                  19|            18|\n",
      "|                Date|           03-Jul-20|          null|\n",
      "|                Nlax|                  22|            22|\n",
      "|Thermal Energy /(...|               32.03|        72.70%|\n",
      "|3.    Day Ahead E...|                null|          null|\n",
      "|                Nlax|                  20|            20|\n",
      "| NCRE Energy / (GWh)|                2.58|         7.46%|\n",
      "|                Rand|                   0|             0|\n",
      "|Hydro Energy / (GWh)|                9.22|        20.92%|\n",
      "|           Cany     |                   0|             0|\n",
      "|       CEB_EMERGENCY|                   0|             0|\n",
      "|               GT 07|                   0|             0|\n",
      "|                Rant|                   0|             0|\n",
      "|               Solar|                   0|             0|\n",
      "|               SPS B|                  54|            27|\n",
      "|            Note ***|Please note that ...|          null|\n",
      "|      Total NCRE ***|                 111|           109|\n",
      "|       Total Thermal|                1168|          1158|\n",
      "|            4. Other|                null|          null|\n",
      "|         VPOWER_Hamb|                   0|             0|\n",
      "| NCRE Energy / (GWh)|                2.81|         6.37%|\n",
      "|1. Frequency Control|                null|          null|\n",
      "|            PCCP III|                 229|           259|\n",
      "|       ALTAAQ_Mahiya|                   0|             0|\n",
      "|            WPS     |                  23|            23|\n",
      "|                Wind|                  59|            59|\n",
      "|             PCCP II|                 270|           270|\n",
      "|          KCCP ST(N)|                   0|             0|\n",
      "|          Sojitz CCP|                   0|             0|\n",
      "|                null|            Off Peak|      Day Peak|\n",
      "|       Total Thermal|                 942|           897|\n",
      "|Hydro Energy / (GWh)|               10.78|        31.12%|\n",
      "|          Asia Power|                   0|             0|\n",
      "|            PCCP III|                 270|           270|\n",
      "|              WCP_ST|                  50|            50|\n",
      "|  Ace (Embilipitiya)|                  67|            31|\n",
      "|          KCCP GT(N)|                   0|             0|\n",
      "|         Olax       |                  10|            10|\n",
      "|      NORTHERN_Power|                   0|             0|\n",
      "|         Total Hydro|                 155|           126|\n",
      "|               Day 1|            Kothmale|      Kothmale|\n",
      "|           Cany     |                  11|            11|\n",
      "|       Mini Hydro***|                  61|            62|\n",
      "|        VPOWER_Palle|                   0|             0|\n",
      "|                Koth|                  40|            40|\n",
      "|          KCCP ST(D)|                   0|             0|\n",
      "|         Total Hydro|                 240|           239|\n",
      "|                 Uku|                  40|            40|\n",
      "|        ALTAAQ_Polon|                   0|             0|\n",
      "|            WPS     |                  23|            10|\n",
      "|                 KPS|                   0|             0|\n",
      "|2. Irrigation Req...|                null|          null|\n",
      "|3. Other water Re...|                null|          null|\n",
      "|Thermal Energy /(...|               21.27|        61.42%|\n",
      "|          KCCP GT(D)|                   0|             0|\n",
      "|              WCP_ST|                   0|             0|\n",
      "|                UKPS|                   0|             0|\n",
      "|               SPS A|                  54|            54|\n",
      "|               SPS A|                  18|             0|\n",
      "|              PCCP I|                 270|           270|\n",
      "|               Barge|                  60|            60|\n",
      "|        ACE (Matara)|                   0|             0|\n",
      "|              Kukule|                   0|             0|\n",
      "|                Date|           04-Jul-20|          null|\n",
      "|                Sama|                   0|             0|\n",
      "|            Victoria|                   0|             0|\n",
      "+--------------------+--------------------+--------------+\n",
      "\n"
     ]
    }
   ],
   "source": [
    "disDF = main1.union(main2).distinct()\n",
    "disDF.show(100)"
   ]
  },
  {
   "cell_type": "code",
   "execution_count": null,
   "id": "cdbb5cef",
   "metadata": {},
   "outputs": [],
   "source": []
  }
 ],
 "metadata": {
  "kernelspec": {
   "display_name": "Python 3",
   "language": "python",
   "name": "python3"
  },
  "language_info": {
   "codemirror_mode": {
    "name": "ipython",
    "version": 3
   },
   "file_extension": ".py",
   "mimetype": "text/x-python",
   "name": "python",
   "nbconvert_exporter": "python",
   "pygments_lexer": "ipython3",
   "version": "3.8.8"
  }
 },
 "nbformat": 4,
 "nbformat_minor": 5
}

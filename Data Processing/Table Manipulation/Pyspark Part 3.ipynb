{
 "cells": [
  {
   "cell_type": "code",
   "execution_count": 2,
   "id": "acff9e0a",
   "metadata": {},
   "outputs": [
    {
     "data": {
      "text/plain": [
       "'C:\\\\spark'"
      ]
     },
     "execution_count": 2,
     "metadata": {},
     "output_type": "execute_result"
    }
   ],
   "source": [
    "#Testing Pyspark Installation\n",
    "import findspark\n",
    "\n",
    "findspark.init()\n",
    "findspark.find()\n",
    "\n",
    "import pyspark\n",
    "findspark.find()"
   ]
  },
  {
   "cell_type": "code",
   "execution_count": 3,
   "id": "8c291fab",
   "metadata": {},
   "outputs": [],
   "source": [
    "#intialize Spark Context\n",
    "from pyspark import SparkContext, SparkConf\n",
    "from pyspark.sql import SparkSession\n",
    "spark= SparkSession.builder.appName('Inter3').getOrCreate()"
   ]
  },
  {
   "cell_type": "code",
   "execution_count": 4,
   "id": "fb15947d",
   "metadata": {},
   "outputs": [],
   "source": [
    "import pandas as pd\n",
    "from pyspark.sql import *\n",
    "from pyspark.sql.types import *\n",
    "\n",
    "#main1=pd.read_excel('/Users/Asus/Documents/InternCsv/forcast_july/july3.xls', index_col=0)  \n",
    "#main1=pd.read_excel('/Users/Asus/Documents/InternCsv/forcast_july/july4.xls', index_col=0)  \n",
    "\n",
    "main1=spark.read.option('header','false').csv('/Users/Asus/Documents/InternCsv/forcast_july/july3.csv')\n",
    "main2=spark.read.option('header','false').csv('/Users/Asus/Documents/InternCsv/forcast_july/july4.csv')"
   ]
  },
  {
   "cell_type": "code",
   "execution_count": 8,
   "id": "540a4d8b",
   "metadata": {},
   "outputs": [
    {
     "name": "stdout",
     "output_type": "stream",
     "text": [
      "+--------------------+--------------+--------------+\n",
      "|      Starting_Time1|Starting_Time2|Starting_Time3|\n",
      "+--------------------+--------------+--------------+\n",
      "|3.    Day Ahead E...|          null|          null|\n",
      "|                Date|     03-Jul-20|          null|\n",
      "|                null|          0:00|          0:30|\n",
      "|            WPS     |            23|            10|\n",
      "|           Cany     |             0|             0|\n",
      "|         Olax       |            10|            10|\n",
      "+--------------------+--------------+--------------+\n",
      "only showing top 6 rows\n",
      "\n",
      "+--------------------+--------------+--------------+\n",
      "|      Starting_Time1|Starting_Time2|Starting_Time3|\n",
      "+--------------------+--------------+--------------+\n",
      "|3.    Day Ahead E...|          null|          null|\n",
      "|                Date|     04-Jul-20|          null|\n",
      "|                null|          0:00|          0:30|\n",
      "|            WPS     |            23|            23|\n",
      "|           Cany     |            11|            11|\n",
      "|         Olax       |            10|            10|\n",
      "+--------------------+--------------+--------------+\n",
      "only showing top 6 rows\n",
      "\n"
     ]
    }
   ],
   "source": [
    "import pyspark\n",
    "from pyspark.sql import SparkSession\n",
    "\n",
    "#main1.printSchema()\n",
    "from pyspark.sql.functions import col\n",
    "main1 = main1.select(col(\"_c0\").alias(\"Starting_Time1\"), col(\"_c1\").alias(\"Starting_Time2\"),col(\"_c2\").alias(\"Starting_Time3\"))\n",
    "main1.show(6)\n",
    "#main2.printSchema()\n",
    "main2 = main2.select(col(\"_c0\").alias(\"Starting_Time1\"), col(\"_c1\").alias(\"Starting_Time2\"),col(\"_c2\").alias(\"Starting_Time3\"))\n",
    "main2.show(6)"
   ]
  },
  {
   "cell_type": "code",
   "execution_count": 9,
   "id": "1c4901b1",
   "metadata": {},
   "outputs": [
    {
     "name": "stdout",
     "output_type": "stream",
     "text": [
      "+----------------------------------------------------+--------------+--------------+----------------------------------------------------+--------------+--------------+\n",
      "|Starting_Time1                                      |Starting_Time2|Starting_Time3|Starting_Time1                                      |Starting_Time2|Starting_Time3|\n",
      "+----------------------------------------------------+--------------+--------------+----------------------------------------------------+--------------+--------------+\n",
      "|3.    Day Ahead Economic Dispatch for next day in MW|null          |null          |3.    Day Ahead Economic Dispatch for next day in MW|null          |null          |\n",
      "|3.    Day Ahead Economic Dispatch for next day in MW|null          |null          |Date                                                |04-Jul-20     |null          |\n",
      "|3.    Day Ahead Economic Dispatch for next day in MW|null          |null          |null                                                |0:00          |0:30          |\n",
      "|3.    Day Ahead Economic Dispatch for next day in MW|null          |null          |WPS                                                 |23            |23            |\n",
      "|3.    Day Ahead Economic Dispatch for next day in MW|null          |null          |Cany                                                |11            |11            |\n",
      "|3.    Day Ahead Economic Dispatch for next day in MW|null          |null          |Olax                                                |10            |10            |\n",
      "|3.    Day Ahead Economic Dispatch for next day in MW|null          |null          |Nlax                                                |22            |22            |\n",
      "|3.    Day Ahead Economic Dispatch for next day in MW|null          |null          |Polp                                                |19            |18            |\n",
      "|3.    Day Ahead Economic Dispatch for next day in MW|null          |null          |UKPS                                                |0             |0             |\n",
      "|3.    Day Ahead Economic Dispatch for next day in MW|null          |null          |Koth                                                |40            |40            |\n",
      "|3.    Day Ahead Economic Dispatch for next day in MW|null          |null          |Victoria                                            |0             |0             |\n",
      "|3.    Day Ahead Economic Dispatch for next day in MW|null          |null          |Rand                                                |0             |0             |\n",
      "|3.    Day Ahead Economic Dispatch for next day in MW|null          |null          |Rant                                                |0             |0             |\n",
      "|3.    Day Ahead Economic Dispatch for next day in MW|null          |null          |Uku                                                 |40            |40            |\n",
      "|3.    Day Ahead Economic Dispatch for next day in MW|null          |null          |Bowa                                                |0             |0             |\n",
      "|3.    Day Ahead Economic Dispatch for next day in MW|null          |null          |Sama                                                |0             |0             |\n",
      "|3.    Day Ahead Economic Dispatch for next day in MW|null          |null          |Kukule                                              |75            |75            |\n",
      "|3.    Day Ahead Economic Dispatch for next day in MW|null          |null          |PCCP I                                              |270           |270           |\n",
      "|3.    Day Ahead Economic Dispatch for next day in MW|null          |null          |PCCP II                                             |270           |270           |\n",
      "|3.    Day Ahead Economic Dispatch for next day in MW|null          |null          |PCCP III                                            |270           |270           |\n",
      "+----------------------------------------------------+--------------+--------------+----------------------------------------------------+--------------+--------------+\n",
      "only showing top 20 rows\n",
      "\n"
     ]
    }
   ],
   "source": [
    "main3=main1.join(main2,main1.Starting_Time1 ==  main1.Starting_Time1,\"inner\") \\\n",
    "    .show(truncate=False)"
   ]
  },
  {
   "cell_type": "code",
   "execution_count": 27,
   "id": "3d37224a",
   "metadata": {},
   "outputs": [
    {
     "name": "stdout",
     "output_type": "stream",
     "text": [
      "+--------------------+--------------------+--------------+-------------------------+\n",
      "|      Starting_Time1|      Starting_Time2|Starting_Time3|Total_Thermal_Comparision|\n",
      "+--------------------+--------------------+--------------+-------------------------+\n",
      "|3.    Day Ahead E...|                null|          null|                03-Jul-20|\n",
      "|                Date|           03-Jul-20|          null|                03-Jul-20|\n",
      "|                null|                0:00|          0:30|                03-Jul-20|\n",
      "|            WPS     |                  23|            10|                03-Jul-20|\n",
      "|           Cany     |                   0|             0|                03-Jul-20|\n",
      "|         Olax       |                  10|            10|                03-Jul-20|\n",
      "|                Nlax|                  20|            20|                03-Jul-20|\n",
      "|                Polp|                  22|             6|                  Success|\n",
      "|                UKPS|                   0|             0|                03-Jul-20|\n",
      "|                Koth|                  40|            40|                  Success|\n",
      "|            Victoria|                   0|             0|                03-Jul-20|\n",
      "|                Rand|                   0|             0|                03-Jul-20|\n",
      "|                Rant|                   0|             0|                03-Jul-20|\n",
      "|                 Uku|                  40|            40|                  Success|\n",
      "|                Bowa|                   0|             0|                03-Jul-20|\n",
      "|                Sama|                   0|             0|                03-Jul-20|\n",
      "|              Kukule|                   0|             0|                03-Jul-20|\n",
      "|              PCCP I|                 270|           270|                03-Jul-20|\n",
      "|             PCCP II|                 270|           270|                03-Jul-20|\n",
      "|            PCCP III|                 229|           259|                03-Jul-20|\n",
      "|                 KPS|                   0|             0|                03-Jul-20|\n",
      "|       CEB_EMERGENCY|                   0|             0|                03-Jul-20|\n",
      "|               GT 07|                   0|             0|                03-Jul-20|\n",
      "|               SPS A|                  54|            54|                  Success|\n",
      "|               SPS B|                  63|            63|                  Success|\n",
      "|          Asia Power|                   0|             0|                03-Jul-20|\n",
      "|               Barge|                  60|            60|                  Success|\n",
      "|        ACE (Matara)|                   0|             0|                03-Jul-20|\n",
      "|  Ace (Embilipitiya)|                  67|            31|                03-Jul-20|\n",
      "|      NORTHERN_Power|                   0|             0|                03-Jul-20|\n",
      "|       Uthuru_Janani|                  20|            16|                03-Jul-20|\n",
      "|          KCCP GT(N)|                   0|             0|                03-Jul-20|\n",
      "|          KCCP ST(N)|                   0|             0|                03-Jul-20|\n",
      "|          KCCP GT(D)|                   0|             0|                03-Jul-20|\n",
      "|          KCCP ST(D)|                   0|             0|                03-Jul-20|\n",
      "|          Sojitz CCP|                   0|             0|                03-Jul-20|\n",
      "|             WCP_GT1|                  85|            85|                  Success|\n",
      "|             WCP_GT2|                   0|             0|                03-Jul-20|\n",
      "|              WCP_ST|                  50|            50|                  Success|\n",
      "|        VPOWER_Palle|                   0|             0|                03-Jul-20|\n",
      "|       ALTAAQ_Mahiya|                   0|             0|                03-Jul-20|\n",
      "|        ALTAAQ_Polon|                   0|             0|                03-Jul-20|\n",
      "|         VPOWER_Hamb|                   0|             0|                03-Jul-20|\n",
      "|       VPOWER_Horana|                   0|             0|                03-Jul-20|\n",
      "|                Wind|                  51|            49|                  Success|\n",
      "|               Solar|                   0|             0|                03-Jul-20|\n",
      "|       Mini Hydro***|                  60|            60|                  Success|\n",
      "|    Total Generation|                1434|          1393|                03-Jul-20|\n",
      "|         Total Hydro|                 155|           126|                03-Jul-20|\n",
      "|       Total Thermal|                1168|          1158|                03-Jul-20|\n",
      "|      Total NCRE ***|                 111|           109|                03-Jul-20|\n",
      "|  Generation Summery|                null|          null|                03-Jul-20|\n",
      "|                null|            7/3/2020|          null|                03-Jul-20|\n",
      "|Total Energy / (GWh)|               44.06|          null|                03-Jul-20|\n",
      "|Hydro Energy / (GWh)|                9.22|        20.92%|                03-Jul-20|\n",
      "|Thermal Energy /(...|               32.03|        72.70%|                  Success|\n",
      "| NCRE Energy / (GWh)|                2.81|         6.37%|                03-Jul-20|\n",
      "|                null|                null|          null|                03-Jul-20|\n",
      "|            Note ***|Please note that ...|          null|                03-Jul-20|\n",
      "|             Remarks|                null|          null|                03-Jul-20|\n",
      "|                null|                null|          null|                03-Jul-20|\n",
      "|1. Frequency Control|                null|          null|                03-Jul-20|\n",
      "|                null|            Off Peak|      Day Peak|                  Success|\n",
      "|               Day 1|            Kothmale|      Kothmale|                  Success|\n",
      "|                null|                null|          null|                03-Jul-20|\n",
      "|2. Irrigation Req...|                null|          null|                03-Jul-20|\n",
      "|                null|                null|          null|                03-Jul-20|\n",
      "|Rant 20MW X15 hrs...|                null|          null|                03-Jul-20|\n",
      "|                null|                null|          null|                03-Jul-20|\n",
      "|                null|                null|          null|                03-Jul-20|\n",
      "|                null|                null|          null|                03-Jul-20|\n",
      "|3. Other water Re...|                null|          null|                03-Jul-20|\n",
      "|                null|                null|          null|                03-Jul-20|\n",
      "|            4. Other|                null|          null|                03-Jul-20|\n",
      "|                null|                null|          null|                03-Jul-20|\n",
      "|                null|                null|          null|                03-Jul-20|\n",
      "|                null|                null|          null|                03-Jul-20|\n",
      "+--------------------+--------------------+--------------+-------------------------+\n",
      "\n"
     ]
    }
   ],
   "source": [
    "import pyspark.sql.types\n",
    "from datetime import timedelta, datetime\n",
    "import time\n",
    "import random\n",
    "from pyspark.sql.functions import udf,when\n",
    "\n",
    "Inter1=main1.withColumn(\"Total_Thermal_Comparision\",\n",
    "       when((col(\"Starting_Time2\") >= \"20\") & (col(\"Starting_Time3\") >= \"40\") , \"Success\").otherwise(\"03-Jul-20\"))\n",
    "Inter1.show(100)"
   ]
  },
  {
   "cell_type": "code",
   "execution_count": 26,
   "id": "35df2728",
   "metadata": {},
   "outputs": [
    {
     "name": "stdout",
     "output_type": "stream",
     "text": [
      "+--------------------+--------------------+--------------+-------------------------+\n",
      "|      Starting_Time1|      Starting_Time2|Starting_Time3|Total_Thermal_Comparision|\n",
      "+--------------------+--------------------+--------------+-------------------------+\n",
      "|3.    Day Ahead E...|                null|          null|         Need Improvement|\n",
      "|                Date|           04-Jul-20|          null|         Need Improvement|\n",
      "|                null|                0:00|          0:30|         Need Improvement|\n",
      "|            WPS     |                  23|            23|         Need Improvement|\n",
      "|           Cany     |                  11|            11|         Need Improvement|\n",
      "|         Olax       |                  10|            10|         Need Improvement|\n",
      "|                Nlax|                  22|            22|         Need Improvement|\n",
      "|                Polp|                  19|            18|         Need Improvement|\n",
      "|                UKPS|                   0|             0|         Need Improvement|\n",
      "|                Koth|                  40|            40|                  Success|\n",
      "|            Victoria|                   0|             0|         Need Improvement|\n",
      "|                Rand|                   0|             0|         Need Improvement|\n",
      "|                Rant|                   0|             0|         Need Improvement|\n",
      "|                 Uku|                  40|            40|                  Success|\n",
      "|                Bowa|                   0|             0|         Need Improvement|\n",
      "|                Sama|                   0|             0|         Need Improvement|\n",
      "|              Kukule|                  75|            75|                  Success|\n",
      "|              PCCP I|                 270|           270|         Need Improvement|\n",
      "|             PCCP II|                 270|           270|         Need Improvement|\n",
      "|            PCCP III|                 270|           270|         Need Improvement|\n",
      "|                 KPS|                   0|             0|         Need Improvement|\n",
      "|       CEB_EMERGENCY|                   0|             0|         Need Improvement|\n",
      "|               GT 07|                   0|             0|         Need Improvement|\n",
      "|               SPS A|                  18|             0|         Need Improvement|\n",
      "|               SPS B|                  54|            27|         Need Improvement|\n",
      "|          Asia Power|                   0|             0|         Need Improvement|\n",
      "|               Barge|                  60|            60|                  Success|\n",
      "|        ACE (Matara)|                   0|             0|         Need Improvement|\n",
      "|  Ace (Embilipitiya)|                   0|             0|         Need Improvement|\n",
      "|      NORTHERN_Power|                   0|             0|         Need Improvement|\n",
      "|       Uthuru_Janani|                   0|             0|         Need Improvement|\n",
      "|          KCCP GT(N)|                   0|             0|         Need Improvement|\n",
      "|          KCCP ST(N)|                   0|             0|         Need Improvement|\n",
      "|          KCCP GT(D)|                   0|             0|         Need Improvement|\n",
      "|          KCCP ST(D)|                   0|             0|         Need Improvement|\n",
      "|          Sojitz CCP|                   0|             0|         Need Improvement|\n",
      "|             WCP_GT1|                   0|             0|         Need Improvement|\n",
      "|             WCP_GT2|                   0|             0|         Need Improvement|\n",
      "|              WCP_ST|                   0|             0|         Need Improvement|\n",
      "|        VPOWER_Palle|                   0|             0|         Need Improvement|\n",
      "|       ALTAAQ_Mahiya|                   0|             0|         Need Improvement|\n",
      "|        ALTAAQ_Polon|                   0|             0|         Need Improvement|\n",
      "|         VPOWER_Hamb|                   0|             0|         Need Improvement|\n",
      "|       VPOWER_Horana|                   0|             0|         Need Improvement|\n",
      "|                Wind|                  59|            59|                  Success|\n",
      "|               Solar|                   0|             0|         Need Improvement|\n",
      "|       Mini Hydro***|                  61|            62|                  Success|\n",
      "|    Total Generation|                1302|          1257|         Need Improvement|\n",
      "|         Total Hydro|                 240|           239|         Need Improvement|\n",
      "|       Total Thermal|                 942|           897|                  Success|\n",
      "|      Total NCRE ***|                 120|           121|         Need Improvement|\n",
      "|  Generation Summery|                null|          null|         Need Improvement|\n",
      "|                null|            7/4/2020|          null|         Need Improvement|\n",
      "|Total Energy / (GWh)|               34.63|          null|         Need Improvement|\n",
      "|Hydro Energy / (GWh)|               10.78|        31.12%|         Need Improvement|\n",
      "|Thermal Energy /(...|               21.27|        61.42%|                  Success|\n",
      "| NCRE Energy / (GWh)|                2.58|         7.46%|         Need Improvement|\n",
      "|                null|                null|          null|         Need Improvement|\n",
      "|            Note ***|Please note that ...|          null|         Need Improvement|\n",
      "|             Remarks|                null|          null|         Need Improvement|\n",
      "|                null|                null|          null|         Need Improvement|\n",
      "|1. Frequency Control|                null|          null|         Need Improvement|\n",
      "|                null|            Off Peak|      Day Peak|                  Success|\n",
      "|               Day 1|            Kothmale|      Kothmale|                  Success|\n",
      "|                null|                null|          null|         Need Improvement|\n",
      "|2. Irrigation Req...|                null|          null|         Need Improvement|\n",
      "|                null|                null|          null|         Need Improvement|\n",
      "|Rant 20MW X15 hrs...|                null|          null|         Need Improvement|\n",
      "|                null|                null|          null|         Need Improvement|\n",
      "|                null|                null|          null|         Need Improvement|\n",
      "|                null|                null|          null|         Need Improvement|\n",
      "|3. Other water Re...|                null|          null|         Need Improvement|\n",
      "|                null|                null|          null|         Need Improvement|\n",
      "|            4. Other|                null|          null|         Need Improvement|\n",
      "|                null|                null|          null|         Need Improvement|\n",
      "|                null|                null|          null|         Need Improvement|\n",
      "|                null|                null|          null|         Need Improvement|\n",
      "+--------------------+--------------------+--------------+-------------------------+\n",
      "\n"
     ]
    }
   ],
   "source": [
    "Inter2=main2.withColumn(\"Total_Thermal_Comparision\",\n",
    "       when((col(\"Starting_Time2\") >= \"20\") & (col(\"Starting_Time3\") >= \"40\") , \"Success\").otherwise(\"Need Improvement\"))\n",
    "Inter2.show(100)"
   ]
  },
  {
   "cell_type": "code",
   "execution_count": 28,
   "id": "33dbc9bf",
   "metadata": {
    "scrolled": true
   },
   "outputs": [
    {
     "name": "stdout",
     "output_type": "stream",
     "text": [
      "+----------------+--------------+--------------+-------------------------+\n",
      "|  Starting_Time1|Starting_Time2|Starting_Time3|Total_Thermal_Comparision|\n",
      "+----------------+--------------+--------------+-------------------------+\n",
      "|Total Generation|          1434|          1393|                03-Jul-20|\n",
      "+----------------+--------------+--------------+-------------------------+\n",
      "\n"
     ]
    }
   ],
   "source": [
    "from pyspark.sql.functions import col\n",
    "#Total Generation in 03-Jul-20\n",
    "#Filter multiple condition\n",
    "Gen1=Inter1.filter((Inter1.Starting_Time1 == \"Total Generation\") )\n",
    "Gen1.show()"
   ]
  },
  {
   "cell_type": "code",
   "execution_count": 29,
   "id": "e6753061",
   "metadata": {},
   "outputs": [
    {
     "name": "stdout",
     "output_type": "stream",
     "text": [
      "+----------------+--------------+--------------+-------------------------+\n",
      "|  Starting_Time1|Starting_Time2|Starting_Time3|Total_Thermal_Comparision|\n",
      "+----------------+--------------+--------------+-------------------------+\n",
      "|Total Generation|          1302|          1257|         Need Improvement|\n",
      "+----------------+--------------+--------------+-------------------------+\n",
      "\n"
     ]
    }
   ],
   "source": [
    "#Total Generation in 04-Jul-20\n",
    "Gen2=Inter2.filter((Inter2.Starting_Time1 == \"Total Generation\") )\n",
    "Gen2.show()"
   ]
  },
  {
   "cell_type": "code",
   "execution_count": 30,
   "id": "1e03d2ce",
   "metadata": {},
   "outputs": [
    {
     "name": "stdout",
     "output_type": "stream",
     "text": [
      "+----------------+--------------+--------------+-------------------------+\n",
      "|  Starting_Time1|Starting_Time2|Starting_Time3|Total_Thermal_Comparision|\n",
      "+----------------+--------------+--------------+-------------------------+\n",
      "|Total Generation|          1434|          1393|                03-Jul-20|\n",
      "|Total Generation|          1302|          1257|         Need Improvement|\n",
      "+----------------+--------------+--------------+-------------------------+\n",
      "\n"
     ]
    }
   ],
   "source": [
    "Man=Gen1.union(Gen2) \n",
    "Man.show()"
   ]
  },
  {
   "cell_type": "code",
   "execution_count": 39,
   "id": "ebb5ae4f",
   "metadata": {},
   "outputs": [
    {
     "name": "stdout",
     "output_type": "stream",
     "text": [
      "+----------------+--------------+--------------+-------------------------+--------------------+\n",
      "|  Starting_Time1|Starting_Time2|Starting_Time3|Total_Thermal_Comparision|      Success Rate %|\n",
      "+----------------+--------------+--------------+-------------------------+--------------------+\n",
      "|Total Generation|          1434|          1393|                03-Jul-20|First Day is Success|\n",
      "|Total Generation|          1302|          1257|         Need Improvement|      Has to Improve|\n",
      "+----------------+--------------+--------------+-------------------------+--------------------+\n",
      "\n"
     ]
    }
   ],
   "source": [
    "Man.withColumn(\"Success Rate %\",\n",
    "       when((col(\"Total_Thermal_Comparision\")==\" 03-Jul-20\" ) | (col(\"Starting_Time3\") > \"1300\") , \"First Day is Success\").otherwise(\"Has to Improve\")) \\\n",
    ".show()\n"
   ]
  },
  {
   "cell_type": "code",
   "execution_count": null,
   "id": "1eec94a2",
   "metadata": {},
   "outputs": [],
   "source": []
  }
 ],
 "metadata": {
  "kernelspec": {
   "display_name": "Python 3",
   "language": "python",
   "name": "python3"
  },
  "language_info": {
   "codemirror_mode": {
    "name": "ipython",
    "version": 3
   },
   "file_extension": ".py",
   "mimetype": "text/x-python",
   "name": "python",
   "nbconvert_exporter": "python",
   "pygments_lexer": "ipython3",
   "version": "3.8.8"
  }
 },
 "nbformat": 4,
 "nbformat_minor": 5
}

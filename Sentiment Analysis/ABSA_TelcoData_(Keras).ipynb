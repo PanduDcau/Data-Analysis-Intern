{
  "cells": [
    {
      "cell_type": "code",
      "execution_count": 2,
      "metadata": {
        "colab": {
          "base_uri": "https://localhost:8080/"
        },
        "id": "Wd0qFFxHsUA2",
        "outputId": "4ea6975b-75a8-43af-d51c-2774305c8769"
      },
      "outputs": [
        {
          "output_type": "stream",
          "name": "stdout",
          "text": [
            "Mounted at /content/drive\n"
          ]
        }
      ],
      "source": [
        "from google.colab import drive\n",
        "drive.mount('/content/drive')"
      ]
    },
    {
      "cell_type": "code",
      "execution_count": 3,
      "metadata": {
        "id": "kreBFdN4sgKJ"
      },
      "outputs": [],
      "source": [
        "# DataFrame\n",
        "import pandas as pd\n",
        "\n",
        "# Matplot\n",
        "import matplotlib.pyplot as plt\n",
        "%matplotlib inline\n",
        "\n",
        "# Scikit-learn\n",
        "from sklearn.model_selection import train_test_split\n",
        "from sklearn.preprocessing import LabelEncoder\n",
        "from sklearn.metrics import confusion_matrix, classification_report, accuracy_score\n",
        "from sklearn.manifold import TSNE\n",
        "from sklearn.feature_extraction.text import TfidfVectorizer\n",
        "\n",
        "# Keras\n",
        "from keras.preprocessing.text import Tokenizer\n",
        "from keras.preprocessing.sequence import pad_sequences\n",
        "from keras.models import Sequential\n",
        "from keras.layers import Activation, Dense, Dropout, Embedding, Flatten, Conv1D, MaxPooling1D, LSTM\n",
        "from keras import utils\n",
        "from keras.callbacks import ReduceLROnPlateau, EarlyStopping\n",
        "\n",
        "# nltk\n",
        "import nltk\n",
        "from nltk.corpus import stopwords\n",
        "from  nltk.stem import SnowballStemmer\n",
        "\n",
        "# Word2vec\n",
        "import gensim\n",
        "\n",
        "# Utility\n",
        "import re\n",
        "import numpy as np\n",
        "import os\n",
        "from collections import Counter\n",
        "import logging\n",
        "import time\n",
        "import pickle\n",
        "import itertools\n",
        "\n",
        "# Set log\n",
        "logging.basicConfig(format='%(asctime)s : %(levelname)s : %(message)s', level=logging.INFO)"
      ]
    },
    {
      "cell_type": "code",
      "execution_count": 4,
      "metadata": {
        "colab": {
          "base_uri": "https://localhost:8080/",
          "height": 337
        },
        "id": "A5f2sWxPsU_j",
        "outputId": "f38b463f-acfc-4b58-8baf-a46b479d9c84"
      },
      "outputs": [
        {
          "output_type": "execute_result",
          "data": {
            "text/html": [
              "\n",
              "  <div id=\"df-850613fa-468d-4fab-bfff-358abb5d5d68\">\n",
              "    <div class=\"colab-df-container\">\n",
              "      <div>\n",
              "<style scoped>\n",
              "    .dataframe tbody tr th:only-of-type {\n",
              "        vertical-align: middle;\n",
              "    }\n",
              "\n",
              "    .dataframe tbody tr th {\n",
              "        vertical-align: top;\n",
              "    }\n",
              "\n",
              "    .dataframe thead th {\n",
              "        text-align: right;\n",
              "    }\n",
              "</style>\n",
              "<table border=\"1\" class=\"dataframe\">\n",
              "  <thead>\n",
              "    <tr style=\"text-align: right;\">\n",
              "      <th></th>\n",
              "      <th>id</th>\n",
              "      <th>title</th>\n",
              "      <th>link</th>\n",
              "      <th>published</th>\n",
              "      <th>text</th>\n",
              "      <th>service_provider</th>\n",
              "      <th>col</th>\n",
              "    </tr>\n",
              "  </thead>\n",
              "  <tbody>\n",
              "    <tr>\n",
              "      <th>0</th>\n",
              "      <td>0</td>\n",
              "      <td>NaN</td>\n",
              "      <td>https://www.reviewsrilanka.com/lankabell-revie...</td>\n",
              "      <td>January 18, 2021 at 9:56 am</td>\n",
              "      <td>20MBps Speed Location Kadawatha5 Star Customer...</td>\n",
              "      <td>lankabell-review</td>\n",
              "      <td>neutral</td>\n",
              "    </tr>\n",
              "    <tr>\n",
              "      <th>1</th>\n",
              "      <td>1</td>\n",
              "      <td>NaN</td>\n",
              "      <td>https://www.reviewsrilanka.com/lankabell-revie...</td>\n",
              "      <td>January 10, 2021 at 10:52 pm</td>\n",
              "      <td>Lankabell is good enough with download speed a...</td>\n",
              "      <td>lankabell-review</td>\n",
              "      <td>neutral</td>\n",
              "    </tr>\n",
              "    <tr>\n",
              "      <th>2</th>\n",
              "      <td>2</td>\n",
              "      <td>4G thiyenne samahara than walata witharai</td>\n",
              "      <td>https://www.reviewsrilanka.com/lankabell-revie...</td>\n",
              "      <td>September 12, 2020 at 7:51 am</td>\n",
              "      <td>wattala area eke 4G naha. eka eka than walata ...</td>\n",
              "      <td>lankabell-review</td>\n",
              "      <td>neutral</td>\n",
              "    </tr>\n",
              "    <tr>\n",
              "      <th>3</th>\n",
              "      <td>3</td>\n",
              "      <td>UNLIMITED PACKAGE</td>\n",
              "      <td>https://www.reviewsrilanka.com/dialog-axiata-r...</td>\n",
              "      <td>December 28, 2021 at 2:40 pm</td>\n",
              "      <td>BROADBAND UNLIMITED PACKAGE නම් පට්ට හොදේ(RS.2...</td>\n",
              "      <td>dialog-axiata-review</td>\n",
              "      <td>neutral</td>\n",
              "    </tr>\n",
              "    <tr>\n",
              "      <th>4</th>\n",
              "      <td>4</td>\n",
              "      <td>NaN</td>\n",
              "      <td>https://www.reviewsrilanka.com/dialog-axiata-r...</td>\n",
              "      <td>December 20, 2021 at 5:41 pm</td>\n",
              "      <td>very low speed.worst isp in sri lanka</td>\n",
              "      <td>dialog-axiata-review</td>\n",
              "      <td>negative</td>\n",
              "    </tr>\n",
              "  </tbody>\n",
              "</table>\n",
              "</div>\n",
              "      <button class=\"colab-df-convert\" onclick=\"convertToInteractive('df-850613fa-468d-4fab-bfff-358abb5d5d68')\"\n",
              "              title=\"Convert this dataframe to an interactive table.\"\n",
              "              style=\"display:none;\">\n",
              "        \n",
              "  <svg xmlns=\"http://www.w3.org/2000/svg\" height=\"24px\"viewBox=\"0 0 24 24\"\n",
              "       width=\"24px\">\n",
              "    <path d=\"M0 0h24v24H0V0z\" fill=\"none\"/>\n",
              "    <path d=\"M18.56 5.44l.94 2.06.94-2.06 2.06-.94-2.06-.94-.94-2.06-.94 2.06-2.06.94zm-11 1L8.5 8.5l.94-2.06 2.06-.94-2.06-.94L8.5 2.5l-.94 2.06-2.06.94zm10 10l.94 2.06.94-2.06 2.06-.94-2.06-.94-.94-2.06-.94 2.06-2.06.94z\"/><path d=\"M17.41 7.96l-1.37-1.37c-.4-.4-.92-.59-1.43-.59-.52 0-1.04.2-1.43.59L10.3 9.45l-7.72 7.72c-.78.78-.78 2.05 0 2.83L4 21.41c.39.39.9.59 1.41.59.51 0 1.02-.2 1.41-.59l7.78-7.78 2.81-2.81c.8-.78.8-2.07 0-2.86zM5.41 20L4 18.59l7.72-7.72 1.47 1.35L5.41 20z\"/>\n",
              "  </svg>\n",
              "      </button>\n",
              "      \n",
              "  <style>\n",
              "    .colab-df-container {\n",
              "      display:flex;\n",
              "      flex-wrap:wrap;\n",
              "      gap: 12px;\n",
              "    }\n",
              "\n",
              "    .colab-df-convert {\n",
              "      background-color: #E8F0FE;\n",
              "      border: none;\n",
              "      border-radius: 50%;\n",
              "      cursor: pointer;\n",
              "      display: none;\n",
              "      fill: #1967D2;\n",
              "      height: 32px;\n",
              "      padding: 0 0 0 0;\n",
              "      width: 32px;\n",
              "    }\n",
              "\n",
              "    .colab-df-convert:hover {\n",
              "      background-color: #E2EBFA;\n",
              "      box-shadow: 0px 1px 2px rgba(60, 64, 67, 0.3), 0px 1px 3px 1px rgba(60, 64, 67, 0.15);\n",
              "      fill: #174EA6;\n",
              "    }\n",
              "\n",
              "    [theme=dark] .colab-df-convert {\n",
              "      background-color: #3B4455;\n",
              "      fill: #D2E3FC;\n",
              "    }\n",
              "\n",
              "    [theme=dark] .colab-df-convert:hover {\n",
              "      background-color: #434B5C;\n",
              "      box-shadow: 0px 1px 3px 1px rgba(0, 0, 0, 0.15);\n",
              "      filter: drop-shadow(0px 1px 2px rgba(0, 0, 0, 0.3));\n",
              "      fill: #FFFFFF;\n",
              "    }\n",
              "  </style>\n",
              "\n",
              "      <script>\n",
              "        const buttonEl =\n",
              "          document.querySelector('#df-850613fa-468d-4fab-bfff-358abb5d5d68 button.colab-df-convert');\n",
              "        buttonEl.style.display =\n",
              "          google.colab.kernel.accessAllowed ? 'block' : 'none';\n",
              "\n",
              "        async function convertToInteractive(key) {\n",
              "          const element = document.querySelector('#df-850613fa-468d-4fab-bfff-358abb5d5d68');\n",
              "          const dataTable =\n",
              "            await google.colab.kernel.invokeFunction('convertToInteractive',\n",
              "                                                     [key], {});\n",
              "          if (!dataTable) return;\n",
              "\n",
              "          const docLinkHtml = 'Like what you see? Visit the ' +\n",
              "            '<a target=\"_blank\" href=https://colab.research.google.com/notebooks/data_table.ipynb>data table notebook</a>'\n",
              "            + ' to learn more about interactive tables.';\n",
              "          element.innerHTML = '';\n",
              "          dataTable['output_type'] = 'display_data';\n",
              "          await google.colab.output.renderOutput(dataTable, element);\n",
              "          const docLink = document.createElement('div');\n",
              "          docLink.innerHTML = docLinkHtml;\n",
              "          element.appendChild(docLink);\n",
              "        }\n",
              "      </script>\n",
              "    </div>\n",
              "  </div>\n",
              "  "
            ],
            "text/plain": [
              "   id  ...       col\n",
              "0   0  ...   neutral\n",
              "1   1  ...   neutral\n",
              "2   2  ...   neutral\n",
              "3   3  ...   neutral\n",
              "4   4  ...  negative\n",
              "\n",
              "[5 rows x 7 columns]"
            ]
          },
          "metadata": {},
          "execution_count": 4
        }
      ],
      "source": [
        "data = pd.read_csv(\"/content/drive/My Drive/NLP/rs_telco.csv\")\n",
        "data.head(5)"
      ]
    },
    {
      "cell_type": "code",
      "execution_count": 5,
      "metadata": {
        "colab": {
          "base_uri": "https://localhost:8080/",
          "height": 206
        },
        "id": "9XgUhBofse4N",
        "outputId": "a5a2410e-b1dc-4641-99d8-433b25c192f9"
      },
      "outputs": [
        {
          "output_type": "execute_result",
          "data": {
            "text/html": [
              "\n",
              "  <div id=\"df-159e61d9-d736-4929-94bb-a5d844f0d3ea\">\n",
              "    <div class=\"colab-df-container\">\n",
              "      <div>\n",
              "<style scoped>\n",
              "    .dataframe tbody tr th:only-of-type {\n",
              "        vertical-align: middle;\n",
              "    }\n",
              "\n",
              "    .dataframe tbody tr th {\n",
              "        vertical-align: top;\n",
              "    }\n",
              "\n",
              "    .dataframe thead th {\n",
              "        text-align: right;\n",
              "    }\n",
              "</style>\n",
              "<table border=\"1\" class=\"dataframe\">\n",
              "  <thead>\n",
              "    <tr style=\"text-align: right;\">\n",
              "      <th></th>\n",
              "      <th>published</th>\n",
              "      <th>text</th>\n",
              "      <th>service_provider</th>\n",
              "      <th>col</th>\n",
              "    </tr>\n",
              "  </thead>\n",
              "  <tbody>\n",
              "    <tr>\n",
              "      <th>0</th>\n",
              "      <td>January 18, 2021 at 9:56 am</td>\n",
              "      <td>20MBps Speed Location Kadawatha5 Star Customer...</td>\n",
              "      <td>lankabell-review</td>\n",
              "      <td>neutral</td>\n",
              "    </tr>\n",
              "    <tr>\n",
              "      <th>1</th>\n",
              "      <td>January 10, 2021 at 10:52 pm</td>\n",
              "      <td>Lankabell is good enough with download speed a...</td>\n",
              "      <td>lankabell-review</td>\n",
              "      <td>neutral</td>\n",
              "    </tr>\n",
              "    <tr>\n",
              "      <th>2</th>\n",
              "      <td>September 12, 2020 at 7:51 am</td>\n",
              "      <td>wattala area eke 4G naha. eka eka than walata ...</td>\n",
              "      <td>lankabell-review</td>\n",
              "      <td>neutral</td>\n",
              "    </tr>\n",
              "    <tr>\n",
              "      <th>3</th>\n",
              "      <td>December 28, 2021 at 2:40 pm</td>\n",
              "      <td>BROADBAND UNLIMITED PACKAGE නම් පට්ට හොදේ(RS.2...</td>\n",
              "      <td>dialog-axiata-review</td>\n",
              "      <td>neutral</td>\n",
              "    </tr>\n",
              "    <tr>\n",
              "      <th>4</th>\n",
              "      <td>December 20, 2021 at 5:41 pm</td>\n",
              "      <td>very low speed.worst isp in sri lanka</td>\n",
              "      <td>dialog-axiata-review</td>\n",
              "      <td>negative</td>\n",
              "    </tr>\n",
              "  </tbody>\n",
              "</table>\n",
              "</div>\n",
              "      <button class=\"colab-df-convert\" onclick=\"convertToInteractive('df-159e61d9-d736-4929-94bb-a5d844f0d3ea')\"\n",
              "              title=\"Convert this dataframe to an interactive table.\"\n",
              "              style=\"display:none;\">\n",
              "        \n",
              "  <svg xmlns=\"http://www.w3.org/2000/svg\" height=\"24px\"viewBox=\"0 0 24 24\"\n",
              "       width=\"24px\">\n",
              "    <path d=\"M0 0h24v24H0V0z\" fill=\"none\"/>\n",
              "    <path d=\"M18.56 5.44l.94 2.06.94-2.06 2.06-.94-2.06-.94-.94-2.06-.94 2.06-2.06.94zm-11 1L8.5 8.5l.94-2.06 2.06-.94-2.06-.94L8.5 2.5l-.94 2.06-2.06.94zm10 10l.94 2.06.94-2.06 2.06-.94-2.06-.94-.94-2.06-.94 2.06-2.06.94z\"/><path d=\"M17.41 7.96l-1.37-1.37c-.4-.4-.92-.59-1.43-.59-.52 0-1.04.2-1.43.59L10.3 9.45l-7.72 7.72c-.78.78-.78 2.05 0 2.83L4 21.41c.39.39.9.59 1.41.59.51 0 1.02-.2 1.41-.59l7.78-7.78 2.81-2.81c.8-.78.8-2.07 0-2.86zM5.41 20L4 18.59l7.72-7.72 1.47 1.35L5.41 20z\"/>\n",
              "  </svg>\n",
              "      </button>\n",
              "      \n",
              "  <style>\n",
              "    .colab-df-container {\n",
              "      display:flex;\n",
              "      flex-wrap:wrap;\n",
              "      gap: 12px;\n",
              "    }\n",
              "\n",
              "    .colab-df-convert {\n",
              "      background-color: #E8F0FE;\n",
              "      border: none;\n",
              "      border-radius: 50%;\n",
              "      cursor: pointer;\n",
              "      display: none;\n",
              "      fill: #1967D2;\n",
              "      height: 32px;\n",
              "      padding: 0 0 0 0;\n",
              "      width: 32px;\n",
              "    }\n",
              "\n",
              "    .colab-df-convert:hover {\n",
              "      background-color: #E2EBFA;\n",
              "      box-shadow: 0px 1px 2px rgba(60, 64, 67, 0.3), 0px 1px 3px 1px rgba(60, 64, 67, 0.15);\n",
              "      fill: #174EA6;\n",
              "    }\n",
              "\n",
              "    [theme=dark] .colab-df-convert {\n",
              "      background-color: #3B4455;\n",
              "      fill: #D2E3FC;\n",
              "    }\n",
              "\n",
              "    [theme=dark] .colab-df-convert:hover {\n",
              "      background-color: #434B5C;\n",
              "      box-shadow: 0px 1px 3px 1px rgba(0, 0, 0, 0.15);\n",
              "      filter: drop-shadow(0px 1px 2px rgba(0, 0, 0, 0.3));\n",
              "      fill: #FFFFFF;\n",
              "    }\n",
              "  </style>\n",
              "\n",
              "      <script>\n",
              "        const buttonEl =\n",
              "          document.querySelector('#df-159e61d9-d736-4929-94bb-a5d844f0d3ea button.colab-df-convert');\n",
              "        buttonEl.style.display =\n",
              "          google.colab.kernel.accessAllowed ? 'block' : 'none';\n",
              "\n",
              "        async function convertToInteractive(key) {\n",
              "          const element = document.querySelector('#df-159e61d9-d736-4929-94bb-a5d844f0d3ea');\n",
              "          const dataTable =\n",
              "            await google.colab.kernel.invokeFunction('convertToInteractive',\n",
              "                                                     [key], {});\n",
              "          if (!dataTable) return;\n",
              "\n",
              "          const docLinkHtml = 'Like what you see? Visit the ' +\n",
              "            '<a target=\"_blank\" href=https://colab.research.google.com/notebooks/data_table.ipynb>data table notebook</a>'\n",
              "            + ' to learn more about interactive tables.';\n",
              "          element.innerHTML = '';\n",
              "          dataTable['output_type'] = 'display_data';\n",
              "          await google.colab.output.renderOutput(dataTable, element);\n",
              "          const docLink = document.createElement('div');\n",
              "          docLink.innerHTML = docLinkHtml;\n",
              "          element.appendChild(docLink);\n",
              "        }\n",
              "      </script>\n",
              "    </div>\n",
              "  </div>\n",
              "  "
            ],
            "text/plain": [
              "                       published  ...       col\n",
              "0    January 18, 2021 at 9:56 am  ...   neutral\n",
              "1   January 10, 2021 at 10:52 pm  ...   neutral\n",
              "2  September 12, 2020 at 7:51 am  ...   neutral\n",
              "3   December 28, 2021 at 2:40 pm  ...   neutral\n",
              "4   December 20, 2021 at 5:41 pm  ...  negative\n",
              "\n",
              "[5 rows x 4 columns]"
            ]
          },
          "metadata": {},
          "execution_count": 5
        }
      ],
      "source": [
        "del data['title']\n",
        "del data['id']\n",
        "del data['link']\n",
        "data.head()"
      ]
    },
    {
      "cell_type": "code",
      "execution_count": 6,
      "metadata": {
        "colab": {
          "base_uri": "https://localhost:8080/",
          "height": 676
        },
        "id": "HExRJ8M-tASp",
        "outputId": "473bc3fb-f8d5-4e66-e893-b650ef4123d4"
      },
      "outputs": [
        {
          "output_type": "execute_result",
          "data": {
            "text/html": [
              "\n",
              "  <div id=\"df-be883d2a-a797-4dde-99d7-28b10310fbd6\">\n",
              "    <div class=\"colab-df-container\">\n",
              "      <div>\n",
              "<style scoped>\n",
              "    .dataframe tbody tr th:only-of-type {\n",
              "        vertical-align: middle;\n",
              "    }\n",
              "\n",
              "    .dataframe tbody tr th {\n",
              "        vertical-align: top;\n",
              "    }\n",
              "\n",
              "    .dataframe thead th {\n",
              "        text-align: right;\n",
              "    }\n",
              "</style>\n",
              "<table border=\"1\" class=\"dataframe\">\n",
              "  <thead>\n",
              "    <tr style=\"text-align: right;\">\n",
              "      <th></th>\n",
              "      <th>published</th>\n",
              "      <th>text</th>\n",
              "      <th>service_provider</th>\n",
              "      <th>col</th>\n",
              "    </tr>\n",
              "  </thead>\n",
              "  <tbody>\n",
              "    <tr>\n",
              "      <th>0</th>\n",
              "      <td>January 18, 2021 at 9:56 am</td>\n",
              "      <td>20MBps Speed Location Kadawatha5 Star Customer...</td>\n",
              "      <td>lankabell-review</td>\n",
              "      <td>neutral</td>\n",
              "    </tr>\n",
              "    <tr>\n",
              "      <th>1</th>\n",
              "      <td>January 10, 2021 at 10:52 pm</td>\n",
              "      <td>Lankabell is good enough with download speed a...</td>\n",
              "      <td>lankabell-review</td>\n",
              "      <td>neutral</td>\n",
              "    </tr>\n",
              "    <tr>\n",
              "      <th>2</th>\n",
              "      <td>September 12, 2020 at 7:51 am</td>\n",
              "      <td>wattala area eke 4G naha. eka eka than walata ...</td>\n",
              "      <td>lankabell-review</td>\n",
              "      <td>neutral</td>\n",
              "    </tr>\n",
              "    <tr>\n",
              "      <th>4</th>\n",
              "      <td>December 20, 2021 at 5:41 pm</td>\n",
              "      <td>very low speed.worst isp in sri lanka</td>\n",
              "      <td>dialog-axiata-review</td>\n",
              "      <td>negative</td>\n",
              "    </tr>\n",
              "    <tr>\n",
              "      <th>5</th>\n",
              "      <td>December 13, 2021 at 9:29 am</td>\n",
              "      <td>Signal na poddak vath. Melo rahak na.</td>\n",
              "      <td>dialog-axiata-review</td>\n",
              "      <td>neutral</td>\n",
              "    </tr>\n",
              "    <tr>\n",
              "      <th>6</th>\n",
              "      <td>December 12, 2021 at 10:31 pm</td>\n",
              "      <td>not bad for broadband</td>\n",
              "      <td>dialog-axiata-review</td>\n",
              "      <td>neutral</td>\n",
              "    </tr>\n",
              "    <tr>\n",
              "      <th>7</th>\n",
              "      <td>December 12, 2021 at 9:32 pm</td>\n",
              "      <td>anagathaya adai</td>\n",
              "      <td>dialog-axiata-review</td>\n",
              "      <td>neutral</td>\n",
              "    </tr>\n",
              "    <tr>\n",
              "      <th>8</th>\n",
              "      <td>December 12, 2021 at 8:48 am</td>\n",
              "      <td>best mobile,fixed network.</td>\n",
              "      <td>dialog-axiata-review</td>\n",
              "      <td>neutral</td>\n",
              "    </tr>\n",
              "    <tr>\n",
              "      <th>9</th>\n",
              "      <td>December 4, 2021 at 8:09 pm</td>\n",
              "      <td>Bloody worst service ever</td>\n",
              "      <td>dialog-axiata-review</td>\n",
              "      <td>negative</td>\n",
              "    </tr>\n",
              "    <tr>\n",
              "      <th>10</th>\n",
              "      <td>November 15, 2021 at 12:07 am</td>\n",
              "      <td>worst connection in sri lanka</td>\n",
              "      <td>dialog-axiata-review</td>\n",
              "      <td>negative</td>\n",
              "    </tr>\n",
              "    <tr>\n",
              "      <th>13</th>\n",
              "      <td>October 2, 2021 at 1:53 pm</td>\n",
              "      <td>great company</td>\n",
              "      <td>dialog-axiata-review</td>\n",
              "      <td>positive</td>\n",
              "    </tr>\n",
              "    <tr>\n",
              "      <th>14</th>\n",
              "      <td>September 29, 2021 at 3:09 pm</td>\n",
              "      <td>6</td>\n",
              "      <td>dialog-axiata-review</td>\n",
              "      <td>neutral</td>\n",
              "    </tr>\n",
              "    <tr>\n",
              "      <th>15</th>\n",
              "      <td>September 10, 2021 at 9:06 pm</td>\n",
              "      <td>No words, crap.</td>\n",
              "      <td>dialog-axiata-review</td>\n",
              "      <td>neutral</td>\n",
              "    </tr>\n",
              "    <tr>\n",
              "      <th>18</th>\n",
              "      <td>July 2, 2021 at 2:46 pm</td>\n",
              "      <td>My connection speed sometimes is too low. even...</td>\n",
              "      <td>dialog-axiata-review</td>\n",
              "      <td>negative</td>\n",
              "    </tr>\n",
              "    <tr>\n",
              "      <th>19</th>\n",
              "      <td>July 2, 2021 at 6:36 am</td>\n",
              "      <td>Poor connection but rates very expensive. Inte...</td>\n",
              "      <td>dialog-axiata-review</td>\n",
              "      <td>negative</td>\n",
              "    </tr>\n",
              "    <tr>\n",
              "      <th>20</th>\n",
              "      <td>July 2, 2021 at 6:36 am</td>\n",
              "      <td>Poor connection but rates very expensive. Inte...</td>\n",
              "      <td>dialog-axiata-review</td>\n",
              "      <td>negative</td>\n",
              "    </tr>\n",
              "    <tr>\n",
              "      <th>21</th>\n",
              "      <td>June 22, 2021 at 7:28 pm</td>\n",
              "      <td>Dialog have poor connection</td>\n",
              "      <td>dialog-axiata-review</td>\n",
              "      <td>neutral</td>\n",
              "    </tr>\n",
              "    <tr>\n",
              "      <th>23</th>\n",
              "      <td>June 22, 2021 at 11:43 am</td>\n",
              "      <td>Niyamai dialog hodatama hodai</td>\n",
              "      <td>dialog-axiata-review</td>\n",
              "      <td>neutral</td>\n",
              "    </tr>\n",
              "    <tr>\n",
              "      <th>24</th>\n",
              "      <td>June 21, 2021 at 10:55 am</td>\n",
              "      <td>My dialog app is very user friendly and can ge...</td>\n",
              "      <td>dialog-axiata-review</td>\n",
              "      <td>neutral</td>\n",
              "    </tr>\n",
              "    <tr>\n",
              "      <th>28</th>\n",
              "      <td>March 22, 2021 at 11:00 am</td>\n",
              "      <td>Slow internet connection, Gampha, very very ba...</td>\n",
              "      <td>dialog-axiata-review</td>\n",
              "      <td>negative</td>\n",
              "    </tr>\n",
              "  </tbody>\n",
              "</table>\n",
              "</div>\n",
              "      <button class=\"colab-df-convert\" onclick=\"convertToInteractive('df-be883d2a-a797-4dde-99d7-28b10310fbd6')\"\n",
              "              title=\"Convert this dataframe to an interactive table.\"\n",
              "              style=\"display:none;\">\n",
              "        \n",
              "  <svg xmlns=\"http://www.w3.org/2000/svg\" height=\"24px\"viewBox=\"0 0 24 24\"\n",
              "       width=\"24px\">\n",
              "    <path d=\"M0 0h24v24H0V0z\" fill=\"none\"/>\n",
              "    <path d=\"M18.56 5.44l.94 2.06.94-2.06 2.06-.94-2.06-.94-.94-2.06-.94 2.06-2.06.94zm-11 1L8.5 8.5l.94-2.06 2.06-.94-2.06-.94L8.5 2.5l-.94 2.06-2.06.94zm10 10l.94 2.06.94-2.06 2.06-.94-2.06-.94-.94-2.06-.94 2.06-2.06.94z\"/><path d=\"M17.41 7.96l-1.37-1.37c-.4-.4-.92-.59-1.43-.59-.52 0-1.04.2-1.43.59L10.3 9.45l-7.72 7.72c-.78.78-.78 2.05 0 2.83L4 21.41c.39.39.9.59 1.41.59.51 0 1.02-.2 1.41-.59l7.78-7.78 2.81-2.81c.8-.78.8-2.07 0-2.86zM5.41 20L4 18.59l7.72-7.72 1.47 1.35L5.41 20z\"/>\n",
              "  </svg>\n",
              "      </button>\n",
              "      \n",
              "  <style>\n",
              "    .colab-df-container {\n",
              "      display:flex;\n",
              "      flex-wrap:wrap;\n",
              "      gap: 12px;\n",
              "    }\n",
              "\n",
              "    .colab-df-convert {\n",
              "      background-color: #E8F0FE;\n",
              "      border: none;\n",
              "      border-radius: 50%;\n",
              "      cursor: pointer;\n",
              "      display: none;\n",
              "      fill: #1967D2;\n",
              "      height: 32px;\n",
              "      padding: 0 0 0 0;\n",
              "      width: 32px;\n",
              "    }\n",
              "\n",
              "    .colab-df-convert:hover {\n",
              "      background-color: #E2EBFA;\n",
              "      box-shadow: 0px 1px 2px rgba(60, 64, 67, 0.3), 0px 1px 3px 1px rgba(60, 64, 67, 0.15);\n",
              "      fill: #174EA6;\n",
              "    }\n",
              "\n",
              "    [theme=dark] .colab-df-convert {\n",
              "      background-color: #3B4455;\n",
              "      fill: #D2E3FC;\n",
              "    }\n",
              "\n",
              "    [theme=dark] .colab-df-convert:hover {\n",
              "      background-color: #434B5C;\n",
              "      box-shadow: 0px 1px 3px 1px rgba(0, 0, 0, 0.15);\n",
              "      filter: drop-shadow(0px 1px 2px rgba(0, 0, 0, 0.3));\n",
              "      fill: #FFFFFF;\n",
              "    }\n",
              "  </style>\n",
              "\n",
              "      <script>\n",
              "        const buttonEl =\n",
              "          document.querySelector('#df-be883d2a-a797-4dde-99d7-28b10310fbd6 button.colab-df-convert');\n",
              "        buttonEl.style.display =\n",
              "          google.colab.kernel.accessAllowed ? 'block' : 'none';\n",
              "\n",
              "        async function convertToInteractive(key) {\n",
              "          const element = document.querySelector('#df-be883d2a-a797-4dde-99d7-28b10310fbd6');\n",
              "          const dataTable =\n",
              "            await google.colab.kernel.invokeFunction('convertToInteractive',\n",
              "                                                     [key], {});\n",
              "          if (!dataTable) return;\n",
              "\n",
              "          const docLinkHtml = 'Like what you see? Visit the ' +\n",
              "            '<a target=\"_blank\" href=https://colab.research.google.com/notebooks/data_table.ipynb>data table notebook</a>'\n",
              "            + ' to learn more about interactive tables.';\n",
              "          element.innerHTML = '';\n",
              "          dataTable['output_type'] = 'display_data';\n",
              "          await google.colab.output.renderOutput(dataTable, element);\n",
              "          const docLink = document.createElement('div');\n",
              "          docLink.innerHTML = docLinkHtml;\n",
              "          element.appendChild(docLink);\n",
              "        }\n",
              "      </script>\n",
              "    </div>\n",
              "  </div>\n",
              "  "
            ],
            "text/plain": [
              "                        published  ...       col\n",
              "0     January 18, 2021 at 9:56 am  ...   neutral\n",
              "1    January 10, 2021 at 10:52 pm  ...   neutral\n",
              "2   September 12, 2020 at 7:51 am  ...   neutral\n",
              "4    December 20, 2021 at 5:41 pm  ...  negative\n",
              "5    December 13, 2021 at 9:29 am  ...   neutral\n",
              "6   December 12, 2021 at 10:31 pm  ...   neutral\n",
              "7    December 12, 2021 at 9:32 pm  ...   neutral\n",
              "8    December 12, 2021 at 8:48 am  ...   neutral\n",
              "9     December 4, 2021 at 8:09 pm  ...  negative\n",
              "10  November 15, 2021 at 12:07 am  ...  negative\n",
              "13     October 2, 2021 at 1:53 pm  ...  positive\n",
              "14  September 29, 2021 at 3:09 pm  ...   neutral\n",
              "15  September 10, 2021 at 9:06 pm  ...   neutral\n",
              "18        July 2, 2021 at 2:46 pm  ...  negative\n",
              "19        July 2, 2021 at 6:36 am  ...  negative\n",
              "20        July 2, 2021 at 6:36 am  ...  negative\n",
              "21       June 22, 2021 at 7:28 pm  ...   neutral\n",
              "23      June 22, 2021 at 11:43 am  ...   neutral\n",
              "24      June 21, 2021 at 10:55 am  ...   neutral\n",
              "28     March 22, 2021 at 11:00 am  ...  negative\n",
              "\n",
              "[20 rows x 4 columns]"
            ]
          },
          "metadata": {},
          "execution_count": 6
        }
      ],
      "source": [
        "data= data[data.text.map(lambda x: x.isascii())]\n",
        "data.head(20)"
      ]
    },
    {
      "cell_type": "code",
      "execution_count": 7,
      "metadata": {
        "colab": {
          "base_uri": "https://localhost:8080/",
          "height": 516
        },
        "id": "XJRPaaHLtCa6",
        "outputId": "4ff541d3-4492-4405-ea68-8c1c09559bbf"
      },
      "outputs": [
        {
          "output_type": "execute_result",
          "data": {
            "text/plain": [
              "Text(0.5, 1.0, 'Dataset labels distribuition')"
            ]
          },
          "metadata": {},
          "execution_count": 7
        },
        {
          "output_type": "display_data",
          "data": {
            "image/png": "[encoded data removed]",
            "text/plain": [
              "<Figure size 1152x576 with 1 Axes>"
            ]
          },
          "metadata": {
            "needs_background": "light"
          }
        }
      ],
      "source": [
        "target_cnt = Counter(data.col)\n",
        "\n",
        "plt.figure(figsize=(16,8))\n",
        "plt.bar(target_cnt.keys(), target_cnt.values())\n",
        "plt.title(\"Dataset labels distribuition\")"
      ]
    },
    {
      "cell_type": "code",
      "source": [
        "# DATASET\n",
        "TRAIN_SIZE = 0.8\n",
        "\n",
        "# TEXT CLENAING\n",
        "TEXT_CLEANING_RE = \"@\\S+|https?:\\S+|http?:\\S|[^A-Za-z0-9]+\"\n",
        "\n",
        "# WORD2VEC \n",
        "W2V_SIZE = 300\n",
        "W2V_WINDOW = 7\n",
        "W2V_EPOCH = 32\n",
        "W2V_MIN_COUNT = 10\n",
        "\n",
        "# KERAS\n",
        "SEQUENCE_LENGTH = 300\n",
        "EPOCHS = 8\n",
        "BATCH_SIZE = 1024\n",
        "\n",
        "# SENTIMENT\n",
        "POSITIVE = \"POSITIVE\"\n",
        "NEGATIVE = \"NEGATIVE\"\n",
        "NEUTRAL = \"NEUTRAL\"\n",
        "SENTIMENT_THRESHOLDS = (0.4, 0.7)\n",
        "\n",
        "# EXPORT\n",
        "KERAS_MODEL = \"model.h5\"\n",
        "WORD2VEC_MODEL = \"model.w2v\"\n",
        "TOKENIZER_MODEL = \"tokenizer.pkl\"\n",
        "ENCODER_MODEL = \"encoder.pkl\""
      ],
      "metadata": {
        "id": "U_wOY1xJ6st1"
      },
      "execution_count": 8,
      "outputs": []
    },
    {
      "cell_type": "code",
      "execution_count": 9,
      "metadata": {
        "colab": {
          "base_uri": "https://localhost:8080/"
        },
        "id": "95uendpgtM7l",
        "outputId": "e75ab791-0f1c-4e42-ecbf-b07937d4c1cd"
      },
      "outputs": [
        {
          "output_type": "stream",
          "name": "stdout",
          "text": [
            "[nltk_data] Downloading package stopwords to /root/nltk_data...\n",
            "[nltk_data]   Unzipping corpora/stopwords.zip.\n"
          ]
        }
      ],
      "source": [
        "nltk.download('stopwords')\n",
        "stop_words = stopwords.words(\"english\")\n",
        "stemmer = SnowballStemmer(\"english\")"
      ]
    },
    {
      "cell_type": "code",
      "execution_count": 10,
      "metadata": {
        "id": "lly1sJoTtQhe"
      },
      "outputs": [],
      "source": [
        "def preprocess(text, stem=False):\n",
        "    # Remove link,user and special characters\n",
        "    text = re.sub(TEXT_CLEANING_RE, ' ', str(text).lower()).strip()\n",
        "    tokens = []\n",
        "    for token in text.split():\n",
        "        if token not in stop_words:\n",
        "            if stem:\n",
        "                tokens.append(stemmer.stem(token))\n",
        "            else:\n",
        "                tokens.append(token)\n",
        "    return \" \".join(tokens)"
      ]
    },
    {
      "cell_type": "code",
      "execution_count": 11,
      "metadata": {
        "colab": {
          "base_uri": "https://localhost:8080/",
          "height": 363
        },
        "id": "5eNXzeKJtY2W",
        "outputId": "4450e9ee-1265-440e-f5a6-f6fe404873cc"
      },
      "outputs": [
        {
          "output_type": "execute_result",
          "data": {
            "text/html": [
              "\n",
              "  <div id=\"df-dd3cff27-aba4-430f-b211-bbb24a4c9345\">\n",
              "    <div class=\"colab-df-container\">\n",
              "      <div>\n",
              "<style scoped>\n",
              "    .dataframe tbody tr th:only-of-type {\n",
              "        vertical-align: middle;\n",
              "    }\n",
              "\n",
              "    .dataframe tbody tr th {\n",
              "        vertical-align: top;\n",
              "    }\n",
              "\n",
              "    .dataframe thead th {\n",
              "        text-align: right;\n",
              "    }\n",
              "</style>\n",
              "<table border=\"1\" class=\"dataframe\">\n",
              "  <thead>\n",
              "    <tr style=\"text-align: right;\">\n",
              "      <th></th>\n",
              "      <th>published</th>\n",
              "      <th>text</th>\n",
              "      <th>service_provider</th>\n",
              "      <th>col</th>\n",
              "    </tr>\n",
              "  </thead>\n",
              "  <tbody>\n",
              "    <tr>\n",
              "      <th>0</th>\n",
              "      <td>January 18, 2021 at 9:56 am</td>\n",
              "      <td>20mbps speed location kadawatha5 star customer...</td>\n",
              "      <td>lankabell-review</td>\n",
              "      <td>neutral</td>\n",
              "    </tr>\n",
              "    <tr>\n",
              "      <th>1</th>\n",
              "      <td>January 10, 2021 at 10:52 pm</td>\n",
              "      <td>lankabell good enough download speed around 3m...</td>\n",
              "      <td>lankabell-review</td>\n",
              "      <td>neutral</td>\n",
              "    </tr>\n",
              "    <tr>\n",
              "      <th>2</th>\n",
              "      <td>September 12, 2020 at 7:51 am</td>\n",
              "      <td>wattala area eke 4g naha eka eka walata withar...</td>\n",
              "      <td>lankabell-review</td>\n",
              "      <td>neutral</td>\n",
              "    </tr>\n",
              "    <tr>\n",
              "      <th>4</th>\n",
              "      <td>December 20, 2021 at 5:41 pm</td>\n",
              "      <td>low speed worst isp sri lanka</td>\n",
              "      <td>dialog-axiata-review</td>\n",
              "      <td>negative</td>\n",
              "    </tr>\n",
              "    <tr>\n",
              "      <th>5</th>\n",
              "      <td>December 13, 2021 at 9:29 am</td>\n",
              "      <td>signal na poddak vath melo rahak na</td>\n",
              "      <td>dialog-axiata-review</td>\n",
              "      <td>neutral</td>\n",
              "    </tr>\n",
              "    <tr>\n",
              "      <th>6</th>\n",
              "      <td>December 12, 2021 at 10:31 pm</td>\n",
              "      <td>bad broadband</td>\n",
              "      <td>dialog-axiata-review</td>\n",
              "      <td>neutral</td>\n",
              "    </tr>\n",
              "    <tr>\n",
              "      <th>7</th>\n",
              "      <td>December 12, 2021 at 9:32 pm</td>\n",
              "      <td>anagathaya adai</td>\n",
              "      <td>dialog-axiata-review</td>\n",
              "      <td>neutral</td>\n",
              "    </tr>\n",
              "    <tr>\n",
              "      <th>8</th>\n",
              "      <td>December 12, 2021 at 8:48 am</td>\n",
              "      <td>best mobile fixed network</td>\n",
              "      <td>dialog-axiata-review</td>\n",
              "      <td>neutral</td>\n",
              "    </tr>\n",
              "    <tr>\n",
              "      <th>9</th>\n",
              "      <td>December 4, 2021 at 8:09 pm</td>\n",
              "      <td>bloody worst service ever</td>\n",
              "      <td>dialog-axiata-review</td>\n",
              "      <td>negative</td>\n",
              "    </tr>\n",
              "    <tr>\n",
              "      <th>10</th>\n",
              "      <td>November 15, 2021 at 12:07 am</td>\n",
              "      <td>worst connection sri lanka</td>\n",
              "      <td>dialog-axiata-review</td>\n",
              "      <td>negative</td>\n",
              "    </tr>\n",
              "  </tbody>\n",
              "</table>\n",
              "</div>\n",
              "      <button class=\"colab-df-convert\" onclick=\"convertToInteractive('df-dd3cff27-aba4-430f-b211-bbb24a4c9345')\"\n",
              "              title=\"Convert this dataframe to an interactive table.\"\n",
              "              style=\"display:none;\">\n",
              "        \n",
              "  <svg xmlns=\"http://www.w3.org/2000/svg\" height=\"24px\"viewBox=\"0 0 24 24\"\n",
              "       width=\"24px\">\n",
              "    <path d=\"M0 0h24v24H0V0z\" fill=\"none\"/>\n",
              "    <path d=\"M18.56 5.44l.94 2.06.94-2.06 2.06-.94-2.06-.94-.94-2.06-.94 2.06-2.06.94zm-11 1L8.5 8.5l.94-2.06 2.06-.94-2.06-.94L8.5 2.5l-.94 2.06-2.06.94zm10 10l.94 2.06.94-2.06 2.06-.94-2.06-.94-.94-2.06-.94 2.06-2.06.94z\"/><path d=\"M17.41 7.96l-1.37-1.37c-.4-.4-.92-.59-1.43-.59-.52 0-1.04.2-1.43.59L10.3 9.45l-7.72 7.72c-.78.78-.78 2.05 0 2.83L4 21.41c.39.39.9.59 1.41.59.51 0 1.02-.2 1.41-.59l7.78-7.78 2.81-2.81c.8-.78.8-2.07 0-2.86zM5.41 20L4 18.59l7.72-7.72 1.47 1.35L5.41 20z\"/>\n",
              "  </svg>\n",
              "      </button>\n",
              "      \n",
              "  <style>\n",
              "    .colab-df-container {\n",
              "      display:flex;\n",
              "      flex-wrap:wrap;\n",
              "      gap: 12px;\n",
              "    }\n",
              "\n",
              "    .colab-df-convert {\n",
              "      background-color: #E8F0FE;\n",
              "      border: none;\n",
              "      border-radius: 50%;\n",
              "      cursor: pointer;\n",
              "      display: none;\n",
              "      fill: #1967D2;\n",
              "      height: 32px;\n",
              "      padding: 0 0 0 0;\n",
              "      width: 32px;\n",
              "    }\n",
              "\n",
              "    .colab-df-convert:hover {\n",
              "      background-color: #E2EBFA;\n",
              "      box-shadow: 0px 1px 2px rgba(60, 64, 67, 0.3), 0px 1px 3px 1px rgba(60, 64, 67, 0.15);\n",
              "      fill: #174EA6;\n",
              "    }\n",
              "\n",
              "    [theme=dark] .colab-df-convert {\n",
              "      background-color: #3B4455;\n",
              "      fill: #D2E3FC;\n",
              "    }\n",
              "\n",
              "    [theme=dark] .colab-df-convert:hover {\n",
              "      background-color: #434B5C;\n",
              "      box-shadow: 0px 1px 3px 1px rgba(0, 0, 0, 0.15);\n",
              "      filter: drop-shadow(0px 1px 2px rgba(0, 0, 0, 0.3));\n",
              "      fill: #FFFFFF;\n",
              "    }\n",
              "  </style>\n",
              "\n",
              "      <script>\n",
              "        const buttonEl =\n",
              "          document.querySelector('#df-dd3cff27-aba4-430f-b211-bbb24a4c9345 button.colab-df-convert');\n",
              "        buttonEl.style.display =\n",
              "          google.colab.kernel.accessAllowed ? 'block' : 'none';\n",
              "\n",
              "        async function convertToInteractive(key) {\n",
              "          const element = document.querySelector('#df-dd3cff27-aba4-430f-b211-bbb24a4c9345');\n",
              "          const dataTable =\n",
              "            await google.colab.kernel.invokeFunction('convertToInteractive',\n",
              "                                                     [key], {});\n",
              "          if (!dataTable) return;\n",
              "\n",
              "          const docLinkHtml = 'Like what you see? Visit the ' +\n",
              "            '<a target=\"_blank\" href=https://colab.research.google.com/notebooks/data_table.ipynb>data table notebook</a>'\n",
              "            + ' to learn more about interactive tables.';\n",
              "          element.innerHTML = '';\n",
              "          dataTable['output_type'] = 'display_data';\n",
              "          await google.colab.output.renderOutput(dataTable, element);\n",
              "          const docLink = document.createElement('div');\n",
              "          docLink.innerHTML = docLinkHtml;\n",
              "          element.appendChild(docLink);\n",
              "        }\n",
              "      </script>\n",
              "    </div>\n",
              "  </div>\n",
              "  "
            ],
            "text/plain": [
              "                        published  ...       col\n",
              "0     January 18, 2021 at 9:56 am  ...   neutral\n",
              "1    January 10, 2021 at 10:52 pm  ...   neutral\n",
              "2   September 12, 2020 at 7:51 am  ...   neutral\n",
              "4    December 20, 2021 at 5:41 pm  ...  negative\n",
              "5    December 13, 2021 at 9:29 am  ...   neutral\n",
              "6   December 12, 2021 at 10:31 pm  ...   neutral\n",
              "7    December 12, 2021 at 9:32 pm  ...   neutral\n",
              "8    December 12, 2021 at 8:48 am  ...   neutral\n",
              "9     December 4, 2021 at 8:09 pm  ...  negative\n",
              "10  November 15, 2021 at 12:07 am  ...  negative\n",
              "\n",
              "[10 rows x 4 columns]"
            ]
          },
          "metadata": {},
          "execution_count": 11
        }
      ],
      "source": [
        "data.text = data.text.apply(lambda x: preprocess(x))\n",
        "data.head(10)"
      ]
    },
    {
      "cell_type": "code",
      "execution_count": 12,
      "metadata": {
        "id": "yjHDuBs2tgga",
        "colab": {
          "base_uri": "https://localhost:8080/"
        },
        "outputId": "63a3c699-b34e-472e-d52a-498ae7dd55dc"
      },
      "outputs": [
        {
          "output_type": "stream",
          "name": "stdout",
          "text": [
            "TRAIN size: 68\n",
            "TEST size: 18\n"
          ]
        }
      ],
      "source": [
        "df_train, df_test = train_test_split(data, test_size=1-TRAIN_SIZE, random_state=42)\n",
        "print(\"TRAIN size:\", len(df_train))\n",
        "print(\"TEST size:\", len(df_test))"
      ]
    },
    {
      "cell_type": "code",
      "source": [
        "documents = [_text.split() for _text in df_train.text]"
      ],
      "metadata": {
        "id": "ClzNA8WT69nc"
      },
      "execution_count": 13,
      "outputs": []
    },
    {
      "cell_type": "code",
      "source": [
        "w2v_model = gensim.models.word2vec.Word2Vec(size=W2V_SIZE, \n",
        "                                            window=W2V_WINDOW, \n",
        "                                            min_count=W2V_MIN_COUNT, \n",
        "                                            workers=8)"
      ],
      "metadata": {
        "id": "w9nba2JT7BAt"
      },
      "execution_count": 14,
      "outputs": []
    },
    {
      "cell_type": "code",
      "source": [
        "w2v_model.build_vocab(documents)"
      ],
      "metadata": {
        "colab": {
          "base_uri": "https://localhost:8080/"
        },
        "id": "Jjp80WIt7DV4",
        "outputId": "efbbdfda-08f4-41b7-87cd-a4c39daa1ebe"
      },
      "execution_count": 15,
      "outputs": [
        {
          "output_type": "stream",
          "name": "stderr",
          "text": [
            "2022-01-16 03:53:08,463 : INFO : collecting all words and their counts\n",
            "2022-01-16 03:53:08,465 : INFO : PROGRESS: at sentence #0, processed 0 words, keeping 0 word types\n",
            "2022-01-16 03:53:08,468 : INFO : collected 369 word types from a corpus of 706 raw words and 68 sentences\n",
            "2022-01-16 03:53:08,473 : INFO : Loading a fresh vocabulary\n",
            "2022-01-16 03:53:08,475 : INFO : effective_min_count=10 retains 9 unique words (2% of original 369, drops 360)\n",
            "2022-01-16 03:53:08,476 : INFO : effective_min_count=10 leaves 141 word corpus (19% of original 706, drops 565)\n",
            "2022-01-16 03:53:08,478 : INFO : deleting the raw counts dictionary of 369 items\n",
            "2022-01-16 03:53:08,480 : INFO : sample=0.001 downsamples 9 most-common words\n",
            "2022-01-16 03:53:08,481 : INFO : downsampling leaves estimated 14 word corpus (10.3% of prior 141)\n",
            "2022-01-16 03:53:08,482 : INFO : estimated required memory for 9 words and 300 dimensions: 26100 bytes\n",
            "2022-01-16 03:53:08,484 : INFO : resetting layer weights\n"
          ]
        }
      ]
    },
    {
      "cell_type": "code",
      "source": [
        "words = w2v_model.wv.vocab.keys()\n",
        "vocab_size = len(words)\n",
        "print(\"Vocab size\", vocab_size)"
      ],
      "metadata": {
        "colab": {
          "base_uri": "https://localhost:8080/"
        },
        "id": "hgqizmTN7Fge",
        "outputId": "c1d0dccc-bf99-403e-cc84-805ced91d874"
      },
      "execution_count": 16,
      "outputs": [
        {
          "output_type": "stream",
          "name": "stdout",
          "text": [
            "Vocab size 9\n"
          ]
        }
      ]
    },
    {
      "cell_type": "code",
      "source": [
        "%%time\n",
        "w2v_model.train(documents, total_examples=len(documents), epochs=W2V_EPOCH)"
      ],
      "metadata": {
        "colab": {
          "base_uri": "https://localhost:8080/"
        },
        "id": "fQNrN8jS7IRD",
        "outputId": "2e6a17b6-8e9f-4d33-8b73-b45e4d24b194"
      },
      "execution_count": 17,
      "outputs": [
        {
          "output_type": "stream",
          "name": "stderr",
          "text": [
            "2022-01-16 03:53:13,094 : INFO : training model with 8 workers on 9 vocabulary and 300 features, using sg=0 hs=0 sample=0.001 negative=5 window=7\n",
            "2022-01-16 03:53:13,106 : INFO : worker thread finished; awaiting finish of 7 more threads\n",
            "2022-01-16 03:53:13,108 : INFO : worker thread finished; awaiting finish of 6 more threads\n",
            "2022-01-16 03:53:13,110 : INFO : worker thread finished; awaiting finish of 5 more threads\n",
            "2022-01-16 03:53:13,111 : INFO : worker thread finished; awaiting finish of 4 more threads\n",
            "2022-01-16 03:53:13,112 : INFO : worker thread finished; awaiting finish of 3 more threads\n",
            "2022-01-16 03:53:13,114 : INFO : worker thread finished; awaiting finish of 2 more threads\n",
            "2022-01-16 03:53:13,115 : INFO : worker thread finished; awaiting finish of 1 more threads\n",
            "2022-01-16 03:53:13,117 : INFO : worker thread finished; awaiting finish of 0 more threads\n",
            "2022-01-16 03:53:13,118 : INFO : EPOCH - 1 : training on 706 raw words (12 effective words) took 0.0s, 786 effective words/s\n",
            "2022-01-16 03:53:13,137 : INFO : worker thread finished; awaiting finish of 7 more threads\n",
            "2022-01-16 03:53:13,141 : INFO : worker thread finished; awaiting finish of 6 more threads\n",
            "2022-01-16 03:53:13,143 : INFO : worker thread finished; awaiting finish of 5 more threads\n",
            "2022-01-16 03:53:13,144 : INFO : worker thread finished; awaiting finish of 4 more threads\n",
            "2022-01-16 03:53:13,144 : INFO : worker thread finished; awaiting finish of 3 more threads\n",
            "2022-01-16 03:53:13,145 : INFO : worker thread finished; awaiting finish of 2 more threads\n",
            "2022-01-16 03:53:13,146 : INFO : worker thread finished; awaiting finish of 1 more threads\n",
            "2022-01-16 03:53:13,147 : INFO : worker thread finished; awaiting finish of 0 more threads\n",
            "2022-01-16 03:53:13,148 : INFO : EPOCH - 2 : training on 706 raw words (15 effective words) took 0.0s, 1386 effective words/s\n",
            "2022-01-16 03:53:13,162 : INFO : worker thread finished; awaiting finish of 7 more threads\n",
            "2022-01-16 03:53:13,164 : INFO : worker thread finished; awaiting finish of 6 more threads\n",
            "2022-01-16 03:53:13,167 : INFO : worker thread finished; awaiting finish of 5 more threads\n",
            "2022-01-16 03:53:13,169 : INFO : worker thread finished; awaiting finish of 4 more threads\n",
            "2022-01-16 03:53:13,170 : INFO : worker thread finished; awaiting finish of 3 more threads\n",
            "2022-01-16 03:53:13,171 : INFO : worker thread finished; awaiting finish of 2 more threads\n",
            "2022-01-16 03:53:13,172 : INFO : worker thread finished; awaiting finish of 1 more threads\n",
            "2022-01-16 03:53:13,174 : INFO : worker thread finished; awaiting finish of 0 more threads\n",
            "2022-01-16 03:53:13,175 : INFO : EPOCH - 3 : training on 706 raw words (20 effective words) took 0.0s, 1330 effective words/s\n",
            "2022-01-16 03:53:13,186 : INFO : worker thread finished; awaiting finish of 7 more threads\n",
            "2022-01-16 03:53:13,188 : INFO : worker thread finished; awaiting finish of 6 more threads\n",
            "2022-01-16 03:53:13,191 : INFO : worker thread finished; awaiting finish of 5 more threads\n",
            "2022-01-16 03:53:13,192 : INFO : worker thread finished; awaiting finish of 4 more threads\n",
            "2022-01-16 03:53:13,193 : INFO : worker thread finished; awaiting finish of 3 more threads\n",
            "2022-01-16 03:53:13,194 : INFO : worker thread finished; awaiting finish of 2 more threads\n",
            "2022-01-16 03:53:13,196 : INFO : worker thread finished; awaiting finish of 1 more threads\n",
            "2022-01-16 03:53:13,197 : INFO : worker thread finished; awaiting finish of 0 more threads\n",
            "2022-01-16 03:53:13,198 : INFO : EPOCH - 4 : training on 706 raw words (10 effective words) took 0.0s, 747 effective words/s\n",
            "2022-01-16 03:53:13,211 : INFO : worker thread finished; awaiting finish of 7 more threads\n",
            "2022-01-16 03:53:13,214 : INFO : worker thread finished; awaiting finish of 6 more threads\n",
            "2022-01-16 03:53:13,215 : INFO : worker thread finished; awaiting finish of 5 more threads\n",
            "2022-01-16 03:53:13,217 : INFO : worker thread finished; awaiting finish of 4 more threads\n",
            "2022-01-16 03:53:13,218 : INFO : worker thread finished; awaiting finish of 3 more threads\n",
            "2022-01-16 03:53:13,219 : INFO : worker thread finished; awaiting finish of 2 more threads\n",
            "2022-01-16 03:53:13,221 : INFO : worker thread finished; awaiting finish of 1 more threads\n",
            "2022-01-16 03:53:13,222 : INFO : worker thread finished; awaiting finish of 0 more threads\n",
            "2022-01-16 03:53:13,223 : INFO : EPOCH - 5 : training on 706 raw words (13 effective words) took 0.0s, 1008 effective words/s\n",
            "2022-01-16 03:53:13,241 : INFO : worker thread finished; awaiting finish of 7 more threads\n",
            "2022-01-16 03:53:13,245 : INFO : worker thread finished; awaiting finish of 6 more threads\n",
            "2022-01-16 03:53:13,246 : INFO : worker thread finished; awaiting finish of 5 more threads\n",
            "2022-01-16 03:53:13,248 : INFO : worker thread finished; awaiting finish of 4 more threads\n",
            "2022-01-16 03:53:13,249 : INFO : worker thread finished; awaiting finish of 3 more threads\n",
            "2022-01-16 03:53:13,250 : INFO : worker thread finished; awaiting finish of 2 more threads\n",
            "2022-01-16 03:53:13,251 : INFO : worker thread finished; awaiting finish of 1 more threads\n",
            "2022-01-16 03:53:13,254 : INFO : worker thread finished; awaiting finish of 0 more threads\n",
            "2022-01-16 03:53:13,255 : INFO : EPOCH - 6 : training on 706 raw words (15 effective words) took 0.0s, 999 effective words/s\n",
            "2022-01-16 03:53:13,267 : INFO : worker thread finished; awaiting finish of 7 more threads\n",
            "2022-01-16 03:53:13,270 : INFO : worker thread finished; awaiting finish of 6 more threads\n",
            "2022-01-16 03:53:13,271 : INFO : worker thread finished; awaiting finish of 5 more threads\n",
            "2022-01-16 03:53:13,272 : INFO : worker thread finished; awaiting finish of 4 more threads\n",
            "2022-01-16 03:53:13,273 : INFO : worker thread finished; awaiting finish of 3 more threads\n",
            "2022-01-16 03:53:13,274 : INFO : worker thread finished; awaiting finish of 2 more threads\n",
            "2022-01-16 03:53:13,276 : INFO : worker thread finished; awaiting finish of 1 more threads\n",
            "2022-01-16 03:53:13,277 : INFO : worker thread finished; awaiting finish of 0 more threads\n",
            "2022-01-16 03:53:13,278 : INFO : EPOCH - 7 : training on 706 raw words (13 effective words) took 0.0s, 1124 effective words/s\n",
            "2022-01-16 03:53:13,289 : INFO : worker thread finished; awaiting finish of 7 more threads\n",
            "2022-01-16 03:53:13,291 : INFO : worker thread finished; awaiting finish of 6 more threads\n",
            "2022-01-16 03:53:13,293 : INFO : worker thread finished; awaiting finish of 5 more threads\n",
            "2022-01-16 03:53:13,294 : INFO : worker thread finished; awaiting finish of 4 more threads\n",
            "2022-01-16 03:53:13,295 : INFO : worker thread finished; awaiting finish of 3 more threads\n",
            "2022-01-16 03:53:13,296 : INFO : worker thread finished; awaiting finish of 2 more threads\n",
            "2022-01-16 03:53:13,297 : INFO : worker thread finished; awaiting finish of 1 more threads\n",
            "2022-01-16 03:53:13,299 : INFO : worker thread finished; awaiting finish of 0 more threads\n",
            "2022-01-16 03:53:13,300 : INFO : EPOCH - 8 : training on 706 raw words (18 effective words) took 0.0s, 1595 effective words/s\n",
            "2022-01-16 03:53:13,310 : INFO : worker thread finished; awaiting finish of 7 more threads\n",
            "2022-01-16 03:53:13,313 : INFO : worker thread finished; awaiting finish of 6 more threads\n",
            "2022-01-16 03:53:13,314 : INFO : worker thread finished; awaiting finish of 5 more threads\n",
            "2022-01-16 03:53:13,315 : INFO : worker thread finished; awaiting finish of 4 more threads\n",
            "2022-01-16 03:53:13,316 : INFO : worker thread finished; awaiting finish of 3 more threads\n",
            "2022-01-16 03:53:13,317 : INFO : worker thread finished; awaiting finish of 2 more threads\n",
            "2022-01-16 03:53:13,318 : INFO : worker thread finished; awaiting finish of 1 more threads\n",
            "2022-01-16 03:53:13,319 : INFO : worker thread finished; awaiting finish of 0 more threads\n",
            "2022-01-16 03:53:13,321 : INFO : EPOCH - 9 : training on 706 raw words (13 effective words) took 0.0s, 1156 effective words/s\n",
            "2022-01-16 03:53:13,332 : INFO : worker thread finished; awaiting finish of 7 more threads\n",
            "2022-01-16 03:53:13,334 : INFO : worker thread finished; awaiting finish of 6 more threads\n",
            "2022-01-16 03:53:13,335 : INFO : worker thread finished; awaiting finish of 5 more threads\n",
            "2022-01-16 03:53:13,336 : INFO : worker thread finished; awaiting finish of 4 more threads\n",
            "2022-01-16 03:53:13,338 : INFO : worker thread finished; awaiting finish of 3 more threads\n",
            "2022-01-16 03:53:13,339 : INFO : worker thread finished; awaiting finish of 2 more threads\n",
            "2022-01-16 03:53:13,340 : INFO : worker thread finished; awaiting finish of 1 more threads\n",
            "2022-01-16 03:53:13,342 : INFO : worker thread finished; awaiting finish of 0 more threads\n",
            "2022-01-16 03:53:13,343 : INFO : EPOCH - 10 : training on 706 raw words (13 effective words) took 0.0s, 1089 effective words/s\n",
            "2022-01-16 03:53:13,361 : INFO : worker thread finished; awaiting finish of 7 more threads\n",
            "2022-01-16 03:53:13,362 : INFO : worker thread finished; awaiting finish of 6 more threads\n",
            "2022-01-16 03:53:13,365 : INFO : worker thread finished; awaiting finish of 5 more threads\n",
            "2022-01-16 03:53:13,367 : INFO : worker thread finished; awaiting finish of 4 more threads\n",
            "2022-01-16 03:53:13,368 : INFO : worker thread finished; awaiting finish of 3 more threads\n",
            "2022-01-16 03:53:13,370 : INFO : worker thread finished; awaiting finish of 2 more threads\n",
            "2022-01-16 03:53:13,371 : INFO : worker thread finished; awaiting finish of 1 more threads\n",
            "2022-01-16 03:53:13,373 : INFO : worker thread finished; awaiting finish of 0 more threads\n",
            "2022-01-16 03:53:13,375 : INFO : EPOCH - 11 : training on 706 raw words (17 effective words) took 0.0s, 1151 effective words/s\n",
            "2022-01-16 03:53:13,389 : INFO : worker thread finished; awaiting finish of 7 more threads\n",
            "2022-01-16 03:53:13,393 : INFO : worker thread finished; awaiting finish of 6 more threads\n",
            "2022-01-16 03:53:13,394 : INFO : worker thread finished; awaiting finish of 5 more threads\n",
            "2022-01-16 03:53:13,396 : INFO : worker thread finished; awaiting finish of 4 more threads\n",
            "2022-01-16 03:53:13,397 : INFO : worker thread finished; awaiting finish of 3 more threads\n",
            "2022-01-16 03:53:13,399 : INFO : worker thread finished; awaiting finish of 2 more threads\n",
            "2022-01-16 03:53:13,401 : INFO : worker thread finished; awaiting finish of 1 more threads\n",
            "2022-01-16 03:53:13,402 : INFO : worker thread finished; awaiting finish of 0 more threads\n",
            "2022-01-16 03:53:13,403 : INFO : EPOCH - 12 : training on 706 raw words (19 effective words) took 0.0s, 1249 effective words/s\n",
            "2022-01-16 03:53:13,428 : INFO : worker thread finished; awaiting finish of 7 more threads\n",
            "2022-01-16 03:53:13,431 : INFO : worker thread finished; awaiting finish of 6 more threads\n",
            "2022-01-16 03:53:13,432 : INFO : worker thread finished; awaiting finish of 5 more threads\n",
            "2022-01-16 03:53:13,434 : INFO : worker thread finished; awaiting finish of 4 more threads\n",
            "2022-01-16 03:53:13,436 : INFO : worker thread finished; awaiting finish of 3 more threads\n",
            "2022-01-16 03:53:13,438 : INFO : worker thread finished; awaiting finish of 2 more threads\n",
            "2022-01-16 03:53:13,439 : INFO : worker thread finished; awaiting finish of 1 more threads\n",
            "2022-01-16 03:53:13,441 : INFO : worker thread finished; awaiting finish of 0 more threads\n",
            "2022-01-16 03:53:13,442 : INFO : EPOCH - 13 : training on 706 raw words (15 effective words) took 0.0s, 846 effective words/s\n",
            "2022-01-16 03:53:13,456 : INFO : worker thread finished; awaiting finish of 7 more threads\n",
            "2022-01-16 03:53:13,460 : INFO : worker thread finished; awaiting finish of 6 more threads\n",
            "2022-01-16 03:53:13,462 : INFO : worker thread finished; awaiting finish of 5 more threads\n",
            "2022-01-16 03:53:13,464 : INFO : worker thread finished; awaiting finish of 4 more threads\n",
            "2022-01-16 03:53:13,465 : INFO : worker thread finished; awaiting finish of 3 more threads\n",
            "2022-01-16 03:53:13,467 : INFO : worker thread finished; awaiting finish of 2 more threads\n",
            "2022-01-16 03:53:13,471 : INFO : worker thread finished; awaiting finish of 1 more threads\n",
            "2022-01-16 03:53:13,473 : INFO : worker thread finished; awaiting finish of 0 more threads\n",
            "2022-01-16 03:53:13,474 : INFO : EPOCH - 14 : training on 706 raw words (16 effective words) took 0.0s, 843 effective words/s\n",
            "2022-01-16 03:53:13,490 : INFO : worker thread finished; awaiting finish of 7 more threads\n",
            "2022-01-16 03:53:13,494 : INFO : worker thread finished; awaiting finish of 6 more threads\n",
            "2022-01-16 03:53:13,496 : INFO : worker thread finished; awaiting finish of 5 more threads\n",
            "2022-01-16 03:53:13,497 : INFO : worker thread finished; awaiting finish of 4 more threads\n",
            "2022-01-16 03:53:13,499 : INFO : worker thread finished; awaiting finish of 3 more threads\n",
            "2022-01-16 03:53:13,501 : INFO : worker thread finished; awaiting finish of 2 more threads\n",
            "2022-01-16 03:53:13,502 : INFO : worker thread finished; awaiting finish of 1 more threads\n",
            "2022-01-16 03:53:13,506 : INFO : worker thread finished; awaiting finish of 0 more threads\n",
            "2022-01-16 03:53:13,508 : INFO : EPOCH - 15 : training on 706 raw words (17 effective words) took 0.0s, 894 effective words/s\n",
            "2022-01-16 03:53:13,541 : INFO : worker thread finished; awaiting finish of 7 more threads\n",
            "2022-01-16 03:53:13,545 : INFO : worker thread finished; awaiting finish of 6 more threads\n",
            "2022-01-16 03:53:13,550 : INFO : worker thread finished; awaiting finish of 5 more threads\n",
            "2022-01-16 03:53:13,551 : INFO : worker thread finished; awaiting finish of 4 more threads\n",
            "2022-01-16 03:53:13,553 : INFO : worker thread finished; awaiting finish of 3 more threads\n",
            "2022-01-16 03:53:13,555 : INFO : worker thread finished; awaiting finish of 2 more threads\n",
            "2022-01-16 03:53:13,556 : INFO : worker thread finished; awaiting finish of 1 more threads\n",
            "2022-01-16 03:53:13,558 : INFO : worker thread finished; awaiting finish of 0 more threads\n",
            "2022-01-16 03:53:13,559 : INFO : EPOCH - 16 : training on 706 raw words (17 effective words) took 0.0s, 811 effective words/s\n",
            "2022-01-16 03:53:13,571 : INFO : worker thread finished; awaiting finish of 7 more threads\n",
            "2022-01-16 03:53:13,575 : INFO : worker thread finished; awaiting finish of 6 more threads\n",
            "2022-01-16 03:53:13,576 : INFO : worker thread finished; awaiting finish of 5 more threads\n",
            "2022-01-16 03:53:13,578 : INFO : worker thread finished; awaiting finish of 4 more threads\n",
            "2022-01-16 03:53:13,579 : INFO : worker thread finished; awaiting finish of 3 more threads\n",
            "2022-01-16 03:53:13,581 : INFO : worker thread finished; awaiting finish of 2 more threads\n",
            "2022-01-16 03:53:13,583 : INFO : worker thread finished; awaiting finish of 1 more threads\n",
            "2022-01-16 03:53:13,584 : INFO : worker thread finished; awaiting finish of 0 more threads\n",
            "2022-01-16 03:53:13,586 : INFO : EPOCH - 17 : training on 706 raw words (17 effective words) took 0.0s, 1131 effective words/s\n",
            "2022-01-16 03:53:13,601 : INFO : worker thread finished; awaiting finish of 7 more threads\n",
            "2022-01-16 03:53:13,603 : INFO : worker thread finished; awaiting finish of 6 more threads\n",
            "2022-01-16 03:53:13,607 : INFO : worker thread finished; awaiting finish of 5 more threads\n",
            "2022-01-16 03:53:13,609 : INFO : worker thread finished; awaiting finish of 4 more threads\n",
            "2022-01-16 03:53:13,611 : INFO : worker thread finished; awaiting finish of 3 more threads\n",
            "2022-01-16 03:53:13,612 : INFO : worker thread finished; awaiting finish of 2 more threads\n",
            "2022-01-16 03:53:13,614 : INFO : worker thread finished; awaiting finish of 1 more threads\n",
            "2022-01-16 03:53:13,615 : INFO : worker thread finished; awaiting finish of 0 more threads\n",
            "2022-01-16 03:53:13,616 : INFO : EPOCH - 18 : training on 706 raw words (18 effective words) took 0.0s, 1063 effective words/s\n",
            "2022-01-16 03:53:13,630 : INFO : worker thread finished; awaiting finish of 7 more threads\n",
            "2022-01-16 03:53:13,637 : INFO : worker thread finished; awaiting finish of 6 more threads\n",
            "2022-01-16 03:53:13,639 : INFO : worker thread finished; awaiting finish of 5 more threads\n",
            "2022-01-16 03:53:13,642 : INFO : worker thread finished; awaiting finish of 4 more threads\n",
            "2022-01-16 03:53:13,644 : INFO : worker thread finished; awaiting finish of 3 more threads\n",
            "2022-01-16 03:53:13,646 : INFO : worker thread finished; awaiting finish of 2 more threads\n",
            "2022-01-16 03:53:13,647 : INFO : worker thread finished; awaiting finish of 1 more threads\n",
            "2022-01-16 03:53:13,648 : INFO : worker thread finished; awaiting finish of 0 more threads\n",
            "2022-01-16 03:53:13,649 : INFO : EPOCH - 19 : training on 706 raw words (14 effective words) took 0.0s, 678 effective words/s\n",
            "2022-01-16 03:53:13,671 : INFO : worker thread finished; awaiting finish of 7 more threads\n",
            "2022-01-16 03:53:13,673 : INFO : worker thread finished; awaiting finish of 6 more threads\n",
            "2022-01-16 03:53:13,674 : INFO : worker thread finished; awaiting finish of 5 more threads\n",
            "2022-01-16 03:53:13,677 : INFO : worker thread finished; awaiting finish of 4 more threads\n",
            "2022-01-16 03:53:13,678 : INFO : worker thread finished; awaiting finish of 3 more threads\n",
            "2022-01-16 03:53:13,679 : INFO : worker thread finished; awaiting finish of 2 more threads\n",
            "2022-01-16 03:53:13,680 : INFO : worker thread finished; awaiting finish of 1 more threads\n",
            "2022-01-16 03:53:13,681 : INFO : worker thread finished; awaiting finish of 0 more threads\n",
            "2022-01-16 03:53:13,682 : INFO : EPOCH - 20 : training on 706 raw words (14 effective words) took 0.0s, 1218 effective words/s\n",
            "2022-01-16 03:53:13,693 : INFO : worker thread finished; awaiting finish of 7 more threads\n",
            "2022-01-16 03:53:13,696 : INFO : worker thread finished; awaiting finish of 6 more threads\n",
            "2022-01-16 03:53:13,697 : INFO : worker thread finished; awaiting finish of 5 more threads\n",
            "2022-01-16 03:53:13,698 : INFO : worker thread finished; awaiting finish of 4 more threads\n",
            "2022-01-16 03:53:13,699 : INFO : worker thread finished; awaiting finish of 3 more threads\n",
            "2022-01-16 03:53:13,701 : INFO : worker thread finished; awaiting finish of 2 more threads\n",
            "2022-01-16 03:53:13,702 : INFO : worker thread finished; awaiting finish of 1 more threads\n",
            "2022-01-16 03:53:13,703 : INFO : worker thread finished; awaiting finish of 0 more threads\n",
            "2022-01-16 03:53:13,704 : INFO : EPOCH - 21 : training on 706 raw words (10 effective words) took 0.0s, 817 effective words/s\n",
            "2022-01-16 03:53:13,721 : INFO : worker thread finished; awaiting finish of 7 more threads\n",
            "2022-01-16 03:53:13,726 : INFO : worker thread finished; awaiting finish of 6 more threads\n",
            "2022-01-16 03:53:13,727 : INFO : worker thread finished; awaiting finish of 5 more threads\n",
            "2022-01-16 03:53:13,728 : INFO : worker thread finished; awaiting finish of 4 more threads\n",
            "2022-01-16 03:53:13,730 : INFO : worker thread finished; awaiting finish of 3 more threads\n",
            "2022-01-16 03:53:13,731 : INFO : worker thread finished; awaiting finish of 2 more threads\n",
            "2022-01-16 03:53:13,732 : INFO : worker thread finished; awaiting finish of 1 more threads\n",
            "2022-01-16 03:53:13,733 : INFO : worker thread finished; awaiting finish of 0 more threads\n",
            "2022-01-16 03:53:13,734 : INFO : EPOCH - 22 : training on 706 raw words (21 effective words) took 0.0s, 1492 effective words/s\n",
            "2022-01-16 03:53:13,745 : INFO : worker thread finished; awaiting finish of 7 more threads\n",
            "2022-01-16 03:53:13,748 : INFO : worker thread finished; awaiting finish of 6 more threads\n",
            "2022-01-16 03:53:13,749 : INFO : worker thread finished; awaiting finish of 5 more threads\n",
            "2022-01-16 03:53:13,751 : INFO : worker thread finished; awaiting finish of 4 more threads\n",
            "2022-01-16 03:53:13,752 : INFO : worker thread finished; awaiting finish of 3 more threads\n",
            "2022-01-16 03:53:13,753 : INFO : worker thread finished; awaiting finish of 2 more threads\n",
            "2022-01-16 03:53:13,754 : INFO : worker thread finished; awaiting finish of 1 more threads\n",
            "2022-01-16 03:53:13,755 : INFO : worker thread finished; awaiting finish of 0 more threads\n",
            "2022-01-16 03:53:13,757 : INFO : EPOCH - 23 : training on 706 raw words (11 effective words) took 0.0s, 937 effective words/s\n",
            "2022-01-16 03:53:13,768 : INFO : worker thread finished; awaiting finish of 7 more threads\n",
            "2022-01-16 03:53:13,770 : INFO : worker thread finished; awaiting finish of 6 more threads\n",
            "2022-01-16 03:53:13,771 : INFO : worker thread finished; awaiting finish of 5 more threads\n",
            "2022-01-16 03:53:13,773 : INFO : worker thread finished; awaiting finish of 4 more threads\n",
            "2022-01-16 03:53:13,774 : INFO : worker thread finished; awaiting finish of 3 more threads\n",
            "2022-01-16 03:53:13,775 : INFO : worker thread finished; awaiting finish of 2 more threads\n",
            "2022-01-16 03:53:13,777 : INFO : worker thread finished; awaiting finish of 1 more threads\n",
            "2022-01-16 03:53:13,778 : INFO : worker thread finished; awaiting finish of 0 more threads\n",
            "2022-01-16 03:53:13,779 : INFO : EPOCH - 24 : training on 706 raw words (12 effective words) took 0.0s, 1008 effective words/s\n",
            "2022-01-16 03:53:13,791 : INFO : worker thread finished; awaiting finish of 7 more threads\n",
            "2022-01-16 03:53:13,794 : INFO : worker thread finished; awaiting finish of 6 more threads\n",
            "2022-01-16 03:53:13,796 : INFO : worker thread finished; awaiting finish of 5 more threads\n",
            "2022-01-16 03:53:13,797 : INFO : worker thread finished; awaiting finish of 4 more threads\n",
            "2022-01-16 03:53:13,798 : INFO : worker thread finished; awaiting finish of 3 more threads\n",
            "2022-01-16 03:53:13,800 : INFO : worker thread finished; awaiting finish of 2 more threads\n",
            "2022-01-16 03:53:13,801 : INFO : worker thread finished; awaiting finish of 1 more threads\n",
            "2022-01-16 03:53:13,802 : INFO : worker thread finished; awaiting finish of 0 more threads\n",
            "2022-01-16 03:53:13,803 : INFO : EPOCH - 25 : training on 706 raw words (11 effective words) took 0.0s, 853 effective words/s\n",
            "2022-01-16 03:53:13,814 : INFO : worker thread finished; awaiting finish of 7 more threads\n",
            "2022-01-16 03:53:13,818 : INFO : worker thread finished; awaiting finish of 6 more threads\n",
            "2022-01-16 03:53:13,819 : INFO : worker thread finished; awaiting finish of 5 more threads\n",
            "2022-01-16 03:53:13,822 : INFO : worker thread finished; awaiting finish of 4 more threads\n",
            "2022-01-16 03:53:13,823 : INFO : worker thread finished; awaiting finish of 3 more threads\n",
            "2022-01-16 03:53:13,824 : INFO : worker thread finished; awaiting finish of 2 more threads\n",
            "2022-01-16 03:53:13,826 : INFO : worker thread finished; awaiting finish of 1 more threads\n",
            "2022-01-16 03:53:13,827 : INFO : worker thread finished; awaiting finish of 0 more threads\n",
            "2022-01-16 03:53:13,828 : INFO : EPOCH - 26 : training on 706 raw words (16 effective words) took 0.0s, 1092 effective words/s\n",
            "2022-01-16 03:53:13,840 : INFO : worker thread finished; awaiting finish of 7 more threads\n",
            "2022-01-16 03:53:13,843 : INFO : worker thread finished; awaiting finish of 6 more threads\n",
            "2022-01-16 03:53:13,845 : INFO : worker thread finished; awaiting finish of 5 more threads\n",
            "2022-01-16 03:53:13,847 : INFO : worker thread finished; awaiting finish of 4 more threads\n",
            "2022-01-16 03:53:13,848 : INFO : worker thread finished; awaiting finish of 3 more threads\n",
            "2022-01-16 03:53:13,849 : INFO : worker thread finished; awaiting finish of 2 more threads\n",
            "2022-01-16 03:53:13,851 : INFO : worker thread finished; awaiting finish of 1 more threads\n",
            "2022-01-16 03:53:13,852 : INFO : worker thread finished; awaiting finish of 0 more threads\n",
            "2022-01-16 03:53:13,853 : INFO : EPOCH - 27 : training on 706 raw words (12 effective words) took 0.0s, 915 effective words/s\n",
            "2022-01-16 03:53:13,865 : INFO : worker thread finished; awaiting finish of 7 more threads\n",
            "2022-01-16 03:53:13,867 : INFO : worker thread finished; awaiting finish of 6 more threads\n",
            "2022-01-16 03:53:13,868 : INFO : worker thread finished; awaiting finish of 5 more threads\n",
            "2022-01-16 03:53:13,870 : INFO : worker thread finished; awaiting finish of 4 more threads\n",
            "2022-01-16 03:53:13,871 : INFO : worker thread finished; awaiting finish of 3 more threads\n",
            "2022-01-16 03:53:13,872 : INFO : worker thread finished; awaiting finish of 2 more threads\n",
            "2022-01-16 03:53:13,873 : INFO : worker thread finished; awaiting finish of 1 more threads\n",
            "2022-01-16 03:53:13,875 : INFO : worker thread finished; awaiting finish of 0 more threads\n",
            "2022-01-16 03:53:13,876 : INFO : EPOCH - 28 : training on 706 raw words (18 effective words) took 0.0s, 1503 effective words/s\n",
            "2022-01-16 03:53:13,891 : INFO : worker thread finished; awaiting finish of 7 more threads\n",
            "2022-01-16 03:53:13,892 : INFO : worker thread finished; awaiting finish of 6 more threads\n",
            "2022-01-16 03:53:13,896 : INFO : worker thread finished; awaiting finish of 5 more threads\n",
            "2022-01-16 03:53:13,897 : INFO : worker thread finished; awaiting finish of 4 more threads\n",
            "2022-01-16 03:53:13,898 : INFO : worker thread finished; awaiting finish of 3 more threads\n",
            "2022-01-16 03:53:13,899 : INFO : worker thread finished; awaiting finish of 2 more threads\n",
            "2022-01-16 03:53:13,901 : INFO : worker thread finished; awaiting finish of 1 more threads\n",
            "2022-01-16 03:53:13,902 : INFO : worker thread finished; awaiting finish of 0 more threads\n",
            "2022-01-16 03:53:13,903 : INFO : EPOCH - 29 : training on 706 raw words (9 effective words) took 0.0s, 685 effective words/s\n",
            "2022-01-16 03:53:13,915 : INFO : worker thread finished; awaiting finish of 7 more threads\n",
            "2022-01-16 03:53:13,925 : INFO : worker thread finished; awaiting finish of 6 more threads\n",
            "2022-01-16 03:53:13,927 : INFO : worker thread finished; awaiting finish of 5 more threads\n",
            "2022-01-16 03:53:13,928 : INFO : worker thread finished; awaiting finish of 4 more threads\n",
            "2022-01-16 03:53:13,930 : INFO : worker thread finished; awaiting finish of 3 more threads\n",
            "2022-01-16 03:53:13,934 : INFO : worker thread finished; awaiting finish of 2 more threads\n",
            "2022-01-16 03:53:13,935 : INFO : worker thread finished; awaiting finish of 1 more threads\n",
            "2022-01-16 03:53:13,936 : INFO : worker thread finished; awaiting finish of 0 more threads\n",
            "2022-01-16 03:53:13,940 : INFO : EPOCH - 30 : training on 706 raw words (15 effective words) took 0.0s, 574 effective words/s\n",
            "2022-01-16 03:53:13,953 : INFO : worker thread finished; awaiting finish of 7 more threads\n",
            "2022-01-16 03:53:13,956 : INFO : worker thread finished; awaiting finish of 6 more threads\n",
            "2022-01-16 03:53:13,957 : INFO : worker thread finished; awaiting finish of 5 more threads\n",
            "2022-01-16 03:53:13,959 : INFO : worker thread finished; awaiting finish of 4 more threads\n",
            "2022-01-16 03:53:13,960 : INFO : worker thread finished; awaiting finish of 3 more threads\n",
            "2022-01-16 03:53:13,961 : INFO : worker thread finished; awaiting finish of 2 more threads\n",
            "2022-01-16 03:53:13,962 : INFO : worker thread finished; awaiting finish of 1 more threads\n",
            "2022-01-16 03:53:13,963 : INFO : worker thread finished; awaiting finish of 0 more threads\n",
            "2022-01-16 03:53:13,965 : INFO : EPOCH - 31 : training on 706 raw words (18 effective words) took 0.0s, 1449 effective words/s\n",
            "2022-01-16 03:53:13,977 : INFO : worker thread finished; awaiting finish of 7 more threads\n",
            "2022-01-16 03:53:13,980 : INFO : worker thread finished; awaiting finish of 6 more threads\n",
            "2022-01-16 03:53:13,982 : INFO : worker thread finished; awaiting finish of 5 more threads\n",
            "2022-01-16 03:53:13,984 : INFO : worker thread finished; awaiting finish of 4 more threads\n",
            "2022-01-16 03:53:13,985 : INFO : worker thread finished; awaiting finish of 3 more threads\n",
            "2022-01-16 03:53:13,986 : INFO : worker thread finished; awaiting finish of 2 more threads\n",
            "2022-01-16 03:53:13,988 : INFO : worker thread finished; awaiting finish of 1 more threads\n",
            "2022-01-16 03:53:13,989 : INFO : worker thread finished; awaiting finish of 0 more threads\n",
            "2022-01-16 03:53:13,990 : INFO : EPOCH - 32 : training on 706 raw words (19 effective words) took 0.0s, 1418 effective words/s\n",
            "2022-01-16 03:53:13,991 : INFO : training on a 22592 raw words (478 effective words) took 0.9s, 534 effective words/s\n",
            "2022-01-16 03:53:13,992 : WARNING : under 10 jobs per worker: consider setting a smaller `batch_words' for smoother alpha decay\n"
          ]
        },
        {
          "output_type": "stream",
          "name": "stdout",
          "text": [
            "CPU times: user 665 ms, sys: 82.5 ms, total: 747 ms\n",
            "Wall time: 900 ms\n"
          ]
        },
        {
          "output_type": "execute_result",
          "data": {
            "text/plain": [
              "(478, 22592)"
            ]
          },
          "metadata": {},
          "execution_count": 17
        }
      ]
    },
    {
      "cell_type": "code",
      "source": [
        "w2v_model.most_similar(\"bad\")"
      ],
      "metadata": {
        "colab": {
          "base_uri": "https://localhost:8080/"
        },
        "id": "5ixJ7NHD7KWw",
        "outputId": "c06f731a-9088-466a-aedd-d4c68c209eeb"
      },
      "execution_count": 18,
      "outputs": [
        {
          "output_type": "stream",
          "name": "stderr",
          "text": [
            "/usr/local/lib/python3.7/dist-packages/ipykernel_launcher.py:1: DeprecationWarning: Call to deprecated `most_similar` (Method will be removed in 4.0.0, use self.wv.most_similar() instead).\n",
            "  \"\"\"Entry point for launching an IPython kernel.\n",
            "2022-01-16 03:53:16,439 : INFO : precomputing L2-norms of word weight vectors\n"
          ]
        },
        {
          "output_type": "execute_result",
          "data": {
            "text/plain": [
              "[('internet', 0.04554971307516098),\n",
              " ('service', -0.014326096512377262),\n",
              " ('customer', -0.03910325840115547),\n",
              " ('good', -0.04070918262004852),\n",
              " ('coverage', -0.057112254202365875),\n",
              " ('speed', -0.06025635823607445),\n",
              " ('4g', -0.06761521100997925),\n",
              " ('connection', -0.06854835152626038)]"
            ]
          },
          "metadata": {},
          "execution_count": 18
        }
      ]
    },
    {
      "cell_type": "code",
      "source": [
        "%%time\n",
        "tokenizer = Tokenizer()\n",
        "tokenizer.fit_on_texts(df_train.text)\n",
        "\n",
        "vocab_size = len(tokenizer.word_index) + 1\n",
        "print(\"Total words\", vocab_size)"
      ],
      "metadata": {
        "colab": {
          "base_uri": "https://localhost:8080/"
        },
        "id": "cIhGQW0L7TNg",
        "outputId": "686e0d7e-efe1-4431-dcfd-16334605eb38"
      },
      "execution_count": 19,
      "outputs": [
        {
          "output_type": "stream",
          "name": "stdout",
          "text": [
            "Total words 370\n",
            "CPU times: user 1.88 ms, sys: 1 ms, total: 2.88 ms\n",
            "Wall time: 2.79 ms\n"
          ]
        }
      ]
    },
    {
      "cell_type": "code",
      "source": [
        "%%time\n",
        "x_train = pad_sequences(tokenizer.texts_to_sequences(df_train.text), maxlen=SEQUENCE_LENGTH)\n",
        "x_test = pad_sequences(tokenizer.texts_to_sequences(df_test.text), maxlen=SEQUENCE_LENGTH)"
      ],
      "metadata": {
        "colab": {
          "base_uri": "https://localhost:8080/"
        },
        "id": "_JUQbS1S7X4x",
        "outputId": "3cf869fb-4493-4328-eeea-8659ed973cb9"
      },
      "execution_count": 20,
      "outputs": [
        {
          "output_type": "stream",
          "name": "stdout",
          "text": [
            "CPU times: user 2.62 ms, sys: 955 µs, total: 3.57 ms\n",
            "Wall time: 4.35 ms\n"
          ]
        }
      ]
    },
    {
      "cell_type": "code",
      "source": [
        "labels = df_train.col.unique().tolist()\n",
        "labels"
      ],
      "metadata": {
        "colab": {
          "base_uri": "https://localhost:8080/"
        },
        "id": "h_IEPjPR7aXQ",
        "outputId": "c84c6f86-e726-4469-8069-996386c5af20"
      },
      "execution_count": 21,
      "outputs": [
        {
          "output_type": "execute_result",
          "data": {
            "text/plain": [
              "['neutral', 'positive', 'negative']"
            ]
          },
          "metadata": {},
          "execution_count": 21
        }
      ]
    },
    {
      "cell_type": "code",
      "source": [
        "encoder = LabelEncoder()\n",
        "encoder.fit(df_train.col.tolist())\n",
        "\n",
        "y_train = encoder.transform(df_train.col.tolist())\n",
        "y_test = encoder.transform(df_test.col.tolist())\n",
        "\n",
        "y_train = y_train.reshape(-1,1)\n",
        "y_test = y_test.reshape(-1,1)\n",
        "\n",
        "print(\"y_train\",y_train.shape)\n",
        "print(\"y_test\",y_test.shape)"
      ],
      "metadata": {
        "colab": {
          "base_uri": "https://localhost:8080/"
        },
        "id": "ge-SN7mn7eKK",
        "outputId": "61cfc600-4526-4cca-f5c3-819f749c4036"
      },
      "execution_count": 22,
      "outputs": [
        {
          "output_type": "stream",
          "name": "stdout",
          "text": [
            "y_train (68, 1)\n",
            "y_test (18, 1)\n"
          ]
        }
      ]
    },
    {
      "cell_type": "code",
      "source": [
        "embedding_matrix = np.zeros((vocab_size, W2V_SIZE))\n",
        "for word, i in tokenizer.word_index.items():\n",
        "  if word in w2v_model.wv:\n",
        "    embedding_matrix[i] = w2v_model.wv[word]\n",
        "print(embedding_matrix.shape)"
      ],
      "metadata": {
        "colab": {
          "base_uri": "https://localhost:8080/"
        },
        "id": "-zcVV0NM7jyX",
        "outputId": "912173fc-958f-469b-e4ae-f6dc1ac7460d"
      },
      "execution_count": 23,
      "outputs": [
        {
          "output_type": "stream",
          "name": "stdout",
          "text": [
            "(370, 300)\n"
          ]
        }
      ]
    },
    {
      "cell_type": "code",
      "source": [
        "embedding_layer = Embedding(vocab_size, W2V_SIZE, weights=[embedding_matrix], input_length=SEQUENCE_LENGTH, trainable=False)"
      ],
      "metadata": {
        "id": "rbJjlsAw7n-g"
      },
      "execution_count": 24,
      "outputs": []
    },
    {
      "cell_type": "code",
      "source": [
        "model = Sequential()\n",
        "model.add(embedding_layer)\n",
        "model.add(Dropout(0.5))\n",
        "model.add(LSTM(100, dropout=0.2, recurrent_dropout=0.2))\n",
        "model.add(Dense(1, activation='sigmoid'))\n",
        "\n",
        "model.summary()"
      ],
      "metadata": {
        "colab": {
          "base_uri": "https://localhost:8080/"
        },
        "id": "WObszqZD7p8x",
        "outputId": "49e8ac2d-ecdc-404e-c377-d18f41b96729"
      },
      "execution_count": 25,
      "outputs": [
        {
          "output_type": "stream",
          "name": "stdout",
          "text": [
            "Model: \"sequential\"\n",
            "_________________________________________________________________\n",
            " Layer (type)                Output Shape              Param #   \n",
            "=================================================================\n",
            " embedding (Embedding)       (None, 300, 300)          111000    \n",
            "                                                                 \n",
            " dropout (Dropout)           (None, 300, 300)          0         \n",
            "                                                                 \n",
            " lstm (LSTM)                 (None, 100)               160400    \n",
            "                                                                 \n",
            " dense (Dense)               (None, 1)                 101       \n",
            "                                                                 \n",
            "=================================================================\n",
            "Total params: 271,501\n",
            "Trainable params: 160,501\n",
            "Non-trainable params: 111,000\n",
            "_________________________________________________________________\n"
          ]
        }
      ]
    },
    {
      "cell_type": "code",
      "source": [
        "model.compile(loss='binary_crossentropy',\n",
        "              optimizer=\"adam\",\n",
        "              metrics=['accuracy'])"
      ],
      "metadata": {
        "id": "4TJmXBkH7r98"
      },
      "execution_count": 26,
      "outputs": []
    },
    {
      "cell_type": "code",
      "source": [
        "callbacks = [ ReduceLROnPlateau(monitor='val_loss', patience=5, cooldown=0),\n",
        "              EarlyStopping(monitor='val_acc', min_delta=1e-4, patience=5)]"
      ],
      "metadata": {
        "id": "Su13gT0Z7uu_"
      },
      "execution_count": 27,
      "outputs": []
    },
    {
      "cell_type": "code",
      "source": [
        "%%time\n",
        "history = model.fit(x_train, y_train,\n",
        "                    batch_size=BATCH_SIZE,\n",
        "                    epochs=EPOCHS,\n",
        "                    validation_split=0.1,\n",
        "                    verbose=1,\n",
        "                    callbacks=callbacks)"
      ],
      "metadata": {
        "colab": {
          "base_uri": "https://localhost:8080/"
        },
        "id": "E84bfc-B7w0D",
        "outputId": "5e6fe734-a7b4-4f3d-e057-1b0e8dcffbda"
      },
      "execution_count": 28,
      "outputs": [
        {
          "output_type": "stream",
          "name": "stdout",
          "text": [
            "Epoch 1/8\n",
            "1/1 [==============================] - ETA: 0s - loss: 0.6931 - accuracy: 0.3443WARNING:tensorflow:Early stopping conditioned on metric `val_acc` which is not available. Available metrics are: loss,accuracy,val_loss,val_accuracy,lr\n"
          ]
        },
        {
          "output_type": "stream",
          "name": "stderr",
          "text": [
            "2022-01-16 03:53:47,816 : WARNING : Early stopping conditioned on metric `val_acc` which is not available. Available metrics are: loss,accuracy,val_loss,val_accuracy,lr\n"
          ]
        },
        {
          "output_type": "stream",
          "name": "stdout",
          "text": [
            "\b\b\b\b\b\b\b\b\b\b\b\b\b\b\b\b\b\b\b\b\b\b\b\b\b\b\b\b\b\b\b\b\b\b\b\b\b\b\b\b\b\b\b\b\b\b\b\b\b\b\b\b\b\b\b\b\b\b\b\b\b\b\b\b\b\b\b\b\b\b\b\b\b\b\b\b\b\b\b\b\r1/1 [==============================] - 5s 5s/step - loss: 0.6931 - accuracy: 0.3443 - val_loss: 0.6962 - val_accuracy: 0.2857 - lr: 0.0010\n",
            "Epoch 2/8\n",
            "1/1 [==============================] - ETA: 0s - loss: 0.6867 - accuracy: 0.4262WARNING:tensorflow:Early stopping conditioned on metric `val_acc` which is not available. Available metrics are: loss,accuracy,val_loss,val_accuracy,lr\n"
          ]
        },
        {
          "output_type": "stream",
          "name": "stderr",
          "text": [
            "2022-01-16 03:53:49,149 : WARNING : Early stopping conditioned on metric `val_acc` which is not available. Available metrics are: loss,accuracy,val_loss,val_accuracy,lr\n"
          ]
        },
        {
          "output_type": "stream",
          "name": "stdout",
          "text": [
            "\b\b\b\b\b\b\b\b\b\b\b\b\b\b\b\b\b\b\b\b\b\b\b\b\b\b\b\b\b\b\b\b\b\b\b\b\b\b\b\b\b\b\b\b\b\b\b\b\b\b\b\b\b\b\b\b\b\b\b\b\b\b\b\b\b\b\b\b\b\b\b\b\b\b\b\b\b\b\b\b\r1/1 [==============================] - 1s 1s/step - loss: 0.6867 - accuracy: 0.4262 - val_loss: 0.7000 - val_accuracy: 0.2857 - lr: 0.0010\n",
            "Epoch 3/8\n",
            "1/1 [==============================] - ETA: 0s - loss: 0.6791 - accuracy: 0.4262WARNING:tensorflow:Early stopping conditioned on metric `val_acc` which is not available. Available metrics are: loss,accuracy,val_loss,val_accuracy,lr\n"
          ]
        },
        {
          "output_type": "stream",
          "name": "stderr",
          "text": [
            "2022-01-16 03:53:50,517 : WARNING : Early stopping conditioned on metric `val_acc` which is not available. Available metrics are: loss,accuracy,val_loss,val_accuracy,lr\n"
          ]
        },
        {
          "output_type": "stream",
          "name": "stdout",
          "text": [
            "\b\b\b\b\b\b\b\b\b\b\b\b\b\b\b\b\b\b\b\b\b\b\b\b\b\b\b\b\b\b\b\b\b\b\b\b\b\b\b\b\b\b\b\b\b\b\b\b\b\b\b\b\b\b\b\b\b\b\b\b\b\b\b\b\b\b\b\b\b\b\b\b\b\b\b\b\b\b\b\b\r1/1 [==============================] - 1s 1s/step - loss: 0.6791 - accuracy: 0.4262 - val_loss: 0.7048 - val_accuracy: 0.2857 - lr: 0.0010\n",
            "Epoch 4/8\n",
            "1/1 [==============================] - ETA: 0s - loss: 0.6695 - accuracy: 0.4262WARNING:tensorflow:Early stopping conditioned on metric `val_acc` which is not available. Available metrics are: loss,accuracy,val_loss,val_accuracy,lr\n"
          ]
        },
        {
          "output_type": "stream",
          "name": "stderr",
          "text": [
            "2022-01-16 03:53:51,854 : WARNING : Early stopping conditioned on metric `val_acc` which is not available. Available metrics are: loss,accuracy,val_loss,val_accuracy,lr\n"
          ]
        },
        {
          "output_type": "stream",
          "name": "stdout",
          "text": [
            "\b\b\b\b\b\b\b\b\b\b\b\b\b\b\b\b\b\b\b\b\b\b\b\b\b\b\b\b\b\b\b\b\b\b\b\b\b\b\b\b\b\b\b\b\b\b\b\b\b\b\b\b\b\b\b\b\b\b\b\b\b\b\b\b\b\b\b\b\b\b\b\b\b\b\b\b\b\b\b\b\r1/1 [==============================] - 1s 1s/step - loss: 0.6695 - accuracy: 0.4262 - val_loss: 0.7111 - val_accuracy: 0.2857 - lr: 0.0010\n",
            "Epoch 5/8\n",
            "1/1 [==============================] - ETA: 0s - loss: 0.6578 - accuracy: 0.4262WARNING:tensorflow:Early stopping conditioned on metric `val_acc` which is not available. Available metrics are: loss,accuracy,val_loss,val_accuracy,lr\n"
          ]
        },
        {
          "output_type": "stream",
          "name": "stderr",
          "text": [
            "2022-01-16 03:53:53,221 : WARNING : Early stopping conditioned on metric `val_acc` which is not available. Available metrics are: loss,accuracy,val_loss,val_accuracy,lr\n"
          ]
        },
        {
          "output_type": "stream",
          "name": "stdout",
          "text": [
            "\b\b\b\b\b\b\b\b\b\b\b\b\b\b\b\b\b\b\b\b\b\b\b\b\b\b\b\b\b\b\b\b\b\b\b\b\b\b\b\b\b\b\b\b\b\b\b\b\b\b\b\b\b\b\b\b\b\b\b\b\b\b\b\b\b\b\b\b\b\b\b\b\b\b\b\b\b\b\b\b\r1/1 [==============================] - 1s 1s/step - loss: 0.6578 - accuracy: 0.4262 - val_loss: 0.7198 - val_accuracy: 0.2857 - lr: 0.0010\n",
            "Epoch 6/8\n",
            "1/1 [==============================] - ETA: 0s - loss: 0.6416 - accuracy: 0.4262WARNING:tensorflow:Early stopping conditioned on metric `val_acc` which is not available. Available metrics are: loss,accuracy,val_loss,val_accuracy,lr\n"
          ]
        },
        {
          "output_type": "stream",
          "name": "stderr",
          "text": [
            "2022-01-16 03:53:54,566 : WARNING : Early stopping conditioned on metric `val_acc` which is not available. Available metrics are: loss,accuracy,val_loss,val_accuracy,lr\n"
          ]
        },
        {
          "output_type": "stream",
          "name": "stdout",
          "text": [
            "\b\b\b\b\b\b\b\b\b\b\b\b\b\b\b\b\b\b\b\b\b\b\b\b\b\b\b\b\b\b\b\b\b\b\b\b\b\b\b\b\b\b\b\b\b\b\b\b\b\b\b\b\b\b\b\b\b\b\b\b\b\b\b\b\b\b\b\b\b\b\b\b\b\b\b\b\b\b\b\b\r1/1 [==============================] - 1s 1s/step - loss: 0.6416 - accuracy: 0.4262 - val_loss: 0.7328 - val_accuracy: 0.2857 - lr: 0.0010\n",
            "Epoch 7/8\n",
            "1/1 [==============================] - ETA: 0s - loss: 0.6201 - accuracy: 0.4262WARNING:tensorflow:Early stopping conditioned on metric `val_acc` which is not available. Available metrics are: loss,accuracy,val_loss,val_accuracy,lr\n"
          ]
        },
        {
          "output_type": "stream",
          "name": "stderr",
          "text": [
            "2022-01-16 03:53:55,877 : WARNING : Early stopping conditioned on metric `val_acc` which is not available. Available metrics are: loss,accuracy,val_loss,val_accuracy,lr\n"
          ]
        },
        {
          "output_type": "stream",
          "name": "stdout",
          "text": [
            "\b\b\b\b\b\b\b\b\b\b\b\b\b\b\b\b\b\b\b\b\b\b\b\b\b\b\b\b\b\b\b\b\b\b\b\b\b\b\b\b\b\b\b\b\b\b\b\b\b\b\b\b\b\b\b\b\b\b\b\b\b\b\b\b\b\b\b\b\b\b\b\b\b\b\b\b\b\b\b\b\r1/1 [==============================] - 1s 1s/step - loss: 0.6201 - accuracy: 0.4262 - val_loss: 0.7345 - val_accuracy: 0.2857 - lr: 1.0000e-04\n",
            "Epoch 8/8\n",
            "1/1 [==============================] - ETA: 0s - loss: 0.6174 - accuracy: 0.4262WARNING:tensorflow:Early stopping conditioned on metric `val_acc` which is not available. Available metrics are: loss,accuracy,val_loss,val_accuracy,lr\n"
          ]
        },
        {
          "output_type": "stream",
          "name": "stderr",
          "text": [
            "2022-01-16 03:53:57,205 : WARNING : Early stopping conditioned on metric `val_acc` which is not available. Available metrics are: loss,accuracy,val_loss,val_accuracy,lr\n"
          ]
        },
        {
          "output_type": "stream",
          "name": "stdout",
          "text": [
            "\b\b\b\b\b\b\b\b\b\b\b\b\b\b\b\b\b\b\b\b\b\b\b\b\b\b\b\b\b\b\b\b\b\b\b\b\b\b\b\b\b\b\b\b\b\b\b\b\b\b\b\b\b\b\b\b\b\b\b\b\b\b\b\b\b\b\b\b\b\b\b\b\b\b\b\b\b\b\b\b\r1/1 [==============================] - 1s 1s/step - loss: 0.6174 - accuracy: 0.4262 - val_loss: 0.7363 - val_accuracy: 0.2857 - lr: 1.0000e-04\n",
            "CPU times: user 22.2 s, sys: 2.06 s, total: 24.3 s\n",
            "Wall time: 23.7 s\n"
          ]
        }
      ]
    },
    {
      "cell_type": "code",
      "source": [
        "%%time\n",
        "score = model.evaluate(x_test, y_test, batch_size=BATCH_SIZE)\n",
        "print()\n",
        "print(\"ACCURACY:\",score[1])\n",
        "print(\"LOSS:\",score[0])"
      ],
      "metadata": {
        "colab": {
          "base_uri": "https://localhost:8080/"
        },
        "id": "HLXdmCp_7yz0",
        "outputId": "55bc963c-8e9f-4a92-ac5c-901fa5d58a4c"
      },
      "execution_count": 29,
      "outputs": [
        {
          "output_type": "stream",
          "name": "stdout",
          "text": [
            "1/1 [==============================] - 0s 107ms/step - loss: 0.6366 - accuracy: 0.6111\n",
            "\n",
            "ACCURACY: 0.6111111044883728\n",
            "LOSS: 0.6366446018218994\n",
            "CPU times: user 224 ms, sys: 3.72 ms, total: 227 ms\n",
            "Wall time: 149 ms\n"
          ]
        }
      ]
    },
    {
      "cell_type": "code",
      "source": [
        "def decode_sentiment(score, include_neutral=True):\n",
        "    if include_neutral:        \n",
        "        label = NEUTRAL\n",
        "        if score <= SENTIMENT_THRESHOLDS[0]:\n",
        "            label = NEGATIVE\n",
        "        elif score >= SENTIMENT_THRESHOLDS[1]:\n",
        "            label = POSITIVE\n",
        "\n",
        "        return label\n",
        "    else:\n",
        "        return NEGATIVE if score < 0.5 else POSITIVE"
      ],
      "metadata": {
        "id": "KXbcaw0a76GY"
      },
      "execution_count": 30,
      "outputs": []
    },
    {
      "cell_type": "code",
      "source": [
        "def predict(text, include_neutral=True):\n",
        "    start_at = time.time()\n",
        "    # Tokenize text\n",
        "    x_test = pad_sequences(tokenizer.texts_to_sequences([text]), maxlen=SEQUENCE_LENGTH)\n",
        "    # Predict\n",
        "    score = model.predict([x_test])[0]\n",
        "    # Decode sentiment\n",
        "    label = decode_sentiment(score, include_neutral=include_neutral)\n",
        "\n",
        "    return {\"label\": label, \"score\": float(score),\n",
        "       \"elapsed_time\": time.time()-start_at}"
      ],
      "metadata": {
        "id": "ll-iTn5K8A7l"
      },
      "execution_count": 31,
      "outputs": []
    },
    {
      "cell_type": "code",
      "source": [
        "predict(\"I hate the connection\")"
      ],
      "metadata": {
        "colab": {
          "base_uri": "https://localhost:8080/"
        },
        "id": "ioEbzfp98Dis",
        "outputId": "ef2aaf1a-e5aa-46cd-b437-8cd364363dcb"
      },
      "execution_count": 32,
      "outputs": [
        {
          "output_type": "execute_result",
          "data": {
            "text/plain": [
              "{'elapsed_time': 0.3865623474121094,\n",
              " 'label': 'NEUTRAL',\n",
              " 'score': 0.545252799987793}"
            ]
          },
          "metadata": {},
          "execution_count": 32
        }
      ]
    },
    {
      "cell_type": "code",
      "source": [
        "y_pred_1d = []\n",
        "y_test_1d = list(df_test.col)\n",
        "scores = model.predict(x_test, verbose=1, batch_size=80)\n",
        "y_pred_1d = [decode_sentiment(score, include_neutral=False) for score in scores]"
      ],
      "metadata": {
        "colab": {
          "base_uri": "https://localhost:8080/"
        },
        "id": "ZDScPwkD8HHv",
        "outputId": "455d377f-2fa0-4749-c12c-bf5fc2f017a0"
      },
      "execution_count": 33,
      "outputs": [
        {
          "output_type": "stream",
          "name": "stdout",
          "text": [
            "1/1 [==============================] - 0s 352ms/step\n"
          ]
        }
      ]
    },
    {
      "cell_type": "code",
      "source": [
        "def plot_confusion_matrix(cm, classes,\n",
        "                          title='Confusion matrix',\n",
        "                          cmap=plt.cm.Blues):\n",
        "    \"\"\"\n",
        "    This function prints and plots the confusion matrix.\n",
        "    Normalization can be applied by setting `normalize=True`.\n",
        "    \"\"\"\n",
        "\n",
        "    cm = cm.astype('float') / cm.sum(axis=1)[:, np.newaxis]\n",
        "\n",
        "    plt.imshow(cm, interpolation='nearest', cmap=cmap)\n",
        "    plt.title(title, fontsize=30)\n",
        "    plt.colorbar()\n",
        "    tick_marks = np.arange(len(classes))\n",
        "    plt.xticks(tick_marks, classes, rotation=90, fontsize=22)\n",
        "    plt.yticks(tick_marks, classes, fontsize=22)\n",
        "\n",
        "    fmt = '.2f'\n",
        "    thresh = cm.max() / 2.\n",
        "    for i, j in itertools.product(range(cm.shape[0]), range(cm.shape[1])):\n",
        "        plt.text(j, i, format(cm[i, j], fmt),\n",
        "                 horizontalalignment=\"center\",\n",
        "                 color=\"white\" if cm[i, j] > thresh else \"black\")\n",
        "    plt.ylabel('True label', fontsize=25)\n",
        "    plt.xlabel('Predicted label', fontsize=25)"
      ],
      "metadata": {
        "id": "jdIINUTo8Lss"
      },
      "execution_count": 34,
      "outputs": []
    },
    {
      "cell_type": "code",
      "source": [
        "cnf_matrix = confusion_matrix(y_test_1d, y_pred_1d)\n",
        "plt.figure(figsize=(12,12))\n",
        "plot_confusion_matrix(cnf_matrix, classes=df_train.col.unique(), title=\"Confusion matrix\")\n",
        "plt.show()"
      ],
      "metadata": {
        "colab": {
          "base_uri": "https://localhost:8080/",
          "height": 794
        },
        "id": "EuExrWG98Und",
        "outputId": "bff51f27-5974-42de-d3b1-8fec79e891ed"
      },
      "execution_count": 35,
      "outputs": [
        {
          "output_type": "stream",
          "name": "stderr",
          "text": [
            "/usr/local/lib/python3.7/dist-packages/ipykernel_launcher.py:9: RuntimeWarning: invalid value encountered in true_divide\n",
            "  if __name__ == '__main__':\n"
          ]
        },
        {
          "output_type": "display_data",
          "data": {
            "image/png": "[encoded data removed]",
            "text/plain": [
              "<Figure size 864x864 with 2 Axes>"
            ]
          },
          "metadata": {
            "needs_background": "light"
          }
        }
      ]
    },
    {
      "cell_type": "code",
      "source": [
        ""
      ],
      "metadata": {
        "id": "X6LZ3Nv28WhK"
      },
      "execution_count": 35,
      "outputs": []
    }
  ],
  "metadata": {
    "colab": {
      "name": "ABSA-TelcoData (Keras).ipynb",
      "provenance": [],
      "collapsed_sections": []
    },
    "kernelspec": {
      "display_name": "Python 3",
      "name": "python3"
    },
    "language_info": {
      "name": "python"
    }
  },
  "nbformat": 4,
  "nbformat_minor": 0
}
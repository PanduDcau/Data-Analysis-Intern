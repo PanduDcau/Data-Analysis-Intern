{
  "cells": [
    {
      "cell_type": "markdown",
      "metadata": {
        "id": "qhXjKzr0QAmd"
      },
      "source": [
        "## Spark NLP - Explain Document (pretained pipeline)"
      ]
    },
    {
      "cell_type": "markdown",
      "metadata": {
        "id": "ZLHCkfYcQAmh"
      },
      "source": [
        "We start by importing required modules."
      ]
    },
    {
      "cell_type": "code",
      "source": [
        "! pip install -q pyspark==3.1.2 spark-nlp"
      ],
      "metadata": {
        "colab": {
          "base_uri": "https://localhost:8080/"
        },
        "id": "x8dxtNgvQKL8",
        "outputId": "15b34373-d560-4b8f-a8d2-97a49e9604cb"
      },
      "execution_count": 1,
      "outputs": [
        {
          "output_type": "stream",
          "name": "stdout",
          "text": [
            "\u001b[K     |████████████████████████████████| 212.4 MB 68 kB/s \n",
            "\u001b[K     |████████████████████████████████| 133 kB 55.2 MB/s \n",
            "\u001b[K     |████████████████████████████████| 198 kB 60.2 MB/s \n",
            "\u001b[?25h  Building wheel for pyspark (setup.py) ... \u001b[?25l\u001b[?25hdone\n"
          ]
        }
      ]
    },
    {
      "cell_type": "code",
      "execution_count": 2,
      "metadata": {
        "colab": {
          "base_uri": "https://localhost:8080/"
        },
        "id": "pA4XXDTZQAmi",
        "outputId": "dd64385b-38ed-4dc2-95e0-33002a181d89"
      },
      "outputs": [
        {
          "output_type": "stream",
          "name": "stdout",
          "text": [
            "Spark NLP version:  3.3.4\n",
            "Apache Spark version:  3.1.2\n"
          ]
        }
      ],
      "source": [
        "import sparknlp \n",
        "\n",
        "spark = sparknlp.start()\n",
        "\n",
        "print(\"Spark NLP version: \", sparknlp.version())\n",
        "print(\"Apache Spark version: \", spark.version)"
      ]
    },
    {
      "cell_type": "markdown",
      "metadata": {
        "id": "YmVsp_dGQAmk"
      },
      "source": [
        "Now, we load a pipeline model that contains the following annotators as a default: \n",
        "\n",
        "- Tokenizer\n",
        "- Deep Sentence Detector\n",
        "- Lemmatizer\n",
        "- Stemmer\n",
        "- Part of Speech (POS)\n",
        "- Context Spell Checker (NorvigSweetingModel)\n",
        "- Word Embeddings (glove)\n",
        "- NER-DL (trained by SOTA algorithm)\n"
      ]
    },
    {
      "cell_type": "code",
      "execution_count": 3,
      "metadata": {
        "colab": {
          "base_uri": "https://localhost:8080/"
        },
        "id": "las9Lz4yQAml",
        "outputId": "f229bfb5-4dc2-46a1-c9be-f015650bd923"
      },
      "outputs": [
        {
          "output_type": "stream",
          "name": "stdout",
          "text": [
            "explain_document_dl download started this may take some time.\n",
            "Approx size to download 169.4 MB\n",
            "[OK!]\n"
          ]
        }
      ],
      "source": [
        "from sparknlp.pretrained import PretrainedPipeline\n",
        "from sparknlp.base import *\n",
        "\n",
        "pipeline = PretrainedPipeline('explain_document_dl')"
      ]
    },
    {
      "cell_type": "markdown",
      "metadata": {
        "id": "EfQ7XDsOQAmm"
      },
      "source": [
        "We simply send the text we want to transform and the pipeline does the work."
      ]
    },
    {
      "cell_type": "code",
      "execution_count": 4,
      "metadata": {
        "id": "Ac9EM2AOQAmm"
      },
      "outputs": [],
      "source": [
        "text = 'John Smith would love to visit many beautful cities and take a pictre. He lives in Germany for the last 12 years.'\n",
        "result = pipeline.annotate(text)"
      ]
    },
    {
      "cell_type": "markdown",
      "metadata": {
        "id": "Zuy1lhLUQAmn"
      },
      "source": [
        "We can see the output of each annotator below. This one is doing so many things at once!"
      ]
    },
    {
      "cell_type": "code",
      "execution_count": 5,
      "metadata": {
        "colab": {
          "base_uri": "https://localhost:8080/"
        },
        "id": "F-3LNOpaQAmo",
        "outputId": "0998f5f1-ba63-4c58-bbb7-369e66df6616"
      },
      "outputs": [
        {
          "output_type": "execute_result",
          "data": {
            "text/plain": [
              "dict_keys(['entities', 'stem', 'checked', 'lemma', 'document', 'pos', 'token', 'ner', 'embeddings', 'sentence'])"
            ]
          },
          "metadata": {},
          "execution_count": 5
        }
      ],
      "source": [
        "result.keys()"
      ]
    },
    {
      "cell_type": "code",
      "execution_count": 6,
      "metadata": {
        "colab": {
          "base_uri": "https://localhost:8080/"
        },
        "id": "NSgrSXQmQAmo",
        "outputId": "d5f96cb3-6ec3-4404-aa06-d165fc34071a"
      },
      "outputs": [
        {
          "output_type": "execute_result",
          "data": {
            "text/plain": [
              "['John Smith', 'Germany']"
            ]
          },
          "metadata": {},
          "execution_count": 6
        }
      ],
      "source": [
        "result['entities']"
      ]
    },
    {
      "cell_type": "code",
      "execution_count": 7,
      "metadata": {
        "colab": {
          "base_uri": "https://localhost:8080/"
        },
        "id": "LKz-ZlAHQAmp",
        "outputId": "41407b25-2483-4bca-a9fd-4a670fbdb875"
      },
      "outputs": [
        {
          "output_type": "execute_result",
          "data": {
            "text/plain": [
              "['John Smith would love to visit many beautful cities and take a pictre.',\n",
              " 'He lives in Germany for the last 12 years.']"
            ]
          },
          "metadata": {},
          "execution_count": 7
        }
      ],
      "source": [
        "result['sentence']"
      ]
    },
    {
      "cell_type": "code",
      "execution_count": 8,
      "metadata": {
        "colab": {
          "base_uri": "https://localhost:8080/"
        },
        "id": "V_nwM9gdQAmp",
        "outputId": "b12005d1-b491-4740-ac49-b9ca9525fc51"
      },
      "outputs": [
        {
          "output_type": "execute_result",
          "data": {
            "text/plain": [
              "[('John', 'john', 'John', 'NNP', 'John', 'B-PER'),\n",
              " ('Smith', 'smith', 'Smith', 'NNP', 'Smith', 'I-PER'),\n",
              " ('would', 'would', 'would', 'MD', 'would', 'O'),\n",
              " ('love', 'love', 'love', 'VB', 'love', 'O'),\n",
              " ('to', 'to', 'to', 'TO', 'to', 'O'),\n",
              " ('visit', 'visit', 'visit', 'VB', 'visit', 'O'),\n",
              " ('many', 'mani', 'many', 'JJ', 'many', 'O'),\n",
              " ('beautful', 'beauti', 'beautiful', 'JJ', 'beautiful', 'O'),\n",
              " ('cities', 'citi', 'city', 'NNS', 'cities', 'O'),\n",
              " ('and', 'and', 'and', 'CC', 'and', 'O'),\n",
              " ('take', 'take', 'take', 'VB', 'take', 'O'),\n",
              " ('a', 'a', 'a', 'DT', 'a', 'O'),\n",
              " ('pictre', 'pictur', 'picture', 'NN', 'picture', 'O'),\n",
              " ('.', '.', '.', '.', '.', 'O'),\n",
              " ('He', 'he', 'He', 'PRP', 'He', 'O'),\n",
              " ('lives', 'live', 'life', 'VBZ', 'lives', 'O'),\n",
              " ('in', 'in', 'in', 'IN', 'in', 'O'),\n",
              " ('Germany', 'germani', 'Germany', 'NNP', 'Germany', 'B-LOC'),\n",
              " ('for', 'for', 'for', 'IN', 'for', 'O'),\n",
              " ('the', 'the', 'the', 'DT', 'the', 'O'),\n",
              " ('last', 'last', 'last', 'JJ', 'last', 'O'),\n",
              " ('12', '12', '12', 'CD', '12', 'O'),\n",
              " ('years', 'year', 'year', 'NNS', 'years', 'O'),\n",
              " ('.', '.', '.', '.', '.', 'O')]"
            ]
          },
          "metadata": {},
          "execution_count": 8
        }
      ],
      "source": [
        "list(zip(result['token'],result['stem'],result['lemma'],result['pos'],result['checked'],result['ner']))"
      ]
    },
    {
      "cell_type": "code",
      "execution_count": 9,
      "metadata": {
        "colab": {
          "base_uri": "https://localhost:8080/",
          "height": 802
        },
        "id": "A0VWPz8kQAmq",
        "outputId": "f2b19e1b-2bd3-436e-dc5a-d0012e4bd453"
      },
      "outputs": [
        {
          "output_type": "execute_result",
          "data": {
            "text/html": [
              "<div>\n",
              "<style scoped>\n",
              "    .dataframe tbody tr th:only-of-type {\n",
              "        vertical-align: middle;\n",
              "    }\n",
              "\n",
              "    .dataframe tbody tr th {\n",
              "        vertical-align: top;\n",
              "    }\n",
              "\n",
              "    .dataframe thead th {\n",
              "        text-align: right;\n",
              "    }\n",
              "</style>\n",
              "<table border=\"1\" class=\"dataframe\">\n",
              "  <thead>\n",
              "    <tr style=\"text-align: right;\">\n",
              "      <th></th>\n",
              "      <th>token</th>\n",
              "      <th>stem</th>\n",
              "      <th>lemma</th>\n",
              "      <th>pos</th>\n",
              "      <th>spell_checked</th>\n",
              "      <th>ner</th>\n",
              "    </tr>\n",
              "  </thead>\n",
              "  <tbody>\n",
              "    <tr>\n",
              "      <th>0</th>\n",
              "      <td>John</td>\n",
              "      <td>john</td>\n",
              "      <td>John</td>\n",
              "      <td>NNP</td>\n",
              "      <td>John</td>\n",
              "      <td>B-PER</td>\n",
              "    </tr>\n",
              "    <tr>\n",
              "      <th>1</th>\n",
              "      <td>Smith</td>\n",
              "      <td>smith</td>\n",
              "      <td>Smith</td>\n",
              "      <td>NNP</td>\n",
              "      <td>Smith</td>\n",
              "      <td>I-PER</td>\n",
              "    </tr>\n",
              "    <tr>\n",
              "      <th>2</th>\n",
              "      <td>would</td>\n",
              "      <td>would</td>\n",
              "      <td>would</td>\n",
              "      <td>MD</td>\n",
              "      <td>would</td>\n",
              "      <td>O</td>\n",
              "    </tr>\n",
              "    <tr>\n",
              "      <th>3</th>\n",
              "      <td>love</td>\n",
              "      <td>love</td>\n",
              "      <td>love</td>\n",
              "      <td>VB</td>\n",
              "      <td>love</td>\n",
              "      <td>O</td>\n",
              "    </tr>\n",
              "    <tr>\n",
              "      <th>4</th>\n",
              "      <td>to</td>\n",
              "      <td>to</td>\n",
              "      <td>to</td>\n",
              "      <td>TO</td>\n",
              "      <td>to</td>\n",
              "      <td>O</td>\n",
              "    </tr>\n",
              "    <tr>\n",
              "      <th>5</th>\n",
              "      <td>visit</td>\n",
              "      <td>visit</td>\n",
              "      <td>visit</td>\n",
              "      <td>VB</td>\n",
              "      <td>visit</td>\n",
              "      <td>O</td>\n",
              "    </tr>\n",
              "    <tr>\n",
              "      <th>6</th>\n",
              "      <td>many</td>\n",
              "      <td>mani</td>\n",
              "      <td>many</td>\n",
              "      <td>JJ</td>\n",
              "      <td>many</td>\n",
              "      <td>O</td>\n",
              "    </tr>\n",
              "    <tr>\n",
              "      <th>7</th>\n",
              "      <td>beautful</td>\n",
              "      <td>beauti</td>\n",
              "      <td>beautiful</td>\n",
              "      <td>JJ</td>\n",
              "      <td>beautiful</td>\n",
              "      <td>O</td>\n",
              "    </tr>\n",
              "    <tr>\n",
              "      <th>8</th>\n",
              "      <td>cities</td>\n",
              "      <td>citi</td>\n",
              "      <td>city</td>\n",
              "      <td>NNS</td>\n",
              "      <td>cities</td>\n",
              "      <td>O</td>\n",
              "    </tr>\n",
              "    <tr>\n",
              "      <th>9</th>\n",
              "      <td>and</td>\n",
              "      <td>and</td>\n",
              "      <td>and</td>\n",
              "      <td>CC</td>\n",
              "      <td>and</td>\n",
              "      <td>O</td>\n",
              "    </tr>\n",
              "    <tr>\n",
              "      <th>10</th>\n",
              "      <td>take</td>\n",
              "      <td>take</td>\n",
              "      <td>take</td>\n",
              "      <td>VB</td>\n",
              "      <td>take</td>\n",
              "      <td>O</td>\n",
              "    </tr>\n",
              "    <tr>\n",
              "      <th>11</th>\n",
              "      <td>a</td>\n",
              "      <td>a</td>\n",
              "      <td>a</td>\n",
              "      <td>DT</td>\n",
              "      <td>a</td>\n",
              "      <td>O</td>\n",
              "    </tr>\n",
              "    <tr>\n",
              "      <th>12</th>\n",
              "      <td>pictre</td>\n",
              "      <td>pictur</td>\n",
              "      <td>picture</td>\n",
              "      <td>NN</td>\n",
              "      <td>picture</td>\n",
              "      <td>O</td>\n",
              "    </tr>\n",
              "    <tr>\n",
              "      <th>13</th>\n",
              "      <td>.</td>\n",
              "      <td>.</td>\n",
              "      <td>.</td>\n",
              "      <td>.</td>\n",
              "      <td>.</td>\n",
              "      <td>O</td>\n",
              "    </tr>\n",
              "    <tr>\n",
              "      <th>14</th>\n",
              "      <td>He</td>\n",
              "      <td>he</td>\n",
              "      <td>He</td>\n",
              "      <td>PRP</td>\n",
              "      <td>He</td>\n",
              "      <td>O</td>\n",
              "    </tr>\n",
              "    <tr>\n",
              "      <th>15</th>\n",
              "      <td>lives</td>\n",
              "      <td>live</td>\n",
              "      <td>life</td>\n",
              "      <td>VBZ</td>\n",
              "      <td>lives</td>\n",
              "      <td>O</td>\n",
              "    </tr>\n",
              "    <tr>\n",
              "      <th>16</th>\n",
              "      <td>in</td>\n",
              "      <td>in</td>\n",
              "      <td>in</td>\n",
              "      <td>IN</td>\n",
              "      <td>in</td>\n",
              "      <td>O</td>\n",
              "    </tr>\n",
              "    <tr>\n",
              "      <th>17</th>\n",
              "      <td>Germany</td>\n",
              "      <td>germani</td>\n",
              "      <td>Germany</td>\n",
              "      <td>NNP</td>\n",
              "      <td>Germany</td>\n",
              "      <td>B-LOC</td>\n",
              "    </tr>\n",
              "    <tr>\n",
              "      <th>18</th>\n",
              "      <td>for</td>\n",
              "      <td>for</td>\n",
              "      <td>for</td>\n",
              "      <td>IN</td>\n",
              "      <td>for</td>\n",
              "      <td>O</td>\n",
              "    </tr>\n",
              "    <tr>\n",
              "      <th>19</th>\n",
              "      <td>the</td>\n",
              "      <td>the</td>\n",
              "      <td>the</td>\n",
              "      <td>DT</td>\n",
              "      <td>the</td>\n",
              "      <td>O</td>\n",
              "    </tr>\n",
              "    <tr>\n",
              "      <th>20</th>\n",
              "      <td>last</td>\n",
              "      <td>last</td>\n",
              "      <td>last</td>\n",
              "      <td>JJ</td>\n",
              "      <td>last</td>\n",
              "      <td>O</td>\n",
              "    </tr>\n",
              "    <tr>\n",
              "      <th>21</th>\n",
              "      <td>12</td>\n",
              "      <td>12</td>\n",
              "      <td>12</td>\n",
              "      <td>CD</td>\n",
              "      <td>12</td>\n",
              "      <td>O</td>\n",
              "    </tr>\n",
              "    <tr>\n",
              "      <th>22</th>\n",
              "      <td>years</td>\n",
              "      <td>year</td>\n",
              "      <td>year</td>\n",
              "      <td>NNS</td>\n",
              "      <td>years</td>\n",
              "      <td>O</td>\n",
              "    </tr>\n",
              "    <tr>\n",
              "      <th>23</th>\n",
              "      <td>.</td>\n",
              "      <td>.</td>\n",
              "      <td>.</td>\n",
              "      <td>.</td>\n",
              "      <td>.</td>\n",
              "      <td>O</td>\n",
              "    </tr>\n",
              "  </tbody>\n",
              "</table>\n",
              "</div>"
            ],
            "text/plain": [
              "       token     stem      lemma  pos spell_checked    ner\n",
              "0       John     john       John  NNP          John  B-PER\n",
              "1      Smith    smith      Smith  NNP         Smith  I-PER\n",
              "2      would    would      would   MD         would      O\n",
              "3       love     love       love   VB          love      O\n",
              "4         to       to         to   TO            to      O\n",
              "5      visit    visit      visit   VB         visit      O\n",
              "6       many     mani       many   JJ          many      O\n",
              "7   beautful   beauti  beautiful   JJ     beautiful      O\n",
              "8     cities     citi       city  NNS        cities      O\n",
              "9        and      and        and   CC           and      O\n",
              "10      take     take       take   VB          take      O\n",
              "11         a        a          a   DT             a      O\n",
              "12    pictre   pictur    picture   NN       picture      O\n",
              "13         .        .          .    .             .      O\n",
              "14        He       he         He  PRP            He      O\n",
              "15     lives     live       life  VBZ         lives      O\n",
              "16        in       in         in   IN            in      O\n",
              "17   Germany  germani    Germany  NNP       Germany  B-LOC\n",
              "18       for      for        for   IN           for      O\n",
              "19       the      the        the   DT           the      O\n",
              "20      last     last       last   JJ          last      O\n",
              "21        12       12         12   CD            12      O\n",
              "22     years     year       year  NNS         years      O\n",
              "23         .        .          .    .             .      O"
            ]
          },
          "metadata": {},
          "execution_count": 9
        }
      ],
      "source": [
        "import pandas as pd\n",
        "\n",
        "df = pd.DataFrame(list(zip(result['token'],result['stem'],result['lemma'],result['pos'],result['checked'],result['ner'])),\n",
        "            columns = ['token','stem', 'lemma', 'pos', 'spell_checked', 'ner'])\n",
        "\n",
        "df"
      ]
    },
    {
      "cell_type": "markdown",
      "metadata": {
        "id": "9t7PDJwlQAmq"
      },
      "source": [
        "Lets print out the entire result"
      ]
    },
    {
      "cell_type": "code",
      "execution_count": 10,
      "metadata": {
        "colab": {
          "base_uri": "https://localhost:8080/"
        },
        "id": "QP4SCAobQAmr",
        "outputId": "3360dd97-37e6-434a-ed31-83c619fd44c8"
      },
      "outputs": [
        {
          "output_type": "stream",
          "name": "stdout",
          "text": [
            "{   'checked': [   'John',\n",
            "                   'Smith',\n",
            "                   'would',\n",
            "                   'love',\n",
            "                   'to',\n",
            "                   'visit',\n",
            "                   'many',\n",
            "                   'beautiful',\n",
            "                   'cities',\n",
            "                   'and',\n",
            "                   'take',\n",
            "                   'a',\n",
            "                   'picture',\n",
            "                   '.',\n",
            "                   'He',\n",
            "                   'lives',\n",
            "                   'in',\n",
            "                   'Germany',\n",
            "                   'for',\n",
            "                   'the',\n",
            "                   'last',\n",
            "                   '12',\n",
            "                   'years',\n",
            "                   '.'],\n",
            "    'document': [   'John Smith would love to visit many beautful cities and '\n",
            "                    'take a pictre. He lives in Germany for the last 12 '\n",
            "                    'years.'],\n",
            "    'embeddings': [   'John',\n",
            "                      'Smith',\n",
            "                      'would',\n",
            "                      'love',\n",
            "                      'to',\n",
            "                      'visit',\n",
            "                      'many',\n",
            "                      'beautful',\n",
            "                      'cities',\n",
            "                      'and',\n",
            "                      'take',\n",
            "                      'a',\n",
            "                      'pictre',\n",
            "                      '.',\n",
            "                      'He',\n",
            "                      'lives',\n",
            "                      'in',\n",
            "                      'Germany',\n",
            "                      'for',\n",
            "                      'the',\n",
            "                      'last',\n",
            "                      '12',\n",
            "                      'years',\n",
            "                      '.'],\n",
            "    'entities': ['John Smith', 'Germany'],\n",
            "    'lemma': [   'John',\n",
            "                 'Smith',\n",
            "                 'would',\n",
            "                 'love',\n",
            "                 'to',\n",
            "                 'visit',\n",
            "                 'many',\n",
            "                 'beautiful',\n",
            "                 'city',\n",
            "                 'and',\n",
            "                 'take',\n",
            "                 'a',\n",
            "                 'picture',\n",
            "                 '.',\n",
            "                 'He',\n",
            "                 'life',\n",
            "                 'in',\n",
            "                 'Germany',\n",
            "                 'for',\n",
            "                 'the',\n",
            "                 'last',\n",
            "                 '12',\n",
            "                 'year',\n",
            "                 '.'],\n",
            "    'ner': [   'B-PER',\n",
            "               'I-PER',\n",
            "               'O',\n",
            "               'O',\n",
            "               'O',\n",
            "               'O',\n",
            "               'O',\n",
            "               'O',\n",
            "               'O',\n",
            "               'O',\n",
            "               'O',\n",
            "               'O',\n",
            "               'O',\n",
            "               'O',\n",
            "               'O',\n",
            "               'O',\n",
            "               'O',\n",
            "               'B-LOC',\n",
            "               'O',\n",
            "               'O',\n",
            "               'O',\n",
            "               'O',\n",
            "               'O',\n",
            "               'O'],\n",
            "    'pos': [   'NNP',\n",
            "               'NNP',\n",
            "               'MD',\n",
            "               'VB',\n",
            "               'TO',\n",
            "               'VB',\n",
            "               'JJ',\n",
            "               'JJ',\n",
            "               'NNS',\n",
            "               'CC',\n",
            "               'VB',\n",
            "               'DT',\n",
            "               'NN',\n",
            "               '.',\n",
            "               'PRP',\n",
            "               'VBZ',\n",
            "               'IN',\n",
            "               'NNP',\n",
            "               'IN',\n",
            "               'DT',\n",
            "               'JJ',\n",
            "               'CD',\n",
            "               'NNS',\n",
            "               '.'],\n",
            "    'sentence': [   'John Smith would love to visit many beautful cities and '\n",
            "                    'take a pictre.',\n",
            "                    'He lives in Germany for the last 12 years.'],\n",
            "    'stem': [   'john',\n",
            "                'smith',\n",
            "                'would',\n",
            "                'love',\n",
            "                'to',\n",
            "                'visit',\n",
            "                'mani',\n",
            "                'beauti',\n",
            "                'citi',\n",
            "                'and',\n",
            "                'take',\n",
            "                'a',\n",
            "                'pictur',\n",
            "                '.',\n",
            "                'he',\n",
            "                'live',\n",
            "                'in',\n",
            "                'germani',\n",
            "                'for',\n",
            "                'the',\n",
            "                'last',\n",
            "                '12',\n",
            "                'year',\n",
            "                '.'],\n",
            "    'token': [   'John',\n",
            "                 'Smith',\n",
            "                 'would',\n",
            "                 'love',\n",
            "                 'to',\n",
            "                 'visit',\n",
            "                 'many',\n",
            "                 'beautful',\n",
            "                 'cities',\n",
            "                 'and',\n",
            "                 'take',\n",
            "                 'a',\n",
            "                 'pictre',\n",
            "                 '.',\n",
            "                 'He',\n",
            "                 'lives',\n",
            "                 'in',\n",
            "                 'Germany',\n",
            "                 'for',\n",
            "                 'the',\n",
            "                 'last',\n",
            "                 '12',\n",
            "                 'years',\n",
            "                 '.']}\n"
          ]
        }
      ],
      "source": [
        "import pprint \n",
        "pp = pprint.PrettyPrinter(indent=4)\n",
        "\n",
        "pp.pprint(result)"
      ]
    },
    {
      "cell_type": "code",
      "execution_count": 10,
      "metadata": {
        "id": "1VgB7ZddQAmr"
      },
      "outputs": [],
      "source": [
        ""
      ]
    }
  ],
  "metadata": {
    "kernelspec": {
      "display_name": "spark_nlp_2.4.4",
      "language": "python",
      "name": "spark_nlp_2.4.4"
    },
    "language_info": {
      "codemirror_mode": {
        "name": "ipython",
        "version": 3
      },
      "file_extension": ".py",
      "mimetype": "text/x-python",
      "name": "python",
      "nbconvert_exporter": "python",
      "pygments_lexer": "ipython3",
      "version": "3.7.6"
    },
    "colab": {
      "name": "1.explain_document.ipynb",
      "provenance": [],
      "collapsed_sections": []
    }
  },
  "nbformat": 4,
  "nbformat_minor": 0
}
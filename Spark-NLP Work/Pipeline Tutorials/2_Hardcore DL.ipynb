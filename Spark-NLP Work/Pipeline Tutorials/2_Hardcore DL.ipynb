{
  "nbformat": 4,
  "nbformat_minor": 0,
  "metadata": {
    "kernelspec": {
      "display_name": "Python 3",
      "language": "python",
      "name": "python3"
    },
    "language_info": {
      "codemirror_mode": {
        "name": "ipython",
        "version": 3
      },
      "file_extension": ".py",
      "mimetype": "text/x-python",
      "name": "python",
      "nbconvert_exporter": "python",
      "pygments_lexer": "ipython3",
      "version": "3.7.6"
    },
    "colab": {
      "name": "2- Hardcore DL.ipynb",
      "provenance": [],
      "collapsed_sections": []
    }
  },
  "cells": [
    {
      "cell_type": "markdown",
      "metadata": {
        "id": "Qwgcaz1olc8J"
      },
      "source": [
        "![JohnSnowLabs](https://nlp.johnsnowlabs.com/assets/images/logo.png)"
      ]
    },
    {
      "cell_type": "markdown",
      "metadata": {
        "id": "J-Gv2eV3lc8O"
      },
      "source": [
        "# Hardcore DL by Spark NLP"
      ]
    },
    {
      "cell_type": "markdown",
      "metadata": {
        "id": "cA4djSYclc8P"
      },
      "source": [
        "## Explain Documents with Deep Learning"
      ]
    },
    {
      "cell_type": "code",
      "metadata": {
        "colab": {
          "base_uri": "https://localhost:8080/"
        },
        "id": "0zC4lUfgliS9",
        "outputId": "ef44c78b-633c-42ac-ed74-cbe786ce9251"
      },
      "source": [
        "! pip install -q pyspark==3.1.2 spark-nlp"
      ],
      "execution_count": 1,
      "outputs": [
        {
          "output_type": "stream",
          "name": "stdout",
          "text": [
            "\u001b[K     |████████████████████████████████| 212.4 MB 69 kB/s \n",
            "\u001b[K     |████████████████████████████████| 133 kB 22.4 MB/s \n",
            "\u001b[K     |████████████████████████████████| 198 kB 50.1 MB/s \n",
            "\u001b[?25h  Building wheel for pyspark (setup.py) ... \u001b[?25l\u001b[?25hdone\n"
          ]
        }
      ]
    },
    {
      "cell_type": "code",
      "metadata": {
        "id": "JRfgpsp-lc8Q"
      },
      "source": [
        "import sys\n",
        "import time\n",
        "\n",
        "#Spark ML and SQL\n",
        "from pyspark.ml import Pipeline, PipelineModel\n",
        "from pyspark.sql.functions import array_contains\n",
        "from pyspark.sql import SparkSession\n",
        "from pyspark.sql.types import StructType, StructField, IntegerType, StringType\n",
        "#Spark NLP\n",
        "import sparknlp\n",
        "from sparknlp.pretrained import PretrainedPipeline\n",
        "from sparknlp.annotator import *\n",
        "from sparknlp.common import RegexRule\n",
        "from sparknlp.base import *"
      ],
      "execution_count": 2,
      "outputs": []
    },
    {
      "cell_type": "markdown",
      "metadata": {
        "id": "VLJVb6W7lc8R"
      },
      "source": [
        "### Let's create a Spark Session for our app"
      ]
    },
    {
      "cell_type": "markdown",
      "metadata": {
        "id": "57cU6ULwlc8S"
      },
      "source": [
        "Let's take a look at what's behind `sparknlp.start()` function:"
      ]
    },
    {
      "cell_type": "code",
      "metadata": {
        "colab": {
          "base_uri": "https://localhost:8080/"
        },
        "id": "KBvSfEeNlc8S",
        "outputId": "28501bee-18e3-4529-ee3b-bbbc45cb21a4"
      },
      "source": [
        "spark = sparknlp.start()\n",
        "\n",
        "print(\"Spark NLP version: \", sparknlp.version())\n",
        "print(\"Apache Spark version: \", spark.version)"
      ],
      "execution_count": 3,
      "outputs": [
        {
          "output_type": "stream",
          "name": "stdout",
          "text": [
            "Spark NLP version:  3.3.4\n",
            "Apache Spark version:  3.1.2\n"
          ]
        }
      ]
    },
    {
      "cell_type": "code",
      "metadata": {
        "colab": {
          "base_uri": "https://localhost:8080/"
        },
        "id": "jeyyKjQflc8U",
        "outputId": "b95cb5de-fc61-4fe1-ed0d-817d016aec6e"
      },
      "source": [
        "pipeline = PretrainedPipeline('explain_document_dl', lang='en')"
      ],
      "execution_count": 4,
      "outputs": [
        {
          "output_type": "stream",
          "name": "stdout",
          "text": [
            "explain_document_dl download started this may take some time.\n",
            "Approx size to download 169.4 MB\n",
            "[OK!]\n"
          ]
        }
      ]
    },
    {
      "cell_type": "markdown",
      "metadata": {
        "id": "aWv1kqq0lc8U"
      },
      "source": [
        "We simply send the text we want to transform and the pipeline does the work."
      ]
    },
    {
      "cell_type": "code",
      "metadata": {
        "id": "gUZP5D67lc8V"
      },
      "source": [
        "text = 'He would love to visit many beautful cities wth you. He lives in an amazing country like Germany or Pakistan.'\n",
        "result = pipeline.annotate(text)"
      ],
      "execution_count": 5,
      "outputs": []
    },
    {
      "cell_type": "markdown",
      "metadata": {
        "id": "VyURc1dAlc8V"
      },
      "source": [
        "We can see the output of each annotator below. This one is doing so many things at once!"
      ]
    },
    {
      "cell_type": "code",
      "metadata": {
        "colab": {
          "base_uri": "https://localhost:8080/"
        },
        "id": "OvCvAng1lc8W",
        "outputId": "28729e13-2fd4-4a3b-b8f6-a1bc737848e2"
      },
      "source": [
        "list(result.keys())"
      ],
      "execution_count": 6,
      "outputs": [
        {
          "output_type": "execute_result",
          "data": {
            "text/plain": [
              "['entities',\n",
              " 'stem',\n",
              " 'checked',\n",
              " 'lemma',\n",
              " 'document',\n",
              " 'pos',\n",
              " 'token',\n",
              " 'ner',\n",
              " 'embeddings',\n",
              " 'sentence']"
            ]
          },
          "metadata": {},
          "execution_count": 6
        }
      ]
    },
    {
      "cell_type": "code",
      "metadata": {
        "scrolled": true,
        "colab": {
          "base_uri": "https://localhost:8080/"
        },
        "id": "6RXd6Ffplc8W",
        "outputId": "1a583bd4-3e77-44f4-a202-5f6c4cc3f65c"
      },
      "source": [
        "result['sentence']"
      ],
      "execution_count": 7,
      "outputs": [
        {
          "output_type": "execute_result",
          "data": {
            "text/plain": [
              "['He would love to visit many beautful cities wth you.',\n",
              " 'He lives in an amazing country like Germany or Pakistan.']"
            ]
          },
          "metadata": {},
          "execution_count": 7
        }
      ]
    },
    {
      "cell_type": "code",
      "metadata": {
        "scrolled": true,
        "colab": {
          "base_uri": "https://localhost:8080/"
        },
        "id": "hxbh03a-lc8X",
        "outputId": "fa2adf16-a4de-4e02-a0a0-6fea971e815e"
      },
      "source": [
        "result['lemma']"
      ],
      "execution_count": 8,
      "outputs": [
        {
          "output_type": "execute_result",
          "data": {
            "text/plain": [
              "['He',\n",
              " 'would',\n",
              " 'love',\n",
              " 'to',\n",
              " 'visit',\n",
              " 'many',\n",
              " 'beautiful',\n",
              " 'city',\n",
              " 'wth',\n",
              " 'you',\n",
              " '.',\n",
              " 'He',\n",
              " 'life',\n",
              " 'in',\n",
              " 'an',\n",
              " 'amazing',\n",
              " 'country',\n",
              " 'like',\n",
              " 'Germany',\n",
              " 'or',\n",
              " 'Pakistan',\n",
              " '.']"
            ]
          },
          "metadata": {},
          "execution_count": 8
        }
      ]
    },
    {
      "cell_type": "code",
      "metadata": {
        "colab": {
          "base_uri": "https://localhost:8080/"
        },
        "id": "AkM4PQbnlc8X",
        "outputId": "50f73266-e48b-4ce0-e889-0078e243a7f8"
      },
      "source": [
        "list(zip(result['checked'], result['pos']))"
      ],
      "execution_count": 9,
      "outputs": [
        {
          "output_type": "execute_result",
          "data": {
            "text/plain": [
              "[('He', 'PRP'),\n",
              " ('would', 'MD'),\n",
              " ('love', 'VB'),\n",
              " ('to', 'TO'),\n",
              " ('visit', 'VB'),\n",
              " ('many', 'JJ'),\n",
              " ('beautiful', 'JJ'),\n",
              " ('cities', 'NNS'),\n",
              " ('wth', 'NN'),\n",
              " ('you', 'PRP'),\n",
              " ('.', '.'),\n",
              " ('He', 'PRP'),\n",
              " ('lives', 'VBZ'),\n",
              " ('in', 'IN'),\n",
              " ('an', 'DT'),\n",
              " ('amazing', 'JJ'),\n",
              " ('country', 'NN'),\n",
              " ('like', 'IN'),\n",
              " ('Germany', 'NNP'),\n",
              " ('or', 'CC'),\n",
              " ('Pakistan', 'NNP'),\n",
              " ('.', '.')]"
            ]
          },
          "metadata": {},
          "execution_count": 9
        }
      ]
    },
    {
      "cell_type": "code",
      "metadata": {
        "colab": {
          "base_uri": "https://localhost:8080/"
        },
        "id": "vhY3EVF9lc8X",
        "outputId": "cddd4dcb-de2b-416d-bdd9-ef3a40af922c"
      },
      "source": [
        "result"
      ],
      "execution_count": 10,
      "outputs": [
        {
          "output_type": "execute_result",
          "data": {
            "text/plain": [
              "{'checked': ['He',\n",
              "  'would',\n",
              "  'love',\n",
              "  'to',\n",
              "  'visit',\n",
              "  'many',\n",
              "  'beautiful',\n",
              "  'cities',\n",
              "  'wth',\n",
              "  'you',\n",
              "  '.',\n",
              "  'He',\n",
              "  'lives',\n",
              "  'in',\n",
              "  'an',\n",
              "  'amazing',\n",
              "  'country',\n",
              "  'like',\n",
              "  'Germany',\n",
              "  'or',\n",
              "  'Pakistan',\n",
              "  '.'],\n",
              " 'document': ['He would love to visit many beautful cities wth you. He lives in an amazing country like Germany or Pakistan.'],\n",
              " 'embeddings': ['He',\n",
              "  'would',\n",
              "  'love',\n",
              "  'to',\n",
              "  'visit',\n",
              "  'many',\n",
              "  'beautful',\n",
              "  'cities',\n",
              "  'wth',\n",
              "  'you',\n",
              "  '.',\n",
              "  'He',\n",
              "  'lives',\n",
              "  'in',\n",
              "  'an',\n",
              "  'amazing',\n",
              "  'country',\n",
              "  'like',\n",
              "  'Germany',\n",
              "  'or',\n",
              "  'Pakistan',\n",
              "  '.'],\n",
              " 'entities': ['Germany', 'Pakistan'],\n",
              " 'lemma': ['He',\n",
              "  'would',\n",
              "  'love',\n",
              "  'to',\n",
              "  'visit',\n",
              "  'many',\n",
              "  'beautiful',\n",
              "  'city',\n",
              "  'wth',\n",
              "  'you',\n",
              "  '.',\n",
              "  'He',\n",
              "  'life',\n",
              "  'in',\n",
              "  'an',\n",
              "  'amazing',\n",
              "  'country',\n",
              "  'like',\n",
              "  'Germany',\n",
              "  'or',\n",
              "  'Pakistan',\n",
              "  '.'],\n",
              " 'ner': ['O',\n",
              "  'O',\n",
              "  'O',\n",
              "  'O',\n",
              "  'O',\n",
              "  'O',\n",
              "  'O',\n",
              "  'O',\n",
              "  'O',\n",
              "  'O',\n",
              "  'O',\n",
              "  'O',\n",
              "  'O',\n",
              "  'O',\n",
              "  'O',\n",
              "  'O',\n",
              "  'O',\n",
              "  'O',\n",
              "  'B-LOC',\n",
              "  'O',\n",
              "  'B-LOC',\n",
              "  'O'],\n",
              " 'pos': ['PRP',\n",
              "  'MD',\n",
              "  'VB',\n",
              "  'TO',\n",
              "  'VB',\n",
              "  'JJ',\n",
              "  'JJ',\n",
              "  'NNS',\n",
              "  'NN',\n",
              "  'PRP',\n",
              "  '.',\n",
              "  'PRP',\n",
              "  'VBZ',\n",
              "  'IN',\n",
              "  'DT',\n",
              "  'JJ',\n",
              "  'NN',\n",
              "  'IN',\n",
              "  'NNP',\n",
              "  'CC',\n",
              "  'NNP',\n",
              "  '.'],\n",
              " 'sentence': ['He would love to visit many beautful cities wth you.',\n",
              "  'He lives in an amazing country like Germany or Pakistan.'],\n",
              " 'stem': ['he',\n",
              "  'would',\n",
              "  'love',\n",
              "  'to',\n",
              "  'visit',\n",
              "  'mani',\n",
              "  'beauti',\n",
              "  'citi',\n",
              "  'wth',\n",
              "  'you',\n",
              "  '.',\n",
              "  'he',\n",
              "  'live',\n",
              "  'in',\n",
              "  'an',\n",
              "  'amaz',\n",
              "  'countri',\n",
              "  'like',\n",
              "  'germani',\n",
              "  'or',\n",
              "  'pakistan',\n",
              "  '.'],\n",
              " 'token': ['He',\n",
              "  'would',\n",
              "  'love',\n",
              "  'to',\n",
              "  'visit',\n",
              "  'many',\n",
              "  'beautful',\n",
              "  'cities',\n",
              "  'wth',\n",
              "  'you',\n",
              "  '.',\n",
              "  'He',\n",
              "  'lives',\n",
              "  'in',\n",
              "  'an',\n",
              "  'amazing',\n",
              "  'country',\n",
              "  'like',\n",
              "  'Germany',\n",
              "  'or',\n",
              "  'Pakistan',\n",
              "  '.']}"
            ]
          },
          "metadata": {},
          "execution_count": 10
        }
      ]
    },
    {
      "cell_type": "code",
      "metadata": {
        "id": "NyBoCDx2ofle"
      },
      "source": [
        ""
      ],
      "execution_count": 10,
      "outputs": []
    }
  ]
}
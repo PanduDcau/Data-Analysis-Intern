{
  "nbformat": 4,
  "nbformat_minor": 0,
  "metadata": {
    "kernelspec": {
      "display_name": "Python 3",
      "language": "python",
      "name": "python3"
    },
    "language_info": {
      "codemirror_mode": {
        "name": "ipython",
        "version": 3
      },
      "file_extension": ".py",
      "mimetype": "text/x-python",
      "name": "python",
      "nbconvert_exporter": "python",
      "pygments_lexer": "ipython3",
      "version": "3.7.4"
    },
    "colab": {
      "name": "1- How to use Light Pipelines.ipynb",
      "provenance": []
    }
  },
  "cells": [
    {
      "cell_type": "markdown",
      "metadata": {
        "id": "wzI9H-jkix5a"
      },
      "source": [
        "![JohnSnowLabs](https://nlp.johnsnowlabs.com/assets/images/logo.png)"
      ]
    },
    {
      "cell_type": "markdown",
      "metadata": {
        "id": "dyrZEQY4ix5f"
      },
      "source": [
        "# Use pretrained `explain_document` Pipeline"
      ]
    },
    {
      "cell_type": "markdown",
      "metadata": {
        "id": "RzRsGefRix5g"
      },
      "source": [
        "### Stages\n",
        "\n",
        " * DocumentAssembler\n",
        " * SentenceDetector\n",
        " * Tokenizer\n",
        " * Lemmatizer\n",
        " * Stemmer\n",
        " * Part of Speech\n",
        " * SpellChecker (Norvig)"
      ]
    },
    {
      "cell_type": "code",
      "metadata": {
        "colab": {
          "base_uri": "https://localhost:8080/"
        },
        "id": "CV-RtTBBjc7j",
        "outputId": "b2b5a69d-048e-45c8-9883-513ef3cd8a5b"
      },
      "source": [
        "! pip install -q pyspark==3.1.2 spark-nlp"
      ],
      "execution_count": 2,
      "outputs": [
        {
          "output_type": "stream",
          "name": "stdout",
          "text": [
            "\u001b[K     |████████████████████████████████| 212.4 MB 74 kB/s \n",
            "\u001b[K     |████████████████████████████████| 133 kB 20.0 MB/s \n",
            "\u001b[K     |████████████████████████████████| 198 kB 48.6 MB/s \n",
            "\u001b[?25h  Building wheel for pyspark (setup.py) ... \u001b[?25l\u001b[?25hdone\n"
          ]
        }
      ]
    },
    {
      "cell_type": "code",
      "metadata": {
        "id": "liTzrXQ5ix5g"
      },
      "source": [
        "import sys\n",
        "import time\n",
        "\n",
        "#Spark ML and SQL\n",
        "from pyspark.ml import Pipeline, PipelineModel\n",
        "from pyspark.sql.functions import array_contains\n",
        "from pyspark.sql import SparkSession\n",
        "from pyspark.sql.types import StructType, StructField, IntegerType, StringType\n",
        "#Spark NLP\n",
        "import sparknlp\n",
        "from sparknlp.pretrained import PretrainedPipeline\n",
        "from sparknlp.annotator import *\n",
        "from sparknlp.common import RegexRule\n",
        "from sparknlp.base import DocumentAssembler, Finisher"
      ],
      "execution_count": 3,
      "outputs": []
    },
    {
      "cell_type": "markdown",
      "metadata": {
        "id": "bpZZy_aAix5i"
      },
      "source": [
        "### Let's create a Spark Session for our app"
      ]
    },
    {
      "cell_type": "code",
      "metadata": {
        "colab": {
          "base_uri": "https://localhost:8080/"
        },
        "id": "69T2Davfix5i",
        "outputId": "31b6d517-1122-418b-b1ec-e198d9d9cf6f"
      },
      "source": [
        "spark = sparknlp.start()\n",
        "\n",
        "print(\"Spark NLP version: \", sparknlp.version())\n",
        "print(\"Apache Spark version: \", spark.version)"
      ],
      "execution_count": 4,
      "outputs": [
        {
          "output_type": "stream",
          "name": "stdout",
          "text": [
            "Spark NLP version:  3.3.4\n",
            "Apache Spark version:  3.1.2\n"
          ]
        }
      ]
    },
    {
      "cell_type": "code",
      "metadata": {
        "id": "I_zWNTSEix5k"
      },
      "source": [
        ""
      ],
      "execution_count": 4,
      "outputs": []
    },
    {
      "cell_type": "markdown",
      "metadata": {
        "id": "0ESi7-4Jix5k"
      },
      "source": [
        "#### This is our testing document, we'll use it to exemplify all different pipeline stages."
      ]
    },
    {
      "cell_type": "code",
      "metadata": {
        "id": "OMxePOmVix5l"
      },
      "source": [
        "testDoc = [\n",
        "\"Frenchg author who helped pioner the science-fiction genre. \\\n",
        "Verne wrate about space, aisr, and underwater travel befdaore \\\n",
        "navigable aircrast and practical submarines were invented, \\\n",
        "and before any means of space travel had been devised. \"\n",
        "]"
      ],
      "execution_count": 5,
      "outputs": []
    },
    {
      "cell_type": "code",
      "metadata": {
        "colab": {
          "base_uri": "https://localhost:8080/"
        },
        "id": "HGHGqP3fix5m",
        "outputId": "f4aaacc0-0600-45bd-e905-bafefb96e899"
      },
      "source": [
        "pipeline = PretrainedPipeline('explain_document_ml', lang='en')"
      ],
      "execution_count": 6,
      "outputs": [
        {
          "output_type": "stream",
          "name": "stdout",
          "text": [
            "explain_document_ml download started this may take some time.\n",
            "Approx size to download 9.1 MB\n",
            "[OK!]\n"
          ]
        }
      ]
    },
    {
      "cell_type": "markdown",
      "metadata": {
        "id": "L1UyRz0wix5n"
      },
      "source": [
        "#### We are not interested in handling big datasets, let's switch to LightPipelines for speed."
      ]
    },
    {
      "cell_type": "code",
      "metadata": {
        "id": "iAdyYVZMix5n"
      },
      "source": [
        "result = pipeline.annotate(testDoc)"
      ],
      "execution_count": 7,
      "outputs": []
    },
    {
      "cell_type": "markdown",
      "metadata": {
        "id": "FLzFIWV5ix5n"
      },
      "source": [
        "#### Let's analyze these results - first let's see what sentences we detected"
      ]
    },
    {
      "cell_type": "code",
      "metadata": {
        "colab": {
          "base_uri": "https://localhost:8080/"
        },
        "id": "nMpP1LZIix5o",
        "outputId": "62c5f5cf-6224-4c1c-82b9-f78d30643228"
      },
      "source": [
        "[content['sentence'] for content in result]"
      ],
      "execution_count": 8,
      "outputs": [
        {
          "output_type": "execute_result",
          "data": {
            "text/plain": [
              "[['Frenchg author who helped pioner the science-fiction genre.',\n",
              "  'Verne wrate about space, aisr, and underwater travel befdaore navigable aircrast and practical submarines were invented, and before any means of space travel had been devised.']]"
            ]
          },
          "metadata": {},
          "execution_count": 8
        }
      ]
    },
    {
      "cell_type": "markdown",
      "metadata": {
        "id": "hmUKOE5Pix5o"
      },
      "source": [
        "#### Now let's see how those sentences were tokenized"
      ]
    },
    {
      "cell_type": "code",
      "metadata": {
        "colab": {
          "base_uri": "https://localhost:8080/"
        },
        "id": "8CCpbb9tix5p",
        "outputId": "a787b904-7522-4740-94bd-2f22b200d29f"
      },
      "source": [
        "[content['token'] for content in result]"
      ],
      "execution_count": 9,
      "outputs": [
        {
          "output_type": "execute_result",
          "data": {
            "text/plain": [
              "[['Frenchg',\n",
              "  'author',\n",
              "  'who',\n",
              "  'helped',\n",
              "  'pioner',\n",
              "  'the',\n",
              "  'science-fiction',\n",
              "  'genre',\n",
              "  '.',\n",
              "  'Verne',\n",
              "  'wrate',\n",
              "  'about',\n",
              "  'space',\n",
              "  ',',\n",
              "  'aisr',\n",
              "  ',',\n",
              "  'and',\n",
              "  'underwater',\n",
              "  'travel',\n",
              "  'befdaore',\n",
              "  'navigable',\n",
              "  'aircrast',\n",
              "  'and',\n",
              "  'practical',\n",
              "  'submarines',\n",
              "  'were',\n",
              "  'invented',\n",
              "  ',',\n",
              "  'and',\n",
              "  'before',\n",
              "  'any',\n",
              "  'means',\n",
              "  'of',\n",
              "  'space',\n",
              "  'travel',\n",
              "  'had',\n",
              "  'been',\n",
              "  'devised',\n",
              "  '.']]"
            ]
          },
          "metadata": {},
          "execution_count": 9
        }
      ]
    },
    {
      "cell_type": "markdown",
      "metadata": {
        "id": "bzRJ3xvqix5p"
      },
      "source": [
        "#### Notice some spelling errors? the pipeline takes care of that as well"
      ]
    },
    {
      "cell_type": "code",
      "metadata": {
        "colab": {
          "base_uri": "https://localhost:8080/"
        },
        "id": "KkOKDtNdix5p",
        "outputId": "85b43def-d6b1-449f-976b-db66626a6ad7"
      },
      "source": [
        "[content['spell'] for content in result]"
      ],
      "execution_count": 10,
      "outputs": [
        {
          "output_type": "execute_result",
          "data": {
            "text/plain": [
              "[['Frenchy',\n",
              "  'author',\n",
              "  'who',\n",
              "  'helped',\n",
              "  'pioneer',\n",
              "  'the',\n",
              "  'sciencefiction',\n",
              "  'genre',\n",
              "  '.',\n",
              "  'Verne',\n",
              "  'wrote',\n",
              "  'about',\n",
              "  'space',\n",
              "  ',',\n",
              "  'airs',\n",
              "  ',',\n",
              "  'and',\n",
              "  'underwater',\n",
              "  'travel',\n",
              "  'befdaore',\n",
              "  'navigable',\n",
              "  'aircraft',\n",
              "  'and',\n",
              "  'practical',\n",
              "  'submarines',\n",
              "  'were',\n",
              "  'invented',\n",
              "  ',',\n",
              "  'and',\n",
              "  'before',\n",
              "  'any',\n",
              "  'means',\n",
              "  'of',\n",
              "  'space',\n",
              "  'travel',\n",
              "  'had',\n",
              "  'been',\n",
              "  'devised',\n",
              "  '.']]"
            ]
          },
          "metadata": {},
          "execution_count": 10
        }
      ]
    },
    {
      "cell_type": "markdown",
      "metadata": {
        "id": "rj6YVx9Six5p"
      },
      "source": [
        "#### Now let's see the lemmas"
      ]
    },
    {
      "cell_type": "code",
      "metadata": {
        "colab": {
          "base_uri": "https://localhost:8080/"
        },
        "id": "xMs0V5_Tix5q",
        "outputId": "2ffdc397-f8b2-444a-8061-78871cf4768f"
      },
      "source": [
        "[content['lemmas'] for content in result]"
      ],
      "execution_count": 11,
      "outputs": [
        {
          "output_type": "execute_result",
          "data": {
            "text/plain": [
              "[['Frenchy',\n",
              "  'author',\n",
              "  'who',\n",
              "  'help',\n",
              "  'pioneer',\n",
              "  'the',\n",
              "  'sciencefiction',\n",
              "  'genre',\n",
              "  '.',\n",
              "  'Verne',\n",
              "  'write',\n",
              "  'about',\n",
              "  'space',\n",
              "  ',',\n",
              "  'air',\n",
              "  ',',\n",
              "  'and',\n",
              "  'underwater',\n",
              "  'travel',\n",
              "  'befdaore',\n",
              "  'navigable',\n",
              "  'aircraft',\n",
              "  'and',\n",
              "  'practical',\n",
              "  'submarine',\n",
              "  'be',\n",
              "  'invent',\n",
              "  ',',\n",
              "  'and',\n",
              "  'before',\n",
              "  'any',\n",
              "  'mean',\n",
              "  'of',\n",
              "  'space',\n",
              "  'travel',\n",
              "  'have',\n",
              "  'be',\n",
              "  'devise',\n",
              "  '.']]"
            ]
          },
          "metadata": {},
          "execution_count": 11
        }
      ]
    },
    {
      "cell_type": "markdown",
      "metadata": {
        "id": "7YIhO8hmix5q"
      },
      "source": [
        "#### Let's check the stems, any difference with the lemmas shown bebore?\n",
        "\n",
        "[content['lemmas'] for content in result]"
      ]
    },
    {
      "cell_type": "code",
      "metadata": {
        "colab": {
          "base_uri": "https://localhost:8080/"
        },
        "id": "nIc4ReVyix5q",
        "outputId": "e36d2d96-ae8d-443f-e5c9-2f8be2ee5881"
      },
      "source": [
        "[content['stems'] for content in result]"
      ],
      "execution_count": 12,
      "outputs": [
        {
          "output_type": "execute_result",
          "data": {
            "text/plain": [
              "[['frenchi',\n",
              "  'author',\n",
              "  'who',\n",
              "  'help',\n",
              "  'pioneer',\n",
              "  'the',\n",
              "  'sciencefict',\n",
              "  'genr',\n",
              "  '.',\n",
              "  'vern',\n",
              "  'wrote',\n",
              "  'about',\n",
              "  'space',\n",
              "  ',',\n",
              "  'air',\n",
              "  ',',\n",
              "  'and',\n",
              "  'underwat',\n",
              "  'travel',\n",
              "  'befdaor',\n",
              "  'navig',\n",
              "  'aircraft',\n",
              "  'and',\n",
              "  'practic',\n",
              "  'submarin',\n",
              "  'were',\n",
              "  'invent',\n",
              "  ',',\n",
              "  'and',\n",
              "  'befor',\n",
              "  'ani',\n",
              "  'mean',\n",
              "  'of',\n",
              "  'space',\n",
              "  'travel',\n",
              "  'had',\n",
              "  'been',\n",
              "  'devis',\n",
              "  '.']]"
            ]
          },
          "metadata": {},
          "execution_count": 12
        }
      ]
    },
    {
      "cell_type": "markdown",
      "metadata": {
        "id": "Zaz1HXrpix5r"
      },
      "source": [
        "#### Now it's the turn on Part Of Speech(POS)"
      ]
    },
    {
      "cell_type": "code",
      "metadata": {
        "scrolled": true,
        "colab": {
          "base_uri": "https://localhost:8080/"
        },
        "id": "Y9j60Y5vix5r",
        "outputId": "2532c4c2-8699-4a36-859b-970072cf24f1"
      },
      "source": [
        "pos = [content['pos'] for content in result]\n",
        "token = [content['token'] for content in result]\n",
        "# let's put token and tag together\n",
        "list(zip(token[0], pos[0]))"
      ],
      "execution_count": 13,
      "outputs": [
        {
          "output_type": "execute_result",
          "data": {
            "text/plain": [
              "[('Frenchg', 'NNP'),\n",
              " ('author', 'NN'),\n",
              " ('who', 'WP'),\n",
              " ('helped', 'VBD'),\n",
              " ('pioner', 'NN'),\n",
              " ('the', 'DT'),\n",
              " ('science-fiction', 'NN'),\n",
              " ('genre', 'NN'),\n",
              " ('.', '.'),\n",
              " ('Verne', 'NNP'),\n",
              " ('wrate', 'VBD'),\n",
              " ('about', 'IN'),\n",
              " ('space', 'NN'),\n",
              " (',', ','),\n",
              " ('aisr', 'NNS'),\n",
              " (',', ','),\n",
              " ('and', 'CC'),\n",
              " ('underwater', 'JJ'),\n",
              " ('travel', 'NN'),\n",
              " ('befdaore', 'NN'),\n",
              " ('navigable', 'JJ'),\n",
              " ('aircrast', 'NN'),\n",
              " ('and', 'CC'),\n",
              " ('practical', 'JJ'),\n",
              " ('submarines', 'NNS'),\n",
              " ('were', 'VBD'),\n",
              " ('invented', 'VBN'),\n",
              " (',', ','),\n",
              " ('and', 'CC'),\n",
              " ('before', 'IN'),\n",
              " ('any', 'DT'),\n",
              " ('means', 'NNS'),\n",
              " ('of', 'IN'),\n",
              " ('space', 'NN'),\n",
              " ('travel', 'NN'),\n",
              " ('had', 'VBD'),\n",
              " ('been', 'VBN'),\n",
              " ('devised', 'VBN'),\n",
              " ('.', '.')]"
            ]
          },
          "metadata": {},
          "execution_count": 13
        }
      ]
    },
    {
      "cell_type": "markdown",
      "metadata": {
        "id": "4OFY-BWsix5r"
      },
      "source": [
        "# Use pretrained `match_chunk` Pipeline for Individual Noun Phrase "
      ]
    },
    {
      "cell_type": "markdown",
      "metadata": {
        "id": "j_aoTrwUix5r"
      },
      "source": [
        "* DocumentAssembler\n",
        "* SentenceDetector\n",
        "* Tokenizer\n",
        "* Part of speech\n",
        "* chunker\n",
        "\n",
        "Pipeline:\n",
        "* The pipeline uses regex `<DT>?<JJ>*<NN>+`\n",
        "* which states that whenever the chunk finds an optional determiner \n",
        "* (DT) followed by any number of adjectives (JJ) and then a noun (NN) then the Noun Phrase(NP) chunk should be formed."
      ]
    },
    {
      "cell_type": "code",
      "metadata": {
        "colab": {
          "base_uri": "https://localhost:8080/"
        },
        "id": "rbLgLhHKksrG",
        "outputId": "426716b4-780b-40db-e264-35e8d150d070"
      },
      "source": [
        "!java -version"
      ],
      "execution_count": 18,
      "outputs": [
        {
          "output_type": "stream",
          "name": "stdout",
          "text": [
            "openjdk version \"11.0.11\" 2021-04-20\n",
            "OpenJDK Runtime Environment (build 11.0.11+9-Ubuntu-0ubuntu2.18.04)\n",
            "OpenJDK 64-Bit Server VM (build 11.0.11+9-Ubuntu-0ubuntu2.18.04, mixed mode, sharing)\n"
          ]
        }
      ]
    },
    {
      "cell_type": "code",
      "metadata": {
        "id": "9UoqGwbQix5s"
      },
      "source": [
        "#pipeline = PretrainedPipeline('match_datetime', lang='en')"
      ],
      "execution_count": 19,
      "outputs": []
    },
    {
      "cell_type": "code",
      "metadata": {
        "id": "GMrTgZ9rix5s"
      },
      "source": [
        "result = pipeline.annotate(\"The book has many chapters\") # single noun phrase"
      ],
      "execution_count": null,
      "outputs": []
    },
    {
      "cell_type": "code",
      "metadata": {
        "id": "FONjmNXDix5s",
        "outputId": "c8d37ec9-6f49-4beb-8406-9782e7aede53"
      },
      "source": [
        "result['chunk']"
      ],
      "execution_count": null,
      "outputs": [
        {
          "data": {
            "text/plain": [
              "['The book']"
            ]
          },
          "execution_count": 14,
          "metadata": {},
          "output_type": "execute_result"
        }
      ]
    },
    {
      "cell_type": "code",
      "metadata": {
        "id": "OrCewQEwix5s"
      },
      "source": [
        "result = pipeline.annotate(\"the little yellow dog barked at the cat\") #multiple noune phrases"
      ],
      "execution_count": null,
      "outputs": []
    },
    {
      "cell_type": "code",
      "metadata": {
        "id": "LfUeA3oQix5t",
        "outputId": "3a9001d8-9f2f-4a4b-d6ce-b357fdb48d56"
      },
      "source": [
        "result['chunk']"
      ],
      "execution_count": null,
      "outputs": [
        {
          "data": {
            "text/plain": [
              "['the little yellow dog', 'the cat']"
            ]
          },
          "execution_count": 16,
          "metadata": {},
          "output_type": "execute_result"
        }
      ]
    },
    {
      "cell_type": "code",
      "metadata": {
        "id": "hqky7SE3ix5t",
        "outputId": "60d8ea0e-c9c4-4f85-c473-6429153a3130"
      },
      "source": [
        "result"
      ],
      "execution_count": null,
      "outputs": [
        {
          "data": {
            "text/plain": [
              "{'chunk': ['the little yellow dog', 'the cat'],\n",
              " 'document': ['the little yellow dog barked at the cat'],\n",
              " 'pos': ['DT', 'JJ', 'JJ', 'NN', 'JJ', 'IN', 'DT', 'NN'],\n",
              " 'token': ['the', 'little', 'yellow', 'dog', 'barked', 'at', 'the', 'cat'],\n",
              " 'sentence': ['the little yellow dog barked at the cat']}"
            ]
          },
          "execution_count": 17,
          "metadata": {},
          "output_type": "execute_result"
        }
      ]
    },
    {
      "cell_type": "code",
      "metadata": {
        "id": "f0R-yR9Rix5t"
      },
      "source": [
        ""
      ],
      "execution_count": null,
      "outputs": []
    }
  ]
}
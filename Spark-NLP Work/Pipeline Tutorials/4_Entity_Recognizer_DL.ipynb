{
  "nbformat": 4,
  "nbformat_minor": 0,
  "metadata": {
    "kernelspec": {
      "display_name": "Python 3",
      "language": "python",
      "name": "python3"
    },
    "language_info": {
      "codemirror_mode": {
        "name": "ipython",
        "version": 3
      },
      "file_extension": ".py",
      "mimetype": "text/x-python",
      "name": "python",
      "nbconvert_exporter": "python",
      "pygments_lexer": "ipython3",
      "version": "3.7.4"
    },
    "colab": {
      "name": "4- Entity Recognizer DL.ipynb",
      "provenance": [],
      "collapsed_sections": []
    }
  },
  "cells": [
    {
      "cell_type": "markdown",
      "metadata": {
        "id": "MLBpZK7t3bYp"
      },
      "source": [
        "![JohnSnowLabs](https://nlp.johnsnowlabs.com/assets/images/logo.png)"
      ]
    },
    {
      "cell_type": "markdown",
      "metadata": {
        "id": "AdFWTyXl3bYv"
      },
      "source": [
        "# Entity Recognizer DL by Spark NLP"
      ]
    },
    {
      "cell_type": "code",
      "metadata": {
        "colab": {
          "base_uri": "https://localhost:8080/"
        },
        "id": "QM7XGLAU3d5b",
        "outputId": "e60f0d12-acbc-4ff1-98ea-442f3aebd7f6"
      },
      "source": [
        "! pip install -q pyspark==3.1.2 spark-nlp"
      ],
      "execution_count": 1,
      "outputs": [
        {
          "output_type": "stream",
          "name": "stdout",
          "text": [
            "\u001b[K     |████████████████████████████████| 212.4 MB 65 kB/s \n",
            "\u001b[K     |████████████████████████████████| 133 kB 15.7 MB/s \n",
            "\u001b[K     |████████████████████████████████| 198 kB 41.0 MB/s \n",
            "\u001b[?25h  Building wheel for pyspark (setup.py) ... \u001b[?25l\u001b[?25hdone\n"
          ]
        }
      ]
    },
    {
      "cell_type": "markdown",
      "metadata": {
        "id": "0mNeJaN03bYx"
      },
      "source": [
        "## Extract entities with Deep Learning"
      ]
    },
    {
      "cell_type": "code",
      "metadata": {
        "id": "sNRDbQFK3bYy"
      },
      "source": [
        "import sys\n",
        "import time\n",
        "\n",
        "#Spark NLP\n",
        "import sparknlp\n",
        "from sparknlp.pretrained import PretrainedPipeline\n",
        "from sparknlp.annotator import *\n",
        "from sparknlp.base import *"
      ],
      "execution_count": 2,
      "outputs": []
    },
    {
      "cell_type": "markdown",
      "metadata": {
        "id": "0E0Z5iVH3bY3"
      },
      "source": [
        "### Let's create a Spark Session for our app"
      ]
    },
    {
      "cell_type": "code",
      "metadata": {
        "colab": {
          "base_uri": "https://localhost:8080/"
        },
        "id": "QCpo63l_3bY4",
        "outputId": "324c3d96-a4ed-475d-8ec7-65706599f7eb"
      },
      "source": [
        "spark = sparknlp.start()\n",
        "\n",
        "print(\"Spark NLP version: \", sparknlp.version())\n",
        "print(\"Apache Spark version: \", spark.version)"
      ],
      "execution_count": 3,
      "outputs": [
        {
          "output_type": "stream",
          "name": "stdout",
          "text": [
            "Spark NLP version:  3.3.4\n",
            "Apache Spark version:  3.1.2\n"
          ]
        }
      ]
    },
    {
      "cell_type": "markdown",
      "metadata": {
        "id": "IUDrr5sW3bY6"
      },
      "source": [
        "We are going to download `entity_recognizer_dl` pipeline from Spark-NLP S3 repository"
      ]
    },
    {
      "cell_type": "code",
      "metadata": {
        "colab": {
          "base_uri": "https://localhost:8080/"
        },
        "id": "GSqcJgTd3bY7",
        "outputId": "cf80a068-b4fb-4928-a124-0ff80b325531"
      },
      "source": [
        "pipeline = PretrainedPipeline('recognize_entities_dl', lang='en')"
      ],
      "execution_count": 4,
      "outputs": [
        {
          "output_type": "stream",
          "name": "stdout",
          "text": [
            "recognize_entities_dl download started this may take some time.\n",
            "Approx size to download 160.1 MB\n",
            "[OK!]\n"
          ]
        }
      ]
    },
    {
      "cell_type": "code",
      "metadata": {
        "id": "s3fr94xu3bZA"
      },
      "source": [
        "text = \"The Mona Lisa is a 16th century oil painting created by Leonardo. It's held at the Louvre in Paris.\"\n",
        "result = pipeline.annotate(text)"
      ],
      "execution_count": 5,
      "outputs": []
    },
    {
      "cell_type": "code",
      "metadata": {
        "colab": {
          "base_uri": "https://localhost:8080/"
        },
        "id": "vzPYDgwD3bZC",
        "outputId": "0a0e3e33-451d-47be-d875-493f92d7c256"
      },
      "source": [
        "list(result.keys())"
      ],
      "execution_count": 6,
      "outputs": [
        {
          "output_type": "execute_result",
          "data": {
            "text/plain": [
              "['entities', 'document', 'token', 'ner', 'embeddings', 'sentence']"
            ]
          },
          "metadata": {},
          "execution_count": 6
        }
      ]
    },
    {
      "cell_type": "code",
      "metadata": {
        "scrolled": true,
        "colab": {
          "base_uri": "https://localhost:8080/"
        },
        "id": "re60QzQG3bZD",
        "outputId": "30bdb6e3-d15b-4a8a-8cf0-cfc6c9fd7ec4"
      },
      "source": [
        "result['sentence']"
      ],
      "execution_count": 7,
      "outputs": [
        {
          "output_type": "execute_result",
          "data": {
            "text/plain": [
              "['The Mona Lisa is a 16th century oil painting created by Leonardo.',\n",
              " \"It's held at the Louvre in Paris.\"]"
            ]
          },
          "metadata": {},
          "execution_count": 7
        }
      ]
    },
    {
      "cell_type": "code",
      "metadata": {
        "colab": {
          "base_uri": "https://localhost:8080/"
        },
        "id": "Kj5UZfgL3bZE",
        "outputId": "aa80c97c-a532-4c8a-b3c3-4ce3ffa760f6"
      },
      "source": [
        "result['token']"
      ],
      "execution_count": 8,
      "outputs": [
        {
          "output_type": "execute_result",
          "data": {
            "text/plain": [
              "['The',\n",
              " 'Mona',\n",
              " 'Lisa',\n",
              " 'is',\n",
              " 'a',\n",
              " '16th',\n",
              " 'century',\n",
              " 'oil',\n",
              " 'painting',\n",
              " 'created',\n",
              " 'by',\n",
              " 'Leonardo',\n",
              " '.',\n",
              " \"It's\",\n",
              " 'held',\n",
              " 'at',\n",
              " 'the',\n",
              " 'Louvre',\n",
              " 'in',\n",
              " 'Paris',\n",
              " '.']"
            ]
          },
          "metadata": {},
          "execution_count": 8
        }
      ]
    },
    {
      "cell_type": "code",
      "metadata": {
        "colab": {
          "base_uri": "https://localhost:8080/"
        },
        "id": "kXX5pAvb3bZF",
        "outputId": "1bd65b5d-4281-4c78-e9dd-2f88b5120717"
      },
      "source": [
        "list(zip(result['token'], result['ner']))"
      ],
      "execution_count": 9,
      "outputs": [
        {
          "output_type": "execute_result",
          "data": {
            "text/plain": [
              "[('The', 'O'),\n",
              " ('Mona', 'B-PER'),\n",
              " ('Lisa', 'I-PER'),\n",
              " ('is', 'O'),\n",
              " ('a', 'O'),\n",
              " ('16th', 'O'),\n",
              " ('century', 'O'),\n",
              " ('oil', 'O'),\n",
              " ('painting', 'O'),\n",
              " ('created', 'O'),\n",
              " ('by', 'O'),\n",
              " ('Leonardo', 'B-PER'),\n",
              " ('.', 'O'),\n",
              " (\"It's\", 'O'),\n",
              " ('held', 'O'),\n",
              " ('at', 'O'),\n",
              " ('the', 'O'),\n",
              " ('Louvre', 'B-LOC'),\n",
              " ('in', 'O'),\n",
              " ('Paris', 'B-LOC'),\n",
              " ('.', 'O')]"
            ]
          },
          "metadata": {},
          "execution_count": 9
        }
      ]
    },
    {
      "cell_type": "code",
      "metadata": {
        "colab": {
          "base_uri": "https://localhost:8080/"
        },
        "id": "PeVr-GMi3bZG",
        "outputId": "31225de0-ac3c-45bc-a445-b74f072071c8"
      },
      "source": [
        "result['entities']"
      ],
      "execution_count": 10,
      "outputs": [
        {
          "output_type": "execute_result",
          "data": {
            "text/plain": [
              "['Mona Lisa', 'Leonardo', 'Louvre', 'Paris']"
            ]
          },
          "metadata": {},
          "execution_count": 10
        }
      ]
    },
    {
      "cell_type": "markdown",
      "metadata": {
        "id": "RK0Z4dBO3bZH"
      },
      "source": [
        "Let's have a bigger document"
      ]
    },
    {
      "cell_type": "code",
      "metadata": {
        "id": "gVQFxXym3bZH"
      },
      "source": [
        "text = \"\"\"\n",
        "When Sebastian Thrun started working on self-driving cars at Google in 2007, few people outside of the company took him seriously. “I can tell you very senior CEOs of major American car companies would shake my hand and turn away because I wasn’t worth talking to,” said Thrun, now the co-founder and CEO of online higher education startup Udacity, in an interview with Recode earlier this week.\n",
        "A little less than a decade later, dozens of self-driving startups have cropped up while automakers around the world clamor, wallet in hand, to secure their place in the fast-moving world of fully automated transportation.\n",
        "\"\"\"\n",
        "result = pipeline.annotate(text)"
      ],
      "execution_count": 11,
      "outputs": []
    },
    {
      "cell_type": "code",
      "metadata": {
        "colab": {
          "base_uri": "https://localhost:8080/"
        },
        "id": "dkeupp6c3bZJ",
        "outputId": "535ba51b-4cac-4858-fba7-d672f6d2441a"
      },
      "source": [
        "result['entities']"
      ],
      "execution_count": 12,
      "outputs": [
        {
          "output_type": "execute_result",
          "data": {
            "text/plain": [
              "['Sebastian Thrun', 'Google', 'CEOs', 'American', 'Thrun', 'Udacity', 'Recode']"
            ]
          },
          "metadata": {},
          "execution_count": 12
        }
      ]
    },
    {
      "cell_type": "code",
      "metadata": {
        "id": "NLUWX-Ml3bZJ"
      },
      "source": [
        ""
      ],
      "execution_count": 12,
      "outputs": []
    }
  ]
}
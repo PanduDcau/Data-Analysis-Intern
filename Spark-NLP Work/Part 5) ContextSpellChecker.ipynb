{
  "nbformat": 4,
  "nbformat_minor": 0,
  "metadata": {
    "kernelspec": {
      "display_name": "Python 3",
      "language": "python",
      "name": "python3"
    },
    "language_info": {
      "codemirror_mode": {
        "name": "ipython",
        "version": 3
      },
      "file_extension": ".py",
      "mimetype": "text/x-python",
      "name": "python",
      "nbconvert_exporter": "python",
      "pygments_lexer": "ipython3",
      "version": "3.7.4"
    },
    "colab": {
      "name": "4.ContextSpellChecker.ipynb",
      "provenance": []
    }
  },
  "cells": [
    {
      "cell_type": "markdown",
      "metadata": {
        "id": "nExqAHAVpR8y"
      },
      "source": [
        "# Context Spell Checker"
      ]
    },
    {
      "cell_type": "code",
      "metadata": {
        "colab": {
          "base_uri": "https://localhost:8080/"
        },
        "id": "ClRQ_I1lqEm7",
        "outputId": "69efa2c6-4d2c-4c6a-b292-46f0c2a77613"
      },
      "source": [
        "! pip install -q pyspark==3.0.3 spark-nlp"
      ],
      "execution_count": 6,
      "outputs": [
        {
          "output_type": "stream",
          "name": "stdout",
          "text": [
            "\u001b[K     |████████████████████████████████| 209.1 MB 57 kB/s \n",
            "\u001b[?25h  Building wheel for pyspark (setup.py) ... \u001b[?25l\u001b[?25hdone\n"
          ]
        }
      ]
    },
    {
      "cell_type": "code",
      "metadata": {
        "colab": {
          "base_uri": "https://localhost:8080/"
        },
        "id": "GiRlJO5YpR84",
        "outputId": "edd5a8c7-4c51-4f79-9624-413d08d9bb96"
      },
      "source": [
        "import sparknlp \n",
        "\n",
        "spark = sparknlp.start()\n",
        "\n",
        "print(\"Spark NLP version: \", sparknlp.version())\n",
        "print(\"Apache Spark version: \", spark.version)"
      ],
      "execution_count": 7,
      "outputs": [
        {
          "output_type": "stream",
          "name": "stdout",
          "text": [
            "Spark NLP version:  3.3.4\n",
            "Apache Spark version:  3.1.2\n"
          ]
        }
      ]
    },
    {
      "cell_type": "markdown",
      "metadata": {
        "id": "JhsEdKjapR86"
      },
      "source": [
        "Now, we load a pipeline model that contains the following annotators as a default:\n",
        "\n",
        "- Tokenizer\n",
        "- Sentence Detector\n",
        "- ContextSpellCheckerModel (trained by SOTA algorithm)\n"
      ]
    },
    {
      "cell_type": "code",
      "metadata": {
        "id": "9CkolgX_pR87"
      },
      "source": [
        "from sparknlp.pretrained import PretrainedPipeline\n",
        "\n",
        "#pipeline = PretrainedPipeline('check_spelling_dl',lang='en')\n",
        "#pipeline = PretrainedPipeline('match_datetime', lang='en')\n",
        "#pipeline = PretrainedPipeline('match_chunks', lang='en')"
      ],
      "execution_count": 12,
      "outputs": []
    },
    {
      "cell_type": "code",
      "metadata": {
        "id": "cmW-VccWpR88"
      },
      "source": [
        "def get_corrected_form (text):\n",
        "    \n",
        "    result = pipeline.annotate(text)['checked']\n",
        "    \n",
        "    return ' '.join(result)"
      ],
      "execution_count": null,
      "outputs": []
    },
    {
      "cell_type": "markdown",
      "metadata": {
        "id": "3IwfRn1KpR88"
      },
      "source": [
        "We simply send the text we want to fix spelling errors and the pipeline does the work."
      ]
    },
    {
      "cell_type": "markdown",
      "metadata": {
        "id": "wd-WBzq0pR89"
      },
      "source": [
        "### check for the different occurrences of the word \"siter\""
      ]
    },
    {
      "cell_type": "code",
      "metadata": {
        "id": "Ttgp_dSWpR8_",
        "outputId": "7f32ee13-d3f1-41a1-ac3c-8f1e283a2aff"
      },
      "source": [
        "text = \"I will call my siter\"\n",
        "\n",
        "get_corrected_form(text)"
      ],
      "execution_count": null,
      "outputs": [
        {
          "data": {
            "text/plain": [
              "'I will call my sister'"
            ]
          },
          "execution_count": 13,
          "metadata": {},
          "output_type": "execute_result"
        }
      ]
    },
    {
      "cell_type": "code",
      "metadata": {
        "id": "5x0TGAtOpR9A",
        "outputId": "3655d632-bb8e-435c-b5ad-7e13429bb827"
      },
      "source": [
        "text = \"Due to bad weather, we had to move to a different siter\"\n",
        "\n",
        "get_corrected_form(text)"
      ],
      "execution_count": null,
      "outputs": [
        {
          "data": {
            "text/plain": [
              "'Due to bad weather , we had to move to a different site'"
            ]
          },
          "execution_count": 14,
          "metadata": {},
          "output_type": "execute_result"
        }
      ]
    },
    {
      "cell_type": "code",
      "metadata": {
        "id": "JaKgTDWKpR9B",
        "outputId": "194000d2-6392-49dc-8bd0-29b6f38a78df"
      },
      "source": [
        "text = \"We travelled to three siter in the summer\"\n",
        "\n",
        "get_corrected_form(text)"
      ],
      "execution_count": null,
      "outputs": [
        {
          "data": {
            "text/plain": [
              "'We travelled to three sites in the summer'"
            ]
          },
          "execution_count": 20,
          "metadata": {},
          "output_type": "execute_result"
        }
      ]
    },
    {
      "cell_type": "markdown",
      "metadata": {
        "id": "C_xuprb2pR9D"
      },
      "source": [
        "### check for the different occurrences of the word \"ueather\"\n"
      ]
    },
    {
      "cell_type": "code",
      "metadata": {
        "id": "UNACsJYtpR9D",
        "outputId": "f8255429-9022-4e40-f31d-c239f742d0ce"
      },
      "source": [
        "text = \"During the summer we have the best ueather out there\"\n",
        "\n",
        "get_corrected_form(text)"
      ],
      "execution_count": null,
      "outputs": [
        {
          "data": {
            "text/plain": [
              "'During the summer we have the best weather out there'"
            ]
          },
          "execution_count": 4,
          "metadata": {},
          "output_type": "execute_result"
        }
      ]
    },
    {
      "cell_type": "code",
      "metadata": {
        "id": "dIuheZEipR9E",
        "outputId": "c9b26d84-0cfd-4093-c0fc-577e8c24a544"
      },
      "source": [
        "text = \"During the summer we have the best ueather.\"\n",
        "\n",
        "get_corrected_form(text)"
      ],
      "execution_count": null,
      "outputs": [
        {
          "data": {
            "text/plain": [
              "'During the summer we have the best weather .'"
            ]
          },
          "execution_count": 5,
          "metadata": {},
          "output_type": "execute_result"
        }
      ]
    },
    {
      "cell_type": "code",
      "metadata": {
        "id": "5BVx7rWSpR9F",
        "outputId": "bcc944ac-1ed0-4793-9dfe-2fe1b530d9c8"
      },
      "source": [
        "text = \"I have a black ueather jacket, so nice\"\n",
        "\n",
        "get_corrected_form(text)"
      ],
      "execution_count": null,
      "outputs": [
        {
          "data": {
            "text/plain": [
              "'I have a black leather jacket , so nice'"
            ]
          },
          "execution_count": 22,
          "metadata": {},
          "output_type": "execute_result"
        }
      ]
    },
    {
      "cell_type": "code",
      "metadata": {
        "id": "PFXT6lfUpR9G",
        "outputId": "71af46ff-2b6b-44e1-f4a8-1f395966d891"
      },
      "source": [
        "text = \"I introduce you to my sister, she is called ueather\"\n",
        "\n",
        "get_corrected_form(text)"
      ],
      "execution_count": null,
      "outputs": [
        {
          "data": {
            "text/plain": [
              "'I introduce you to my sister , she is called Heather'"
            ]
          },
          "execution_count": 23,
          "metadata": {},
          "output_type": "execute_result"
        }
      ]
    },
    {
      "cell_type": "code",
      "metadata": {
        "id": "1DZ_JRGapR9G"
      },
      "source": [
        ""
      ],
      "execution_count": null,
      "outputs": []
    }
  ]
}
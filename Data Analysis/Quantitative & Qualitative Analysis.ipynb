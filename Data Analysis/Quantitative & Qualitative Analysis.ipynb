{
 "cells": [
  {
   "cell_type": "code",
   "execution_count": 1,
   "id": "33520e4a",
   "metadata": {},
   "outputs": [],
   "source": [
    "#Testing Pyspark Installation\n",
    "import findspark\n",
    "findspark.init()\n",
    "import pyspark"
   ]
  },
  {
   "cell_type": "markdown",
   "id": "2e83d23d",
   "metadata": {},
   "source": [
    "## Initializing PySpark"
   ]
  },
  {
   "cell_type": "code",
   "execution_count": 2,
   "id": "1babb51e",
   "metadata": {
    "scrolled": false
   },
   "outputs": [
    {
     "data": {
      "text/html": [
       "\n",
       "            <div>\n",
       "                <p><b>SparkSession - in-memory</b></p>\n",
       "                \n",
       "        <div>\n",
       "            <p><b>SparkContext</b></p>\n",
       "\n",
       "            <p><a href=\"http://PanduDCAU-Multiverse.mshome.net:4040\">Spark UI</a></p>\n",
       "\n",
       "            <dl>\n",
       "              <dt>Version</dt>\n",
       "                <dd><code>v3.1.2</code></dd>\n",
       "              <dt>Master</dt>\n",
       "                <dd><code>local[*]</code></dd>\n",
       "              <dt>AppName</dt>\n",
       "                <dd><code>Quanitative</code></dd>\n",
       "            </dl>\n",
       "        </div>\n",
       "        \n",
       "            </div>\n",
       "        "
      ],
      "text/plain": [
       "<pyspark.sql.session.SparkSession at 0x196c595af70>"
      ]
     },
     "execution_count": 2,
     "metadata": {},
     "output_type": "execute_result"
    }
   ],
   "source": [
    "#intialize Spark Context\n",
    "#from pyspark import SparkContext, SparkConf\n",
    "from pyspark.sql import SparkSession\n",
    "spark= SparkSession.builder.appName('Quanitative').getOrCreate()\n",
    "spark"
   ]
  },
  {
   "cell_type": "markdown",
   "id": "d07936a9",
   "metadata": {},
   "source": [
    "## importing Libraries"
   ]
  },
  {
   "cell_type": "code",
   "execution_count": 3,
   "id": "d1b76a77",
   "metadata": {},
   "outputs": [],
   "source": [
    "from pyspark.sql import *\n",
    "from pyspark.sql.types import *\n",
    "import os\n",
    "import numpy as np\n",
    "import pandas as pd\n",
    "import matplotlib.pyplot as plt\n",
    "import seaborn as sns"
   ]
  },
  {
   "cell_type": "code",
   "execution_count": 4,
   "id": "b011315b",
   "metadata": {},
   "outputs": [],
   "source": [
    "intern=pd.read_csv('/Users/Asus/Documents/InternCsv/InternCsvfinal_dispatch(Act).csv')  \n",
    "#segregating excel files from the Given Data"
   ]
  },
  {
   "cell_type": "code",
   "execution_count": 5,
   "id": "8297be91",
   "metadata": {},
   "outputs": [
    {
     "data": {
      "text/plain": [
       "(46464, 5)"
      ]
     },
     "execution_count": 5,
     "metadata": {},
     "output_type": "execute_result"
    }
   ],
   "source": [
    "intern.shape"
   ]
  },
  {
   "cell_type": "code",
   "execution_count": 6,
   "id": "8f9686ed",
   "metadata": {},
   "outputs": [
    {
     "data": {
      "text/plain": [
       "Index(['Unnamed: 0', 'Plant', 'Date', 'Time', 'Dispatch'], dtype='object')"
      ]
     },
     "execution_count": 6,
     "metadata": {},
     "output_type": "execute_result"
    }
   ],
   "source": [
    "intern.columns"
   ]
  },
  {
   "cell_type": "code",
   "execution_count": 7,
   "id": "680d5045",
   "metadata": {},
   "outputs": [],
   "source": [
    "intern.fillna(0,inplace=True)"
   ]
  },
  {
   "cell_type": "code",
   "execution_count": 8,
   "id": "0a01187a",
   "metadata": {},
   "outputs": [
    {
     "data": {
      "text/html": [
       "<div>\n",
       "<style scoped>\n",
       "    .dataframe tbody tr th:only-of-type {\n",
       "        vertical-align: middle;\n",
       "    }\n",
       "\n",
       "    .dataframe tbody tr th {\n",
       "        vertical-align: top;\n",
       "    }\n",
       "\n",
       "    .dataframe thead th {\n",
       "        text-align: right;\n",
       "    }\n",
       "</style>\n",
       "<table border=\"1\" class=\"dataframe\">\n",
       "  <thead>\n",
       "    <tr style=\"text-align: right;\">\n",
       "      <th></th>\n",
       "      <th>Index</th>\n",
       "      <th>Plant</th>\n",
       "      <th>Date</th>\n",
       "      <th>Time</th>\n",
       "      <th>Dispatch</th>\n",
       "    </tr>\n",
       "  </thead>\n",
       "  <tbody>\n",
       "    <tr>\n",
       "      <th>0</th>\n",
       "      <td>0</td>\n",
       "      <td>Canyon</td>\n",
       "      <td>7/1/2020</td>\n",
       "      <td>0:00</td>\n",
       "      <td>20</td>\n",
       "    </tr>\n",
       "    <tr>\n",
       "      <th>1</th>\n",
       "      <td>1</td>\n",
       "      <td>WPS</td>\n",
       "      <td>7/1/2020</td>\n",
       "      <td>0:00</td>\n",
       "      <td>0</td>\n",
       "    </tr>\n",
       "    <tr>\n",
       "      <th>2</th>\n",
       "      <td>2</td>\n",
       "      <td>Olax</td>\n",
       "      <td>7/1/2020</td>\n",
       "      <td>0:00</td>\n",
       "      <td>10</td>\n",
       "    </tr>\n",
       "    <tr>\n",
       "      <th>3</th>\n",
       "      <td>3</td>\n",
       "      <td>Nlax</td>\n",
       "      <td>7/1/2020</td>\n",
       "      <td>0:00</td>\n",
       "      <td>39</td>\n",
       "    </tr>\n",
       "  </tbody>\n",
       "</table>\n",
       "</div>"
      ],
      "text/plain": [
       "   Index   Plant      Date  Time  Dispatch\n",
       "0      0  Canyon  7/1/2020  0:00        20\n",
       "1      1     WPS  7/1/2020  0:00         0\n",
       "2      2    Olax  7/1/2020  0:00        10\n",
       "3      3    Nlax  7/1/2020  0:00        39"
      ]
     },
     "execution_count": 8,
     "metadata": {},
     "output_type": "execute_result"
    }
   ],
   "source": [
    "intern = intern.rename(columns={'Unnamed: 0': 'Index'}, index={'ONE': 'Row_1'})\n",
    "intern.head(4)"
   ]
  },
  {
   "cell_type": "code",
   "execution_count": 9,
   "id": "dd5e7891",
   "metadata": {},
   "outputs": [
    {
     "name": "stdout",
     "output_type": "stream",
     "text": [
      "<class 'pandas.core.frame.DataFrame'>\n",
      "Int64Index: 46464 entries, 0 to 46463\n",
      "Data columns (total 5 columns):\n",
      " #   Column    Non-Null Count  Dtype \n",
      "---  ------    --------------  ----- \n",
      " 0   Index     46464 non-null  int64 \n",
      " 1   Plant     46464 non-null  object\n",
      " 2   Date      46464 non-null  object\n",
      " 3   Time      46464 non-null  object\n",
      " 4   Dispatch  46464 non-null  int64 \n",
      "dtypes: int64(2), object(3)\n",
      "memory usage: 2.1+ MB\n"
     ]
    }
   ],
   "source": [
    "intern.info()"
   ]
  },
  {
   "cell_type": "code",
   "execution_count": 10,
   "id": "6f371cb4",
   "metadata": {},
   "outputs": [
    {
     "data": {
      "text/plain": [
       "Index       0\n",
       "Plant       0\n",
       "Date        0\n",
       "Time        0\n",
       "Dispatch    0\n",
       "dtype: int64"
      ]
     },
     "execution_count": 10,
     "metadata": {},
     "output_type": "execute_result"
    }
   ],
   "source": [
    "intern.isnull().sum()"
   ]
  },
  {
   "cell_type": "code",
   "execution_count": 11,
   "id": "4d6fca15",
   "metadata": {},
   "outputs": [
    {
     "data": {
      "text/plain": [
       "Kukule            1296\n",
       "KCCP              1296\n",
       "Canyon            1296\n",
       "ALTAQQA-Mahi.     1296\n",
       "Olax              1296\n",
       "Vict              1296\n",
       "Uthuru Janani     1296\n",
       "Sam               1296\n",
       "Uku               1296\n",
       "Koth              1296\n",
       "VPOWER Palle.     1296\n",
       "KPS(GT7)          1296\n",
       "Barge             1296\n",
       "Asia Power        1296\n",
       "ACE Matara        1296\n",
       "WCP               1296\n",
       "KPS(GT)           1296\n",
       "Sapu B            1296\n",
       "Rant              1296\n",
       "Bowa              1296\n",
       "LVPS 1            1296\n",
       "Nlax              1296\n",
       "ACE EMBP          1296\n",
       "CEB Sup Power     1296\n",
       "Rand              1296\n",
       "VPOWER Hamb.      1296\n",
       "WPS               1296\n",
       "ALTAQQA-Pol.      1296\n",
       "Sojitz CCP        1296\n",
       "LVPS 2            1296\n",
       "LVPS 3            1296\n",
       "VPOWER Horona     1296\n",
       "Upper Kothmale    1296\n",
       "Polp              1296\n",
       "Sapu A            1296\n",
       "VPOWER Galle      1104\n",
       "Name: Plant, dtype: int64"
      ]
     },
     "execution_count": 11,
     "metadata": {},
     "output_type": "execute_result"
    }
   ],
   "source": [
    "intern[\"Plant\"].value_counts()"
   ]
  },
  {
   "cell_type": "code",
   "execution_count": 12,
   "id": "e7124714",
   "metadata": {},
   "outputs": [
    {
     "data": {
      "image/png": "[encoded data removed]",
      "text/plain": [
       "<Figure size 1728x432 with 1 Axes>"
      ]
     },
     "metadata": {
      "needs_background": "light"
     },
     "output_type": "display_data"
    }
   ],
   "source": [
    "# From graph we can see that Plants Dispatches in July\n",
    "\n",
    "# Plant vs Dispatch\n",
    "sns.catplot(y = \"Dispatch\", x = \"Plant\", data = intern.sort_values(\"Dispatch\", ascending = False), kind=\"boxen\", height = 6, aspect = 4)\n",
    "plt.show(10)"
   ]
  },
  {
   "cell_type": "code",
   "execution_count": 13,
   "id": "9ed5410a",
   "metadata": {},
   "outputs": [
    {
     "data": {
      "image/png": "[encoded data removed]",
      "text/plain": [
       "<Figure size 864x288 with 1 Axes>"
      ]
     },
     "metadata": {
      "needs_background": "light"
     },
     "output_type": "display_data"
    }
   ],
   "source": [
    "# Time vs Dispatch\n",
    "\n",
    "sns.catplot(y = \"Dispatch\", x = \"Time\", data = intern.sort_values(\"Dispatch\", ascending = False), kind=\"boxen\", height = 4, aspect = 3)\n",
    "plt.show()"
   ]
  },
  {
   "cell_type": "code",
   "execution_count": 14,
   "id": "00113b15",
   "metadata": {},
   "outputs": [
    {
     "data": {
      "image/png": "[encoded data removed]",
      "text/plain": [
       "<Figure size 1296x1296 with 2 Axes>"
      ]
     },
     "metadata": {
      "needs_background": "light"
     },
     "output_type": "display_data"
    }
   ],
   "source": [
    "# Finds correlation between Independent and dependent attributes\n",
    "\n",
    "plt.figure(figsize = (18,18))\n",
    "sns.heatmap(intern.corr(), annot = True, cmap = \"RdYlGn\")\n",
    "\n",
    "plt.show()"
   ]
  },
  {
   "cell_type": "code",
   "execution_count": 15,
   "id": "60453346",
   "metadata": {
    "scrolled": false
   },
   "outputs": [
    {
     "data": {
      "text/plain": [
       "0    7/1/2020\n",
       "1    7/1/2020\n",
       "2    7/1/2020\n",
       "3    7/1/2020\n",
       "Name: Date, dtype: object"
      ]
     },
     "execution_count": 15,
     "metadata": {},
     "output_type": "execute_result"
    }
   ],
   "source": [
    "X = intern.loc[:, 'Date']\n",
    "X.head(4)"
   ]
  },
  {
   "cell_type": "code",
   "execution_count": 16,
   "id": "89c87976",
   "metadata": {
    "scrolled": false
   },
   "outputs": [
    {
     "data": {
      "text/plain": [
       "0    20\n",
       "1     0\n",
       "2    10\n",
       "3    39\n",
       "Name: Dispatch, dtype: int64"
      ]
     },
     "execution_count": 16,
     "metadata": {},
     "output_type": "execute_result"
    }
   ],
   "source": [
    "y = intern.iloc[:,4]\n",
    "y.head(4)"
   ]
  },
  {
   "cell_type": "code",
   "execution_count": 17,
   "id": "7d9f2833",
   "metadata": {},
   "outputs": [],
   "source": [
    "from datetime import datetime"
   ]
  },
  {
   "cell_type": "code",
   "execution_count": 18,
   "id": "a1df083a",
   "metadata": {},
   "outputs": [],
   "source": [
    "intern['Date'] = pd.to_datetime(intern['Date']).dt.date"
   ]
  },
  {
   "cell_type": "code",
   "execution_count": 19,
   "id": "7b4bb4df",
   "metadata": {},
   "outputs": [
    {
     "data": {
      "text/plain": [
       "Index        int64\n",
       "Plant       object\n",
       "Date        object\n",
       "Time        object\n",
       "Dispatch     int64\n",
       "dtype: object"
      ]
     },
     "execution_count": 19,
     "metadata": {},
     "output_type": "execute_result"
    }
   ],
   "source": [
    "intern.dtypes\n"
   ]
  },
  {
   "cell_type": "code",
   "execution_count": 20,
   "id": "301f0c9f",
   "metadata": {},
   "outputs": [],
   "source": [
    "intern['Date'] = pd.to_datetime(intern['Date'])"
   ]
  },
  {
   "cell_type": "code",
   "execution_count": 21,
   "id": "952d56c8",
   "metadata": {
    "scrolled": true
   },
   "outputs": [
    {
     "data": {
      "text/plain": [
       "Index                int64\n",
       "Plant               object\n",
       "Date        datetime64[ns]\n",
       "Time                object\n",
       "Dispatch             int64\n",
       "dtype: object"
      ]
     },
     "execution_count": 21,
     "metadata": {},
     "output_type": "execute_result"
    }
   ],
   "source": [
    "from datetime import datetime\n",
    "intern.dtypes"
   ]
  },
  {
   "cell_type": "code",
   "execution_count": 22,
   "id": "ed67666d",
   "metadata": {},
   "outputs": [
    {
     "name": "stdout",
     "output_type": "stream",
     "text": [
      "+-----+--------------+-------------------+----+--------+\n",
      "|Index|         Plant|               Date|Time|Dispatch|\n",
      "+-----+--------------+-------------------+----+--------+\n",
      "|    0|        Canyon|2020-07-01 00:00:00|0:00|      20|\n",
      "|    1|           WPS|2020-07-01 00:00:00|0:00|       0|\n",
      "|    2|          Olax|2020-07-01 00:00:00|0:00|      10|\n",
      "|    3|          Nlax|2020-07-01 00:00:00|0:00|      39|\n",
      "|    4|          Polp|2020-07-01 00:00:00|0:00|      39|\n",
      "|    5|Upper Kothmale|2020-07-01 00:00:00|0:00|       0|\n",
      "|    6|          Koth|2020-07-01 00:00:00|0:00|      87|\n",
      "|    7|          Vict|2020-07-01 00:00:00|0:00|       0|\n",
      "|    8|          Rand|2020-07-01 00:00:00|0:00|       0|\n",
      "|    9|          Rant|2020-07-01 00:00:00|0:00|       0|\n",
      "|   10|           Uku|2020-07-01 00:00:00|0:00|      72|\n",
      "|   11|          Bowa|2020-07-01 00:00:00|0:00|       0|\n",
      "|   12|           Sam|2020-07-01 00:00:00|0:00|       0|\n",
      "|   13|        Kukule|2020-07-01 00:00:00|0:00|     104|\n",
      "|   14|        LVPS 1|2020-07-01 00:00:00|0:00|     548|\n",
      "|   15|        LVPS 2|2020-07-01 00:00:00|0:00|     538|\n",
      "|   16|        LVPS 3|2020-07-01 00:00:00|0:00|     540|\n",
      "|   17|        Sapu A|2020-07-01 00:00:00|0:00|      66|\n",
      "|   18|        Sapu B|2020-07-01 00:00:00|0:00|     119|\n",
      "|   19| Uthuru Janani|2020-07-01 00:00:00|0:00|       0|\n",
      "+-----+--------------+-------------------+----+--------+\n",
      "only showing top 20 rows\n",
      "\n"
     ]
    }
   ],
   "source": [
    "df_spark = spark.createDataFrame(intern)\n",
    "df_spark.show()"
   ]
  },
  {
   "cell_type": "code",
   "execution_count": null,
   "id": "a198b3ed",
   "metadata": {},
   "outputs": [],
   "source": []
  }
 ],
 "metadata": {
  "kernelspec": {
   "display_name": "Python 3",
   "language": "python",
   "name": "python3"
  },
  "language_info": {
   "codemirror_mode": {
    "name": "ipython",
    "version": 3
   },
   "file_extension": ".py",
   "mimetype": "text/x-python",
   "name": "python",
   "nbconvert_exporter": "python",
   "pygments_lexer": "ipython3",
   "version": "3.8.8"
  }
 },
 "nbformat": 4,
 "nbformat_minor": 5
}

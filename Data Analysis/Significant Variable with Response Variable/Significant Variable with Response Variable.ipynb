{
 "cells": [
  {
   "cell_type": "code",
   "execution_count": 1,
   "id": "b2e4d55a",
   "metadata": {},
   "outputs": [],
   "source": [
    "#Testing Pyspark Installation\n",
    "import findspark\n",
    "findspark.init()\n",
    "import pyspark"
   ]
  },
  {
   "cell_type": "markdown",
   "id": "3629c7d9",
   "metadata": {},
   "source": [
    "## Initializing Pyspark"
   ]
  },
  {
   "cell_type": "code",
   "execution_count": 2,
   "id": "4ad4d824",
   "metadata": {},
   "outputs": [
    {
     "data": {
      "text/html": [
       "\n",
       "            <div>\n",
       "                <p><b>SparkSession - in-memory</b></p>\n",
       "                \n",
       "        <div>\n",
       "            <p><b>SparkContext</b></p>\n",
       "\n",
       "            <p><a href=\"http://PanduDCAU-Multiverse:4040\">Spark UI</a></p>\n",
       "\n",
       "            <dl>\n",
       "              <dt>Version</dt>\n",
       "                <dd><code>v3.1.2</code></dd>\n",
       "              <dt>Master</dt>\n",
       "                <dd><code>local[*]</code></dd>\n",
       "              <dt>AppName</dt>\n",
       "                <dd><code>Regression Analyzation</code></dd>\n",
       "            </dl>\n",
       "        </div>\n",
       "        \n",
       "            </div>\n",
       "        "
      ],
      "text/plain": [
       "<pyspark.sql.session.SparkSession at 0x21cddaff9d0>"
      ]
     },
     "execution_count": 2,
     "metadata": {},
     "output_type": "execute_result"
    }
   ],
   "source": [
    "#intialize Spark Context\n",
    "#from pyspark import SparkContext, SparkConf\n",
    "from pyspark.sql import SparkSession\n",
    "spark= SparkSession.builder.appName('Regression Analyzation').getOrCreate()\n",
    "spark\n"
   ]
  },
  {
   "cell_type": "code",
   "execution_count": 3,
   "id": "6219d6e6",
   "metadata": {},
   "outputs": [],
   "source": [
    "import pandas as pd\n",
    "import numpy as np\n",
    "import scipy.optimize as opt\n",
    "from sklearn import preprocessing\n",
    "from sklearn.model_selection import train_test_split\n",
    "%matplotlib inline \n",
    "import matplotlib.pyplot as plt\n",
    "from sklearn import tree\n",
    "import graphviz \n",
    "from sklearn.ensemble import RandomForestClassifier\n",
    "from sklearn.model_selection import train_test_split"
   ]
  },
  {
   "cell_type": "code",
   "execution_count": 4,
   "id": "ab9066a8",
   "metadata": {},
   "outputs": [],
   "source": [
    "plants = pd.read_csv('/Users/Asus/Documents/InternCsv/InternCsvfinal_dispatch(Act).csv')"
   ]
  },
  {
   "cell_type": "code",
   "execution_count": 5,
   "id": "e48edd94",
   "metadata": {},
   "outputs": [
    {
     "data": {
      "text/plain": [
       "<bound method NDFrame.describe of        Unnamed: 0          Plant       Date   Time  Dispatch\n",
       "0               0         Canyon   7/1/2020   0:00        20\n",
       "1               1            WPS   7/1/2020   0:00         0\n",
       "2               2           Olax   7/1/2020   0:00        10\n",
       "3               3           Nlax   7/1/2020   0:00        39\n",
       "4               4           Polp   7/1/2020   0:00        39\n",
       "...           ...            ...        ...    ...       ...\n",
       "46459       44779  VPOWER Palle.  7/29/2020  23:30         0\n",
       "46460       44780   VPOWER Galle  7/29/2020  23:30         0\n",
       "46461       44781  VPOWER Horona  7/29/2020  23:30         0\n",
       "46462       44782   ALTAQQA-Pol.  7/29/2020  23:30         0\n",
       "46463       44783  ALTAQQA-Mahi.  7/29/2020  23:30         0\n",
       "\n",
       "[46464 rows x 5 columns]>"
      ]
     },
     "execution_count": 5,
     "metadata": {},
     "output_type": "execute_result"
    }
   ],
   "source": [
    "plants.describe"
   ]
  },
  {
   "cell_type": "code",
   "execution_count": 6,
   "id": "77158377",
   "metadata": {
    "scrolled": true
   },
   "outputs": [
    {
     "data": {
      "text/html": [
       "<div>\n",
       "<style scoped>\n",
       "    .dataframe tbody tr th:only-of-type {\n",
       "        vertical-align: middle;\n",
       "    }\n",
       "\n",
       "    .dataframe tbody tr th {\n",
       "        vertical-align: top;\n",
       "    }\n",
       "\n",
       "    .dataframe thead th {\n",
       "        text-align: right;\n",
       "    }\n",
       "</style>\n",
       "<table border=\"1\" class=\"dataframe\">\n",
       "  <thead>\n",
       "    <tr style=\"text-align: right;\">\n",
       "      <th></th>\n",
       "      <th>Unnamed: 0</th>\n",
       "      <th>Plant</th>\n",
       "      <th>Date</th>\n",
       "      <th>Time</th>\n",
       "      <th>Dispatch</th>\n",
       "    </tr>\n",
       "  </thead>\n",
       "  <tbody>\n",
       "    <tr>\n",
       "      <th>0</th>\n",
       "      <td>0</td>\n",
       "      <td>Canyon</td>\n",
       "      <td>7/1/2020</td>\n",
       "      <td>0:00</td>\n",
       "      <td>20</td>\n",
       "    </tr>\n",
       "    <tr>\n",
       "      <th>1</th>\n",
       "      <td>1</td>\n",
       "      <td>WPS</td>\n",
       "      <td>7/1/2020</td>\n",
       "      <td>0:00</td>\n",
       "      <td>0</td>\n",
       "    </tr>\n",
       "    <tr>\n",
       "      <th>2</th>\n",
       "      <td>2</td>\n",
       "      <td>Olax</td>\n",
       "      <td>7/1/2020</td>\n",
       "      <td>0:00</td>\n",
       "      <td>10</td>\n",
       "    </tr>\n",
       "    <tr>\n",
       "      <th>3</th>\n",
       "      <td>3</td>\n",
       "      <td>Nlax</td>\n",
       "      <td>7/1/2020</td>\n",
       "      <td>0:00</td>\n",
       "      <td>39</td>\n",
       "    </tr>\n",
       "    <tr>\n",
       "      <th>4</th>\n",
       "      <td>4</td>\n",
       "      <td>Polp</td>\n",
       "      <td>7/1/2020</td>\n",
       "      <td>0:00</td>\n",
       "      <td>39</td>\n",
       "    </tr>\n",
       "  </tbody>\n",
       "</table>\n",
       "</div>"
      ],
      "text/plain": [
       "   Unnamed: 0   Plant      Date  Time  Dispatch\n",
       "0           0  Canyon  7/1/2020  0:00        20\n",
       "1           1     WPS  7/1/2020  0:00         0\n",
       "2           2    Olax  7/1/2020  0:00        10\n",
       "3           3    Nlax  7/1/2020  0:00        39\n",
       "4           4    Polp  7/1/2020  0:00        39"
      ]
     },
     "execution_count": 6,
     "metadata": {},
     "output_type": "execute_result"
    }
   ],
   "source": [
    "plants.head(5)"
   ]
  },
  {
   "cell_type": "code",
   "execution_count": 7,
   "id": "ba251527",
   "metadata": {},
   "outputs": [],
   "source": [
    "plants = plants.rename(columns={'Unnamed: 0': 'Plant1'})\n"
   ]
  },
  {
   "cell_type": "code",
   "execution_count": 10,
   "id": "d0c4116d",
   "metadata": {},
   "outputs": [],
   "source": [
    "plants.drop('Plant1',axis=1,inplace=True)"
   ]
  },
  {
   "cell_type": "code",
   "execution_count": 11,
   "id": "2c8a288e",
   "metadata": {
    "scrolled": true
   },
   "outputs": [
    {
     "data": {
      "text/html": [
       "<div>\n",
       "<style scoped>\n",
       "    .dataframe tbody tr th:only-of-type {\n",
       "        vertical-align: middle;\n",
       "    }\n",
       "\n",
       "    .dataframe tbody tr th {\n",
       "        vertical-align: top;\n",
       "    }\n",
       "\n",
       "    .dataframe thead th {\n",
       "        text-align: right;\n",
       "    }\n",
       "</style>\n",
       "<table border=\"1\" class=\"dataframe\">\n",
       "  <thead>\n",
       "    <tr style=\"text-align: right;\">\n",
       "      <th></th>\n",
       "      <th>Plant</th>\n",
       "      <th>Date</th>\n",
       "      <th>Time</th>\n",
       "      <th>Dispatch</th>\n",
       "    </tr>\n",
       "  </thead>\n",
       "  <tbody>\n",
       "    <tr>\n",
       "      <th>0</th>\n",
       "      <td>Canyon</td>\n",
       "      <td>7/1/2020</td>\n",
       "      <td>0:00</td>\n",
       "      <td>20</td>\n",
       "    </tr>\n",
       "    <tr>\n",
       "      <th>1</th>\n",
       "      <td>WPS</td>\n",
       "      <td>7/1/2020</td>\n",
       "      <td>0:00</td>\n",
       "      <td>0</td>\n",
       "    </tr>\n",
       "    <tr>\n",
       "      <th>2</th>\n",
       "      <td>Olax</td>\n",
       "      <td>7/1/2020</td>\n",
       "      <td>0:00</td>\n",
       "      <td>10</td>\n",
       "    </tr>\n",
       "    <tr>\n",
       "      <th>3</th>\n",
       "      <td>Nlax</td>\n",
       "      <td>7/1/2020</td>\n",
       "      <td>0:00</td>\n",
       "      <td>39</td>\n",
       "    </tr>\n",
       "    <tr>\n",
       "      <th>4</th>\n",
       "      <td>Polp</td>\n",
       "      <td>7/1/2020</td>\n",
       "      <td>0:00</td>\n",
       "      <td>39</td>\n",
       "    </tr>\n",
       "  </tbody>\n",
       "</table>\n",
       "</div>"
      ],
      "text/plain": [
       "    Plant      Date  Time  Dispatch\n",
       "0  Canyon  7/1/2020  0:00        20\n",
       "1     WPS  7/1/2020  0:00         0\n",
       "2    Olax  7/1/2020  0:00        10\n",
       "3    Nlax  7/1/2020  0:00        39\n",
       "4    Polp  7/1/2020  0:00        39"
      ]
     },
     "execution_count": 11,
     "metadata": {},
     "output_type": "execute_result"
    }
   ],
   "source": [
    "plants.head(5)"
   ]
  },
  {
   "cell_type": "code",
   "execution_count": 15,
   "id": "cb29c212",
   "metadata": {},
   "outputs": [
    {
     "data": {
      "text/plain": [
       "Plant       object\n",
       "Date        object\n",
       "Time        object\n",
       "Dispatch     int64\n",
       "dtype: object"
      ]
     },
     "execution_count": 15,
     "metadata": {},
     "output_type": "execute_result"
    }
   ],
   "source": [
    "plants.dtypes\n"
   ]
  },
  {
   "cell_type": "code",
   "execution_count": 12,
   "id": "28c4ee47",
   "metadata": {},
   "outputs": [],
   "source": [
    "X = plants.iloc[:, 0:2].values  \n",
    "y = plants.iloc[:, 3].values "
   ]
  },
  {
   "cell_type": "code",
   "execution_count": 13,
   "id": "35b4a0a9",
   "metadata": {},
   "outputs": [],
   "source": [
    "from sklearn.model_selection import train_test_split  \n",
    "X_train, X_test, y_train, y_test = train_test_split(X, y, test_size=0.25)"
   ]
  },
  {
   "cell_type": "code",
   "execution_count": 16,
   "id": "4f42dd85",
   "metadata": {},
   "outputs": [],
   "source": [
    "from datetime import datetime"
   ]
  },
  {
   "cell_type": "code",
   "execution_count": 17,
   "id": "438c71f3",
   "metadata": {},
   "outputs": [],
   "source": [
    "plants['Date'] = pd.to_datetime(plants['Date'])"
   ]
  },
  {
   "cell_type": "code",
   "execution_count": 18,
   "id": "09daa4f4",
   "metadata": {},
   "outputs": [
    {
     "data": {
      "text/plain": [
       "Plant               object\n",
       "Date        datetime64[ns]\n",
       "Time                object\n",
       "Dispatch             int64\n",
       "dtype: object"
      ]
     },
     "execution_count": 18,
     "metadata": {},
     "output_type": "execute_result"
    }
   ],
   "source": [
    "plants.dtypes"
   ]
  },
  {
   "cell_type": "markdown",
   "id": "8826496b",
   "metadata": {},
   "source": [
    "## Pyspark Dataframe Manipulation"
   ]
  },
  {
   "cell_type": "code",
   "execution_count": 19,
   "id": "e0f1e237",
   "metadata": {},
   "outputs": [
    {
     "data": {
      "text/plain": [
       "DataFrame[Plant: string, Date: timestamp, Time: string, Dispatch: bigint]"
      ]
     },
     "execution_count": 19,
     "metadata": {},
     "output_type": "execute_result"
    }
   ],
   "source": [
    "import pyspark\n",
    "from pyspark.sql import SparkSession\n",
    "\n",
    "#main1.printSchema()\n",
    "from pyspark.sql.functions import col\n",
    "plants_final = spark.createDataFrame(plants)\n",
    "plants_final"
   ]
  },
  {
   "cell_type": "code",
   "execution_count": 20,
   "id": "6256878c",
   "metadata": {},
   "outputs": [],
   "source": [
    "from pyspark.sql.functions import col"
   ]
  },
  {
   "cell_type": "code",
   "execution_count": 21,
   "id": "86df7844",
   "metadata": {},
   "outputs": [],
   "source": [
    "plants_final_new = plants_final.groupBy([\"Plant\",\"Date\",\"Time\"]).sum(\"Dispatch\").sort(col(\"Date\").asc(),col(\"Time\").asc())"
   ]
  },
  {
   "cell_type": "code",
   "execution_count": 22,
   "id": "8efda8d4",
   "metadata": {},
   "outputs": [
    {
     "name": "stdout",
     "output_type": "stream",
     "text": [
      "+------+-------------------+----+-------------+\n",
      "| Plant|               Date|Time|sum(Dispatch)|\n",
      "+------+-------------------+----+-------------+\n",
      "| Barge|2020-07-01 00:00:00|0:00|           90|\n",
      "|Canyon|2020-07-01 00:00:00|0:00|           20|\n",
      "|LVPS 3|2020-07-01 00:00:00|0:00|          540|\n",
      "|   Sam|2020-07-01 00:00:00|0:00|            0|\n",
      "+------+-------------------+----+-------------+\n",
      "only showing top 4 rows\n",
      "\n"
     ]
    }
   ],
   "source": [
    "plants_final_new.show(4)"
   ]
  },
  {
   "cell_type": "code",
   "execution_count": 39,
   "id": "15717e05",
   "metadata": {},
   "outputs": [],
   "source": [
    "plant_show=plants_final_new.groupby('Plant').sum()"
   ]
  },
  {
   "cell_type": "code",
   "execution_count": 40,
   "id": "4354ad9c",
   "metadata": {},
   "outputs": [
    {
     "data": {
      "text/plain": [
       "<bound method DataFrame.printSchema of DataFrame[Plant: string, sum(sum(Dispatch)): bigint]>"
      ]
     },
     "execution_count": 40,
     "metadata": {},
     "output_type": "execute_result"
    }
   ],
   "source": [
    "plant_show.printSchema"
   ]
  },
  {
   "cell_type": "code",
   "execution_count": 47,
   "id": "3cb5f868",
   "metadata": {
    "scrolled": true
   },
   "outputs": [
    {
     "name": "stdout",
     "output_type": "stream",
     "text": [
      "root\n",
      " |-- Plant: string (nullable = true)\n",
      " |-- DisPatch: long (nullable = true)\n",
      "\n"
     ]
    }
   ],
   "source": [
    "from pyspark.sql.functions import *\n",
    "plantNew=plant_show.select(col(\"Plant\"),\\\n",
    "                  col(\"sum(sum(Dispatch))\").alias(\"DisPatch\"))\n",
    "plantNew.printSchema()"
   ]
  },
  {
   "cell_type": "code",
   "execution_count": 53,
   "id": "bd11a05f",
   "metadata": {},
   "outputs": [],
   "source": [
    "plant_Dispatch=plantNew.sort(col(\"DisPatch\").desc())\n"
   ]
  },
  {
   "cell_type": "code",
   "execution_count": 54,
   "id": "f08a51ba",
   "metadata": {},
   "outputs": [
    {
     "name": "stdout",
     "output_type": "stream",
     "text": [
      "+----------+--------+\n",
      "|     Plant|DisPatch|\n",
      "+----------+--------+\n",
      "|    LVPS 1|  702469|\n",
      "|    LVPS 2|  695219|\n",
      "|    LVPS 3|  688639|\n",
      "|       WCP|  542372|\n",
      "|  ACE EMBP|  173418|\n",
      "|    Sapu B|  150106|\n",
      "|Sojitz CCP|  138635|\n",
      "|     Barge|  136623|\n",
      "|      Nlax|  125595|\n",
      "|    Sapu A|  105651|\n",
      "+----------+--------+\n",
      "only showing top 10 rows\n",
      "\n"
     ]
    }
   ],
   "source": [
    "plant_Dispatch.show(10)"
   ]
  },
  {
   "cell_type": "markdown",
   "id": "38f7f725",
   "metadata": {},
   "source": [
    "## Plotting Plant vs Dispatch Values"
   ]
  },
  {
   "cell_type": "code",
   "execution_count": 55,
   "id": "69178b4f",
   "metadata": {},
   "outputs": [],
   "source": [
    "PandaDF=plant_Dispatch.toPandas()"
   ]
  },
  {
   "cell_type": "code",
   "execution_count": 66,
   "id": "9e267e8e",
   "metadata": {},
   "outputs": [
    {
     "data": {
      "image/png": "[encoded data removed]",
      "text/plain": [
       "<Figure size 1512x504 with 1 Axes>"
      ]
     },
     "metadata": {
      "needs_background": "light"
     },
     "output_type": "display_data"
    }
   ],
   "source": [
    "# From graph we can see that Plants Dispatches in July\n",
    "import matplotlib.pyplot as plt\n",
    "import seaborn as sns\n",
    "# Plant vs Dispatch\n",
    "sns.catplot(y = \"DisPatch\", x = \"Plant\", data = PandaDF.sort_values(\"DisPatch\", ascending = False), kind=\"boxen\", height = 7, aspect = 3)\n",
    "plt.show(10)\n"
   ]
  },
  {
   "cell_type": "code",
   "execution_count": 57,
   "id": "a72024b5",
   "metadata": {},
   "outputs": [],
   "source": [
    "PandaDF.to_csv(r'/Users/Asus/Documents/InternCsv/JulyDispatch_Sum(Actual).csv',index=True,header=True)"
   ]
  },
  {
   "cell_type": "code",
   "execution_count": null,
   "id": "7e7a7953",
   "metadata": {},
   "outputs": [],
   "source": []
  }
 ],
 "metadata": {
  "kernelspec": {
   "display_name": "Python 3 (ipykernel)",
   "language": "python",
   "name": "python3"
  },
  "language_info": {
   "codemirror_mode": {
    "name": "ipython",
    "version": 3
   },
   "file_extension": ".py",
   "mimetype": "text/x-python",
   "name": "python",
   "nbconvert_exporter": "python",
   "pygments_lexer": "ipython3",
   "version": "3.8.8"
  }
 },
 "nbformat": 4,
 "nbformat_minor": 5
}

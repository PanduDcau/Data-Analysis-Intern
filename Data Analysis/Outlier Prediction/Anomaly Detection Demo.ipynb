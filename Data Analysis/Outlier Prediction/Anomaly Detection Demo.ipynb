{
 "cells": [
  {
   "cell_type": "markdown",
   "id": "0d8bb5ef",
   "metadata": {},
   "source": [
    "# Library Importing"
   ]
  },
  {
   "cell_type": "code",
   "execution_count": 1,
   "id": "be45ea54",
   "metadata": {},
   "outputs": [],
   "source": [
    "# Import the necessary packages\n",
    "import pandas as pd\n",
    "import numpy as np\n",
    "import matplotlib.pyplot as plt\n",
    "\n",
    "# Comment out the following line if you are using Jupyter Notebook\n",
    "# %matplotlib inline\n",
    "# Use a predefined style set\n",
    "plt.style.use('ggplot')"
   ]
  },
  {
   "cell_type": "code",
   "execution_count": 2,
   "id": "a78c2328",
   "metadata": {},
   "outputs": [],
   "source": [
    "# Import Faker\n",
    "from faker import Faker\n",
    "fake = Faker()"
   ]
  },
  {
   "cell_type": "code",
   "execution_count": 3,
   "id": "307b409c",
   "metadata": {},
   "outputs": [],
   "source": [
    "# To ensure the results are reproducible\n",
    "Faker.seed(4321)\n",
    "names_list = []\n"
   ]
  },
  {
   "cell_type": "code",
   "execution_count": 4,
   "id": "fd36fa99",
   "metadata": {},
   "outputs": [
    {
     "name": "stdout",
     "output_type": "stream",
     "text": [
      "              Person  Salary (in USD)\n",
      "0        Jason Brown             1175\n",
      "1        Jacob Stein             2220\n",
      "2         Cody Brown             1537\n",
      "3      Larry Morales             1502\n",
      "4  Jessica Hendricks             1211\n"
     ]
    }
   ],
   "source": [
    "fake = Faker()\n",
    "for _ in range(100):\n",
    "  names_list.append(fake.name())\n",
    "\n",
    "# To ensure the results are reproducible\n",
    "np.random.seed(7)\n",
    "\n",
    "salaries = []\n",
    "for _ in range(100):\n",
    "    salary = np.random.randint(1000,2500)\n",
    "    salaries.append(salary)\n",
    "\n",
    "# Create pandas DataFrame\n",
    "salary_df = pd.DataFrame(\n",
    "    {'Person': names_list,\n",
    "     'Salary (in USD)': salaries\n",
    "    })\n",
    "\n",
    "# Print a subsection of the DataFrame\n",
    "print(salary_df.head())"
   ]
  },
  {
   "cell_type": "code",
   "execution_count": 5,
   "id": "ced06c37",
   "metadata": {
    "scrolled": true
   },
   "outputs": [
    {
     "name": "stdout",
     "output_type": "stream",
     "text": [
      "Person             Miss Amanda Harris MD\n",
      "Salary (in USD)                       23\n",
      "Name: 16, dtype: object\n",
      "Person             Joyce Bishop\n",
      "Salary (in USD)              17\n",
      "Name: 65, dtype: object\n"
     ]
    }
   ],
   "source": [
    "salary_df.at[16, 'Salary (in USD)'] = 23\n",
    "salary_df.at[65, 'Salary (in USD)'] = 17\n",
    "\n",
    "# Verify if the salaries were changed\n",
    "print(salary_df.loc[16])\n",
    "print(salary_df.loc[65])"
   ]
  },
  {
   "cell_type": "markdown",
   "id": "2bc8531d",
   "metadata": {},
   "source": [
    "### Boxplot Generation"
   ]
  },
  {
   "cell_type": "code",
   "execution_count": 6,
   "id": "8836368e",
   "metadata": {},
   "outputs": [
    {
     "data": {
      "image/png": "[encoded data removed]",
      "text/plain": [
       "<Figure size 432x288 with 1 Axes>"
      ]
     },
     "metadata": {},
     "output_type": "display_data"
    }
   ],
   "source": [
    "# Generate a Boxplot\n",
    "salary_df['Salary (in USD)'].plot(kind='box')\n",
    "plt.show()"
   ]
  },
  {
   "cell_type": "code",
   "execution_count": 7,
   "id": "53fd49c8",
   "metadata": {},
   "outputs": [
    {
     "data": {
      "image/png": "[encoded data removed]",
      "text/plain": [
       "<Figure size 432x288 with 1 Axes>"
      ]
     },
     "metadata": {},
     "output_type": "display_data"
    }
   ],
   "source": [
    "# Generate a Histogram plot\n",
    "salary_df['Salary (in USD)'].plot(kind='hist')\n",
    "plt.show()"
   ]
  },
  {
   "cell_type": "code",
   "execution_count": 8,
   "id": "7ca39480",
   "metadata": {},
   "outputs": [
    {
     "name": "stdout",
     "output_type": "stream",
     "text": [
      "Minimum salary 17\n",
      "Maximum salary 2498\n"
     ]
    }
   ],
   "source": [
    "# Minimum and maximum salaries\n",
    "print('Minimum salary ' + str(salary_df['Salary (in USD)'].min()))\n",
    "print('Maximum salary ' + str(salary_df['Salary (in USD)'].max()))"
   ]
  },
  {
   "cell_type": "markdown",
   "id": "b9e14bfc",
   "metadata": {},
   "source": [
    "## Clustering based approach for anomaly detection"
   ]
  },
  {
   "cell_type": "markdown",
   "id": "27d56195",
   "metadata": {},
   "source": [
    "#### If there are n points on a two-dimensional space(refer the following figure) and their coordinates are denoted by(x_i, y_i), then the Euclidean distance between any two points((x1, y1) and(x2, y2)) on this space is"
   ]
  },
  {
   "cell_type": "code",
   "execution_count": 9,
   "id": "a5146e97",
   "metadata": {},
   "outputs": [],
   "source": [
    "# Convert the salary values to a numpy array\n",
    "salary_raw = salary_df['Salary (in USD)'].values\n",
    "\n",
    "# For compatibility with the SciPy implementation\n",
    "salary_raw = salary_raw.reshape(-1, 1)\n",
    "salary_raw = salary_raw.astype('float64')"
   ]
  },
  {
   "cell_type": "code",
   "execution_count": 10,
   "id": "9a09dbbf",
   "metadata": {},
   "outputs": [],
   "source": [
    "# Import kmeans from SciPy\n",
    "from scipy.cluster.vq import kmeans\n",
    "    \n",
    "# Specify the data and the number of clusters to kmeans()\n",
    "centroids, avg_distance = kmeans(salary_raw, 4)"
   ]
  },
  {
   "cell_type": "markdown",
   "id": "3d117a0c",
   "metadata": {},
   "source": [
    "In the above chunk of code, we fed the salary data points the kmeans(). We also specified the number of clusters to which we want to group the data points. centroids are the centroids generated by kmeans() and avg_distance is the averaged Euclidean distance between the data points fed and the centroids generated by kmeans().Let's assign the groups of the data points by calling the vq() method. It takes -\n",
    "\n",
    "The data points\n",
    "The centroid as generated by the clustering algorithm (kmeans() in our case)\n",
    "It then returns the groups (clusters) of the data points and the distances between the data points and its nearest groups."
   ]
  },
  {
   "cell_type": "code",
   "execution_count": 20,
   "id": "46439b6e",
   "metadata": {},
   "outputs": [],
   "source": [
    "#import sklearn\n",
    "#from sklearn import cluster, datasets\n",
    "from scipy.cluster.vq import vq, kmeans, whiten"
   ]
  },
  {
   "cell_type": "code",
   "execution_count": 23,
   "id": "3c7a7b05",
   "metadata": {
    "scrolled": true
   },
   "outputs": [
    {
     "ename": "NameError",
     "evalue": "name 'cluster' is not defined",
     "output_type": "error",
     "traceback": [
      "\u001b[1;31m---------------------------------------------------------------------------\u001b[0m",
      "\u001b[1;31mNameError\u001b[0m                                 Traceback (most recent call last)",
      "\u001b[1;32m<ipython-input-23-14225569b2b1>\u001b[0m in \u001b[0;36m<module>\u001b[1;34m\u001b[0m\n\u001b[0;32m      1\u001b[0m \u001b[1;31m# Get the groups (clusters) and distances\u001b[0m\u001b[1;33m\u001b[0m\u001b[1;33m\u001b[0m\u001b[1;33m\u001b[0m\u001b[0m\n\u001b[1;32m----> 2\u001b[1;33m \u001b[0mgroups\u001b[0m\u001b[1;33m,\u001b[0m \u001b[0mcdist\u001b[0m \u001b[1;33m=\u001b[0m \u001b[0mcluster\u001b[0m\u001b[1;33m.\u001b[0m\u001b[0mvq\u001b[0m\u001b[1;33m.\u001b[0m\u001b[0mvq\u001b[0m\u001b[1;33m(\u001b[0m\u001b[0msalary_raw\u001b[0m\u001b[1;33m,\u001b[0m \u001b[0mcentroids\u001b[0m\u001b[1;33m)\u001b[0m\u001b[1;33m\u001b[0m\u001b[1;33m\u001b[0m\u001b[0m\n\u001b[0m",
      "\u001b[1;31mNameError\u001b[0m: name 'cluster' is not defined"
     ]
    }
   ],
   "source": [
    "# Get the groups (clusters) and distances\n",
    "groups, cdist = cluster.vq.vq(salary_raw, centroids)"
   ]
  },
  {
   "cell_type": "code",
   "execution_count": 24,
   "id": "790d34cf",
   "metadata": {},
   "outputs": [
    {
     "data": {
      "image/png": "[encoded data removed]",
      "text/plain": [
       "<Figure size 432x288 with 1 Axes>"
      ]
     },
     "metadata": {},
     "output_type": "display_data"
    }
   ],
   "source": [
    "plt.scatter(salary_raw, np.arange(0,100))#plt.scatter(salary_raw,np.arange(0,100))\n",
    "plt.xlabel('Salaries in (USD)')\n",
    "plt.ylabel('Indices')\n",
    "plt.show()"
   ]
  },
  {
   "cell_type": "markdown",
   "id": "25f175da",
   "metadata": {},
   "source": [
    "## Anomaly detection as a classification problem"
   ]
  },
  {
   "cell_type": "code",
   "execution_count": 25,
   "id": "f5c069f5",
   "metadata": {},
   "outputs": [
    {
     "name": "stdout",
     "output_type": "stream",
     "text": [
      "Person             Miss Amanda Harris MD\n",
      "Salary (in USD)                       23\n",
      "class                                  1\n",
      "Name: 16, dtype: object\n"
     ]
    }
   ],
   "source": [
    "# First assign all the instances to \n",
    "salary_df['class'] = 0\n",
    "\n",
    "# Manually edit the labels for the anomalies\n",
    "salary_df.at[16, 'class'] = 1\n",
    "salary_df.at[65, 'class'] = 1\n",
    "\n",
    "# Veirfy \n",
    "print(salary_df.loc[16])"
   ]
  },
  {
   "cell_type": "code",
   "execution_count": 26,
   "id": "d2a3461a",
   "metadata": {},
   "outputs": [
    {
     "data": {
      "text/html": [
       "<div>\n",
       "<style scoped>\n",
       "    .dataframe tbody tr th:only-of-type {\n",
       "        vertical-align: middle;\n",
       "    }\n",
       "\n",
       "    .dataframe tbody tr th {\n",
       "        vertical-align: top;\n",
       "    }\n",
       "\n",
       "    .dataframe thead th {\n",
       "        text-align: right;\n",
       "    }\n",
       "</style>\n",
       "<table border=\"1\" class=\"dataframe\">\n",
       "  <thead>\n",
       "    <tr style=\"text-align: right;\">\n",
       "      <th></th>\n",
       "      <th>Person</th>\n",
       "      <th>Salary (in USD)</th>\n",
       "      <th>class</th>\n",
       "    </tr>\n",
       "  </thead>\n",
       "  <tbody>\n",
       "    <tr>\n",
       "      <th>0</th>\n",
       "      <td>Jason Brown</td>\n",
       "      <td>1175</td>\n",
       "      <td>0</td>\n",
       "    </tr>\n",
       "    <tr>\n",
       "      <th>1</th>\n",
       "      <td>Jacob Stein</td>\n",
       "      <td>2220</td>\n",
       "      <td>0</td>\n",
       "    </tr>\n",
       "    <tr>\n",
       "      <th>2</th>\n",
       "      <td>Cody Brown</td>\n",
       "      <td>1537</td>\n",
       "      <td>0</td>\n",
       "    </tr>\n",
       "    <tr>\n",
       "      <th>3</th>\n",
       "      <td>Larry Morales</td>\n",
       "      <td>1502</td>\n",
       "      <td>0</td>\n",
       "    </tr>\n",
       "    <tr>\n",
       "      <th>4</th>\n",
       "      <td>Jessica Hendricks</td>\n",
       "      <td>1211</td>\n",
       "      <td>0</td>\n",
       "    </tr>\n",
       "  </tbody>\n",
       "</table>\n",
       "</div>"
      ],
      "text/plain": [
       "              Person  Salary (in USD)  class\n",
       "0        Jason Brown             1175      0\n",
       "1        Jacob Stein             2220      0\n",
       "2         Cody Brown             1537      0\n",
       "3      Larry Morales             1502      0\n",
       "4  Jessica Hendricks             1211      0"
      ]
     },
     "execution_count": 26,
     "metadata": {},
     "output_type": "execute_result"
    }
   ],
   "source": [
    "salary_df.head()"
   ]
  },
  {
   "cell_type": "markdown",
   "id": "47d8d400",
   "metadata": {},
   "source": [
    "We are going to use the k-NN classification method for this. Also, we are going to use a Python library called PyOD which is specifically developed for anomaly detection purposes."
   ]
  },
  {
   "cell_type": "code",
   "execution_count": 27,
   "id": "e487ba12",
   "metadata": {},
   "outputs": [],
   "source": [
    "# Importing KNN module from PyOD\n",
    "from pyod.models.knn import KNN"
   ]
  },
  {
   "cell_type": "code",
   "execution_count": 28,
   "id": "1a1af45c",
   "metadata": {},
   "outputs": [
    {
     "data": {
      "text/plain": [
       "KNN(algorithm='auto', contamination=0.02, leaf_size=30, method='largest',\n",
       "  metric='minkowski', metric_params=None, n_jobs=1, n_neighbors=5, p=2,\n",
       "  radius=1.0)"
      ]
     },
     "execution_count": 28,
     "metadata": {},
     "output_type": "execute_result"
    }
   ],
   "source": [
    "# Segregate the salary values and the class labels \n",
    "X = salary_df['Salary (in USD)'].values.reshape(-1,1)\n",
    "y = salary_df['class'].values\n",
    "\n",
    "# Train kNN detector\n",
    "clf = KNN(contamination=0.02, n_neighbors=5)\n",
    "clf.fit(X)"
   ]
  },
  {
   "cell_type": "markdown",
   "id": "bb2afbb6",
   "metadata": {},
   "source": [
    "## Let's discuss the two parameters we passed into KNN() -\n",
    "\n",
    "**contamination** - the amount of anomalies in the data (in percentage) which for our case is 2/100 = 0.02\n",
    "\n",
    "**n_neighbors** - number of neighbors to consider for measuring the proximity"
   ]
  },
  {
   "cell_type": "code",
   "execution_count": 35,
   "id": "659520ec",
   "metadata": {},
   "outputs": [
    {
     "name": "stdout",
     "output_type": "stream",
     "text": [
      "[0 0 0 0 0 0 0 0 0 0 0 0 0 0 0 0 1 0 0 0 0 0 0 0 0 0 0 0 0 0 0 0 0 0 0 0 0\n",
      " 0 0 0 0 0 0 0 0 0 0 0 0 0 0 0 0 0 0 0 0 0 0 0 0 0 0 0 0 1 0 0 0 0 0 0 0 0\n",
      " 0 0 0 0 0 0 0 0 0 0 0 0 0 0 0 0 0 0 0 0 0 0 0 0 0 0]\n",
      "[  68.   28.   35.   33.   39.   21.   43.   30.   46.   33.   36.   27.\n",
      "   30.   34.   36.   28. 1024.   34.   35.   17.   48.   39.   39.   66.\n",
      "   30.   39.   49.   29.   67.   26.   37.   21.   26.   30.   36.   49.\n",
      "   47.   29.   15.   38.   25.   28.   51.   21.   33.   44.   41.   42.\n",
      "   17.   50.   20.   29.   19.   31.   33.   57.   42.   28.   71.   18.\n",
      "   39.   37.   13.   43.   43. 1030.   43.   54.   19.   24.   74.   29.\n",
      "   63.   23.   49.   33.   22.   40.   46.   86.   47.   60.   21.   30.\n",
      "   40.   74.   37.   60.   68.   76.   82.   26.   36.   43.   72.   30.\n",
      "   54.   59.   61.   30.]\n"
     ]
    }
   ],
   "source": [
    "# Get the prediction labels of the training data\n",
    "y_train_pred = clf.labels_ \n",
    "print(y_train_pred)\n",
    "    \n",
    "# Outlier scores\n",
    "y_train_scores = clf.decision_scores_\n",
    "print(y_train_scores)"
   ]
  },
  {
   "cell_type": "markdown",
   "id": "2ff597ea",
   "metadata": {},
   "source": [
    "Let's now try to evaluate **KNN()** with respect to the training data. **PyOD** provides a handy function for this - evaluate_print()."
   ]
  },
  {
   "cell_type": "code",
   "execution_count": 30,
   "id": "d50ef33b",
   "metadata": {},
   "outputs": [
    {
     "name": "stdout",
     "output_type": "stream",
     "text": [
      "KNN ROC:1.0, precision @ rank n:1.0\n"
     ]
    }
   ],
   "source": [
    "# Import the utility function for model evaluation\n",
    "from pyod.utils import evaluate_print\n",
    "\n",
    "# Evaluate on the training data\n",
    "evaluate_print('KNN', y, y_train_scores)"
   ]
  },
  {
   "cell_type": "markdown",
   "id": "5dba4e5c",
   "metadata": {},
   "source": [
    "We see that the KNN() model was able to perform exceptionally good on the training data. It provides three metrics and their scores -\n",
    "**ROC**\n",
    "Precision along with a confidence rank\n",
    "\n",
    "**Note: While detecting anomalies, we almost always consider ROC and Precision as it gives a much better idea about the model's performance. We have also seen its significance in the earlier sections.**"
   ]
  },
  {
   "cell_type": "code",
   "execution_count": 47,
   "id": "3bdd17e3",
   "metadata": {},
   "outputs": [],
   "source": [
    "from IPython.display import Image, display, SVG\n",
    "#from keras.utils.visualize_util import model_to_dot\n",
    "\n",
    "# kNN detector\n",
    "clf_name=\"KNN\"\n",
    "#visualize(clf_name, X, y, show_figure=True, save_figure=False)"
   ]
  },
  {
   "cell_type": "code",
   "execution_count": 48,
   "id": "f8c896d8",
   "metadata": {},
   "outputs": [],
   "source": [
    "# A salary of $37 (an anomaly right?)\n",
    "X_test = np.array([[37.]])"
   ]
  },
  {
   "cell_type": "markdown",
   "id": "2cc5ab46",
   "metadata": {},
   "source": [
    "Let's now test how if the model could detect this **salary value as an anomaly or not.**"
   ]
  },
  {
   "cell_type": "code",
   "execution_count": 32,
   "id": "f16ae84c",
   "metadata": {},
   "outputs": [
    {
     "data": {
      "text/plain": [
       "array([1])"
      ]
     },
     "execution_count": 32,
     "metadata": {},
     "output_type": "execute_result"
    }
   ],
   "source": [
    "# Check what the model predicts on the given test data point\n",
    "clf.predict(X_test)"
   ]
  },
  {
   "cell_type": "code",
   "execution_count": 33,
   "id": "d4031753",
   "metadata": {},
   "outputs": [
    {
     "data": {
      "text/plain": [
       "array([0])"
      ]
     },
     "execution_count": 33,
     "metadata": {},
     "output_type": "execute_result"
    }
   ],
   "source": [
    "# A salary of $1256\n",
    "X_test_abnormal = np.array([[1256.]])\n",
    "\n",
    "# Predict\n",
    "clf.predict(X_test_abnormal)"
   ]
  },
  {
   "cell_type": "code",
   "execution_count": 34,
   "id": "d63d2159",
   "metadata": {},
   "outputs": [],
   "source": [
    "from pyod.utils.data import evaluate_print"
   ]
  },
  {
   "cell_type": "code",
   "execution_count": null,
   "id": "d3c6c9fe",
   "metadata": {},
   "outputs": [],
   "source": []
  }
 ],
 "metadata": {
  "kernelspec": {
   "display_name": "Python 3",
   "language": "python",
   "name": "python3"
  },
  "language_info": {
   "codemirror_mode": {
    "name": "ipython",
    "version": 3
   },
   "file_extension": ".py",
   "mimetype": "text/x-python",
   "name": "python",
   "nbconvert_exporter": "python",
   "pygments_lexer": "ipython3",
   "version": "3.8.8"
  }
 },
 "nbformat": 4,
 "nbformat_minor": 5
}
